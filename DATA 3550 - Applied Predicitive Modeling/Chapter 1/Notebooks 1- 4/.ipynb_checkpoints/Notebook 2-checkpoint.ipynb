{
 "cells": [
  {
   "cell_type": "markdown",
   "metadata": {
    "id": "aZ5LEy64p3l8"
   },
   "source": [
    "# **Module 2:  Fundamentals of Python**\n",
    "## **Notebook 2**: Basic Python\n",
    "\n",
    "\n"
   ]
  },
  {
   "cell_type": "markdown",
   "metadata": {
    "id": "wqeB1QS2Onf-"
   },
   "source": [
    "\n",
    "##**Learning Outcomes**\n",
    "\n",
    "In this notebook, we introduce basic data structures and operations in Python. Topics includes:\n",
    "\n",
    "- Printing in Python\n",
    "\n",
    "- Python as a Calculator\n",
    "\n",
    "- Creating variables in python\n",
    "\n",
    "- Reserved Keywords for Python\n",
    "\n",
    "- Basic python data structures: numbers, boolean, strings, list, tuple, dictionary\n",
    "\n",
    "- Writing user defined functions in python\n",
    "\n",
    "- Random numbers generators\n",
    "\n",
    "- Conditional statements\n",
    "\n",
    "- Loop operations in python\n",
    "\n",
    "- Formattig in Python\n",
    "\n",
    "- Reading and Writing Files in Python"
   ]
  },
  {
   "cell_type": "markdown",
   "metadata": {
    "id": "PoJVy1AZQOo0"
   },
   "source": [
    "## **Printing in Python**"
   ]
  },
  {
   "cell_type": "code",
   "execution_count": 1,
   "metadata": {
    "colab": {
     "base_uri": "https://localhost:8080/"
    },
    "executionInfo": {
     "elapsed": 117,
     "status": "ok",
     "timestamp": 1642705884580,
     "user": {
      "displayName": "Ramchandra Rimal",
      "photoUrl": "https://lh3.googleusercontent.com/a-/AOh14GiAeFifdymzS1jIfl4sZadq2W2j0_A8iIfdPLTJwg=s64",
      "userId": "02334418294935870107"
     },
     "user_tz": 360
    },
    "id": "KedgYfH5ZoT1",
    "outputId": "e95319a4-3ba7-434f-d577-e6bc1a9a10b6"
   },
   "outputs": [
    {
     "name": "stdout",
     "output_type": "stream",
     "text": [
      "Lets learn Python Basics!\n",
      "\n",
      "\n",
      "Python is incredible!!\n"
     ]
    }
   ],
   "source": [
    "print('Lets learn Python Basics!')\n",
    "print(\"\\n\") # printing blank line\n",
    "print(\"Python is incredible!!\")"
   ]
  },
  {
   "cell_type": "markdown",
   "metadata": {
    "id": "wFh4jR9cp3m6"
   },
   "source": [
    "## **Python as a Calculator**"
   ]
  },
  {
   "cell_type": "code",
   "execution_count": 2,
   "metadata": {
    "colab": {
     "base_uri": "https://localhost:8080/"
    },
    "executionInfo": {
     "elapsed": 159,
     "status": "ok",
     "timestamp": 1642705909546,
     "user": {
      "displayName": "Ramchandra Rimal",
      "photoUrl": "https://lh3.googleusercontent.com/a-/AOh14GiAeFifdymzS1jIfl4sZadq2W2j0_A8iIfdPLTJwg=s64",
      "userId": "02334418294935870107"
     },
     "user_tz": 360
    },
    "id": "ui7CNv0Tp3m7",
    "outputId": "b3060a13-2b75-4205-ef32-1542703760d4"
   },
   "outputs": [
    {
     "data": {
      "text/plain": [
       "16"
      ]
     },
     "execution_count": 2,
     "metadata": {},
     "output_type": "execute_result"
    }
   ],
   "source": [
    "#Addition and Subtraction\n",
    "\n",
    "7 + 9\n"
   ]
  },
  {
   "cell_type": "code",
   "execution_count": 3,
   "metadata": {
    "colab": {
     "base_uri": "https://localhost:8080/"
    },
    "executionInfo": {
     "elapsed": 144,
     "status": "ok",
     "timestamp": 1642705928697,
     "user": {
      "displayName": "Ramchandra Rimal",
      "photoUrl": "https://lh3.googleusercontent.com/a-/AOh14GiAeFifdymzS1jIfl4sZadq2W2j0_A8iIfdPLTJwg=s64",
      "userId": "02334418294935870107"
     },
     "user_tz": 360
    },
    "id": "AEvLZ10ep3nI",
    "outputId": "111f63c3-9ed5-4152-ea0a-a192e21b67f4"
   },
   "outputs": [
    {
     "data": {
      "text/plain": [
       "62"
      ]
     },
     "execution_count": 3,
     "metadata": {},
     "output_type": "execute_result"
    }
   ],
   "source": [
    "6 + 7 * 8"
   ]
  },
  {
   "cell_type": "code",
   "execution_count": 4,
   "metadata": {
    "colab": {
     "base_uri": "https://localhost:8080/"
    },
    "executionInfo": {
     "elapsed": 146,
     "status": "ok",
     "timestamp": 1642705930348,
     "user": {
      "displayName": "Ramchandra Rimal",
      "photoUrl": "https://lh3.googleusercontent.com/a-/AOh14GiAeFifdymzS1jIfl4sZadq2W2j0_A8iIfdPLTJwg=s64",
      "userId": "02334418294935870107"
     },
     "user_tz": 360
    },
    "id": "S4YV2K9tp3nP",
    "outputId": "3a53d1c7-431e-45be-c64a-362352cf948d"
   },
   "outputs": [
    {
     "data": {
      "text/plain": [
       "5.0"
      ]
     },
     "execution_count": 4,
     "metadata": {},
     "output_type": "execute_result"
    }
   ],
   "source": [
    "(50 - 5 * 6) / 4"
   ]
  },
  {
   "cell_type": "code",
   "execution_count": 5,
   "metadata": {
    "colab": {
     "base_uri": "https://localhost:8080/"
    },
    "executionInfo": {
     "elapsed": 111,
     "status": "ok",
     "timestamp": 1642705934264,
     "user": {
      "displayName": "Ramchandra Rimal",
      "photoUrl": "https://lh3.googleusercontent.com/a-/AOh14GiAeFifdymzS1jIfl4sZadq2W2j0_A8iIfdPLTJwg=s64",
      "userId": "02334418294935870107"
     },
     "user_tz": 360
    },
    "id": "ZEezmuqHp3nX",
    "outputId": "bc353e22-ba7e-4bbf-cf94-98948f37f767"
   },
   "outputs": [
    {
     "data": {
      "text/plain": [
       "3.142857142857143"
      ]
     },
     "execution_count": 5,
     "metadata": {},
     "output_type": "execute_result"
    }
   ],
   "source": [
    "22 / 7  #classic division returns a float"
   ]
  },
  {
   "cell_type": "code",
   "execution_count": 6,
   "metadata": {
    "colab": {
     "base_uri": "https://localhost:8080/"
    },
    "executionInfo": {
     "elapsed": 136,
     "status": "ok",
     "timestamp": 1642705936194,
     "user": {
      "displayName": "Ramchandra Rimal",
      "photoUrl": "https://lh3.googleusercontent.com/a-/AOh14GiAeFifdymzS1jIfl4sZadq2W2j0_A8iIfdPLTJwg=s64",
      "userId": "02334418294935870107"
     },
     "user_tz": 360
    },
    "id": "ynA8B0R0p3nj",
    "outputId": "b8924ef7-a831-4034-b389-1619829cbffe"
   },
   "outputs": [
    {
     "data": {
      "text/plain": [
       "3"
      ]
     },
     "execution_count": 6,
     "metadata": {},
     "output_type": "execute_result"
    }
   ],
   "source": [
    "22//7  # floor division discards the fractional part"
   ]
  },
  {
   "cell_type": "code",
   "execution_count": 7,
   "metadata": {
    "colab": {
     "base_uri": "https://localhost:8080/"
    },
    "executionInfo": {
     "elapsed": 124,
     "status": "ok",
     "timestamp": 1642705999081,
     "user": {
      "displayName": "Ramchandra Rimal",
      "photoUrl": "https://lh3.googleusercontent.com/a-/AOh14GiAeFifdymzS1jIfl4sZadq2W2j0_A8iIfdPLTJwg=s64",
      "userId": "02334418294935870107"
     },
     "user_tz": 360
    },
    "id": "ZAFzJCy-p3nt",
    "outputId": "c013b607-a2eb-4ce9-e69b-99509dddf05f"
   },
   "outputs": [
    {
     "data": {
      "text/plain": [
       "9"
      ]
     },
     "execution_count": 7,
     "metadata": {},
     "output_type": "execute_result"
    }
   ],
   "source": [
    " 3**2  # squared"
   ]
  },
  {
   "cell_type": "code",
   "execution_count": 8,
   "metadata": {
    "colab": {
     "base_uri": "https://localhost:8080/"
    },
    "executionInfo": {
     "elapsed": 126,
     "status": "ok",
     "timestamp": 1642706018690,
     "user": {
      "displayName": "Ramchandra Rimal",
      "photoUrl": "https://lh3.googleusercontent.com/a-/AOh14GiAeFifdymzS1jIfl4sZadq2W2j0_A8iIfdPLTJwg=s64",
      "userId": "02334418294935870107"
     },
     "user_tz": 360
    },
    "id": "qosq81m3p3n3",
    "outputId": "bd800e1a-d7e5-4d4a-d3fd-ff9eae872d0d"
   },
   "outputs": [
    {
     "data": {
      "text/plain": [
       "2"
      ]
     },
     "execution_count": 8,
     "metadata": {},
     "output_type": "execute_result"
    }
   ],
   "source": [
    "10%4 # reminder operation  \n"
   ]
  },
  {
   "cell_type": "code",
   "execution_count": 9,
   "metadata": {
    "colab": {
     "base_uri": "https://localhost:8080/"
    },
    "executionInfo": {
     "elapsed": 137,
     "status": "ok",
     "timestamp": 1642706021910,
     "user": {
      "displayName": "Ramchandra Rimal",
      "photoUrl": "https://lh3.googleusercontent.com/a-/AOh14GiAeFifdymzS1jIfl4sZadq2W2j0_A8iIfdPLTJwg=s64",
      "userId": "02334418294935870107"
     },
     "user_tz": 360
    },
    "id": "lqJLSNb8p3n_",
    "outputId": "a1a45863-5a42-477c-f369-e5ff7a3c1f3f",
    "scrolled": true
   },
   "outputs": [
    {
     "data": {
      "text/plain": [
       "2"
      ]
     },
     "execution_count": 9,
     "metadata": {},
     "output_type": "execute_result"
    }
   ],
   "source": [
    "14%3"
   ]
  },
  {
   "cell_type": "markdown",
   "metadata": {
    "id": "qg_NDmNip3oM"
   },
   "source": [
    "### **Order of Operations**\n",
    " \n",
    " \n",
    "Python follows **PEMDAS(P = parenthesis, E = exponent, M = multiplication, D= Division, A= Addition, S= Subtraction)** convention of Mathematics.\n"
   ]
  },
  {
   "cell_type": "code",
   "execution_count": 10,
   "metadata": {
    "colab": {
     "base_uri": "https://localhost:8080/"
    },
    "executionInfo": {
     "elapsed": 120,
     "status": "ok",
     "timestamp": 1642706029474,
     "user": {
      "displayName": "Ramchandra Rimal",
      "photoUrl": "https://lh3.googleusercontent.com/a-/AOh14GiAeFifdymzS1jIfl4sZadq2W2j0_A8iIfdPLTJwg=s64",
      "userId": "02334418294935870107"
     },
     "user_tz": 360
    },
    "id": "ske2ynvWp3oO",
    "outputId": "538765db-6ec3-4a73-a3ea-90ebd284e1b2"
   },
   "outputs": [
    {
     "data": {
      "text/plain": [
       "8"
      ]
     },
     "execution_count": 10,
     "metadata": {},
     "output_type": "execute_result"
    }
   ],
   "source": [
    "2*(5-1) "
   ]
  },
  {
   "cell_type": "code",
   "execution_count": 11,
   "metadata": {
    "colab": {
     "base_uri": "https://localhost:8080/"
    },
    "executionInfo": {
     "elapsed": 132,
     "status": "ok",
     "timestamp": 1642706054083,
     "user": {
      "displayName": "Ramchandra Rimal",
      "photoUrl": "https://lh3.googleusercontent.com/a-/AOh14GiAeFifdymzS1jIfl4sZadq2W2j0_A8iIfdPLTJwg=s64",
      "userId": "02334418294935870107"
     },
     "user_tz": 360
    },
    "id": "VfC0WFtVp3oi",
    "outputId": "47aacfe7-bda9-41e7-f941-814eb84f767d"
   },
   "outputs": [
    {
     "data": {
      "text/plain": [
       "8"
      ]
     },
     "execution_count": 11,
     "metadata": {},
     "output_type": "execute_result"
    }
   ],
   "source": [
    "(1+1)**(5-2)"
   ]
  },
  {
   "cell_type": "code",
   "execution_count": 12,
   "metadata": {
    "colab": {
     "base_uri": "https://localhost:8080/"
    },
    "executionInfo": {
     "elapsed": 1,
     "status": "ok",
     "timestamp": 1642706055286,
     "user": {
      "displayName": "Ramchandra Rimal",
      "photoUrl": "https://lh3.googleusercontent.com/a-/AOh14GiAeFifdymzS1jIfl4sZadq2W2j0_A8iIfdPLTJwg=s64",
      "userId": "02334418294935870107"
     },
     "user_tz": 360
    },
    "id": "XDAu-JMlp3or",
    "outputId": "a737d357-ac9f-48e5-ebc8-45cb4276673d"
   },
   "outputs": [
    {
     "data": {
      "text/plain": [
       "5"
      ]
     },
     "execution_count": 12,
     "metadata": {},
     "output_type": "execute_result"
    }
   ],
   "source": [
    "2**1+3 #is not 16 "
   ]
  },
  {
   "cell_type": "code",
   "execution_count": 13,
   "metadata": {
    "colab": {
     "base_uri": "https://localhost:8080/"
    },
    "executionInfo": {
     "elapsed": 2,
     "status": "ok",
     "timestamp": 1642706056503,
     "user": {
      "displayName": "Ramchandra Rimal",
      "photoUrl": "https://lh3.googleusercontent.com/a-/AOh14GiAeFifdymzS1jIfl4sZadq2W2j0_A8iIfdPLTJwg=s64",
      "userId": "02334418294935870107"
     },
     "user_tz": 360
    },
    "id": "INndhjzfp3oz",
    "outputId": "c39ef6ff-6ed5-4457-af18-c2085e47b6e1"
   },
   "outputs": [
    {
     "data": {
      "text/plain": [
       "24"
      ]
     },
     "execution_count": 13,
     "metadata": {},
     "output_type": "execute_result"
    }
   ],
   "source": [
    "3*2**3 # is not 216"
   ]
  },
  {
   "cell_type": "code",
   "execution_count": 14,
   "metadata": {
    "colab": {
     "base_uri": "https://localhost:8080/"
    },
    "executionInfo": {
     "elapsed": 140,
     "status": "ok",
     "timestamp": 1642706114495,
     "user": {
      "displayName": "Ramchandra Rimal",
      "photoUrl": "https://lh3.googleusercontent.com/a-/AOh14GiAeFifdymzS1jIfl4sZadq2W2j0_A8iIfdPLTJwg=s64",
      "userId": "02334418294935870107"
     },
     "user_tz": 360
    },
    "id": "JdSVkrXzp3o6",
    "outputId": "6925b57c-455e-4e2d-d574-1252340102c8"
   },
   "outputs": [
    {
     "data": {
      "text/plain": [
       "10.0"
      ]
     },
     "execution_count": 14,
     "metadata": {},
     "output_type": "execute_result"
    }
   ],
   "source": [
    "6+ 8/2 # is not 7"
   ]
  },
  {
   "cell_type": "markdown",
   "metadata": {
    "id": "5iEeWyGbp3pG"
   },
   "source": [
    "## **Variables Names**\n",
    "\n",
    "Python variable names can be arbitrary long. They may contain both letters and numbers but they have to begin with a letter. Underscore character ( _ ) can be used. We cannot use special characters such as @,$, &, etc while defining variables.\n"
   ]
  },
  {
   "cell_type": "code",
   "execution_count": 15,
   "metadata": {
    "colab": {
     "base_uri": "https://localhost:8080/",
     "height": 130
    },
    "executionInfo": {
     "elapsed": 125,
     "status": "error",
     "timestamp": 1642706131807,
     "user": {
      "displayName": "Ramchandra Rimal",
      "photoUrl": "https://lh3.googleusercontent.com/a-/AOh14GiAeFifdymzS1jIfl4sZadq2W2j0_A8iIfdPLTJwg=s64",
      "userId": "02334418294935870107"
     },
     "user_tz": 360
    },
    "id": "Ot1iZcIXp3pH",
    "outputId": "5a2a520a-2912-413c-c85e-2e1260472ef8"
   },
   "outputs": [
    {
     "ename": "SyntaxError",
     "evalue": "invalid syntax (<ipython-input-15-c4c5bb343ced>, line 2)",
     "output_type": "error",
     "traceback": [
      "\u001b[0;36m  File \u001b[0;32m\"<ipython-input-15-c4c5bb343ced>\"\u001b[0;36m, line \u001b[0;32m2\u001b[0m\n\u001b[0;31m    12my_variable, more@\u001b[0m\n\u001b[0m                ^\u001b[0m\n\u001b[0;31mSyntaxError\u001b[0m\u001b[0;31m:\u001b[0m invalid syntax\n"
     ]
    }
   ],
   "source": [
    "#Illegal variables\n",
    "12my_variable, more@\n",
    "\n"
   ]
  },
  {
   "cell_type": "code",
   "execution_count": 16,
   "metadata": {
    "executionInfo": {
     "elapsed": 128,
     "status": "ok",
     "timestamp": 1642706141310,
     "user": {
      "displayName": "Ramchandra Rimal",
      "photoUrl": "https://lh3.googleusercontent.com/a-/AOh14GiAeFifdymzS1jIfl4sZadq2W2j0_A8iIfdPLTJwg=s64",
      "userId": "02334418294935870107"
     },
     "user_tz": 360
    },
    "id": "HVvM9oP-p3pO"
   },
   "outputs": [],
   "source": [
    "#Legal variables\n",
    "var = 12\n",
    "second_var_123 = 89\n",
    "\n",
    "\n"
   ]
  },
  {
   "cell_type": "code",
   "execution_count": 17,
   "metadata": {
    "colab": {
     "base_uri": "https://localhost:8080/"
    },
    "executionInfo": {
     "elapsed": 122,
     "status": "ok",
     "timestamp": 1642706165047,
     "user": {
      "displayName": "Ramchandra Rimal",
      "photoUrl": "https://lh3.googleusercontent.com/a-/AOh14GiAeFifdymzS1jIfl4sZadq2W2j0_A8iIfdPLTJwg=s64",
      "userId": "02334418294935870107"
     },
     "user_tz": 360
    },
    "id": "0tPAHJ3Tp3pX",
    "outputId": "60e07349-b24f-4b9d-ede3-f8b0c6e102d5"
   },
   "outputs": [
    {
     "data": {
      "text/plain": [
       "200"
      ]
     },
     "execution_count": 17,
     "metadata": {},
     "output_type": "execute_result"
    }
   ],
   "source": [
    "width = 40  \n",
    "length = 5\n",
    "Area = width * length\n",
    "Area\n"
   ]
  },
  {
   "cell_type": "markdown",
   "metadata": {
    "id": "1MZYs2Bbp3pm"
   },
   "source": [
    "## **Reserved Keywords for Python**\n",
    "\n",
    "There are few words which are reserved for Python language. Therefore, users should aviod using these reserved words. \n",
    "\n",
    "**Reserved worlds: and, del, from, not, while, as, elif, global, or, with, assert, else, if, pass, yield, break, except, import, print, class, exec, raise, continue, finally, is, return, def, for, lambda,  try, in**, etc\n",
    "\n",
    "\n",
    "\n"
   ]
  },
  {
   "cell_type": "code",
   "execution_count": 20,
   "metadata": {
    "colab": {
     "base_uri": "https://localhost:8080/",
     "height": 130
    },
    "executionInfo": {
     "elapsed": 119,
     "status": "error",
     "timestamp": 1642706187929,
     "user": {
      "displayName": "Ramchandra Rimal",
      "photoUrl": "https://lh3.googleusercontent.com/a-/AOh14GiAeFifdymzS1jIfl4sZadq2W2j0_A8iIfdPLTJwg=s64",
      "userId": "02334418294935870107"
     },
     "user_tz": 360
    },
    "id": "CgsXBNYJp3po",
    "outputId": "33090918-a0f6-402d-9f74-355d66e7db5b"
   },
   "outputs": [
    {
     "ename": "SyntaxError",
     "evalue": "invalid syntax (<ipython-input-20-1a62af28eb71>, line 1)",
     "output_type": "error",
     "traceback": [
      "\u001b[0;36m  File \u001b[0;32m\"<ipython-input-20-1a62af28eb71>\"\u001b[0;36m, line \u001b[0;32m1\u001b[0m\n\u001b[0;31m    and\u001b[0m\n\u001b[0m      ^\u001b[0m\n\u001b[0;31mSyntaxError\u001b[0m\u001b[0;31m:\u001b[0m invalid syntax\n"
     ]
    }
   ],
   "source": [
    "and "
   ]
  },
  {
   "cell_type": "markdown",
   "metadata": {
    "id": "Y49A11Vyp3ps"
   },
   "source": [
    "## **Basic Python Variable Types**\n",
    "\n",
    "There are several variable types in Python. Here is a list of the most common types:"
   ]
  },
  {
   "cell_type": "markdown",
   "metadata": {
    "id": "FYMuKUbWp3pt"
   },
   "source": [
    "\n",
    "- **int**:  integer\n",
    "- **float**: floating point numbers (decimal numbers)\n",
    "- **complex**: complex numbers\n",
    "- **bool**: Boolean types (True, False)\n",
    "- **str**: String \n"
   ]
  },
  {
   "cell_type": "markdown",
   "metadata": {
    "id": "Qjzan0mw6Q-_"
   },
   "source": []
  },
  {
   "cell_type": "code",
   "execution_count": 21,
   "metadata": {
    "colab": {
     "base_uri": "https://localhost:8080/"
    },
    "executionInfo": {
     "elapsed": 171,
     "status": "ok",
     "timestamp": 1642706248990,
     "user": {
      "displayName": "Ramchandra Rimal",
      "photoUrl": "https://lh3.googleusercontent.com/a-/AOh14GiAeFifdymzS1jIfl4sZadq2W2j0_A8iIfdPLTJwg=s64",
      "userId": "02334418294935870107"
     },
     "user_tz": 360
    },
    "id": "enQ4tem2p3pu",
    "outputId": "f5b233d6-7b3d-4fcb-ddb0-fb66212308f2"
   },
   "outputs": [
    {
     "data": {
      "text/plain": [
       "int"
      ]
     },
     "execution_count": 21,
     "metadata": {},
     "output_type": "execute_result"
    }
   ],
   "source": [
    "#integer\n",
    "\n",
    "type(13)\n"
   ]
  },
  {
   "cell_type": "code",
   "execution_count": 22,
   "metadata": {
    "colab": {
     "base_uri": "https://localhost:8080/"
    },
    "executionInfo": {
     "elapsed": 110,
     "status": "ok",
     "timestamp": 1642706269217,
     "user": {
      "displayName": "Ramchandra Rimal",
      "photoUrl": "https://lh3.googleusercontent.com/a-/AOh14GiAeFifdymzS1jIfl4sZadq2W2j0_A8iIfdPLTJwg=s64",
      "userId": "02334418294935870107"
     },
     "user_tz": 360
    },
    "id": "h2poLxchp3py",
    "outputId": "5edd7ac0-fa22-4af2-9742-2ed61d080d6f"
   },
   "outputs": [
    {
     "data": {
      "text/plain": [
       "float"
      ]
     },
     "execution_count": 22,
     "metadata": {},
     "output_type": "execute_result"
    }
   ],
   "source": [
    "#float (decimal numbers) \n",
    "type(10.5)"
   ]
  },
  {
   "cell_type": "code",
   "execution_count": 23,
   "metadata": {
    "colab": {
     "base_uri": "https://localhost:8080/"
    },
    "executionInfo": {
     "elapsed": 134,
     "status": "ok",
     "timestamp": 1642706271894,
     "user": {
      "displayName": "Ramchandra Rimal",
      "photoUrl": "https://lh3.googleusercontent.com/a-/AOh14GiAeFifdymzS1jIfl4sZadq2W2j0_A8iIfdPLTJwg=s64",
      "userId": "02334418294935870107"
     },
     "user_tz": 360
    },
    "id": "zuVbjegbp3p3",
    "outputId": "465a1d8e-ac05-4a3a-f3e0-9ae4b889cb62"
   },
   "outputs": [
    {
     "data": {
      "text/plain": [
       "complex"
      ]
     },
     "execution_count": 23,
     "metadata": {},
     "output_type": "execute_result"
    }
   ],
   "source": [
    "#complex number\n",
    "type(5j)"
   ]
  },
  {
   "cell_type": "code",
   "execution_count": 24,
   "metadata": {
    "colab": {
     "base_uri": "https://localhost:8080/"
    },
    "executionInfo": {
     "elapsed": 2,
     "status": "ok",
     "timestamp": 1642706273076,
     "user": {
      "displayName": "Ramchandra Rimal",
      "photoUrl": "https://lh3.googleusercontent.com/a-/AOh14GiAeFifdymzS1jIfl4sZadq2W2j0_A8iIfdPLTJwg=s64",
      "userId": "02334418294935870107"
     },
     "user_tz": 360
    },
    "id": "V3Gs1wjjp3p9",
    "outputId": "2d51dc46-4750-4638-8002-4edd62aafa86"
   },
   "outputs": [
    {
     "data": {
      "text/plain": [
       "(2+3j)"
      ]
     },
     "execution_count": 24,
     "metadata": {},
     "output_type": "execute_result"
    }
   ],
   "source": [
    "complex(2,3)"
   ]
  },
  {
   "cell_type": "code",
   "execution_count": 25,
   "metadata": {
    "executionInfo": {
     "elapsed": 138,
     "status": "ok",
     "timestamp": 1642706273954,
     "user": {
      "displayName": "Ramchandra Rimal",
      "photoUrl": "https://lh3.googleusercontent.com/a-/AOh14GiAeFifdymzS1jIfl4sZadq2W2j0_A8iIfdPLTJwg=s64",
      "userId": "02334418294935870107"
     },
     "user_tz": 360
    },
    "id": "0m2OIpQ0p3qA"
   },
   "outputs": [],
   "source": [
    "z = 2-3j"
   ]
  },
  {
   "cell_type": "code",
   "execution_count": 26,
   "metadata": {
    "colab": {
     "base_uri": "https://localhost:8080/"
    },
    "executionInfo": {
     "elapsed": 2,
     "status": "ok",
     "timestamp": 1642706275170,
     "user": {
      "displayName": "Ramchandra Rimal",
      "photoUrl": "https://lh3.googleusercontent.com/a-/AOh14GiAeFifdymzS1jIfl4sZadq2W2j0_A8iIfdPLTJwg=s64",
      "userId": "02334418294935870107"
     },
     "user_tz": 360
    },
    "id": "4cUo1AVtp3qG",
    "outputId": "84932989-fafb-4d5c-931f-4be7c6335238"
   },
   "outputs": [
    {
     "data": {
      "text/plain": [
       "2.0"
      ]
     },
     "execution_count": 26,
     "metadata": {},
     "output_type": "execute_result"
    }
   ],
   "source": [
    "z.real"
   ]
  },
  {
   "cell_type": "code",
   "execution_count": 27,
   "metadata": {
    "colab": {
     "base_uri": "https://localhost:8080/"
    },
    "executionInfo": {
     "elapsed": 137,
     "status": "ok",
     "timestamp": 1642706297191,
     "user": {
      "displayName": "Ramchandra Rimal",
      "photoUrl": "https://lh3.googleusercontent.com/a-/AOh14GiAeFifdymzS1jIfl4sZadq2W2j0_A8iIfdPLTJwg=s64",
      "userId": "02334418294935870107"
     },
     "user_tz": 360
    },
    "id": "ne5gClatp3qJ",
    "outputId": "b69cadc8-0658-4e86-b1f3-c330a18cfeac"
   },
   "outputs": [
    {
     "data": {
      "text/plain": [
       "-3.0"
      ]
     },
     "execution_count": 27,
     "metadata": {},
     "output_type": "execute_result"
    }
   ],
   "source": [
    "z.imag"
   ]
  },
  {
   "cell_type": "code",
   "execution_count": 28,
   "metadata": {
    "colab": {
     "base_uri": "https://localhost:8080/"
    },
    "executionInfo": {
     "elapsed": 127,
     "status": "ok",
     "timestamp": 1642706298925,
     "user": {
      "displayName": "Ramchandra Rimal",
      "photoUrl": "https://lh3.googleusercontent.com/a-/AOh14GiAeFifdymzS1jIfl4sZadq2W2j0_A8iIfdPLTJwg=s64",
      "userId": "02334418294935870107"
     },
     "user_tz": 360
    },
    "id": "hjLj41zcp3qO",
    "outputId": "e5ed9664-b2cc-46fa-e57c-91ec42d1544b"
   },
   "outputs": [
    {
     "data": {
      "text/plain": [
       "bool"
      ]
     },
     "execution_count": 28,
     "metadata": {},
     "output_type": "execute_result"
    }
   ],
   "source": [
    "#Boolean\n",
    "a = True\n",
    "type(a)"
   ]
  },
  {
   "cell_type": "code",
   "execution_count": 29,
   "metadata": {
    "colab": {
     "base_uri": "https://localhost:8080/"
    },
    "executionInfo": {
     "elapsed": 119,
     "status": "ok",
     "timestamp": 1642706305200,
     "user": {
      "displayName": "Ramchandra Rimal",
      "photoUrl": "https://lh3.googleusercontent.com/a-/AOh14GiAeFifdymzS1jIfl4sZadq2W2j0_A8iIfdPLTJwg=s64",
      "userId": "02334418294935870107"
     },
     "user_tz": 360
    },
    "id": "9k77EHgsp3qT",
    "outputId": "dd38e28d-eea2-4501-e3bd-8ec44ed4b62b"
   },
   "outputs": [
    {
     "data": {
      "text/plain": [
       "str"
      ]
     },
     "execution_count": 29,
     "metadata": {},
     "output_type": "execute_result"
    }
   ],
   "source": [
    "a = 'MTSU' #help(str)\n",
    "type(a)"
   ]
  },
  {
   "cell_type": "markdown",
   "metadata": {
    "id": "fwNrh2anp3qV"
   },
   "source": [
    "### **String**\n",
    "Besides numbers, Python can also manipulate strings, which can be expressed in several ways. They can be enclosed in single quotes ('  ') or double quotes (\" \") with the same result."
   ]
  },
  {
   "cell_type": "code",
   "execution_count": 2,
   "metadata": {
    "executionInfo": {
     "elapsed": 117,
     "status": "ok",
     "timestamp": 1642706332267,
     "user": {
      "displayName": "Ramchandra Rimal",
      "photoUrl": "https://lh3.googleusercontent.com/a-/AOh14GiAeFifdymzS1jIfl4sZadq2W2j0_A8iIfdPLTJwg=s64",
      "userId": "02334418294935870107"
     },
     "user_tz": 360
    },
    "id": "DvpdG1XIp3qW"
   },
   "outputs": [],
   "source": [
    "course_name = 'Applied Predicitve Modeling' "
   ]
  },
  {
   "cell_type": "code",
   "execution_count": 3,
   "metadata": {
    "executionInfo": {
     "elapsed": 161,
     "status": "ok",
     "timestamp": 1642706337061,
     "user": {
      "displayName": "Ramchandra Rimal",
      "photoUrl": "https://lh3.googleusercontent.com/a-/AOh14GiAeFifdymzS1jIfl4sZadq2W2j0_A8iIfdPLTJwg=s64",
      "userId": "02334418294935870107"
     },
     "user_tz": 360
    },
    "id": "Bvl9H1lcp3qZ"
   },
   "outputs": [],
   "source": [
    "semester = 'Spring 2024' "
   ]
  },
  {
   "cell_type": "code",
   "execution_count": 4,
   "metadata": {
    "executionInfo": {
     "elapsed": 129,
     "status": "ok",
     "timestamp": 1642706351243,
     "user": {
      "displayName": "Ramchandra Rimal",
      "photoUrl": "https://lh3.googleusercontent.com/a-/AOh14GiAeFifdymzS1jIfl4sZadq2W2j0_A8iIfdPLTJwg=s64",
      "userId": "02334418294935870107"
     },
     "user_tz": 360
    },
    "id": "9bz9Ugiop3qd"
   },
   "outputs": [],
   "source": [
    "myclass = course_name + ' ' + semester"
   ]
  },
  {
   "cell_type": "code",
   "execution_count": 5,
   "metadata": {
    "colab": {
     "base_uri": "https://localhost:8080/",
     "height": 35
    },
    "executionInfo": {
     "elapsed": 104,
     "status": "ok",
     "timestamp": 1642706353687,
     "user": {
      "displayName": "Ramchandra Rimal",
      "photoUrl": "https://lh3.googleusercontent.com/a-/AOh14GiAeFifdymzS1jIfl4sZadq2W2j0_A8iIfdPLTJwg=s64",
      "userId": "02334418294935870107"
     },
     "user_tz": 360
    },
    "id": "brb62G_fp3qh",
    "outputId": "570ad07d-828a-4dd1-9753-9bc34c9a3eab"
   },
   "outputs": [
    {
     "data": {
      "text/plain": [
       "'Applied Predicitve Modeling Spring 2024'"
      ]
     },
     "execution_count": 5,
     "metadata": {},
     "output_type": "execute_result"
    }
   ],
   "source": [
    "myclass\n"
   ]
  },
  {
   "cell_type": "code",
   "execution_count": 34,
   "metadata": {
    "colab": {
     "base_uri": "https://localhost:8080/"
    },
    "executionInfo": {
     "elapsed": 105,
     "status": "ok",
     "timestamp": 1642706360314,
     "user": {
      "displayName": "Ramchandra Rimal",
      "photoUrl": "https://lh3.googleusercontent.com/a-/AOh14GiAeFifdymzS1jIfl4sZadq2W2j0_A8iIfdPLTJwg=s64",
      "userId": "02334418294935870107"
     },
     "user_tz": 360
    },
    "id": "M4nTCaMkp3qk",
    "outputId": "fc4ca304-53a4-4c65-cae5-7da994e0ee2d"
   },
   "outputs": [
    {
     "data": {
      "text/plain": [
       "str"
      ]
     },
     "execution_count": 34,
     "metadata": {},
     "output_type": "execute_result"
    }
   ],
   "source": [
    "type(myclass)"
   ]
  },
  {
   "cell_type": "code",
   "execution_count": 35,
   "metadata": {
    "colab": {
     "base_uri": "https://localhost:8080/",
     "height": 35
    },
    "executionInfo": {
     "elapsed": 119,
     "status": "ok",
     "timestamp": 1642706392125,
     "user": {
      "displayName": "Ramchandra Rimal",
      "photoUrl": "https://lh3.googleusercontent.com/a-/AOh14GiAeFifdymzS1jIfl4sZadq2W2j0_A8iIfdPLTJwg=s64",
      "userId": "02334418294935870107"
     },
     "user_tz": 360
    },
    "id": "GIdZE9SCp3qm",
    "outputId": "279406c1-2555-43b4-b28e-09a1ed8ef03c"
   },
   "outputs": [
    {
     "data": {
      "text/plain": [
       "'A'"
      ]
     },
     "execution_count": 35,
     "metadata": {},
     "output_type": "execute_result"
    }
   ],
   "source": [
    "myclass[0] # to access first character of the string "
   ]
  },
  {
   "cell_type": "code",
   "execution_count": 6,
   "metadata": {
    "colab": {
     "base_uri": "https://localhost:8080/",
     "height": 35
    },
    "executionInfo": {
     "elapsed": 153,
     "status": "ok",
     "timestamp": 1642706394182,
     "user": {
      "displayName": "Ramchandra Rimal",
      "photoUrl": "https://lh3.googleusercontent.com/a-/AOh14GiAeFifdymzS1jIfl4sZadq2W2j0_A8iIfdPLTJwg=s64",
      "userId": "02334418294935870107"
     },
     "user_tz": 360
    },
    "id": "BETvL8VHp3qq",
    "outputId": "88012d58-ca69-4b74-f3ba-eaa6043a1d33"
   },
   "outputs": [
    {
     "data": {
      "text/plain": [
       "'Applied Predicitve Modeling Spring 2024'"
      ]
     },
     "execution_count": 6,
     "metadata": {},
     "output_type": "execute_result"
    }
   ],
   "source": [
    "myclass[:]\n"
   ]
  },
  {
   "cell_type": "code",
   "execution_count": 7,
   "metadata": {
    "colab": {
     "base_uri": "https://localhost:8080/",
     "height": 35
    },
    "executionInfo": {
     "elapsed": 106,
     "status": "ok",
     "timestamp": 1642706395936,
     "user": {
      "displayName": "Ramchandra Rimal",
      "photoUrl": "https://lh3.googleusercontent.com/a-/AOh14GiAeFifdymzS1jIfl4sZadq2W2j0_A8iIfdPLTJwg=s64",
      "userId": "02334418294935870107"
     },
     "user_tz": 360
    },
    "id": "V-UsK_T-p3qt",
    "outputId": "eaec019f-895c-447d-90ba-e787cbc93353"
   },
   "outputs": [
    {
     "data": {
      "text/plain": [
       "'Applied Predicitve Modeling Spring 202'"
      ]
     },
     "execution_count": 7,
     "metadata": {},
     "output_type": "execute_result"
    }
   ],
   "source": [
    "myclass[:-1]"
   ]
  },
  {
   "cell_type": "code",
   "execution_count": 8,
   "metadata": {
    "colab": {
     "base_uri": "https://localhost:8080/",
     "height": 35
    },
    "executionInfo": {
     "elapsed": 122,
     "status": "ok",
     "timestamp": 1642706405873,
     "user": {
      "displayName": "Ramchandra Rimal",
      "photoUrl": "https://lh3.googleusercontent.com/a-/AOh14GiAeFifdymzS1jIfl4sZadq2W2j0_A8iIfdPLTJwg=s64",
      "userId": "02334418294935870107"
     },
     "user_tz": 360
    },
    "id": "Ws6C7VmQp3qw",
    "outputId": "897b708e-f14d-4fe3-e597-9817c85e7647"
   },
   "outputs": [
    {
     "data": {
      "text/plain": [
       "'4'"
      ]
     },
     "execution_count": 8,
     "metadata": {},
     "output_type": "execute_result"
    }
   ],
   "source": [
    "myclass[-1]"
   ]
  },
  {
   "cell_type": "code",
   "execution_count": 9,
   "metadata": {
    "colab": {
     "base_uri": "https://localhost:8080/",
     "height": 35
    },
    "executionInfo": {
     "elapsed": 109,
     "status": "ok",
     "timestamp": 1642706408262,
     "user": {
      "displayName": "Ramchandra Rimal",
      "photoUrl": "https://lh3.googleusercontent.com/a-/AOh14GiAeFifdymzS1jIfl4sZadq2W2j0_A8iIfdPLTJwg=s64",
      "userId": "02334418294935870107"
     },
     "user_tz": 360
    },
    "id": "x-LsqcXBp3q7",
    "outputId": "21700697-158a-46db-a170-08bd6eebe377"
   },
   "outputs": [
    {
     "data": {
      "text/plain": [
       "'Applied Predicitve Modeling Spring 2024Applied Predicitve Modeling Spring 2024'"
      ]
     },
     "execution_count": 9,
     "metadata": {},
     "output_type": "execute_result"
    }
   ],
   "source": [
    "myclass + myclass"
   ]
  },
  {
   "cell_type": "code",
   "execution_count": 10,
   "metadata": {
    "colab": {
     "base_uri": "https://localhost:8080/",
     "height": 53
    },
    "executionInfo": {
     "elapsed": 3,
     "status": "ok",
     "timestamp": 1642706409721,
     "user": {
      "displayName": "Ramchandra Rimal",
      "photoUrl": "https://lh3.googleusercontent.com/a-/AOh14GiAeFifdymzS1jIfl4sZadq2W2j0_A8iIfdPLTJwg=s64",
      "userId": "02334418294935870107"
     },
     "user_tz": 360
    },
    "id": "5xrDN-eep3q-",
    "outputId": "6bfe0f75-ac37-4c2b-da85-eeaedd5ed73a"
   },
   "outputs": [
    {
     "data": {
      "text/plain": [
       "'Applied Predicitve Modeling Spring 2024Applied Predicitve Modeling Spring 2024Applied Predicitve Modeling Spring 2024'"
      ]
     },
     "execution_count": 10,
     "metadata": {},
     "output_type": "execute_result"
    }
   ],
   "source": [
    "myclass*3"
   ]
  },
  {
   "cell_type": "code",
   "execution_count": 11,
   "metadata": {
    "colab": {
     "base_uri": "https://localhost:8080/",
     "height": 165
    },
    "executionInfo": {
     "elapsed": 291,
     "status": "error",
     "timestamp": 1642706427029,
     "user": {
      "displayName": "Ramchandra Rimal",
      "photoUrl": "https://lh3.googleusercontent.com/a-/AOh14GiAeFifdymzS1jIfl4sZadq2W2j0_A8iIfdPLTJwg=s64",
      "userId": "02334418294935870107"
     },
     "user_tz": 360
    },
    "id": "GG0oIELyp3rM",
    "outputId": "ddcecae3-8e9c-4bdb-84e7-e6ad2a38a3ba"
   },
   "outputs": [
    {
     "ename": "TypeError",
     "evalue": "can only concatenate str (not \"int\") to str",
     "output_type": "error",
     "traceback": [
      "\u001b[1;31m---------------------------------------------------------------------------\u001b[0m",
      "\u001b[1;31mTypeError\u001b[0m                                 Traceback (most recent call last)",
      "Cell \u001b[1;32mIn[11], line 1\u001b[0m\n\u001b[1;32m----> 1\u001b[0m \u001b[38;5;124m\"\u001b[39m\u001b[38;5;124mSpeed Limit \u001b[39m\u001b[38;5;124m\"\u001b[39m\u001b[38;5;241m+\u001b[39m \u001b[38;5;241m45\u001b[39m\n",
      "\u001b[1;31mTypeError\u001b[0m: can only concatenate str (not \"int\") to str"
     ]
    }
   ],
   "source": [
    "\"Speed Limit \"+ 45"
   ]
  },
  {
   "cell_type": "code",
   "execution_count": 12,
   "metadata": {
    "colab": {
     "base_uri": "https://localhost:8080/",
     "height": 35
    },
    "executionInfo": {
     "elapsed": 115,
     "status": "ok",
     "timestamp": 1642706447288,
     "user": {
      "displayName": "Ramchandra Rimal",
      "photoUrl": "https://lh3.googleusercontent.com/a-/AOh14GiAeFifdymzS1jIfl4sZadq2W2j0_A8iIfdPLTJwg=s64",
      "userId": "02334418294935870107"
     },
     "user_tz": 360
    },
    "id": "AXj2trsHp3rQ",
    "outputId": "d941d4bc-01d8-4859-8364-56857cf41ccd"
   },
   "outputs": [
    {
     "data": {
      "text/plain": [
       "'Speed Limit 45'"
      ]
     },
     "execution_count": 12,
     "metadata": {},
     "output_type": "execute_result"
    }
   ],
   "source": [
    "\"Speed Limit \"+ str(45)"
   ]
  },
  {
   "cell_type": "markdown",
   "metadata": {
    "id": "zWNdf47ep3rU"
   },
   "source": [
    "## **Additional Core Python Data Types**\n",
    "- **list**:  Ordered Array\n",
    "- **tuple**: Ordered Immutable Array\n",
    "- **dict**: Unordered list of keys and values"
   ]
  },
  {
   "cell_type": "markdown",
   "metadata": {
    "id": "fd29tzYwp3rU"
   },
   "source": [
    "### **List**\n",
    "\n",
    "The Python lists are positionally ordered collection of aribitrarily typed objects with no fixed size. They are also mutable, meaning lists can be modified. They provide a very flexible tool for representing aribitrary collections such as lists of files, employees in a company, emails in your inbox, and so on. "
   ]
  },
  {
   "cell_type": "code",
   "execution_count": 43,
   "metadata": {
    "colab": {
     "base_uri": "https://localhost:8080/"
    },
    "executionInfo": {
     "elapsed": 138,
     "status": "ok",
     "timestamp": 1642706557882,
     "user": {
      "displayName": "Ramchandra Rimal",
      "photoUrl": "https://lh3.googleusercontent.com/a-/AOh14GiAeFifdymzS1jIfl4sZadq2W2j0_A8iIfdPLTJwg=s64",
      "userId": "02334418294935870107"
     },
     "user_tz": 360
    },
    "id": "ifg7bTmap3rV",
    "outputId": "c38faa27-c18e-44ad-ab29-89bd3659e62e"
   },
   "outputs": [
    {
     "data": {
      "text/plain": [
       "list"
      ]
     },
     "execution_count": 43,
     "metadata": {},
     "output_type": "execute_result"
    }
   ],
   "source": [
    "a = [] # one way to create empty list\n",
    "type(a)"
   ]
  },
  {
   "cell_type": "code",
   "execution_count": 44,
   "metadata": {
    "colab": {
     "base_uri": "https://localhost:8080/"
    },
    "executionInfo": {
     "elapsed": 130,
     "status": "ok",
     "timestamp": 1642706594107,
     "user": {
      "displayName": "Ramchandra Rimal",
      "photoUrl": "https://lh3.googleusercontent.com/a-/AOh14GiAeFifdymzS1jIfl4sZadq2W2j0_A8iIfdPLTJwg=s64",
      "userId": "02334418294935870107"
     },
     "user_tz": 360
    },
    "id": "XR3VCOSep3rY",
    "outputId": "1ad0e25e-4d62-4c47-e972-cf44418dce11"
   },
   "outputs": [
    {
     "data": {
      "text/plain": [
       "list"
      ]
     },
     "execution_count": 44,
     "metadata": {},
     "output_type": "execute_result"
    }
   ],
   "source": [
    "a = list()  # another way to create empty list\n",
    "type(a)"
   ]
  },
  {
   "cell_type": "code",
   "execution_count": 45,
   "metadata": {
    "colab": {
     "base_uri": "https://localhost:8080/"
    },
    "executionInfo": {
     "elapsed": 143,
     "status": "ok",
     "timestamp": 1642706615325,
     "user": {
      "displayName": "Ramchandra Rimal",
      "photoUrl": "https://lh3.googleusercontent.com/a-/AOh14GiAeFifdymzS1jIfl4sZadq2W2j0_A8iIfdPLTJwg=s64",
      "userId": "02334418294935870107"
     },
     "user_tz": 360
    },
    "id": "nhEWNdoZp3ra",
    "outputId": "ec6240f7-fcd9-49f4-c7bb-8899d34191b6"
   },
   "outputs": [
    {
     "name": "stdout",
     "output_type": "stream",
     "text": [
      "<class 'list'>\n"
     ]
    },
    {
     "data": {
      "text/plain": [
       "[1, 'MTSU', 2, 'UT', True]"
      ]
     },
     "execution_count": 45,
     "metadata": {},
     "output_type": "execute_result"
    }
   ],
   "source": [
    "x = [1, 'MTSU', 2, 'UT', True]\n",
    "print(type(x))\n",
    "x"
   ]
  },
  {
   "cell_type": "markdown",
   "metadata": {
    "id": "AsjbRHoap3re"
   },
   "source": [
    "#### **Basic List Operations**"
   ]
  },
  {
   "cell_type": "code",
   "execution_count": 46,
   "metadata": {
    "colab": {
     "base_uri": "https://localhost:8080/"
    },
    "executionInfo": {
     "elapsed": 157,
     "status": "ok",
     "timestamp": 1642706633207,
     "user": {
      "displayName": "Ramchandra Rimal",
      "photoUrl": "https://lh3.googleusercontent.com/a-/AOh14GiAeFifdymzS1jIfl4sZadq2W2j0_A8iIfdPLTJwg=s64",
      "userId": "02334418294935870107"
     },
     "user_tz": 360
    },
    "id": "Ku6lFHtGp3rf",
    "outputId": "82fb78db-3772-4689-c7a3-83570277963a"
   },
   "outputs": [
    {
     "data": {
      "text/plain": [
       "3"
      ]
     },
     "execution_count": 46,
     "metadata": {},
     "output_type": "execute_result"
    }
   ],
   "source": [
    "x = [1,2,3]\n",
    "len(x)  # length"
   ]
  },
  {
   "cell_type": "code",
   "execution_count": 47,
   "metadata": {
    "colab": {
     "base_uri": "https://localhost:8080/"
    },
    "executionInfo": {
     "elapsed": 139,
     "status": "ok",
     "timestamp": 1642706664937,
     "user": {
      "displayName": "Ramchandra Rimal",
      "photoUrl": "https://lh3.googleusercontent.com/a-/AOh14GiAeFifdymzS1jIfl4sZadq2W2j0_A8iIfdPLTJwg=s64",
      "userId": "02334418294935870107"
     },
     "user_tz": 360
    },
    "id": "WhJ38bAkp3ri",
    "outputId": "0316e05c-f0c8-450d-c996-61b42d21692c"
   },
   "outputs": [
    {
     "data": {
      "text/plain": [
       "[1, 2, 3, 5, 6, 7]"
      ]
     },
     "execution_count": 47,
     "metadata": {},
     "output_type": "execute_result"
    }
   ],
   "source": [
    "x + [5,6,7] # concatenation"
   ]
  },
  {
   "cell_type": "code",
   "execution_count": 48,
   "metadata": {
    "colab": {
     "base_uri": "https://localhost:8080/"
    },
    "executionInfo": {
     "elapsed": 122,
     "status": "ok",
     "timestamp": 1642706672967,
     "user": {
      "displayName": "Ramchandra Rimal",
      "photoUrl": "https://lh3.googleusercontent.com/a-/AOh14GiAeFifdymzS1jIfl4sZadq2W2j0_A8iIfdPLTJwg=s64",
      "userId": "02334418294935870107"
     },
     "user_tz": 360
    },
    "id": "p7k2dyXGp3rl",
    "outputId": "57769b3c-69f4-48f3-a205-4e65278f0b6d"
   },
   "outputs": [
    {
     "data": {
      "text/plain": [
       "[1, 2, 3, 2, 'Math', 5, 'Data Science']"
      ]
     },
     "execution_count": 48,
     "metadata": {},
     "output_type": "execute_result"
    }
   ],
   "source": [
    "y = [2, 'Math', 5, \"Data Science\"]\n",
    "\n",
    "x+y"
   ]
  },
  {
   "cell_type": "code",
   "execution_count": 49,
   "metadata": {
    "colab": {
     "base_uri": "https://localhost:8080/"
    },
    "executionInfo": {
     "elapsed": 133,
     "status": "ok",
     "timestamp": 1642706700071,
     "user": {
      "displayName": "Ramchandra Rimal",
      "photoUrl": "https://lh3.googleusercontent.com/a-/AOh14GiAeFifdymzS1jIfl4sZadq2W2j0_A8iIfdPLTJwg=s64",
      "userId": "02334418294935870107"
     },
     "user_tz": 360
    },
    "id": "Xf_sY88cp3ro",
    "outputId": "5a8813f9-6449-47cb-f1a0-7c378485cbec"
   },
   "outputs": [
    {
     "data": {
      "text/plain": [
       "['SPAM', 'SPAM', 'SPAM', 'SPAM', 'SPAM']"
      ]
     },
     "execution_count": 49,
     "metadata": {},
     "output_type": "execute_result"
    }
   ],
   "source": [
    "[\"SPAM\"]*5 # Repetition"
   ]
  },
  {
   "cell_type": "code",
   "execution_count": 50,
   "metadata": {
    "colab": {
     "base_uri": "https://localhost:8080/"
    },
    "executionInfo": {
     "elapsed": 132,
     "status": "ok",
     "timestamp": 1642706711797,
     "user": {
      "displayName": "Ramchandra Rimal",
      "photoUrl": "https://lh3.googleusercontent.com/a-/AOh14GiAeFifdymzS1jIfl4sZadq2W2j0_A8iIfdPLTJwg=s64",
      "userId": "02334418294935870107"
     },
     "user_tz": 360
    },
    "id": "gn8XTITZp3rr",
    "outputId": "c8514c86-d79b-4a8e-eae1-57c56097d257"
   },
   "outputs": [
    {
     "data": {
      "text/plain": [
       "[2, 2, 2, 2, 2]"
      ]
     },
     "execution_count": 50,
     "metadata": {},
     "output_type": "execute_result"
    }
   ],
   "source": [
    "[2]*5 # Repetition"
   ]
  },
  {
   "cell_type": "markdown",
   "metadata": {
    "id": "r8jXs9TQp3rt"
   },
   "source": [
    "####  **List Indexing and Slicing**"
   ]
  },
  {
   "cell_type": "code",
   "execution_count": 51,
   "metadata": {
    "colab": {
     "base_uri": "https://localhost:8080/",
     "height": 35
    },
    "executionInfo": {
     "elapsed": 115,
     "status": "ok",
     "timestamp": 1642706779013,
     "user": {
      "displayName": "Ramchandra Rimal",
      "photoUrl": "https://lh3.googleusercontent.com/a-/AOh14GiAeFifdymzS1jIfl4sZadq2W2j0_A8iIfdPLTJwg=s64",
      "userId": "02334418294935870107"
     },
     "user_tz": 360
    },
    "id": "M7QsXCOup3ru",
    "outputId": "8b7e1a2a-eee3-408d-fd22-f8a0e3937641"
   },
   "outputs": [
    {
     "data": {
      "text/plain": [
       "'UT'"
      ]
     },
     "execution_count": 51,
     "metadata": {},
     "output_type": "execute_result"
    }
   ],
   "source": [
    "\n",
    "x = [1, 'MTSU', 2, 'UT']\n",
    "x[3]"
   ]
  },
  {
   "cell_type": "code",
   "execution_count": 52,
   "metadata": {
    "colab": {
     "base_uri": "https://localhost:8080/"
    },
    "executionInfo": {
     "elapsed": 127,
     "status": "ok",
     "timestamp": 1642706806379,
     "user": {
      "displayName": "Ramchandra Rimal",
      "photoUrl": "https://lh3.googleusercontent.com/a-/AOh14GiAeFifdymzS1jIfl4sZadq2W2j0_A8iIfdPLTJwg=s64",
      "userId": "02334418294935870107"
     },
     "user_tz": 360
    },
    "id": "jc-x2m45p3rx",
    "outputId": "4cd51ad4-a4ec-4419-c75a-dc917c832d85"
   },
   "outputs": [
    {
     "data": {
      "text/plain": [
       "['MTSU', 2, 'UT']"
      ]
     },
     "execution_count": 52,
     "metadata": {},
     "output_type": "execute_result"
    }
   ],
   "source": [
    "x[1:]"
   ]
  },
  {
   "cell_type": "code",
   "execution_count": 53,
   "metadata": {
    "colab": {
     "base_uri": "https://localhost:8080/"
    },
    "executionInfo": {
     "elapsed": 108,
     "status": "ok",
     "timestamp": 1642706820418,
     "user": {
      "displayName": "Ramchandra Rimal",
      "photoUrl": "https://lh3.googleusercontent.com/a-/AOh14GiAeFifdymzS1jIfl4sZadq2W2j0_A8iIfdPLTJwg=s64",
      "userId": "02334418294935870107"
     },
     "user_tz": 360
    },
    "id": "Kkn_FHGip3r0",
    "outputId": "04efbc36-7edc-45c0-9d93-1e3460c66a59"
   },
   "outputs": [
    {
     "data": {
      "text/plain": [
       "[1, 'MTSU', 2]"
      ]
     },
     "execution_count": 53,
     "metadata": {},
     "output_type": "execute_result"
    }
   ],
   "source": [
    "x[:-1] "
   ]
  },
  {
   "cell_type": "markdown",
   "metadata": {
    "id": "dnAw4QZOp3r2"
   },
   "source": [
    "#### **Some Built-in functions on List Object**\n",
    "\n",
    "- extend()\n",
    "\n",
    "- append()\n",
    "\n",
    "- sort()\n",
    "\n",
    "- reverse()\n",
    "\n",
    "- del()\n",
    "- count()\n",
    "- copy()\n",
    "- clear()\n",
    "- remove()\n",
    "- insert(i, X)\n"
   ]
  },
  {
   "cell_type": "code",
   "execution_count": 54,
   "metadata": {
    "colab": {
     "base_uri": "https://localhost:8080/"
    },
    "executionInfo": {
     "elapsed": 147,
     "status": "ok",
     "timestamp": 1642706872095,
     "user": {
      "displayName": "Ramchandra Rimal",
      "photoUrl": "https://lh3.googleusercontent.com/a-/AOh14GiAeFifdymzS1jIfl4sZadq2W2j0_A8iIfdPLTJwg=s64",
      "userId": "02334418294935870107"
     },
     "user_tz": 360
    },
    "id": "b2GnTUC0p3r3",
    "outputId": "5bb3838a-bf75-48bb-ea4e-2b72cee42fee"
   },
   "outputs": [
    {
     "data": {
      "text/plain": [
       "[1, 'MTSU', 2, 'UT', 23, 78]"
      ]
     },
     "execution_count": 54,
     "metadata": {},
     "output_type": "execute_result"
    }
   ],
   "source": [
    "x = [1, 'MTSU', 2, 'UT']\n",
    "x.extend([23,78]) # it changes original variable too\n",
    "x"
   ]
  },
  {
   "cell_type": "code",
   "execution_count": 55,
   "metadata": {
    "colab": {
     "base_uri": "https://localhost:8080/"
    },
    "executionInfo": {
     "elapsed": 104,
     "status": "ok",
     "timestamp": 1642706905367,
     "user": {
      "displayName": "Ramchandra Rimal",
      "photoUrl": "https://lh3.googleusercontent.com/a-/AOh14GiAeFifdymzS1jIfl4sZadq2W2j0_A8iIfdPLTJwg=s64",
      "userId": "02334418294935870107"
     },
     "user_tz": 360
    },
    "id": "oFXuGb9Up3r5",
    "outputId": "9e2abb26-e983-478d-812c-844e88033876"
   },
   "outputs": [
    {
     "data": {
      "text/plain": [
       "[30]"
      ]
     },
     "execution_count": 55,
     "metadata": {},
     "output_type": "execute_result"
    }
   ],
   "source": [
    "a = []\n",
    "\n",
    "a.append(30) # it changes original variable too\n",
    "a  "
   ]
  },
  {
   "cell_type": "code",
   "execution_count": 56,
   "metadata": {
    "colab": {
     "base_uri": "https://localhost:8080/"
    },
    "executionInfo": {
     "elapsed": 118,
     "status": "ok",
     "timestamp": 1642706916214,
     "user": {
      "displayName": "Ramchandra Rimal",
      "photoUrl": "https://lh3.googleusercontent.com/a-/AOh14GiAeFifdymzS1jIfl4sZadq2W2j0_A8iIfdPLTJwg=s64",
      "userId": "02334418294935870107"
     },
     "user_tz": 360
    },
    "id": "85kDI4Uop3r7",
    "outputId": "2a2d1e81-6e50-466a-85f1-1217ef9acb95"
   },
   "outputs": [
    {
     "data": {
      "text/plain": [
       "[30, 'grade']"
      ]
     },
     "execution_count": 56,
     "metadata": {},
     "output_type": "execute_result"
    }
   ],
   "source": [
    "a.append(\"grade\")\n",
    "a"
   ]
  },
  {
   "cell_type": "code",
   "execution_count": 57,
   "metadata": {
    "colab": {
     "base_uri": "https://localhost:8080/"
    },
    "executionInfo": {
     "elapsed": 101,
     "status": "ok",
     "timestamp": 1642706921419,
     "user": {
      "displayName": "Ramchandra Rimal",
      "photoUrl": "https://lh3.googleusercontent.com/a-/AOh14GiAeFifdymzS1jIfl4sZadq2W2j0_A8iIfdPLTJwg=s64",
      "userId": "02334418294935870107"
     },
     "user_tz": 360
    },
    "id": "YQSPRc_Pp3r-",
    "outputId": "d22186b9-7e67-48de-bf46-c07c1cdc235d"
   },
   "outputs": [
    {
     "data": {
      "text/plain": [
       "[30, 'grade', 80]"
      ]
     },
     "execution_count": 57,
     "metadata": {},
     "output_type": "execute_result"
    }
   ],
   "source": [
    "a.append(80)\n",
    "a"
   ]
  },
  {
   "cell_type": "code",
   "execution_count": 58,
   "metadata": {
    "colab": {
     "base_uri": "https://localhost:8080/"
    },
    "executionInfo": {
     "elapsed": 107,
     "status": "ok",
     "timestamp": 1642706951924,
     "user": {
      "displayName": "Ramchandra Rimal",
      "photoUrl": "https://lh3.googleusercontent.com/a-/AOh14GiAeFifdymzS1jIfl4sZadq2W2j0_A8iIfdPLTJwg=s64",
      "userId": "02334418294935870107"
     },
     "user_tz": 360
    },
    "id": "gcp7gz6Np3sL",
    "outputId": "3b7e5c06-d271-488d-fe41-3c1a98c60f33"
   },
   "outputs": [
    {
     "data": {
      "text/plain": [
       "[70, 'grade', 80]"
      ]
     },
     "execution_count": 58,
     "metadata": {},
     "output_type": "execute_result"
    }
   ],
   "source": [
    "a[0] = 70 # Assign the first value in the list to 70\n",
    "a"
   ]
  },
  {
   "cell_type": "code",
   "execution_count": 59,
   "metadata": {
    "executionInfo": {
     "elapsed": 119,
     "status": "ok",
     "timestamp": 1642706965432,
     "user": {
      "displayName": "Ramchandra Rimal",
      "photoUrl": "https://lh3.googleusercontent.com/a-/AOh14GiAeFifdymzS1jIfl4sZadq2W2j0_A8iIfdPLTJwg=s64",
      "userId": "02334418294935870107"
     },
     "user_tz": 360
    },
    "id": "krAW5hBIp3sO"
   },
   "outputs": [],
   "source": [
    "\n",
    "L = [123, 'spam', 1.23]\n"
   ]
  },
  {
   "cell_type": "code",
   "execution_count": 60,
   "metadata": {
    "colab": {
     "base_uri": "https://localhost:8080/"
    },
    "executionInfo": {
     "elapsed": 114,
     "status": "ok",
     "timestamp": 1642706971508,
     "user": {
      "displayName": "Ramchandra Rimal",
      "photoUrl": "https://lh3.googleusercontent.com/a-/AOh14GiAeFifdymzS1jIfl4sZadq2W2j0_A8iIfdPLTJwg=s64",
      "userId": "02334418294935870107"
     },
     "user_tz": 360
    },
    "id": "krF4Z5Qrp3sP",
    "outputId": "42ea85c5-99f5-4b5c-b71e-d44913006149"
   },
   "outputs": [
    {
     "data": {
      "text/plain": [
       "['spam', 1.23]"
      ]
     },
     "execution_count": 60,
     "metadata": {},
     "output_type": "execute_result"
    }
   ],
   "source": [
    "del(L[0]) # it changes original variable too\n",
    "\n",
    "L"
   ]
  },
  {
   "cell_type": "code",
   "execution_count": 61,
   "metadata": {
    "colab": {
     "base_uri": "https://localhost:8080/"
    },
    "executionInfo": {
     "elapsed": 136,
     "status": "ok",
     "timestamp": 1642706997373,
     "user": {
      "displayName": "Ramchandra Rimal",
      "photoUrl": "https://lh3.googleusercontent.com/a-/AOh14GiAeFifdymzS1jIfl4sZadq2W2j0_A8iIfdPLTJwg=s64",
      "userId": "02334418294935870107"
     },
     "user_tz": 360
    },
    "id": "5RuqWkyep3sV",
    "outputId": "00e8caf7-a947-4f2d-e3b5-90032ed5d3e6"
   },
   "outputs": [
    {
     "data": {
      "text/plain": [
       "['aa', 'bb', 'cc']"
      ]
     },
     "execution_count": 61,
     "metadata": {},
     "output_type": "execute_result"
    }
   ],
   "source": [
    "\n",
    "M = [ 'bb', 'aa', 'cc']\n",
    "M.sort() # it changes  original variable too\n",
    "M "
   ]
  },
  {
   "cell_type": "code",
   "execution_count": 62,
   "metadata": {
    "colab": {
     "base_uri": "https://localhost:8080/"
    },
    "executionInfo": {
     "elapsed": 123,
     "status": "ok",
     "timestamp": 1642707006173,
     "user": {
      "displayName": "Ramchandra Rimal",
      "photoUrl": "https://lh3.googleusercontent.com/a-/AOh14GiAeFifdymzS1jIfl4sZadq2W2j0_A8iIfdPLTJwg=s64",
      "userId": "02334418294935870107"
     },
     "user_tz": 360
    },
    "id": "G_wbTsFYp3sY",
    "outputId": "64993b3c-a057-4f63-f770-5448fe480f1e"
   },
   "outputs": [
    {
     "data": {
      "text/plain": [
       "['cc', 'bb', 'aa']"
      ]
     },
     "execution_count": 62,
     "metadata": {},
     "output_type": "execute_result"
    }
   ],
   "source": [
    "M.reverse() #it changes original variable too\n",
    "M "
   ]
  },
  {
   "cell_type": "code",
   "execution_count": 63,
   "metadata": {
    "colab": {
     "base_uri": "https://localhost:8080/"
    },
    "executionInfo": {
     "elapsed": 124,
     "status": "ok",
     "timestamp": 1642707010960,
     "user": {
      "displayName": "Ramchandra Rimal",
      "photoUrl": "https://lh3.googleusercontent.com/a-/AOh14GiAeFifdymzS1jIfl4sZadq2W2j0_A8iIfdPLTJwg=s64",
      "userId": "02334418294935870107"
     },
     "user_tz": 360
    },
    "id": "q1S6bNyvp3sb",
    "outputId": "027edc8e-3087-4f8b-9d9a-f0517393dcd1"
   },
   "outputs": [
    {
     "data": {
      "text/plain": [
       "['cc', 'bb', 'aa']"
      ]
     },
     "execution_count": 63,
     "metadata": {},
     "output_type": "execute_result"
    }
   ],
   "source": [
    "N = M.copy()\n",
    "N"
   ]
  },
  {
   "cell_type": "code",
   "execution_count": 64,
   "metadata": {
    "colab": {
     "base_uri": "https://localhost:8080/"
    },
    "executionInfo": {
     "elapsed": 125,
     "status": "ok",
     "timestamp": 1642707024369,
     "user": {
      "displayName": "Ramchandra Rimal",
      "photoUrl": "https://lh3.googleusercontent.com/a-/AOh14GiAeFifdymzS1jIfl4sZadq2W2j0_A8iIfdPLTJwg=s64",
      "userId": "02334418294935870107"
     },
     "user_tz": 360
    },
    "id": "QGXtIMv1p3sd",
    "outputId": "60d939e7-aabf-4383-de55-5c52cee820db"
   },
   "outputs": [
    {
     "data": {
      "text/plain": [
       "[]"
      ]
     },
     "execution_count": 64,
     "metadata": {},
     "output_type": "execute_result"
    }
   ],
   "source": [
    "N.clear()\n",
    "N"
   ]
  },
  {
   "cell_type": "code",
   "execution_count": 65,
   "metadata": {
    "colab": {
     "base_uri": "https://localhost:8080/"
    },
    "executionInfo": {
     "elapsed": 123,
     "status": "ok",
     "timestamp": 1642707034190,
     "user": {
      "displayName": "Ramchandra Rimal",
      "photoUrl": "https://lh3.googleusercontent.com/a-/AOh14GiAeFifdymzS1jIfl4sZadq2W2j0_A8iIfdPLTJwg=s64",
      "userId": "02334418294935870107"
     },
     "user_tz": 360
    },
    "id": "8sMYwwzop3sf",
    "outputId": "49e7323a-2d40-4307-a265-04de1efd6f4e"
   },
   "outputs": [
    {
     "data": {
      "text/plain": [
       "['bb', 'aa']"
      ]
     },
     "execution_count": 65,
     "metadata": {},
     "output_type": "execute_result"
    }
   ],
   "source": [
    "M.remove('cc')\n",
    "M"
   ]
  },
  {
   "cell_type": "code",
   "execution_count": 66,
   "metadata": {
    "colab": {
     "base_uri": "https://localhost:8080/"
    },
    "executionInfo": {
     "elapsed": 112,
     "status": "ok",
     "timestamp": 1642707042262,
     "user": {
      "displayName": "Ramchandra Rimal",
      "photoUrl": "https://lh3.googleusercontent.com/a-/AOh14GiAeFifdymzS1jIfl4sZadq2W2j0_A8iIfdPLTJwg=s64",
      "userId": "02334418294935870107"
     },
     "user_tz": 360
    },
    "id": "7QlHjwH3p3si",
    "outputId": "803533f7-b095-417c-95e8-786f15c3eed8"
   },
   "outputs": [
    {
     "data": {
      "text/plain": [
       "['cc', 'bb', 'aa']"
      ]
     },
     "execution_count": 66,
     "metadata": {},
     "output_type": "execute_result"
    }
   ],
   "source": [
    "M.insert(0,\"cc\")\n",
    "M"
   ]
  },
  {
   "cell_type": "markdown",
   "metadata": {
    "id": "jZkq8MZep3sn"
   },
   "source": [
    "#### **List Iterations and Comprehensions**"
   ]
  },
  {
   "cell_type": "code",
   "execution_count": 67,
   "metadata": {
    "colab": {
     "base_uri": "https://localhost:8080/"
    },
    "executionInfo": {
     "elapsed": 138,
     "status": "ok",
     "timestamp": 1642707085185,
     "user": {
      "displayName": "Ramchandra Rimal",
      "photoUrl": "https://lh3.googleusercontent.com/a-/AOh14GiAeFifdymzS1jIfl4sZadq2W2j0_A8iIfdPLTJwg=s64",
      "userId": "02334418294935870107"
     },
     "user_tz": 360
    },
    "id": "KYNo-azhp3so",
    "outputId": "0e6a656b-a346-4382-8934-75de7bedcc38"
   },
   "outputs": [
    {
     "data": {
      "text/plain": [
       "True"
      ]
     },
     "execution_count": 67,
     "metadata": {},
     "output_type": "execute_result"
    }
   ],
   "source": [
    "1 in  [1,2,3] # checking for list membership\n"
   ]
  },
  {
   "cell_type": "code",
   "execution_count": 68,
   "metadata": {
    "colab": {
     "base_uri": "https://localhost:8080/"
    },
    "executionInfo": {
     "elapsed": 131,
     "status": "ok",
     "timestamp": 1642707091095,
     "user": {
      "displayName": "Ramchandra Rimal",
      "photoUrl": "https://lh3.googleusercontent.com/a-/AOh14GiAeFifdymzS1jIfl4sZadq2W2j0_A8iIfdPLTJwg=s64",
      "userId": "02334418294935870107"
     },
     "user_tz": 360
    },
    "id": "f8vxABqop3sq",
    "outputId": "5cb5f8dc-9f02-4faf-a7e4-55333fb60dd1"
   },
   "outputs": [
    {
     "data": {
      "text/plain": [
       "False"
      ]
     },
     "execution_count": 68,
     "metadata": {},
     "output_type": "execute_result"
    }
   ],
   "source": [
    "0 in [1,5,9] \n"
   ]
  },
  {
   "cell_type": "code",
   "execution_count": 69,
   "metadata": {
    "colab": {
     "base_uri": "https://localhost:8080/"
    },
    "executionInfo": {
     "elapsed": 152,
     "status": "ok",
     "timestamp": 1642707114116,
     "user": {
      "displayName": "Ramchandra Rimal",
      "photoUrl": "https://lh3.googleusercontent.com/a-/AOh14GiAeFifdymzS1jIfl4sZadq2W2j0_A8iIfdPLTJwg=s64",
      "userId": "02334418294935870107"
     },
     "user_tz": 360
    },
    "id": "kSIFaGYwp3st",
    "outputId": "6b72d81f-88a1-4f4b-ec7c-5fbf012a4b7f"
   },
   "outputs": [
    {
     "name": "stdout",
     "output_type": "stream",
     "text": [
      "1\n",
      "2\n",
      "3\n"
     ]
    }
   ],
   "source": [
    "for x in [1,2,3]: # basic loop operation\n",
    "    print(x)\n",
    "    "
   ]
  },
  {
   "cell_type": "code",
   "execution_count": 70,
   "metadata": {
    "executionInfo": {
     "elapsed": 102,
     "status": "ok",
     "timestamp": 1642707141329,
     "user": {
      "displayName": "Ramchandra Rimal",
      "photoUrl": "https://lh3.googleusercontent.com/a-/AOh14GiAeFifdymzS1jIfl4sZadq2W2j0_A8iIfdPLTJwg=s64",
      "userId": "02334418294935870107"
     },
     "user_tz": 360
    },
    "id": "ed7gKDN1p3sw"
   },
   "outputs": [],
   "source": [
    "squares = [x**2 for x in [1,2,4]] # list comprehensions"
   ]
  },
  {
   "cell_type": "code",
   "execution_count": 71,
   "metadata": {
    "colab": {
     "base_uri": "https://localhost:8080/"
    },
    "executionInfo": {
     "elapsed": 103,
     "status": "ok",
     "timestamp": 1642707148231,
     "user": {
      "displayName": "Ramchandra Rimal",
      "photoUrl": "https://lh3.googleusercontent.com/a-/AOh14GiAeFifdymzS1jIfl4sZadq2W2j0_A8iIfdPLTJwg=s64",
      "userId": "02334418294935870107"
     },
     "user_tz": 360
    },
    "id": "Wrl1WfHSGwac",
    "outputId": "8019c7da-eeeb-4547-ba8c-c1c849d3df13"
   },
   "outputs": [
    {
     "data": {
      "text/plain": [
       "4"
      ]
     },
     "execution_count": 71,
     "metadata": {},
     "output_type": "execute_result"
    }
   ],
   "source": [
    "squares[1] #the second value in the list named squares"
   ]
  },
  {
   "cell_type": "code",
   "execution_count": 72,
   "metadata": {
    "colab": {
     "base_uri": "https://localhost:8080/"
    },
    "executionInfo": {
     "elapsed": 123,
     "status": "ok",
     "timestamp": 1642707154848,
     "user": {
      "displayName": "Ramchandra Rimal",
      "photoUrl": "https://lh3.googleusercontent.com/a-/AOh14GiAeFifdymzS1jIfl4sZadq2W2j0_A8iIfdPLTJwg=s64",
      "userId": "02334418294935870107"
     },
     "user_tz": 360
    },
    "id": "wnKzfXZ-Gwad",
    "outputId": "2cc56722-a046-4d21-f009-279cdbc97a2e"
   },
   "outputs": [
    {
     "data": {
      "text/plain": [
       "16"
      ]
     },
     "execution_count": 72,
     "metadata": {},
     "output_type": "execute_result"
    }
   ],
   "source": [
    "squares[2]"
   ]
  },
  {
   "cell_type": "markdown",
   "metadata": {
    "id": "bLFjhP0Xp3s2"
   },
   "source": [
    "#### **Nested Lists and Slicing**"
   ]
  },
  {
   "cell_type": "code",
   "execution_count": 73,
   "metadata": {
    "colab": {
     "base_uri": "https://localhost:8080/"
    },
    "executionInfo": {
     "elapsed": 118,
     "status": "ok",
     "timestamp": 1642707178293,
     "user": {
      "displayName": "Ramchandra Rimal",
      "photoUrl": "https://lh3.googleusercontent.com/a-/AOh14GiAeFifdymzS1jIfl4sZadq2W2j0_A8iIfdPLTJwg=s64",
      "userId": "02334418294935870107"
     },
     "user_tz": 360
    },
    "id": "_SieT2mVp3s2",
    "outputId": "253735c8-3d85-4852-fea4-00cbfc0818ad"
   },
   "outputs": [
    {
     "data": {
      "text/plain": [
       "[[1, 2, 3], [4, 5, 6], [7, 8, 9]]"
      ]
     },
     "execution_count": 73,
     "metadata": {},
     "output_type": "execute_result"
    }
   ],
   "source": [
    "matrix = [[1,2,3], [4,5,6],[7,8,9]]\n",
    "matrix\n"
   ]
  },
  {
   "cell_type": "code",
   "execution_count": 74,
   "metadata": {
    "colab": {
     "base_uri": "https://localhost:8080/"
    },
    "executionInfo": {
     "elapsed": 106,
     "status": "ok",
     "timestamp": 1642707209792,
     "user": {
      "displayName": "Ramchandra Rimal",
      "photoUrl": "https://lh3.googleusercontent.com/a-/AOh14GiAeFifdymzS1jIfl4sZadq2W2j0_A8iIfdPLTJwg=s64",
      "userId": "02334418294935870107"
     },
     "user_tz": 360
    },
    "id": "h8NkK7Ufp3s5",
    "outputId": "39700e10-238a-4046-ea2b-999fc42aabe8"
   },
   "outputs": [
    {
     "data": {
      "text/plain": [
       "[4, 5, 6]"
      ]
     },
     "execution_count": 74,
     "metadata": {},
     "output_type": "execute_result"
    }
   ],
   "source": [
    "matrix[1]"
   ]
  },
  {
   "cell_type": "code",
   "execution_count": 75,
   "metadata": {
    "colab": {
     "base_uri": "https://localhost:8080/"
    },
    "executionInfo": {
     "elapsed": 124,
     "status": "ok",
     "timestamp": 1642707239616,
     "user": {
      "displayName": "Ramchandra Rimal",
      "photoUrl": "https://lh3.googleusercontent.com/a-/AOh14GiAeFifdymzS1jIfl4sZadq2W2j0_A8iIfdPLTJwg=s64",
      "userId": "02334418294935870107"
     },
     "user_tz": 360
    },
    "id": "gvg21J9xp3s8",
    "outputId": "ce0c9e70-54ab-43f5-cb52-2dc1932238ff"
   },
   "outputs": [
    {
     "data": {
      "text/plain": [
       "[7, 8, 9]"
      ]
     },
     "execution_count": 75,
     "metadata": {},
     "output_type": "execute_result"
    }
   ],
   "source": [
    "matrix[-1]"
   ]
  },
  {
   "cell_type": "code",
   "execution_count": 76,
   "metadata": {
    "colab": {
     "base_uri": "https://localhost:8080/"
    },
    "executionInfo": {
     "elapsed": 155,
     "status": "ok",
     "timestamp": 1642707267760,
     "user": {
      "displayName": "Ramchandra Rimal",
      "photoUrl": "https://lh3.googleusercontent.com/a-/AOh14GiAeFifdymzS1jIfl4sZadq2W2j0_A8iIfdPLTJwg=s64",
      "userId": "02334418294935870107"
     },
     "user_tz": 360
    },
    "id": "Z22QOsuQp3s-",
    "outputId": "5bad1a2e-25ff-4c6a-e8a1-3c71a8994b7e"
   },
   "outputs": [
    {
     "data": {
      "text/plain": [
       "1"
      ]
     },
     "execution_count": 76,
     "metadata": {},
     "output_type": "execute_result"
    }
   ],
   "source": [
    "matrix[0][0] # the first element of the first row of a matrix"
   ]
  },
  {
   "cell_type": "code",
   "execution_count": 77,
   "metadata": {
    "colab": {
     "base_uri": "https://localhost:8080/"
    },
    "executionInfo": {
     "elapsed": 120,
     "status": "ok",
     "timestamp": 1642707294098,
     "user": {
      "displayName": "Ramchandra Rimal",
      "photoUrl": "https://lh3.googleusercontent.com/a-/AOh14GiAeFifdymzS1jIfl4sZadq2W2j0_A8iIfdPLTJwg=s64",
      "userId": "02334418294935870107"
     },
     "user_tz": 360
    },
    "id": "ENSIPCPzeSm3",
    "outputId": "1a66671d-6c69-42f9-bcff-6b56fd85686e"
   },
   "outputs": [
    {
     "data": {
      "text/plain": [
       "6"
      ]
     },
     "execution_count": 77,
     "metadata": {},
     "output_type": "execute_result"
    }
   ],
   "source": [
    "matrix[1][2]## the 3rd element of the 2nd row of a matrix"
   ]
  },
  {
   "cell_type": "code",
   "execution_count": 78,
   "metadata": {
    "colab": {
     "base_uri": "https://localhost:8080/"
    },
    "executionInfo": {
     "elapsed": 111,
     "status": "ok",
     "timestamp": 1642707302061,
     "user": {
      "displayName": "Ramchandra Rimal",
      "photoUrl": "https://lh3.googleusercontent.com/a-/AOh14GiAeFifdymzS1jIfl4sZadq2W2j0_A8iIfdPLTJwg=s64",
      "userId": "02334418294935870107"
     },
     "user_tz": 360
    },
    "id": "tOeT5Rfmp3tB",
    "outputId": "076fd973-a773-470c-fe82-7509501e69fc"
   },
   "outputs": [
    {
     "data": {
      "text/plain": [
       "7"
      ]
     },
     "execution_count": 78,
     "metadata": {},
     "output_type": "execute_result"
    }
   ],
   "source": [
    "matrix[2][0] ## the first element of the third row of a matrix"
   ]
  },
  {
   "cell_type": "code",
   "execution_count": 79,
   "metadata": {
    "colab": {
     "base_uri": "https://localhost:8080/"
    },
    "executionInfo": {
     "elapsed": 120,
     "status": "ok",
     "timestamp": 1642707310331,
     "user": {
      "displayName": "Ramchandra Rimal",
      "photoUrl": "https://lh3.googleusercontent.com/a-/AOh14GiAeFifdymzS1jIfl4sZadq2W2j0_A8iIfdPLTJwg=s64",
      "userId": "02334418294935870107"
     },
     "user_tz": 360
    },
    "id": "6YSjyLy9p3tD",
    "outputId": "97be9853-8beb-43d8-fb4a-794e66070dc9"
   },
   "outputs": [
    {
     "data": {
      "text/plain": [
       "[[1, 2, 3], [4, 5, 6], [10, 8, 9]]"
      ]
     },
     "execution_count": 79,
     "metadata": {},
     "output_type": "execute_result"
    }
   ],
   "source": [
    "matrix[2][0] = 10\n",
    "matrix"
   ]
  },
  {
   "cell_type": "code",
   "execution_count": 80,
   "metadata": {
    "colab": {
     "base_uri": "https://localhost:8080/"
    },
    "executionInfo": {
     "elapsed": 144,
     "status": "ok",
     "timestamp": 1642707328101,
     "user": {
      "displayName": "Ramchandra Rimal",
      "photoUrl": "https://lh3.googleusercontent.com/a-/AOh14GiAeFifdymzS1jIfl4sZadq2W2j0_A8iIfdPLTJwg=s64",
      "userId": "02334418294935870107"
     },
     "user_tz": 360
    },
    "id": "HgYC9AbgetqX",
    "outputId": "31319928-c898-4548-acc6-c6bb065580d5"
   },
   "outputs": [
    {
     "data": {
      "text/plain": [
       "3"
      ]
     },
     "execution_count": 80,
     "metadata": {},
     "output_type": "execute_result"
    }
   ],
   "source": [
    "len(matrix)"
   ]
  },
  {
   "cell_type": "markdown",
   "metadata": {
    "id": "dBgX4aTTp3tG"
   },
   "source": [
    "### **Tuple**\n",
    "\n",
    "Tuples are immutable lists. Pretty much anything you can do to a list that does not involve modifying it, you can do to a tuple. You specify a tuple by using parentheses (or nothing) instead of square brackets.\n"
   ]
  },
  {
   "cell_type": "code",
   "execution_count": 83,
   "metadata": {
    "colab": {
     "base_uri": "https://localhost:8080/"
    },
    "executionInfo": {
     "elapsed": 105,
     "status": "ok",
     "timestamp": 1642707357297,
     "user": {
      "displayName": "Ramchandra Rimal",
      "photoUrl": "https://lh3.googleusercontent.com/a-/AOh14GiAeFifdymzS1jIfl4sZadq2W2j0_A8iIfdPLTJwg=s64",
      "userId": "02334418294935870107"
     },
     "user_tz": 360
    },
    "id": "4cOpFqrOp3tG",
    "outputId": "fdb21c08-16ba-4b34-dabc-1df8d52dcbac"
   },
   "outputs": [
    {
     "data": {
      "text/plain": [
       "1"
      ]
     },
     "execution_count": 83,
     "metadata": {},
     "output_type": "execute_result"
    }
   ],
   "source": [
    "my_list = [1,2,3]\n",
    "my_tuple = (1,2,3)\n",
    "other_tuple = 2,7\n",
    "\n",
    "my_tuple[0]"
   ]
  },
  {
   "cell_type": "code",
   "execution_count": 84,
   "metadata": {
    "colab": {
     "base_uri": "https://localhost:8080/"
    },
    "executionInfo": {
     "elapsed": 109,
     "status": "ok",
     "timestamp": 1642707386164,
     "user": {
      "displayName": "Ramchandra Rimal",
      "photoUrl": "https://lh3.googleusercontent.com/a-/AOh14GiAeFifdymzS1jIfl4sZadq2W2j0_A8iIfdPLTJwg=s64",
      "userId": "02334418294935870107"
     },
     "user_tz": 360
    },
    "id": "1_9N5engp3tI",
    "outputId": "cb27389b-419b-48c7-e302-73beaccc4d5f"
   },
   "outputs": [
    {
     "data": {
      "text/plain": [
       "2"
      ]
     },
     "execution_count": 84,
     "metadata": {},
     "output_type": "execute_result"
    }
   ],
   "source": [
    "other_tuple[0]"
   ]
  },
  {
   "cell_type": "code",
   "execution_count": 85,
   "metadata": {
    "colab": {
     "base_uri": "https://localhost:8080/",
     "height": 165
    },
    "executionInfo": {
     "elapsed": 105,
     "status": "error",
     "timestamp": 1642707388298,
     "user": {
      "displayName": "Ramchandra Rimal",
      "photoUrl": "https://lh3.googleusercontent.com/a-/AOh14GiAeFifdymzS1jIfl4sZadq2W2j0_A8iIfdPLTJwg=s64",
      "userId": "02334418294935870107"
     },
     "user_tz": 360
    },
    "id": "_2m5lZDbp3tL",
    "outputId": "7720195f-22d6-4990-9e2c-fdaeff472254"
   },
   "outputs": [
    {
     "ename": "TypeError",
     "evalue": "'tuple' object does not support item assignment",
     "output_type": "error",
     "traceback": [
      "\u001b[0;31m---------------------------------------------------------------------------\u001b[0m",
      "\u001b[0;31mTypeError\u001b[0m                                 Traceback (most recent call last)",
      "\u001b[0;32m<ipython-input-85-11b2c2679285>\u001b[0m in \u001b[0;36m<module>\u001b[0;34m\u001b[0m\n\u001b[0;32m----> 1\u001b[0;31m \u001b[0mmy_tuple\u001b[0m\u001b[0;34m[\u001b[0m\u001b[0;36m0\u001b[0m\u001b[0;34m]\u001b[0m \u001b[0;34m=\u001b[0m \u001b[0;36m30\u001b[0m \u001b[0;31m# not possible\u001b[0m\u001b[0;34m\u001b[0m\u001b[0;34m\u001b[0m\u001b[0m\n\u001b[0m",
      "\u001b[0;31mTypeError\u001b[0m: 'tuple' object does not support item assignment"
     ]
    }
   ],
   "source": [
    "my_tuple[0] = 30 # not possible"
   ]
  },
  {
   "cell_type": "code",
   "execution_count": 86,
   "metadata": {
    "colab": {
     "base_uri": "https://localhost:8080/"
    },
    "executionInfo": {
     "elapsed": 119,
     "status": "ok",
     "timestamp": 1642707396556,
     "user": {
      "displayName": "Ramchandra Rimal",
      "photoUrl": "https://lh3.googleusercontent.com/a-/AOh14GiAeFifdymzS1jIfl4sZadq2W2j0_A8iIfdPLTJwg=s64",
      "userId": "02334418294935870107"
     },
     "user_tz": 360
    },
    "id": "ClWBJFKfp3tP",
    "outputId": "a26f72db-5dd5-46d8-bd00-6b985dae1ca0"
   },
   "outputs": [
    {
     "data": {
      "text/plain": [
       "(1, 2, 3, 3, 4, 7, 6)"
      ]
     },
     "execution_count": 86,
     "metadata": {},
     "output_type": "execute_result"
    }
   ],
   "source": [
    "my_tuple + (3,4,7,6) #concatenation of tuple"
   ]
  },
  {
   "cell_type": "markdown",
   "metadata": {
    "id": "8ov9_vaVp3tU"
   },
   "source": [
    "Tuples are a convenient way to return multiple values from functions. "
   ]
  },
  {
   "cell_type": "code",
   "execution_count": 87,
   "metadata": {
    "colab": {
     "base_uri": "https://localhost:8080/"
    },
    "executionInfo": {
     "elapsed": 171,
     "status": "ok",
     "timestamp": 1642707445650,
     "user": {
      "displayName": "Ramchandra Rimal",
      "photoUrl": "https://lh3.googleusercontent.com/a-/AOh14GiAeFifdymzS1jIfl4sZadq2W2j0_A8iIfdPLTJwg=s64",
      "userId": "02334418294935870107"
     },
     "user_tz": 360
    },
    "id": "_7LE5SXBp3tU",
    "outputId": "200d8574-0145-4dcc-be85-5f437b50373e"
   },
   "outputs": [
    {
     "data": {
      "text/plain": [
       "(11, 24)"
      ]
     },
     "execution_count": 87,
     "metadata": {},
     "output_type": "execute_result"
    }
   ],
   "source": [
    "def sum_and_product(x,y):\n",
    "    return (x+y), x*y\n",
    "s,p = sum_and_product(3,8)\n",
    "s,p\n",
    "\n"
   ]
  },
  {
   "cell_type": "markdown",
   "metadata": {
    "id": "CReEBIHFp3tW"
   },
   "source": [
    "Tuples can also be used for multiple assigment:\n"
   ]
  },
  {
   "cell_type": "code",
   "execution_count": 88,
   "metadata": {
    "executionInfo": {
     "elapsed": 144,
     "status": "ok",
     "timestamp": 1642707459516,
     "user": {
      "displayName": "Ramchandra Rimal",
      "photoUrl": "https://lh3.googleusercontent.com/a-/AOh14GiAeFifdymzS1jIfl4sZadq2W2j0_A8iIfdPLTJwg=s64",
      "userId": "02334418294935870107"
     },
     "user_tz": 360
    },
    "id": "FCgRA0y1p3tX"
   },
   "outputs": [],
   "source": [
    "x,y = 1,2\n",
    "x,y = y,x # easy way to swap variables in python!\n"
   ]
  },
  {
   "cell_type": "code",
   "execution_count": 89,
   "metadata": {
    "colab": {
     "base_uri": "https://localhost:8080/"
    },
    "executionInfo": {
     "elapsed": 128,
     "status": "ok",
     "timestamp": 1642707463805,
     "user": {
      "displayName": "Ramchandra Rimal",
      "photoUrl": "https://lh3.googleusercontent.com/a-/AOh14GiAeFifdymzS1jIfl4sZadq2W2j0_A8iIfdPLTJwg=s64",
      "userId": "02334418294935870107"
     },
     "user_tz": 360
    },
    "id": "ss4N-zUip3tY",
    "outputId": "253598b2-81f4-4fdc-c03b-4e12293edb58"
   },
   "outputs": [
    {
     "data": {
      "text/plain": [
       "tuple"
      ]
     },
     "execution_count": 89,
     "metadata": {},
     "output_type": "execute_result"
    }
   ],
   "source": [
    "T = () # an empty tuple\n",
    "type(T)"
   ]
  },
  {
   "cell_type": "code",
   "execution_count": 90,
   "metadata": {
    "colab": {
     "base_uri": "https://localhost:8080/"
    },
    "executionInfo": {
     "elapsed": 191,
     "status": "ok",
     "timestamp": 1642707467863,
     "user": {
      "displayName": "Ramchandra Rimal",
      "photoUrl": "https://lh3.googleusercontent.com/a-/AOh14GiAeFifdymzS1jIfl4sZadq2W2j0_A8iIfdPLTJwg=s64",
      "userId": "02334418294935870107"
     },
     "user_tz": 360
    },
    "id": "SZrhmceJp3ta",
    "outputId": "ef1d04a2-be6e-473d-8a37-79a4e2f43484"
   },
   "outputs": [
    {
     "data": {
      "text/plain": [
       "(0, 'Ni', 1.2, 3)"
      ]
     },
     "execution_count": 90,
     "metadata": {},
     "output_type": "execute_result"
    }
   ],
   "source": [
    "T = (0, \"Ni\", 1.2, 3)\n",
    "T"
   ]
  },
  {
   "cell_type": "code",
   "execution_count": 91,
   "metadata": {
    "colab": {
     "base_uri": "https://localhost:8080/"
    },
    "executionInfo": {
     "elapsed": 106,
     "status": "ok",
     "timestamp": 1642707472123,
     "user": {
      "displayName": "Ramchandra Rimal",
      "photoUrl": "https://lh3.googleusercontent.com/a-/AOh14GiAeFifdymzS1jIfl4sZadq2W2j0_A8iIfdPLTJwg=s64",
      "userId": "02334418294935870107"
     },
     "user_tz": 360
    },
    "id": "hyk0kp5fp3td",
    "outputId": "06ac5e42-2e9b-48ba-d052-cdc2de46e811"
   },
   "outputs": [
    {
     "data": {
      "text/plain": [
       "(0, 'Ni', 1.2, 3, 0, 'Ni', 1.2, 3, 0, 'Ni', 1.2, 3)"
      ]
     },
     "execution_count": 91,
     "metadata": {},
     "output_type": "execute_result"
    }
   ],
   "source": [
    "T*3"
   ]
  },
  {
   "cell_type": "code",
   "execution_count": 92,
   "metadata": {
    "colab": {
     "base_uri": "https://localhost:8080/"
    },
    "executionInfo": {
     "elapsed": 113,
     "status": "ok",
     "timestamp": 1642707473302,
     "user": {
      "displayName": "Ramchandra Rimal",
      "photoUrl": "https://lh3.googleusercontent.com/a-/AOh14GiAeFifdymzS1jIfl4sZadq2W2j0_A8iIfdPLTJwg=s64",
      "userId": "02334418294935870107"
     },
     "user_tz": 360
    },
    "id": "u99QBTzSp3tf",
    "outputId": "0b349264-4dab-4ff0-f872-de289e0c8bf8"
   },
   "outputs": [
    {
     "data": {
      "text/plain": [
       "0"
      ]
     },
     "execution_count": 92,
     "metadata": {},
     "output_type": "execute_result"
    }
   ],
   "source": [
    "T[0]"
   ]
  },
  {
   "cell_type": "code",
   "execution_count": 93,
   "metadata": {
    "colab": {
     "base_uri": "https://localhost:8080/"
    },
    "executionInfo": {
     "elapsed": 108,
     "status": "ok",
     "timestamp": 1642707474313,
     "user": {
      "displayName": "Ramchandra Rimal",
      "photoUrl": "https://lh3.googleusercontent.com/a-/AOh14GiAeFifdymzS1jIfl4sZadq2W2j0_A8iIfdPLTJwg=s64",
      "userId": "02334418294935870107"
     },
     "user_tz": 360
    },
    "id": "uTUzvVyLp3th",
    "outputId": "64a6d2a1-32ce-4e57-c008-a5fac2370edb"
   },
   "outputs": [
    {
     "data": {
      "text/plain": [
       "4.2"
      ]
     },
     "execution_count": 93,
     "metadata": {},
     "output_type": "execute_result"
    }
   ],
   "source": [
    "T[2] + T[3]"
   ]
  },
  {
   "cell_type": "code",
   "execution_count": 94,
   "metadata": {
    "colab": {
     "base_uri": "https://localhost:8080/"
    },
    "executionInfo": {
     "elapsed": 117,
     "status": "ok",
     "timestamp": 1642707475333,
     "user": {
      "displayName": "Ramchandra Rimal",
      "photoUrl": "https://lh3.googleusercontent.com/a-/AOh14GiAeFifdymzS1jIfl4sZadq2W2j0_A8iIfdPLTJwg=s64",
      "userId": "02334418294935870107"
     },
     "user_tz": 360
    },
    "id": "gdasQ2xdp3tj",
    "outputId": "45078b63-5424-44ff-b6b6-4a2d28b37f37"
   },
   "outputs": [
    {
     "name": "stdout",
     "output_type": "stream",
     "text": [
      "0\n",
      "Ni\n",
      "1.2\n",
      "3\n"
     ]
    }
   ],
   "source": [
    "for i in T: \n",
    "  print(i)"
   ]
  },
  {
   "cell_type": "code",
   "execution_count": 95,
   "metadata": {
    "colab": {
     "base_uri": "https://localhost:8080/"
    },
    "executionInfo": {
     "elapsed": 123,
     "status": "ok",
     "timestamp": 1642707482639,
     "user": {
      "displayName": "Ramchandra Rimal",
      "photoUrl": "https://lh3.googleusercontent.com/a-/AOh14GiAeFifdymzS1jIfl4sZadq2W2j0_A8iIfdPLTJwg=s64",
      "userId": "02334418294935870107"
     },
     "user_tz": 360
    },
    "id": "93fxIlBYp3tl",
    "outputId": "b01976da-cbd1-4df8-b10a-a978974708b9"
   },
   "outputs": [
    {
     "data": {
      "text/plain": [
       "[0, 'NiNi', 2.4, 6]"
      ]
     },
     "execution_count": 95,
     "metadata": {},
     "output_type": "execute_result"
    }
   ],
   "source": [
    "[x*2 for x in T]"
   ]
  },
  {
   "cell_type": "code",
   "execution_count": null,
   "metadata": {
    "id": "NyE1y-gvp3tr"
   },
   "outputs": [],
   "source": []
  },
  {
   "cell_type": "markdown",
   "metadata": {
    "id": "jmeWpfQpp3tt"
   },
   "source": [
    "### **Dictionary**\n",
    "\n",
    "Dictionaries are unordered and changeable collections of Python objects. In Python, dictionaries are written with curly brackets, and they have **keys** and **values**."
   ]
  },
  {
   "cell_type": "code",
   "execution_count": 96,
   "metadata": {
    "colab": {
     "base_uri": "https://localhost:8080/"
    },
    "executionInfo": {
     "elapsed": 129,
     "status": "ok",
     "timestamp": 1642707555761,
     "user": {
      "displayName": "Ramchandra Rimal",
      "photoUrl": "https://lh3.googleusercontent.com/a-/AOh14GiAeFifdymzS1jIfl4sZadq2W2j0_A8iIfdPLTJwg=s64",
      "userId": "02334418294935870107"
     },
     "user_tz": 360
    },
    "id": "LbF8V95Cp3tu",
    "outputId": "ca8d5e3b-70c5-476d-acc2-97e14a5fa9cc"
   },
   "outputs": [
    {
     "data": {
      "text/plain": [
       "{'name': 'John', 'grade': 90, 'subject': ' Calculus III'}"
      ]
     },
     "execution_count": 96,
     "metadata": {},
     "output_type": "execute_result"
    }
   ],
   "source": [
    "my_dict = {\"name\":\"John\", \"grade\": 90, \"subject\": \" Calculus III\"}\n",
    "my_dict"
   ]
  },
  {
   "cell_type": "code",
   "execution_count": 97,
   "metadata": {
    "colab": {
     "base_uri": "https://localhost:8080/"
    },
    "executionInfo": {
     "elapsed": 139,
     "status": "ok",
     "timestamp": 1642707565220,
     "user": {
      "displayName": "Ramchandra Rimal",
      "photoUrl": "https://lh3.googleusercontent.com/a-/AOh14GiAeFifdymzS1jIfl4sZadq2W2j0_A8iIfdPLTJwg=s64",
      "userId": "02334418294935870107"
     },
     "user_tz": 360
    },
    "id": "Uh8p8egVp3tv",
    "outputId": "fcfd7f5f-ebd1-4970-9f91-9cdb314bb85c"
   },
   "outputs": [
    {
     "data": {
      "text/plain": [
       "dict"
      ]
     },
     "execution_count": 97,
     "metadata": {},
     "output_type": "execute_result"
    }
   ],
   "source": [
    "type(my_dict)"
   ]
  },
  {
   "cell_type": "code",
   "execution_count": 98,
   "metadata": {
    "colab": {
     "base_uri": "https://localhost:8080/",
     "height": 35
    },
    "executionInfo": {
     "elapsed": 131,
     "status": "ok",
     "timestamp": 1642707589898,
     "user": {
      "displayName": "Ramchandra Rimal",
      "photoUrl": "https://lh3.googleusercontent.com/a-/AOh14GiAeFifdymzS1jIfl4sZadq2W2j0_A8iIfdPLTJwg=s64",
      "userId": "02334418294935870107"
     },
     "user_tz": 360
    },
    "id": "WTJv0memp3tx",
    "outputId": "6cc65582-5399-4d7f-8857-813e4dd48fef"
   },
   "outputs": [
    {
     "data": {
      "text/plain": [
       "'John'"
      ]
     },
     "execution_count": 98,
     "metadata": {},
     "output_type": "execute_result"
    }
   ],
   "source": [
    "my_dict[\"name\"]"
   ]
  },
  {
   "cell_type": "code",
   "execution_count": 99,
   "metadata": {
    "colab": {
     "base_uri": "https://localhost:8080/"
    },
    "executionInfo": {
     "elapsed": 124,
     "status": "ok",
     "timestamp": 1642707596512,
     "user": {
      "displayName": "Ramchandra Rimal",
      "photoUrl": "https://lh3.googleusercontent.com/a-/AOh14GiAeFifdymzS1jIfl4sZadq2W2j0_A8iIfdPLTJwg=s64",
      "userId": "02334418294935870107"
     },
     "user_tz": 360
    },
    "id": "U0dbtjJPp3tz",
    "outputId": "e9627e29-13c2-4c14-c297-02399f499e2b"
   },
   "outputs": [
    {
     "data": {
      "text/plain": [
       "dict_items([('name', 'John'), ('grade', 90), ('subject', ' Calculus III')])"
      ]
     },
     "execution_count": 99,
     "metadata": {},
     "output_type": "execute_result"
    }
   ],
   "source": [
    "my_dict.items()"
   ]
  },
  {
   "cell_type": "code",
   "execution_count": 100,
   "metadata": {
    "colab": {
     "base_uri": "https://localhost:8080/"
    },
    "executionInfo": {
     "elapsed": 136,
     "status": "ok",
     "timestamp": 1642707608879,
     "user": {
      "displayName": "Ramchandra Rimal",
      "photoUrl": "https://lh3.googleusercontent.com/a-/AOh14GiAeFifdymzS1jIfl4sZadq2W2j0_A8iIfdPLTJwg=s64",
      "userId": "02334418294935870107"
     },
     "user_tz": 360
    },
    "id": "JsPMLswgp3t1",
    "outputId": "7969d624-c96f-41cf-d522-d0d74a648205"
   },
   "outputs": [
    {
     "data": {
      "text/plain": [
       "dict_keys(['name', 'grade', 'subject'])"
      ]
     },
     "execution_count": 100,
     "metadata": {},
     "output_type": "execute_result"
    }
   ],
   "source": [
    "my_dict.keys()"
   ]
  },
  {
   "cell_type": "code",
   "execution_count": 101,
   "metadata": {
    "colab": {
     "base_uri": "https://localhost:8080/"
    },
    "executionInfo": {
     "elapsed": 121,
     "status": "ok",
     "timestamp": 1642707647631,
     "user": {
      "displayName": "Ramchandra Rimal",
      "photoUrl": "https://lh3.googleusercontent.com/a-/AOh14GiAeFifdymzS1jIfl4sZadq2W2j0_A8iIfdPLTJwg=s64",
      "userId": "02334418294935870107"
     },
     "user_tz": 360
    },
    "id": "y1RJsFs3p3t5",
    "outputId": "2e46b832-38a8-4b9c-e58c-2e47418d6a6f"
   },
   "outputs": [
    {
     "data": {
      "text/plain": [
       "dict_values(['John', 90, ' Calculus III'])"
      ]
     },
     "execution_count": 101,
     "metadata": {},
     "output_type": "execute_result"
    }
   ],
   "source": [
    "my_dict.values()"
   ]
  },
  {
   "cell_type": "code",
   "execution_count": 102,
   "metadata": {
    "colab": {
     "base_uri": "https://localhost:8080/"
    },
    "executionInfo": {
     "elapsed": 151,
     "status": "ok",
     "timestamp": 1642707673589,
     "user": {
      "displayName": "Ramchandra Rimal",
      "photoUrl": "https://lh3.googleusercontent.com/a-/AOh14GiAeFifdymzS1jIfl4sZadq2W2j0_A8iIfdPLTJwg=s64",
      "userId": "02334418294935870107"
     },
     "user_tz": 360
    },
    "id": "hawFDcEJp3t8",
    "outputId": "e2d5c95a-114a-4df3-d8e0-041a183a132f"
   },
   "outputs": [
    {
     "data": {
      "text/plain": [
       "dict"
      ]
     },
     "execution_count": 102,
     "metadata": {},
     "output_type": "execute_result"
    }
   ],
   "source": [
    "D = {} # one way to create an empty dictionary using braces\n",
    "type(D)"
   ]
  },
  {
   "cell_type": "code",
   "execution_count": 103,
   "metadata": {
    "colab": {
     "base_uri": "https://localhost:8080/"
    },
    "executionInfo": {
     "elapsed": 126,
     "status": "ok",
     "timestamp": 1642707683253,
     "user": {
      "displayName": "Ramchandra Rimal",
      "photoUrl": "https://lh3.googleusercontent.com/a-/AOh14GiAeFifdymzS1jIfl4sZadq2W2j0_A8iIfdPLTJwg=s64",
      "userId": "02334418294935870107"
     },
     "user_tz": 360
    },
    "id": "1bUJq3Spp3t_",
    "outputId": "4fecace7-d7df-4f6d-d8c4-37da233a37fd"
   },
   "outputs": [
    {
     "data": {
      "text/plain": [
       "dict"
      ]
     },
     "execution_count": 103,
     "metadata": {},
     "output_type": "execute_result"
    }
   ],
   "source": [
    "D = dict() # another way to create an empty dictionary\n",
    "type(D)"
   ]
  },
  {
   "cell_type": "code",
   "execution_count": 104,
   "metadata": {
    "colab": {
     "base_uri": "https://localhost:8080/"
    },
    "executionInfo": {
     "elapsed": 148,
     "status": "ok",
     "timestamp": 1642707730188,
     "user": {
      "displayName": "Ramchandra Rimal",
      "photoUrl": "https://lh3.googleusercontent.com/a-/AOh14GiAeFifdymzS1jIfl4sZadq2W2j0_A8iIfdPLTJwg=s64",
      "userId": "02334418294935870107"
     },
     "user_tz": 360
    },
    "id": "_W9dAhjgp3uA",
    "outputId": "7bc76ecc-2f7f-4467-f772-3eebc792801a"
   },
   "outputs": [
    {
     "data": {
      "text/plain": [
       "{'name': 'Josh', 'job': 'Data engineer', 'age': 20}"
      ]
     },
     "execution_count": 104,
     "metadata": {},
     "output_type": "execute_result"
    }
   ],
   "source": [
    "D['name'] = \"Josh\"\n",
    "D['job'] = \"Data engineer\"\n",
    "D['age'] = 20\n",
    "D"
   ]
  },
  {
   "cell_type": "code",
   "execution_count": 105,
   "metadata": {
    "colab": {
     "base_uri": "https://localhost:8080/"
    },
    "executionInfo": {
     "elapsed": 122,
     "status": "ok",
     "timestamp": 1642707731610,
     "user": {
      "displayName": "Ramchandra Rimal",
      "photoUrl": "https://lh3.googleusercontent.com/a-/AOh14GiAeFifdymzS1jIfl4sZadq2W2j0_A8iIfdPLTJwg=s64",
      "userId": "02334418294935870107"
     },
     "user_tz": 360
    },
    "id": "oIpS8wQap3uK",
    "outputId": "04ca437c-a31b-447e-85d2-4ad29e920faa"
   },
   "outputs": [
    {
     "name": "stdout",
     "output_type": "stream",
     "text": [
      "name\n",
      "job\n",
      "age\n"
     ]
    }
   ],
   "source": [
    "for k in D.keys(): \n",
    "    print(k)"
   ]
  },
  {
   "cell_type": "code",
   "execution_count": 106,
   "metadata": {
    "colab": {
     "base_uri": "https://localhost:8080/"
    },
    "executionInfo": {
     "elapsed": 179,
     "status": "ok",
     "timestamp": 1642707751367,
     "user": {
      "displayName": "Ramchandra Rimal",
      "photoUrl": "https://lh3.googleusercontent.com/a-/AOh14GiAeFifdymzS1jIfl4sZadq2W2j0_A8iIfdPLTJwg=s64",
      "userId": "02334418294935870107"
     },
     "user_tz": 360
    },
    "id": "vPF94y9fp3uM",
    "outputId": "0afdc3ba-13af-44c2-daf2-146a7a7cb0b4"
   },
   "outputs": [
    {
     "name": "stdout",
     "output_type": "stream",
     "text": [
      "name Josh\n",
      "job Data engineer\n",
      "age 20\n"
     ]
    }
   ],
   "source": [
    "for k,v in D.items():\n",
    "    print(k,v)"
   ]
  },
  {
   "cell_type": "code",
   "execution_count": null,
   "metadata": {
    "id": "zRGvpsRPp3uO"
   },
   "outputs": [],
   "source": []
  },
  {
   "cell_type": "markdown",
   "metadata": {
    "id": "yAI6wiEKp3uZ"
   },
   "source": [
    "#### **Creating Dictionay from List using Zip function**"
   ]
  },
  {
   "cell_type": "code",
   "execution_count": 107,
   "metadata": {
    "colab": {
     "base_uri": "https://localhost:8080/"
    },
    "executionInfo": {
     "elapsed": 139,
     "status": "ok",
     "timestamp": 1642707756600,
     "user": {
      "displayName": "Ramchandra Rimal",
      "photoUrl": "https://lh3.googleusercontent.com/a-/AOh14GiAeFifdymzS1jIfl4sZadq2W2j0_A8iIfdPLTJwg=s64",
      "userId": "02334418294935870107"
     },
     "user_tz": 360
    },
    "id": "kfUzKKOap3uZ",
    "outputId": "668ea98d-ddd0-45c4-b500-d0b4eebda652"
   },
   "outputs": [
    {
     "data": {
      "text/plain": [
       "{'a': 1, 'b': 2, 'c': 3}"
      ]
     },
     "execution_count": 107,
     "metadata": {},
     "output_type": "execute_result"
    }
   ],
   "source": [
    "dict(zip(['a', 'b', 'c'], [1,2,3])) # zip together keys and values"
   ]
  },
  {
   "cell_type": "code",
   "execution_count": 108,
   "metadata": {
    "colab": {
     "base_uri": "https://localhost:8080/"
    },
    "executionInfo": {
     "elapsed": 2,
     "status": "ok",
     "timestamp": 1642707757155,
     "user": {
      "displayName": "Ramchandra Rimal",
      "photoUrl": "https://lh3.googleusercontent.com/a-/AOh14GiAeFifdymzS1jIfl4sZadq2W2j0_A8iIfdPLTJwg=s64",
      "userId": "02334418294935870107"
     },
     "user_tz": 360
    },
    "id": "dwkS0ewbp3ue",
    "outputId": "10ffd9b1-d428-4339-850e-274b218c2055"
   },
   "outputs": [
    {
     "data": {
      "text/plain": [
       "{'a': 1, 'b': 2, 'c': 3}"
      ]
     },
     "execution_count": 108,
     "metadata": {},
     "output_type": "execute_result"
    }
   ],
   "source": [
    "D = {k:v for (k,v) in zip(['a','b', 'c'], [1,2,3])}\n",
    "D\n"
   ]
  },
  {
   "cell_type": "markdown",
   "metadata": {
    "id": "Ehljq1j7p3uf"
   },
   "source": [
    "## **Writing User Defined Functions in Python**\n",
    "Creating new functions in Python is easy. We use function to maximize code reuse and minimize redundancy.\n"
   ]
  },
  {
   "cell_type": "code",
   "execution_count": 109,
   "metadata": {
    "colab": {
     "base_uri": "https://localhost:8080/"
    },
    "executionInfo": {
     "elapsed": 106,
     "status": "ok",
     "timestamp": 1642707793297,
     "user": {
      "displayName": "Ramchandra Rimal",
      "photoUrl": "https://lh3.googleusercontent.com/a-/AOh14GiAeFifdymzS1jIfl4sZadq2W2j0_A8iIfdPLTJwg=s64",
      "userId": "02334418294935870107"
     },
     "user_tz": 360
    },
    "id": "-x2hw-23p3ug",
    "outputId": "381f0b7d-ac34-4939-f4e0-6210f7a43c00"
   },
   "outputs": [
    {
     "data": {
      "text/plain": [
       "240"
      ]
     },
     "execution_count": 109,
     "metadata": {},
     "output_type": "execute_result"
    }
   ],
   "source": [
    "def find_sum(x,y): # function definition\n",
    "    return x+y\n",
    "\n",
    "find_sum(40,200) # function calls"
   ]
  },
  {
   "cell_type": "code",
   "execution_count": 110,
   "metadata": {
    "colab": {
     "base_uri": "https://localhost:8080/"
    },
    "executionInfo": {
     "elapsed": 128,
     "status": "ok",
     "timestamp": 1642707812492,
     "user": {
      "displayName": "Ramchandra Rimal",
      "photoUrl": "https://lh3.googleusercontent.com/a-/AOh14GiAeFifdymzS1jIfl4sZadq2W2j0_A8iIfdPLTJwg=s64",
      "userId": "02334418294935870107"
     },
     "user_tz": 360
    },
    "id": "DHE_Ou4TGwaj",
    "outputId": "3c517ee3-8abd-4de2-8d9a-a2322dbc0767"
   },
   "outputs": [
    {
     "data": {
      "text/plain": [
       "160"
      ]
     },
     "execution_count": 110,
     "metadata": {},
     "output_type": "execute_result"
    }
   ],
   "source": [
    "def find_AbsDiff(x,y): # function definition\n",
    "    return abs(x-y)\n",
    "\n",
    "find_AbsDiff(40,200) # function calls"
   ]
  },
  {
   "cell_type": "code",
   "execution_count": 111,
   "metadata": {
    "executionInfo": {
     "elapsed": 126,
     "status": "ok",
     "timestamp": 1642707813963,
     "user": {
      "displayName": "Ramchandra Rimal",
      "photoUrl": "https://lh3.googleusercontent.com/a-/AOh14GiAeFifdymzS1jIfl4sZadq2W2j0_A8iIfdPLTJwg=s64",
      "userId": "02334418294935870107"
     },
     "user_tz": 360
    },
    "id": "QCoDhIxep3ui"
   },
   "outputs": [],
   "source": [
    "def fahrenheit(T):\n",
    "    return (9/5)*T + 32\n",
    "\n",
    "def celsius(T):\n",
    "    return (5/9)*(T-32)\n"
   ]
  },
  {
   "cell_type": "code",
   "execution_count": 112,
   "metadata": {
    "colab": {
     "base_uri": "https://localhost:8080/"
    },
    "executionInfo": {
     "elapsed": 2,
     "status": "ok",
     "timestamp": 1642707815303,
     "user": {
      "displayName": "Ramchandra Rimal",
      "photoUrl": "https://lh3.googleusercontent.com/a-/AOh14GiAeFifdymzS1jIfl4sZadq2W2j0_A8iIfdPLTJwg=s64",
      "userId": "02334418294935870107"
     },
     "user_tz": 360
    },
    "id": "TVO5KsLSp3uj",
    "outputId": "9fd87292-806d-4565-cbaa-967c979b09b6"
   },
   "outputs": [
    {
     "data": {
      "text/plain": [
       "0.0"
      ]
     },
     "execution_count": 112,
     "metadata": {},
     "output_type": "execute_result"
    }
   ],
   "source": [
    "celsius(32)"
   ]
  },
  {
   "cell_type": "code",
   "execution_count": 113,
   "metadata": {
    "colab": {
     "base_uri": "https://localhost:8080/"
    },
    "executionInfo": {
     "elapsed": 117,
     "status": "ok",
     "timestamp": 1642707816378,
     "user": {
      "displayName": "Ramchandra Rimal",
      "photoUrl": "https://lh3.googleusercontent.com/a-/AOh14GiAeFifdymzS1jIfl4sZadq2W2j0_A8iIfdPLTJwg=s64",
      "userId": "02334418294935870107"
     },
     "user_tz": 360
    },
    "id": "QQoeE70Bp3uk",
    "outputId": "9ae7d647-e24a-46bf-90a1-890895058418"
   },
   "outputs": [
    {
     "data": {
      "text/plain": [
       "32.0"
      ]
     },
     "execution_count": 113,
     "metadata": {},
     "output_type": "execute_result"
    }
   ],
   "source": [
    "fahrenheit(0)"
   ]
  },
  {
   "cell_type": "markdown",
   "metadata": {
    "id": "BcApcM0WCISK"
   },
   "source": [
    "#### **Lambda function**\n",
    "-Usually functions are defined using the def keyword in Python, anonymous functions are defined using the lambda keyword. Hence, anonymous functions are also called lambda functions. They are syntactically restricted to a single expression."
   ]
  },
  {
   "cell_type": "code",
   "execution_count": 114,
   "metadata": {
    "executionInfo": {
     "elapsed": 113,
     "status": "ok",
     "timestamp": 1642707864507,
     "user": {
      "displayName": "Ramchandra Rimal",
      "photoUrl": "https://lh3.googleusercontent.com/a-/AOh14GiAeFifdymzS1jIfl4sZadq2W2j0_A8iIfdPLTJwg=s64",
      "userId": "02334418294935870107"
     },
     "user_tz": 360
    },
    "id": "a3U43dWPp3um"
   },
   "outputs": [],
   "source": [
    "add = lambda x, y : x + y"
   ]
  },
  {
   "cell_type": "code",
   "execution_count": 115,
   "metadata": {
    "colab": {
     "base_uri": "https://localhost:8080/"
    },
    "executionInfo": {
     "elapsed": 115,
     "status": "ok",
     "timestamp": 1642707870944,
     "user": {
      "displayName": "Ramchandra Rimal",
      "photoUrl": "https://lh3.googleusercontent.com/a-/AOh14GiAeFifdymzS1jIfl4sZadq2W2j0_A8iIfdPLTJwg=s64",
      "userId": "02334418294935870107"
     },
     "user_tz": 360
    },
    "id": "8cGOzqPgp3uo",
    "outputId": "94c31ded-1e37-4547-8119-3ca1757f5659"
   },
   "outputs": [
    {
     "data": {
      "text/plain": [
       "12"
      ]
     },
     "execution_count": 115,
     "metadata": {},
     "output_type": "execute_result"
    }
   ],
   "source": [
    "add(4,8)"
   ]
  },
  {
   "cell_type": "code",
   "execution_count": 116,
   "metadata": {
    "executionInfo": {
     "elapsed": 137,
     "status": "ok",
     "timestamp": 1642707871960,
     "user": {
      "displayName": "Ramchandra Rimal",
      "photoUrl": "https://lh3.googleusercontent.com/a-/AOh14GiAeFifdymzS1jIfl4sZadq2W2j0_A8iIfdPLTJwg=s64",
      "userId": "02334418294935870107"
     },
     "user_tz": 360
    },
    "id": "nG2whNXVp3uq"
   },
   "outputs": [],
   "source": [
    "fahrenheit =  lambda x: (9/5)*x + 32\n",
    "celsius = lambda x:  (5/9)*(x-32)\n",
    "\n"
   ]
  },
  {
   "cell_type": "code",
   "execution_count": 117,
   "metadata": {
    "colab": {
     "base_uri": "https://localhost:8080/"
    },
    "executionInfo": {
     "elapsed": 109,
     "status": "ok",
     "timestamp": 1642707876112,
     "user": {
      "displayName": "Ramchandra Rimal",
      "photoUrl": "https://lh3.googleusercontent.com/a-/AOh14GiAeFifdymzS1jIfl4sZadq2W2j0_A8iIfdPLTJwg=s64",
      "userId": "02334418294935870107"
     },
     "user_tz": 360
    },
    "id": "t7of2aAbp3us",
    "outputId": "8f1663df-a021-43b3-f2be-6a31410434cf"
   },
   "outputs": [
    {
     "data": {
      "text/plain": [
       "113.0"
      ]
     },
     "execution_count": 117,
     "metadata": {},
     "output_type": "execute_result"
    }
   ],
   "source": [
    "fahrenheit(45) # convert celsius to fahrenheit "
   ]
  },
  {
   "cell_type": "code",
   "execution_count": 118,
   "metadata": {
    "colab": {
     "base_uri": "https://localhost:8080/"
    },
    "executionInfo": {
     "elapsed": 115,
     "status": "ok",
     "timestamp": 1642707876790,
     "user": {
      "displayName": "Ramchandra Rimal",
      "photoUrl": "https://lh3.googleusercontent.com/a-/AOh14GiAeFifdymzS1jIfl4sZadq2W2j0_A8iIfdPLTJwg=s64",
      "userId": "02334418294935870107"
     },
     "user_tz": 360
    },
    "id": "H9g0iBJmp3uu",
    "outputId": "17733ed9-a308-4ff2-c2a8-ba4e95e9ba12"
   },
   "outputs": [
    {
     "data": {
      "text/plain": [
       "0.0"
      ]
     },
     "execution_count": 118,
     "metadata": {},
     "output_type": "execute_result"
    }
   ],
   "source": [
    "celsius(32) # convert  fahrenheit to celsius"
   ]
  },
  {
   "cell_type": "markdown",
   "metadata": {
    "id": "5SbEB7lwp3uw"
   },
   "source": [
    "## **Built in Math Library**\n"
   ]
  },
  {
   "cell_type": "code",
   "execution_count": 119,
   "metadata": {
    "executionInfo": {
     "elapsed": 112,
     "status": "ok",
     "timestamp": 1642707929170,
     "user": {
      "displayName": "Ramchandra Rimal",
      "photoUrl": "https://lh3.googleusercontent.com/a-/AOh14GiAeFifdymzS1jIfl4sZadq2W2j0_A8iIfdPLTJwg=s64",
      "userId": "02334418294935870107"
     },
     "user_tz": 360
    },
    "id": "ddGHjGtTp3ux"
   },
   "outputs": [],
   "source": [
    "import math\n"
   ]
  },
  {
   "cell_type": "markdown",
   "metadata": {
    "id": "5GjMYudpp3u0"
   },
   "source": [
    "\n",
    "#### **Basic Math Functions in Python**\n",
    "- fabs(x) #returns the absolute value of a number, as a float\n",
    "- ceil(x)\n",
    "- floor(x)\n",
    "- exp(x)\n",
    "- log(x)# natural logarithm\n",
    "- log10(x)\n",
    "- max(x1, x2,...)\n",
    "- pow(x, y)\n",
    "- round(x [,n]) # round to n digits from the decimal points\n",
    "- sqrt(x)\n",
    "- sin(x)\n",
    "- cos(x)\n",
    "- tan(x)\n",
    "\n",
    "\n"
   ]
  },
  {
   "cell_type": "code",
   "execution_count": 120,
   "metadata": {
    "colab": {
     "base_uri": "https://localhost:8080/"
    },
    "executionInfo": {
     "elapsed": 119,
     "status": "ok",
     "timestamp": 1642708037663,
     "user": {
      "displayName": "Ramchandra Rimal",
      "photoUrl": "https://lh3.googleusercontent.com/a-/AOh14GiAeFifdymzS1jIfl4sZadq2W2j0_A8iIfdPLTJwg=s64",
      "userId": "02334418294935870107"
     },
     "user_tz": 360
    },
    "id": "omb4_AlWp3u1",
    "outputId": "23434e38-2d01-4ac3-f2db-0754b0e23f4a"
   },
   "outputs": [
    {
     "data": {
      "text/plain": [
       "4.8"
      ]
     },
     "execution_count": 120,
     "metadata": {},
     "output_type": "execute_result"
    }
   ],
   "source": [
    "abs(-4.8)"
   ]
  },
  {
   "cell_type": "code",
   "execution_count": 121,
   "metadata": {
    "colab": {
     "base_uri": "https://localhost:8080/"
    },
    "executionInfo": {
     "elapsed": 128,
     "status": "ok",
     "timestamp": 1642708079072,
     "user": {
      "displayName": "Ramchandra Rimal",
      "photoUrl": "https://lh3.googleusercontent.com/a-/AOh14GiAeFifdymzS1jIfl4sZadq2W2j0_A8iIfdPLTJwg=s64",
      "userId": "02334418294935870107"
     },
     "user_tz": 360
    },
    "id": "vTf3b7Wqp3u3",
    "outputId": "ebb99f63-9ca6-47a2-e5d2-f172522d0230"
   },
   "outputs": [
    {
     "data": {
      "text/plain": [
       "4.0"
      ]
     },
     "execution_count": 121,
     "metadata": {},
     "output_type": "execute_result"
    }
   ],
   "source": [
    "math.fabs(-4)"
   ]
  },
  {
   "cell_type": "code",
   "execution_count": 122,
   "metadata": {
    "colab": {
     "base_uri": "https://localhost:8080/"
    },
    "executionInfo": {
     "elapsed": 152,
     "status": "ok",
     "timestamp": 1642708090377,
     "user": {
      "displayName": "Ramchandra Rimal",
      "photoUrl": "https://lh3.googleusercontent.com/a-/AOh14GiAeFifdymzS1jIfl4sZadq2W2j0_A8iIfdPLTJwg=s64",
      "userId": "02334418294935870107"
     },
     "user_tz": 360
    },
    "id": "v8r46K_6p3u5",
    "outputId": "880f9614-6c19-46b8-941a-023a0c54b864"
   },
   "outputs": [
    {
     "data": {
      "text/plain": [
       "-4"
      ]
     },
     "execution_count": 122,
     "metadata": {},
     "output_type": "execute_result"
    }
   ],
   "source": [
    "math.ceil(-4.6)"
   ]
  },
  {
   "cell_type": "code",
   "execution_count": 123,
   "metadata": {
    "colab": {
     "base_uri": "https://localhost:8080/"
    },
    "executionInfo": {
     "elapsed": 118,
     "status": "ok",
     "timestamp": 1642708091106,
     "user": {
      "displayName": "Ramchandra Rimal",
      "photoUrl": "https://lh3.googleusercontent.com/a-/AOh14GiAeFifdymzS1jIfl4sZadq2W2j0_A8iIfdPLTJwg=s64",
      "userId": "02334418294935870107"
     },
     "user_tz": 360
    },
    "id": "ZlQbwd1dp3u6",
    "outputId": "c44213b0-a80a-47ce-aca1-ba8977d16118"
   },
   "outputs": [
    {
     "data": {
      "text/plain": [
       "2.0794415416798357"
      ]
     },
     "execution_count": 123,
     "metadata": {},
     "output_type": "execute_result"
    }
   ],
   "source": [
    "math.log(8) # natural log\n"
   ]
  },
  {
   "cell_type": "code",
   "execution_count": 124,
   "metadata": {
    "colab": {
     "base_uri": "https://localhost:8080/"
    },
    "executionInfo": {
     "elapsed": 137,
     "status": "ok",
     "timestamp": 1642708099966,
     "user": {
      "displayName": "Ramchandra Rimal",
      "photoUrl": "https://lh3.googleusercontent.com/a-/AOh14GiAeFifdymzS1jIfl4sZadq2W2j0_A8iIfdPLTJwg=s64",
      "userId": "02334418294935870107"
     },
     "user_tz": 360
    },
    "id": "NTlwHLBPp3u8",
    "outputId": "3725f2e5-27fb-4ce7-c5e4-ead7d3f3ff7d"
   },
   "outputs": [
    {
     "data": {
      "text/plain": [
       "8.0"
      ]
     },
     "execution_count": 124,
     "metadata": {},
     "output_type": "execute_result"
    }
   ],
   "source": [
    "math.pow(2,3)"
   ]
  },
  {
   "cell_type": "code",
   "execution_count": 125,
   "metadata": {
    "colab": {
     "base_uri": "https://localhost:8080/"
    },
    "executionInfo": {
     "elapsed": 3,
     "status": "ok",
     "timestamp": 1642708130016,
     "user": {
      "displayName": "Ramchandra Rimal",
      "photoUrl": "https://lh3.googleusercontent.com/a-/AOh14GiAeFifdymzS1jIfl4sZadq2W2j0_A8iIfdPLTJwg=s64",
      "userId": "02334418294935870107"
     },
     "user_tz": 360
    },
    "id": "qF8GhW_wp3u9",
    "outputId": "c2609a2a-20ed-4a52-9629-e5f891927896"
   },
   "outputs": [
    {
     "data": {
      "text/plain": [
       "3.414"
      ]
     },
     "execution_count": 125,
     "metadata": {},
     "output_type": "execute_result"
    }
   ],
   "source": [
    "round(3.413894, 3)"
   ]
  },
  {
   "cell_type": "code",
   "execution_count": 126,
   "metadata": {
    "colab": {
     "base_uri": "https://localhost:8080/"
    },
    "executionInfo": {
     "elapsed": 118,
     "status": "ok",
     "timestamp": 1642708131142,
     "user": {
      "displayName": "Ramchandra Rimal",
      "photoUrl": "https://lh3.googleusercontent.com/a-/AOh14GiAeFifdymzS1jIfl4sZadq2W2j0_A8iIfdPLTJwg=s64",
      "userId": "02334418294935870107"
     },
     "user_tz": 360
    },
    "id": "OSeDX6ORp3u_",
    "outputId": "e78f3955-40cb-4cbd-8e1b-06b451a02452"
   },
   "outputs": [
    {
     "data": {
      "text/plain": [
       "3.0"
      ]
     },
     "execution_count": 126,
     "metadata": {},
     "output_type": "execute_result"
    }
   ],
   "source": [
    "math.sqrt(9)"
   ]
  },
  {
   "cell_type": "code",
   "execution_count": 127,
   "metadata": {
    "colab": {
     "base_uri": "https://localhost:8080/"
    },
    "executionInfo": {
     "elapsed": 990,
     "status": "ok",
     "timestamp": 1642708133209,
     "user": {
      "displayName": "Ramchandra Rimal",
      "photoUrl": "https://lh3.googleusercontent.com/a-/AOh14GiAeFifdymzS1jIfl4sZadq2W2j0_A8iIfdPLTJwg=s64",
      "userId": "02334418294935870107"
     },
     "user_tz": 360
    },
    "id": "R2z71qUDp3vD",
    "outputId": "78c8f188-7c8c-405a-f35c-a10509dfa487"
   },
   "outputs": [
    {
     "data": {
      "text/plain": [
       "1.0"
      ]
     },
     "execution_count": 127,
     "metadata": {},
     "output_type": "execute_result"
    }
   ],
   "source": [
    "math.sin(math.pi/2)\n"
   ]
  },
  {
   "cell_type": "code",
   "execution_count": 128,
   "metadata": {
    "colab": {
     "base_uri": "https://localhost:8080/"
    },
    "executionInfo": {
     "elapsed": 120,
     "status": "ok",
     "timestamp": 1642708133869,
     "user": {
      "displayName": "Ramchandra Rimal",
      "photoUrl": "https://lh3.googleusercontent.com/a-/AOh14GiAeFifdymzS1jIfl4sZadq2W2j0_A8iIfdPLTJwg=s64",
      "userId": "02334418294935870107"
     },
     "user_tz": 360
    },
    "id": "qxACOnRpp3vH",
    "outputId": "f761416b-bd85-495f-bb37-fe8f7da613d2"
   },
   "outputs": [
    {
     "data": {
      "text/plain": [
       "0.9999999999999999"
      ]
     },
     "execution_count": 128,
     "metadata": {},
     "output_type": "execute_result"
    }
   ],
   "source": [
    "math.tan(math.pi/4)"
   ]
  },
  {
   "cell_type": "markdown",
   "metadata": {
    "id": "V-BkSO1yp3vI"
   },
   "source": [
    "## **Generating Random Numbers in Python**"
   ]
  },
  {
   "cell_type": "code",
   "execution_count": 129,
   "metadata": {
    "colab": {
     "base_uri": "https://localhost:8080/"
    },
    "executionInfo": {
     "elapsed": 137,
     "status": "ok",
     "timestamp": 1642708135840,
     "user": {
      "displayName": "Ramchandra Rimal",
      "photoUrl": "https://lh3.googleusercontent.com/a-/AOh14GiAeFifdymzS1jIfl4sZadq2W2j0_A8iIfdPLTJwg=s64",
      "userId": "02334418294935870107"
     },
     "user_tz": 360
    },
    "id": "9cbu2FOdp3vI",
    "outputId": "8c3de64d-9c69-43b2-bec1-072098b22d4d"
   },
   "outputs": [
    {
     "data": {
      "text/plain": [
       "0.6682318853552712"
      ]
     },
     "execution_count": 129,
     "metadata": {},
     "output_type": "execute_result"
    }
   ],
   "source": [
    "import random\n",
    "a = random.random( ) # creates random number between 0 and 1\n",
    "a"
   ]
  },
  {
   "cell_type": "code",
   "execution_count": 130,
   "metadata": {
    "colab": {
     "base_uri": "https://localhost:8080/"
    },
    "executionInfo": {
     "elapsed": 120,
     "status": "ok",
     "timestamp": 1642708170903,
     "user": {
      "displayName": "Ramchandra Rimal",
      "photoUrl": "https://lh3.googleusercontent.com/a-/AOh14GiAeFifdymzS1jIfl4sZadq2W2j0_A8iIfdPLTJwg=s64",
      "userId": "02334418294935870107"
     },
     "user_tz": 360
    },
    "id": "8kPMbfa_p3vK",
    "outputId": "1dc5c487-c256-486d-eb24-5c1ae5cd8555"
   },
   "outputs": [
    {
     "data": {
      "text/plain": [
       "1.9736195080407595"
      ]
     },
     "execution_count": 130,
     "metadata": {},
     "output_type": "execute_result"
    }
   ],
   "source": [
    "b = random.uniform(1, 7) # creates a random number between 1 and 7 from uniform distribution\n",
    "b"
   ]
  },
  {
   "cell_type": "code",
   "execution_count": 131,
   "metadata": {
    "colab": {
     "base_uri": "https://localhost:8080/"
    },
    "executionInfo": {
     "elapsed": 119,
     "status": "ok",
     "timestamp": 1642708199982,
     "user": {
      "displayName": "Ramchandra Rimal",
      "photoUrl": "https://lh3.googleusercontent.com/a-/AOh14GiAeFifdymzS1jIfl4sZadq2W2j0_A8iIfdPLTJwg=s64",
      "userId": "02334418294935870107"
     },
     "user_tz": 360
    },
    "id": "rR0CCVL2p3vM",
    "outputId": "8aa8aff3-6ea7-4591-dd1b-8949a81491f7"
   },
   "outputs": [
    {
     "data": {
      "text/plain": [
       "2"
      ]
     },
     "execution_count": 131,
     "metadata": {},
     "output_type": "execute_result"
    }
   ],
   "source": [
    "c = random.randint(1, 10) # creates a random integer between 1 and 10\n",
    "c\n"
   ]
  },
  {
   "cell_type": "code",
   "execution_count": 132,
   "metadata": {
    "colab": {
     "base_uri": "https://localhost:8080/"
    },
    "executionInfo": {
     "elapsed": 139,
     "status": "ok",
     "timestamp": 1642708206032,
     "user": {
      "displayName": "Ramchandra Rimal",
      "photoUrl": "https://lh3.googleusercontent.com/a-/AOh14GiAeFifdymzS1jIfl4sZadq2W2j0_A8iIfdPLTJwg=s64",
      "userId": "02334418294935870107"
     },
     "user_tz": 360
    },
    "id": "Ot-_e5yyp3vO",
    "outputId": "462e4c0c-88fb-4c29-aa6c-f10e03f46392"
   },
   "outputs": [
    {
     "data": {
      "text/plain": [
       "[6, 3, 1, 9, 7, 2, 4, 5, 8]"
      ]
     },
     "execution_count": 132,
     "metadata": {},
     "output_type": "execute_result"
    }
   ],
   "source": [
    "items = [1, 2, 3, 4, 5, 6, 7,8,9]\n",
    "random.shuffle(items) # random reshuffling\n",
    "items"
   ]
  },
  {
   "cell_type": "code",
   "execution_count": 133,
   "metadata": {
    "colab": {
     "base_uri": "https://localhost:8080/"
    },
    "executionInfo": {
     "elapsed": 989,
     "status": "ok",
     "timestamp": 1642708225203,
     "user": {
      "displayName": "Ramchandra Rimal",
      "photoUrl": "https://lh3.googleusercontent.com/a-/AOh14GiAeFifdymzS1jIfl4sZadq2W2j0_A8iIfdPLTJwg=s64",
      "userId": "02334418294935870107"
     },
     "user_tz": 360
    },
    "id": "F-QcSDYGp3vP",
    "outputId": "f5842e19-8ed7-4d7a-d15c-6d51a2db5cc1"
   },
   "outputs": [
    {
     "data": {
      "text/plain": [
       "[3, 6, 8, 4]"
      ]
     },
     "execution_count": 133,
     "metadata": {},
     "output_type": "execute_result"
    }
   ],
   "source": [
    "random.sample([1, 2, 3, 4, 5,6,7,8],  4) # random sampling from given list"
   ]
  },
  {
   "cell_type": "code",
   "execution_count": 134,
   "metadata": {
    "colab": {
     "base_uri": "https://localhost:8080/"
    },
    "executionInfo": {
     "elapsed": 101,
     "status": "ok",
     "timestamp": 1642708260087,
     "user": {
      "displayName": "Ramchandra Rimal",
      "photoUrl": "https://lh3.googleusercontent.com/a-/AOh14GiAeFifdymzS1jIfl4sZadq2W2j0_A8iIfdPLTJwg=s64",
      "userId": "02334418294935870107"
     },
     "user_tz": 360
    },
    "id": "QWIfm619p3vR",
    "outputId": "79f0a13d-dfd6-40a0-ea19-aad2620a46de"
   },
   "outputs": [
    {
     "data": {
      "text/plain": [
       "[15, 11, 2, 0]"
      ]
     },
     "execution_count": 134,
     "metadata": {},
     "output_type": "execute_result"
    }
   ],
   "source": [
    "random.sample(range(20),  4) # random sampling from the numbers 0 to 20"
   ]
  },
  {
   "cell_type": "markdown",
   "metadata": {
    "id": "xwM2pVuop3vS"
   },
   "source": [
    "## **Conditional Statements**\n",
    "\n",
    "### **if else statement**\n",
    "\n"
   ]
  },
  {
   "cell_type": "code",
   "execution_count": 135,
   "metadata": {
    "colab": {
     "base_uri": "https://localhost:8080/"
    },
    "executionInfo": {
     "elapsed": 112,
     "status": "ok",
     "timestamp": 1642708282277,
     "user": {
      "displayName": "Ramchandra Rimal",
      "photoUrl": "https://lh3.googleusercontent.com/a-/AOh14GiAeFifdymzS1jIfl4sZadq2W2j0_A8iIfdPLTJwg=s64",
      "userId": "02334418294935870107"
     },
     "user_tz": 360
    },
    "id": "D-fJUrsep3vS",
    "outputId": "471a2488-cdff-4d45-d890-ae234be17c37"
   },
   "outputs": [
    {
     "name": "stdout",
     "output_type": "stream",
     "text": [
      "x is positive\n"
     ]
    }
   ],
   "source": [
    "x = 10;\n",
    "if x > 0:\n",
    "    print(\"x is positive\")\n",
    "    "
   ]
  },
  {
   "cell_type": "code",
   "execution_count": 136,
   "metadata": {
    "colab": {
     "base_uri": "https://localhost:8080/"
    },
    "executionInfo": {
     "elapsed": 160,
     "status": "ok",
     "timestamp": 1642708302947,
     "user": {
      "displayName": "Ramchandra Rimal",
      "photoUrl": "https://lh3.googleusercontent.com/a-/AOh14GiAeFifdymzS1jIfl4sZadq2W2j0_A8iIfdPLTJwg=s64",
      "userId": "02334418294935870107"
     },
     "user_tz": 360
    },
    "id": "HsrtC7tgp3vT",
    "outputId": "e86610e9-3113-40a6-9505-6e39c27e06e3"
   },
   "outputs": [
    {
     "name": "stdout",
     "output_type": "stream",
     "text": [
      "Sorry you failed! Please repeate this course in the next semester!\n"
     ]
    }
   ],
   "source": [
    "grade = 50;\n",
    "if grade >= 60:\n",
    "    print(\"You passed this class\")\n",
    "else:\n",
    "    print(\"Sorry you failed! Please repeate this course in the next semester!\")\n",
    "    "
   ]
  },
  {
   "cell_type": "markdown",
   "metadata": {
    "id": "K88eHGYcp3vV"
   },
   "source": [
    "### **Chained Conditional Statements**"
   ]
  },
  {
   "cell_type": "code",
   "execution_count": 137,
   "metadata": {
    "colab": {
     "base_uri": "https://localhost:8080/"
    },
    "executionInfo": {
     "elapsed": 122,
     "status": "ok",
     "timestamp": 1642708307903,
     "user": {
      "displayName": "Ramchandra Rimal",
      "photoUrl": "https://lh3.googleusercontent.com/a-/AOh14GiAeFifdymzS1jIfl4sZadq2W2j0_A8iIfdPLTJwg=s64",
      "userId": "02334418294935870107"
     },
     "user_tz": 360
    },
    "id": "zTgrBJvrp3vV",
    "outputId": "d089bd2c-f9cc-4857-c875-61d0ed7378a9"
   },
   "outputs": [
    {
     "name": "stdout",
     "output_type": "stream",
     "text": [
      "x is less than y\n"
     ]
    }
   ],
   "source": [
    "x = 2; y = 8\n",
    "if x < y:\n",
    "    print(\"x is less than y\")\n",
    "elif(x > y):\n",
    "    print(\"x is greater than y\")\n",
    "else:\n",
    "    print(\"x and y are equal\")\n",
    "    "
   ]
  },
  {
   "cell_type": "code",
   "execution_count": 138,
   "metadata": {
    "colab": {
     "base_uri": "https://localhost:8080/"
    },
    "executionInfo": {
     "elapsed": 106,
     "status": "ok",
     "timestamp": 1642708313199,
     "user": {
      "displayName": "Ramchandra Rimal",
      "photoUrl": "https://lh3.googleusercontent.com/a-/AOh14GiAeFifdymzS1jIfl4sZadq2W2j0_A8iIfdPLTJwg=s64",
      "userId": "02334418294935870107"
     },
     "user_tz": 360
    },
    "id": "BqUuh1mLp3vX",
    "outputId": "fcfe78c9-a911-4d03-b345-eb97ba73d5f0"
   },
   "outputs": [
    {
     "name": "stdout",
     "output_type": "stream",
     "text": [
      "C\n"
     ]
    }
   ],
   "source": [
    "grade = 76\n",
    "\n",
    "if grade >= 90:\n",
    "    print(\"A\")\n",
    "elif grade >= 80:\n",
    "    print(\"B\")\n",
    "elif grade >= 70:\n",
    "    print(\"C\")\n",
    "elif grade >=60: \n",
    "    print(\"D\")\n",
    "else:\n",
    "    print(\"Sorry you failed this class\")\n",
    "    "
   ]
  },
  {
   "cell_type": "markdown",
   "metadata": {
    "id": "bHNDxHUnp3vY"
   },
   "source": [
    "### **Nested Conditional Statements**"
   ]
  },
  {
   "cell_type": "code",
   "execution_count": 139,
   "metadata": {
    "colab": {
     "base_uri": "https://localhost:8080/"
    },
    "executionInfo": {
     "elapsed": 117,
     "status": "ok",
     "timestamp": 1642708352870,
     "user": {
      "displayName": "Ramchandra Rimal",
      "photoUrl": "https://lh3.googleusercontent.com/a-/AOh14GiAeFifdymzS1jIfl4sZadq2W2j0_A8iIfdPLTJwg=s64",
      "userId": "02334418294935870107"
     },
     "user_tz": 360
    },
    "id": "jOSbtBF8p3vY",
    "outputId": "1158aaa6-6878-4dad-8653-7c07e99729aa"
   },
   "outputs": [
    {
     "name": "stdout",
     "output_type": "stream",
     "text": [
      "x is less than y\n"
     ]
    }
   ],
   "source": [
    "if x == y:\n",
    "    print(\"x and y are equal\")\n",
    "else:\n",
    "    if x< y:\n",
    "        print (\"x is less than y\")\n",
    "    else:\n",
    "        print(\"x is greater than y\")"
   ]
  },
  {
   "cell_type": "markdown",
   "metadata": {
    "id": "WimayMSQp3va"
   },
   "source": [
    "## **Loop Operations in Python**\n",
    "\n",
    " "
   ]
  },
  {
   "cell_type": "markdown",
   "metadata": {
    "id": "rAPyH_KhNzoX"
   },
   "source": [
    "### **for loop**"
   ]
  },
  {
   "cell_type": "code",
   "execution_count": 140,
   "metadata": {
    "colab": {
     "base_uri": "https://localhost:8080/"
    },
    "executionInfo": {
     "elapsed": 114,
     "status": "ok",
     "timestamp": 1642708370319,
     "user": {
      "displayName": "Ramchandra Rimal",
      "photoUrl": "https://lh3.googleusercontent.com/a-/AOh14GiAeFifdymzS1jIfl4sZadq2W2j0_A8iIfdPLTJwg=s64",
      "userId": "02334418294935870107"
     },
     "user_tz": 360
    },
    "id": "X3NnbyW9p3va",
    "outputId": "813cf745-81c2-448d-f733-aaa2596b4444"
   },
   "outputs": [
    {
     "name": "stdout",
     "output_type": "stream",
     "text": [
      "1\n",
      "2\n",
      "3\n",
      "4\n",
      "5\n",
      "6\n"
     ]
    }
   ],
   "source": [
    "for i in [1,2,3,4,5,6]:\n",
    "    print(i)"
   ]
  },
  {
   "cell_type": "code",
   "execution_count": 141,
   "metadata": {
    "colab": {
     "base_uri": "https://localhost:8080/"
    },
    "executionInfo": {
     "elapsed": 2,
     "status": "ok",
     "timestamp": 1642708370851,
     "user": {
      "displayName": "Ramchandra Rimal",
      "photoUrl": "https://lh3.googleusercontent.com/a-/AOh14GiAeFifdymzS1jIfl4sZadq2W2j0_A8iIfdPLTJwg=s64",
      "userId": "02334418294935870107"
     },
     "user_tz": 360
    },
    "id": "ysPE4xT1p3vd",
    "outputId": "71a2fade-4a77-4b2a-a62a-f6f043e4bb45"
   },
   "outputs": [
    {
     "name": "stdout",
     "output_type": "stream",
     "text": [
      "1\n",
      "2\n",
      "3\n",
      "4\n",
      "5\n",
      "6\n"
     ]
    }
   ],
   "source": [
    "for i in range(1,7):\n",
    "    print(i)"
   ]
  },
  {
   "cell_type": "markdown",
   "metadata": {
    "id": "3UoisIgMp3vg"
   },
   "source": [
    "### **range function**\n",
    "range(stop)\n",
    "\n",
    "range(start, stop, step)"
   ]
  },
  {
   "cell_type": "code",
   "execution_count": 142,
   "metadata": {
    "colab": {
     "base_uri": "https://localhost:8080/"
    },
    "executionInfo": {
     "elapsed": 130,
     "status": "ok",
     "timestamp": 1642708396786,
     "user": {
      "displayName": "Ramchandra Rimal",
      "photoUrl": "https://lh3.googleusercontent.com/a-/AOh14GiAeFifdymzS1jIfl4sZadq2W2j0_A8iIfdPLTJwg=s64",
      "userId": "02334418294935870107"
     },
     "user_tz": 360
    },
    "id": "ng3lGu8dp3vg",
    "outputId": "580743cd-f0a9-49f1-8aed-684e80098cf1"
   },
   "outputs": [
    {
     "name": "stdout",
     "output_type": "stream",
     "text": [
      "0\n",
      "1\n",
      "2\n",
      "3\n",
      "4\n",
      "5\n"
     ]
    }
   ],
   "source": [
    "for counter in range(6):\n",
    "    print(counter)"
   ]
  },
  {
   "cell_type": "code",
   "execution_count": 143,
   "metadata": {
    "colab": {
     "base_uri": "https://localhost:8080/"
    },
    "executionInfo": {
     "elapsed": 140,
     "status": "ok",
     "timestamp": 1642708405933,
     "user": {
      "displayName": "Ramchandra Rimal",
      "photoUrl": "https://lh3.googleusercontent.com/a-/AOh14GiAeFifdymzS1jIfl4sZadq2W2j0_A8iIfdPLTJwg=s64",
      "userId": "02334418294935870107"
     },
     "user_tz": 360
    },
    "id": "n-MGz1Wrp3vj",
    "outputId": "62d9464e-3875-417f-d061-38079f87071d"
   },
   "outputs": [
    {
     "name": "stdout",
     "output_type": "stream",
     "text": [
      "1\n",
      "2\n",
      "3\n",
      "4\n",
      "5\n"
     ]
    }
   ],
   "source": [
    "for counter in range(1,6):\n",
    "    print(counter)"
   ]
  },
  {
   "cell_type": "code",
   "execution_count": 144,
   "metadata": {
    "colab": {
     "base_uri": "https://localhost:8080/"
    },
    "executionInfo": {
     "elapsed": 118,
     "status": "ok",
     "timestamp": 1642708416217,
     "user": {
      "displayName": "Ramchandra Rimal",
      "photoUrl": "https://lh3.googleusercontent.com/a-/AOh14GiAeFifdymzS1jIfl4sZadq2W2j0_A8iIfdPLTJwg=s64",
      "userId": "02334418294935870107"
     },
     "user_tz": 360
    },
    "id": "aLYj7COEp3vl",
    "outputId": "d5754f7c-cae5-4eff-a29f-b56c8fde5781"
   },
   "outputs": [
    {
     "name": "stdout",
     "output_type": "stream",
     "text": [
      "1\n",
      "3\n",
      "5\n"
     ]
    }
   ],
   "source": [
    "for counter in range(1,6,2):\n",
    "    print(counter)"
   ]
  },
  {
   "cell_type": "code",
   "execution_count": 145,
   "metadata": {
    "colab": {
     "base_uri": "https://localhost:8080/"
    },
    "executionInfo": {
     "elapsed": 125,
     "status": "ok",
     "timestamp": 1642708431517,
     "user": {
      "displayName": "Ramchandra Rimal",
      "photoUrl": "https://lh3.googleusercontent.com/a-/AOh14GiAeFifdymzS1jIfl4sZadq2W2j0_A8iIfdPLTJwg=s64",
      "userId": "02334418294935870107"
     },
     "user_tz": 360
    },
    "id": "31VprYKyNP1V",
    "outputId": "34c2e733-3d70-456b-cf4d-b5b1de97cad8"
   },
   "outputs": [
    {
     "data": {
      "text/plain": [
       "[0, 4, 16, 36]"
      ]
     },
     "execution_count": 145,
     "metadata": {},
     "output_type": "execute_result"
    }
   ],
   "source": [
    "\n",
    "[x**2 for x in range(0, 8, 2)]"
   ]
  },
  {
   "cell_type": "markdown",
   "metadata": {
    "id": "2Tcoco55p3vm"
   },
   "source": [
    "###  **While Loop**"
   ]
  },
  {
   "cell_type": "code",
   "execution_count": 146,
   "metadata": {
    "colab": {
     "base_uri": "https://localhost:8080/"
    },
    "executionInfo": {
     "elapsed": 114,
     "status": "ok",
     "timestamp": 1642708462010,
     "user": {
      "displayName": "Ramchandra Rimal",
      "photoUrl": "https://lh3.googleusercontent.com/a-/AOh14GiAeFifdymzS1jIfl4sZadq2W2j0_A8iIfdPLTJwg=s64",
      "userId": "02334418294935870107"
     },
     "user_tz": 360
    },
    "id": "Id4yM37Ap3vn",
    "outputId": "27a1551f-5d32-4614-d4b0-0348d59eb4ef"
   },
   "outputs": [
    {
     "name": "stdout",
     "output_type": "stream",
     "text": [
      "0\n",
      "1\n",
      "2\n",
      "3\n",
      "4\n",
      "5\n"
     ]
    }
   ],
   "source": [
    "counter = 0\n",
    "while counter < 6:\n",
    "    print(counter)\n",
    "    counter += 1\n",
    "    "
   ]
  },
  {
   "cell_type": "markdown",
   "metadata": {
    "id": "Oo02VtKohCjb"
   },
   "source": [
    "## **Formating in Python**\n",
    "\n"
   ]
  },
  {
   "cell_type": "code",
   "execution_count": 147,
   "metadata": {
    "colab": {
     "base_uri": "https://localhost:8080/"
    },
    "executionInfo": {
     "elapsed": 117,
     "status": "ok",
     "timestamp": 1642708482709,
     "user": {
      "displayName": "Ramchandra Rimal",
      "photoUrl": "https://lh3.googleusercontent.com/a-/AOh14GiAeFifdymzS1jIfl4sZadq2W2j0_A8iIfdPLTJwg=s64",
      "userId": "02334418294935870107"
     },
     "user_tz": 360
    },
    "id": "eULK00CHhi1X",
    "outputId": "d1efd5a9-526b-46ba-d997-474ee4cdb73f"
   },
   "outputs": [
    {
     "name": "stdout",
     "output_type": "stream",
     "text": [
      "pi =3\n",
      "pi =3.14\n",
      "pi =3.1416\n"
     ]
    }
   ],
   "source": [
    "print(\"pi =%d\" % (3.14159))\n",
    "print(\"pi =%.2f\" % (3.14159))\n",
    "print(\"pi =%.4f\" % (3.14159))\n",
    "#print(\"pi =%s\" % (3.14159))\n",
    "#print('{:}, {:.2f}, {:s}'.format(26, 3.141593, \"python\"))\n",
    "\n"
   ]
  },
  {
   "cell_type": "markdown",
   "metadata": {
    "id": "1-7pbU_rhsIA"
   },
   "source": [
    "### **Formating Date Time**"
   ]
  },
  {
   "cell_type": "code",
   "execution_count": 148,
   "metadata": {
    "colab": {
     "base_uri": "https://localhost:8080/",
     "height": 35
    },
    "executionInfo": {
     "elapsed": 127,
     "status": "ok",
     "timestamp": 1642708509735,
     "user": {
      "displayName": "Ramchandra Rimal",
      "photoUrl": "https://lh3.googleusercontent.com/a-/AOh14GiAeFifdymzS1jIfl4sZadq2W2j0_A8iIfdPLTJwg=s64",
      "userId": "02334418294935870107"
     },
     "user_tz": 360
    },
    "id": "CcKoABr9hqc4",
    "outputId": "a1ab44e2-6322-40b9-deb0-e0ebc4436bf4"
   },
   "outputs": [
    {
     "data": {
      "text/plain": [
       "'2021-08-24 12:15:58'"
      ]
     },
     "execution_count": 148,
     "metadata": {},
     "output_type": "execute_result"
    }
   ],
   "source": [
    "import datetime\n",
    "d = datetime.datetime(2021, 8, 24, 12, 15, 58)\n",
    "'{:%Y-%m-%d %H:%M:%S}'.format(d)"
   ]
  },
  {
   "cell_type": "markdown",
   "metadata": {
    "id": "8P2hc9exf4P3"
   },
   "source": [
    "## **File I/O**"
   ]
  },
  {
   "cell_type": "markdown",
   "metadata": {
    "id": "HpNcCP9sp3vp"
   },
   "source": [
    " ### **Raw Input in Python**"
   ]
  },
  {
   "cell_type": "code",
   "execution_count": 149,
   "metadata": {
    "colab": {
     "base_uri": "https://localhost:8080/"
    },
    "executionInfo": {
     "elapsed": 9391,
     "status": "ok",
     "timestamp": 1642708551734,
     "user": {
      "displayName": "Ramchandra Rimal",
      "photoUrl": "https://lh3.googleusercontent.com/a-/AOh14GiAeFifdymzS1jIfl4sZadq2W2j0_A8iIfdPLTJwg=s64",
      "userId": "02334418294935870107"
     },
     "user_tz": 360
    },
    "id": "qD7onOCGp3vp",
    "outputId": "be4e8f98-380e-4266-a396-dfb801699330"
   },
   "outputs": [
    {
     "name": "stdout",
     "output_type": "stream",
     "text": [
      "Tell me your name: Josh\n",
      "Hello Josh!\n",
      "How old are you? 24\n",
      "You are 24 years old, Josh!\n"
     ]
    }
   ],
   "source": [
    "name = input(\"Tell me your name: \")\n",
    "print(\"Hello \" + name + \"!\")\n",
    "age = input(\"How old are you? \")\n",
    "print(\"You are \" + age + \" years old, \" + name + \"!\")"
   ]
  },
  {
   "cell_type": "code",
   "execution_count": 150,
   "metadata": {
    "colab": {
     "base_uri": "https://localhost:8080/"
    },
    "executionInfo": {
     "elapsed": 564,
     "status": "ok",
     "timestamp": 1642708557557,
     "user": {
      "displayName": "Ramchandra Rimal",
      "photoUrl": "https://lh3.googleusercontent.com/a-/AOh14GiAeFifdymzS1jIfl4sZadq2W2j0_A8iIfdPLTJwg=s64",
      "userId": "02334418294935870107"
     },
     "user_tz": 360
    },
    "id": "uZtbKk8Mp3vq",
    "outputId": "16fcf618-96bd-4c77-fd2f-de94c8e6797f"
   },
   "outputs": [
    {
     "name": "stdout",
     "output_type": "stream",
     "text": [
      "Enter your grade: 2\n"
     ]
    }
   ],
   "source": [
    "a = input(\"Enter your grade: \")"
   ]
  },
  {
   "cell_type": "code",
   "execution_count": 151,
   "metadata": {
    "colab": {
     "base_uri": "https://localhost:8080/",
     "height": 165
    },
    "executionInfo": {
     "elapsed": 3,
     "status": "error",
     "timestamp": 1642708557557,
     "user": {
      "displayName": "Ramchandra Rimal",
      "photoUrl": "https://lh3.googleusercontent.com/a-/AOh14GiAeFifdymzS1jIfl4sZadq2W2j0_A8iIfdPLTJwg=s64",
      "userId": "02334418294935870107"
     },
     "user_tz": 360
    },
    "id": "z_hCdaMVp3vs",
    "outputId": "afdd33d0-623c-4185-aef1-9d8388d5c720"
   },
   "outputs": [
    {
     "ename": "TypeError",
     "evalue": "can only concatenate str (not \"int\") to str",
     "output_type": "error",
     "traceback": [
      "\u001b[0;31m---------------------------------------------------------------------------\u001b[0m",
      "\u001b[0;31mTypeError\u001b[0m                                 Traceback (most recent call last)",
      "\u001b[0;32m<ipython-input-151-32fd1896a113>\u001b[0m in \u001b[0;36m<module>\u001b[0;34m\u001b[0m\n\u001b[0;32m----> 1\u001b[0;31m \u001b[0ma\u001b[0m \u001b[0;34m+\u001b[0m \u001b[0;36m45\u001b[0m \u001b[0;31m# input will be taken as characters\u001b[0m\u001b[0;34m\u001b[0m\u001b[0;34m\u001b[0m\u001b[0m\n\u001b[0m",
      "\u001b[0;31mTypeError\u001b[0m: can only concatenate str (not \"int\") to str"
     ]
    }
   ],
   "source": [
    "a + 45 # input will be taken as characters"
   ]
  },
  {
   "cell_type": "code",
   "execution_count": 152,
   "metadata": {
    "colab": {
     "base_uri": "https://localhost:8080/",
     "height": 165
    },
    "executionInfo": {
     "elapsed": 113,
     "status": "error",
     "timestamp": 1642708559192,
     "user": {
      "displayName": "Ramchandra Rimal",
      "photoUrl": "https://lh3.googleusercontent.com/a-/AOh14GiAeFifdymzS1jIfl4sZadq2W2j0_A8iIfdPLTJwg=s64",
      "userId": "02334418294935870107"
     },
     "user_tz": 360
    },
    "id": "Sp2DCbEzp3vu",
    "outputId": "4281736d-1725-44a4-9534-7301f04ce45c"
   },
   "outputs": [
    {
     "data": {
      "text/plain": [
       "47.0"
      ]
     },
     "execution_count": 152,
     "metadata": {},
     "output_type": "execute_result"
    }
   ],
   "source": [
    "float(a) + 45"
   ]
  },
  {
   "cell_type": "markdown",
   "metadata": {
    "id": "Fz-WxeqIiCbE"
   },
   "source": [
    "### **Reading/Writing Files in Python**\n",
    "\n",
    "We will discuss about this topics in upcomming Notebooks. See the following liks for references:\n",
    "\n",
    "- [Files I/O](https://www.tutorialspoint.com/python/python_files_io.htm)\n",
    "- [Reading and Writing in Python](https://www.geeksforgeeks.org/reading-writing-text-files-python/)\n",
    "\n",
    "\n"
   ]
  },
  {
   "cell_type": "markdown",
   "metadata": {
    "id": "inlcl7czlheG"
   },
   "source": [
    "\n",
    "## **References**\n",
    "\n",
    "\n",
    "There are several resourses available to study python, including the following online turorials.\n",
    "\n",
    "- [Python Documentation](https://docs.python.org/3/tutorial/)\n",
    "- [Tutorialpoint](https://www.tutorialspoint.com/python/python_overview.htm)\n",
    "-[Python Tutorial](https://docs.python.org/3/tutorial/)\n"
   ]
  },
  {
   "cell_type": "code",
   "execution_count": null,
   "metadata": {
    "id": "kVmtOyGiiu7C"
   },
   "outputs": [],
   "source": []
  }
 ],
 "metadata": {
  "colab": {
   "collapsed_sections": [
    "Fz-WxeqIiCbE",
    "inlcl7czlheG"
   ],
   "name": "Notebook2.ipynb",
   "provenance": []
  },
  "kernelspec": {
   "display_name": "Python 3 (ipykernel)",
   "language": "python",
   "name": "python3"
  },
  "language_info": {
   "codemirror_mode": {
    "name": "ipython",
    "version": 3
   },
   "file_extension": ".py",
   "mimetype": "text/x-python",
   "name": "python",
   "nbconvert_exporter": "python",
   "pygments_lexer": "ipython3",
   "version": "3.11.4"
  }
 },
 "nbformat": 4,
 "nbformat_minor": 1
}
