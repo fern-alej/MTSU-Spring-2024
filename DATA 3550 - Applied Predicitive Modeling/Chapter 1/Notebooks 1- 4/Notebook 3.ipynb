{
 "cells": [
  {
   "cell_type": "markdown",
   "metadata": {
    "id": "aZ5LEy64p3l8"
   },
   "source": [
    "# **Module 2: Python Fundamentals**\n",
    "### **Notebook 3**: NumPy\n",
    "\n",
    "\n"
   ]
  },
  {
   "cell_type": "markdown",
   "metadata": {
    "id": "wqeB1QS2Onf-"
   },
   "source": [
    "\n",
    "## **Learning Outcomes**\n",
    "\n",
    "In this notebook we discuss fundamental scientific computing data structures vectors, matrices, and multidimensional arrays using NumPy library. Topics include:\n",
    "\n",
    "- Importing library\n",
    "- Creating arrays\n",
    "- Accessing/Slicing arrays\n",
    "- Basic operations on arrays\n",
    "- Arrays reshaping and resizing\n",
    "- Basic math operations\n",
    "- Basic aggregation functions\n",
    "- Working with random numbers in NumPy arrays\n",
    "- Matrix and vector operations\n",
    "\n"
   ]
  },
  {
   "cell_type": "markdown",
   "metadata": {
    "id": "uEIzwCTiDCo9"
   },
   "source": [
    "## **NumPy**\n",
    "\n",
    "Numpy is a fundamental external library in Python which can be used for scientific computing. NumPy performs mathematical, statistical, and data manipulation on arrays much faster than the regular Python objects. This difference is very important when you are performing large calculations.\n"
   ]
  },
  {
   "cell_type": "markdown",
   "metadata": {
    "id": "ihdeeatMDCo9"
   },
   "source": [
    "## **Importing NumPy**"
   ]
  },
  {
   "cell_type": "code",
   "execution_count": 1,
   "metadata": {
    "executionInfo": {
     "elapsed": 2,
     "status": "ok",
     "timestamp": 1642708683333,
     "user": {
      "displayName": "Ramchandra Rimal",
      "photoUrl": "https://lh3.googleusercontent.com/a-/AOh14GiAeFifdymzS1jIfl4sZadq2W2j0_A8iIfdPLTJwg=s64",
      "userId": "02334418294935870107"
     },
     "user_tz": 360
    },
    "id": "2_LBLzQNDCo9"
   },
   "outputs": [],
   "source": [
    "import numpy as np # np is a short-cut of numpy"
   ]
  },
  {
   "cell_type": "markdown",
   "metadata": {
    "id": "rtnRPoStDCo-"
   },
   "source": [
    "## **Arrays**\n",
    "\n",
    "- The central data structure of NumPy is the array object class. \n",
    "\n",
    "- Arrays are similar to lists in basic Python, except that every element of an array must be of the same type, typically a numeric type like float or int. \n",
    "\n",
    "- Arrays make operations with large amounts of numeric data very fast and are generally much more efficient than lists.\n"
   ]
  },
  {
   "cell_type": "markdown",
   "metadata": {
    "id": "Z0ahdUuYDCo_"
   },
   "source": [
    "## **Creating arrays**\n",
    "\n"
   ]
  },
  {
   "cell_type": "code",
   "execution_count": 2,
   "metadata": {
    "colab": {
     "base_uri": "https://localhost:8080/"
    },
    "executionInfo": {
     "elapsed": 148,
     "status": "ok",
     "timestamp": 1642708709504,
     "user": {
      "displayName": "Ramchandra Rimal",
      "photoUrl": "https://lh3.googleusercontent.com/a-/AOh14GiAeFifdymzS1jIfl4sZadq2W2j0_A8iIfdPLTJwg=s64",
      "userId": "02334418294935870107"
     },
     "user_tz": 360
    },
    "id": "UGhfEcPeDCo_",
    "outputId": "0e377311-ee2c-4800-e2f2-758856a99064"
   },
   "outputs": [
    {
     "data": {
      "text/plain": [
       "array([1, 4, 5, 8])"
      ]
     },
     "execution_count": 2,
     "metadata": {},
     "output_type": "execute_result"
    }
   ],
   "source": [
    "a = np.array([1, 4, 5, 8]) # using list\n",
    "a"
   ]
  },
  {
   "cell_type": "code",
   "execution_count": 3,
   "metadata": {
    "colab": {
     "base_uri": "https://localhost:8080/"
    },
    "executionInfo": {
     "elapsed": 98,
     "status": "ok",
     "timestamp": 1642708714060,
     "user": {
      "displayName": "Ramchandra Rimal",
      "photoUrl": "https://lh3.googleusercontent.com/a-/AOh14GiAeFifdymzS1jIfl4sZadq2W2j0_A8iIfdPLTJwg=s64",
      "userId": "02334418294935870107"
     },
     "user_tz": 360
    },
    "id": "8qi0bNirDCo_",
    "outputId": "6d8c8d72-75d5-41a1-fd23-73e146f52ae4"
   },
   "outputs": [
    {
     "data": {
      "text/plain": [
       "numpy.ndarray"
      ]
     },
     "execution_count": 3,
     "metadata": {},
     "output_type": "execute_result"
    }
   ],
   "source": [
    "type(a)"
   ]
  },
  {
   "cell_type": "code",
   "execution_count": 4,
   "metadata": {
    "colab": {
     "base_uri": "https://localhost:8080/"
    },
    "executionInfo": {
     "elapsed": 133,
     "status": "ok",
     "timestamp": 1642708721046,
     "user": {
      "displayName": "Ramchandra Rimal",
      "photoUrl": "https://lh3.googleusercontent.com/a-/AOh14GiAeFifdymzS1jIfl4sZadq2W2j0_A8iIfdPLTJwg=s64",
      "userId": "02334418294935870107"
     },
     "user_tz": 360
    },
    "id": "Z6IZciHVDCo_",
    "outputId": "5163f8cd-c5cb-43e9-8fd8-e338df0256f3"
   },
   "outputs": [
    {
     "data": {
      "text/plain": [
       "array([1., 4., 5., 8.])"
      ]
     },
     "execution_count": 4,
     "metadata": {},
     "output_type": "execute_result"
    }
   ],
   "source": [
    "a = np.array([1, 4, 5, 8], float)\n",
    "a"
   ]
  },
  {
   "cell_type": "code",
   "execution_count": 5,
   "metadata": {
    "colab": {
     "base_uri": "https://localhost:8080/"
    },
    "executionInfo": {
     "elapsed": 103,
     "status": "ok",
     "timestamp": 1642708729607,
     "user": {
      "displayName": "Ramchandra Rimal",
      "photoUrl": "https://lh3.googleusercontent.com/a-/AOh14GiAeFifdymzS1jIfl4sZadq2W2j0_A8iIfdPLTJwg=s64",
      "userId": "02334418294935870107"
     },
     "user_tz": 360
    },
    "id": "muJq5u8aDCpA",
    "outputId": "7e4c6beb-a811-408b-91b1-fdf38d97f868"
   },
   "outputs": [
    {
     "data": {
      "text/plain": [
       "1"
      ]
     },
     "execution_count": 5,
     "metadata": {},
     "output_type": "execute_result"
    }
   ],
   "source": [
    "a.ndim # looking dimension"
   ]
  },
  {
   "cell_type": "markdown",
   "metadata": {
    "id": "3CHoc5RlDCpA"
   },
   "source": [
    "## **Multi dimensional arrays**\n",
    "\n",
    "Arrays can be multidimensional. Unlike lists, different axes are accessed using commas inside\n",
    "bracket notation. Here is an example with a two-dimensional array (e.g., a matrix):\n",
    "\n"
   ]
  },
  {
   "cell_type": "code",
   "execution_count": 6,
   "metadata": {
    "colab": {
     "base_uri": "https://localhost:8080/"
    },
    "executionInfo": {
     "elapsed": 81,
     "status": "ok",
     "timestamp": 1642708754501,
     "user": {
      "displayName": "Ramchandra Rimal",
      "photoUrl": "https://lh3.googleusercontent.com/a-/AOh14GiAeFifdymzS1jIfl4sZadq2W2j0_A8iIfdPLTJwg=s64",
      "userId": "02334418294935870107"
     },
     "user_tz": 360
    },
    "id": "8PEMld8ZDCpA",
    "outputId": "a7627bcc-a535-43dc-c1f9-bb117122b701"
   },
   "outputs": [
    {
     "data": {
      "text/plain": [
       "array([[1., 2., 3.],\n",
       "       [4., 5., 6.]])"
      ]
     },
     "execution_count": 6,
     "metadata": {},
     "output_type": "execute_result"
    }
   ],
   "source": [
    "a = np.array([[1, 2, 3], [4, 5, 6]], dtype = float)                  \n",
    "a"
   ]
  },
  {
   "cell_type": "code",
   "execution_count": 7,
   "metadata": {
    "colab": {
     "base_uri": "https://localhost:8080/"
    },
    "executionInfo": {
     "elapsed": 82,
     "status": "ok",
     "timestamp": 1642708755488,
     "user": {
      "displayName": "Ramchandra Rimal",
      "photoUrl": "https://lh3.googleusercontent.com/a-/AOh14GiAeFifdymzS1jIfl4sZadq2W2j0_A8iIfdPLTJwg=s64",
      "userId": "02334418294935870107"
     },
     "user_tz": 360
    },
    "id": "KbW8tkAvDCpB",
    "outputId": "e816dd06-4921-447b-c315-0db0a8b12e49"
   },
   "outputs": [
    {
     "data": {
      "text/plain": [
       "2"
      ]
     },
     "execution_count": 7,
     "metadata": {},
     "output_type": "execute_result"
    }
   ],
   "source": [
    "a.ndim"
   ]
  },
  {
   "cell_type": "markdown",
   "metadata": {
    "id": "-NZsrNfUDCpB"
   },
   "source": [
    "## **Accessing/slicing elements of arrays**\n",
    "\n",
    "Array elements are accessed, sliced, and manipulated just like lists."
   ]
  },
  {
   "cell_type": "code",
   "execution_count": 8,
   "metadata": {
    "colab": {
     "base_uri": "https://localhost:8080/"
    },
    "executionInfo": {
     "elapsed": 90,
     "status": "ok",
     "timestamp": 1642708767060,
     "user": {
      "displayName": "Ramchandra Rimal",
      "photoUrl": "https://lh3.googleusercontent.com/a-/AOh14GiAeFifdymzS1jIfl4sZadq2W2j0_A8iIfdPLTJwg=s64",
      "userId": "02334418294935870107"
     },
     "user_tz": 360
    },
    "id": "8x2qIXfYDCpB",
    "outputId": "8a708056-2f5a-44ab-81e9-a59f8d3bf019"
   },
   "outputs": [
    {
     "data": {
      "text/plain": [
       "array([1., 4., 5., 8.])"
      ]
     },
     "execution_count": 8,
     "metadata": {},
     "output_type": "execute_result"
    }
   ],
   "source": [
    "a = np.array([1, 4, 5, 8], float)\n",
    "a"
   ]
  },
  {
   "cell_type": "code",
   "execution_count": 9,
   "metadata": {
    "colab": {
     "base_uri": "https://localhost:8080/"
    },
    "executionInfo": {
     "elapsed": 78,
     "status": "ok",
     "timestamp": 1642708790002,
     "user": {
      "displayName": "Ramchandra Rimal",
      "photoUrl": "https://lh3.googleusercontent.com/a-/AOh14GiAeFifdymzS1jIfl4sZadq2W2j0_A8iIfdPLTJwg=s64",
      "userId": "02334418294935870107"
     },
     "user_tz": 360
    },
    "id": "klBuPxNIDCpC",
    "outputId": "3c87dc00-af1a-4607-ac0d-a0e15ab348f1"
   },
   "outputs": [
    {
     "data": {
      "text/plain": [
       "5.0"
      ]
     },
     "execution_count": 9,
     "metadata": {},
     "output_type": "execute_result"
    }
   ],
   "source": [
    "a[2]"
   ]
  },
  {
   "cell_type": "code",
   "execution_count": 10,
   "metadata": {
    "colab": {
     "base_uri": "https://localhost:8080/"
    },
    "executionInfo": {
     "elapsed": 105,
     "status": "ok",
     "timestamp": 1642708817687,
     "user": {
      "displayName": "Ramchandra Rimal",
      "photoUrl": "https://lh3.googleusercontent.com/a-/AOh14GiAeFifdymzS1jIfl4sZadq2W2j0_A8iIfdPLTJwg=s64",
      "userId": "02334418294935870107"
     },
     "user_tz": 360
    },
    "id": "n9vDxlhfDCpC",
    "outputId": "1b40fa48-cc36-45d2-9b59-4bb0a4ef5da9"
   },
   "outputs": [
    {
     "data": {
      "text/plain": [
       "array([1., 4., 5.])"
      ]
     },
     "execution_count": 10,
     "metadata": {},
     "output_type": "execute_result"
    }
   ],
   "source": [
    "a[:3]"
   ]
  },
  {
   "cell_type": "markdown",
   "metadata": {
    "id": "j1w3QUUADCpC"
   },
   "source": [
    "Array slicing works with multiple dimensions in the same way as usual, applying each slice\n",
    "specification as a filter to a specified dimension. Use of a single \":\" in a dimension indicates the\n",
    "use of everything along that dimension."
   ]
  },
  {
   "cell_type": "code",
   "execution_count": 14,
   "metadata": {
    "colab": {
     "base_uri": "https://localhost:8080/"
    },
    "executionInfo": {
     "elapsed": 97,
     "status": "ok",
     "timestamp": 1642708827740,
     "user": {
      "displayName": "Ramchandra Rimal",
      "photoUrl": "https://lh3.googleusercontent.com/a-/AOh14GiAeFifdymzS1jIfl4sZadq2W2j0_A8iIfdPLTJwg=s64",
      "userId": "02334418294935870107"
     },
     "user_tz": 360
    },
    "id": "dAqd8sUKDCpD",
    "outputId": "1df01930-1bbb-45fb-84b2-788252cc5775"
   },
   "outputs": [
    {
     "data": {
      "text/plain": [
       "array([[1., 2., 3.],\n",
       "       [4., 5., 6.],\n",
       "       [7., 8., 9.]])"
      ]
     },
     "execution_count": 14,
     "metadata": {},
     "output_type": "execute_result"
    }
   ],
   "source": [
    "b = np.array([[1, 2, 3], [4, 5, 6], [7, 8, 9]], dtype = float)                  \n",
    "b"
   ]
  },
  {
   "cell_type": "code",
   "execution_count": 15,
   "metadata": {
    "colab": {
     "base_uri": "https://localhost:8080/"
    },
    "executionInfo": {
     "elapsed": 93,
     "status": "ok",
     "timestamp": 1642708870242,
     "user": {
      "displayName": "Ramchandra Rimal",
      "photoUrl": "https://lh3.googleusercontent.com/a-/AOh14GiAeFifdymzS1jIfl4sZadq2W2j0_A8iIfdPLTJwg=s64",
      "userId": "02334418294935870107"
     },
     "user_tz": 360
    },
    "id": "nOg9zuXiDCpD",
    "outputId": "df40e77f-f938-4996-f9da-e4b235bc8ad8"
   },
   "outputs": [
    {
     "data": {
      "text/plain": [
       "1.0"
      ]
     },
     "execution_count": 15,
     "metadata": {},
     "output_type": "execute_result"
    }
   ],
   "source": [
    "b[0,0] #different than list: b[0][0]"
   ]
  },
  {
   "cell_type": "code",
   "execution_count": 16,
   "metadata": {
    "colab": {
     "base_uri": "https://localhost:8080/"
    },
    "executionInfo": {
     "elapsed": 97,
     "status": "ok",
     "timestamp": 1642708916421,
     "user": {
      "displayName": "Ramchandra Rimal",
      "photoUrl": "https://lh3.googleusercontent.com/a-/AOh14GiAeFifdymzS1jIfl4sZadq2W2j0_A8iIfdPLTJwg=s64",
      "userId": "02334418294935870107"
     },
     "user_tz": 360
    },
    "id": "H9yeVwSQFDqE",
    "outputId": "20c2ca95-7bf4-4c63-fec3-2fad0c4c6e52"
   },
   "outputs": [
    {
     "data": {
      "text/plain": [
       "array([4., 5., 6.])"
      ]
     },
     "execution_count": 16,
     "metadata": {},
     "output_type": "execute_result"
    }
   ],
   "source": [
    "b[1,0:3]"
   ]
  },
  {
   "cell_type": "code",
   "execution_count": 17,
   "metadata": {},
   "outputs": [
    {
     "data": {
      "text/plain": [
       "array([4., 5., 6.])"
      ]
     },
     "execution_count": 17,
     "metadata": {},
     "output_type": "execute_result"
    }
   ],
   "source": [
    "b[1,:3]"
   ]
  },
  {
   "cell_type": "code",
   "execution_count": 21,
   "metadata": {},
   "outputs": [
    {
     "data": {
      "text/plain": [
       "array([[4., 5., 6.],\n",
       "       [7., 8., 9.]])"
      ]
     },
     "execution_count": 21,
     "metadata": {},
     "output_type": "execute_result"
    }
   ],
   "source": [
    "#slicing the array along the first axis (rows), starting from index 1 and including all rows after index 1.\n",
    "b[1:] "
   ]
  },
  {
   "cell_type": "code",
   "execution_count": 22,
   "metadata": {},
   "outputs": [
    {
     "data": {
      "text/plain": [
       "array([4., 5., 6.])"
      ]
     },
     "execution_count": 22,
     "metadata": {},
     "output_type": "execute_result"
    }
   ],
   "source": [
    "b[1,:]"
   ]
  },
  {
   "cell_type": "code",
   "execution_count": 23,
   "metadata": {
    "colab": {
     "base_uri": "https://localhost:8080/"
    },
    "executionInfo": {
     "elapsed": 86,
     "status": "ok",
     "timestamp": 1642709054531,
     "user": {
      "displayName": "Ramchandra Rimal",
      "photoUrl": "https://lh3.googleusercontent.com/a-/AOh14GiAeFifdymzS1jIfl4sZadq2W2j0_A8iIfdPLTJwg=s64",
      "userId": "02334418294935870107"
     },
     "user_tz": 360
    },
    "id": "OaAJyTk4FrQP",
    "outputId": "367ed2c2-d81b-47b6-ed81-d6ab78a607e3"
   },
   "outputs": [
    {
     "data": {
      "text/plain": [
       "array([1., 2., 3.])"
      ]
     },
     "execution_count": 23,
     "metadata": {},
     "output_type": "execute_result"
    }
   ],
   "source": [
    "b[0]"
   ]
  },
  {
   "cell_type": "code",
   "execution_count": 24,
   "metadata": {
    "colab": {
     "base_uri": "https://localhost:8080/"
    },
    "executionInfo": {
     "elapsed": 112,
     "status": "ok",
     "timestamp": 1642709119886,
     "user": {
      "displayName": "Ramchandra Rimal",
      "photoUrl": "https://lh3.googleusercontent.com/a-/AOh14GiAeFifdymzS1jIfl4sZadq2W2j0_A8iIfdPLTJwg=s64",
      "userId": "02334418294935870107"
     },
     "user_tz": 360
    },
    "id": "YkT4HrYqDCpD",
    "outputId": "0bc37187-ecc3-4871-fdb5-d9640959336b"
   },
   "outputs": [
    {
     "data": {
      "text/plain": [
       "array([2., 3.])"
      ]
     },
     "execution_count": 24,
     "metadata": {},
     "output_type": "execute_result"
    }
   ],
   "source": [
    "b[0,1:3]"
   ]
  },
  {
   "cell_type": "markdown",
   "metadata": {
    "id": "A_mzS0ChDCpD"
   },
   "source": [
    "##  **Alternative ways of creating arrays**\n",
    "\n",
    "\n",
    "Summary of some basic NumPy functions for generating arrays:\n",
    "\n",
    "**Function Name**   | **Type of Array**\n",
    "--------------------|--------------------------\n",
    "**np.array()**:         |  Creates an array for which the elements are given by an array like structre (like list, tuple)\n",
    "**np.zeros()**:         |  Creates an array with zeros as entries\n",
    "**np.ones()**:          |  Creates an array with ones as entries\n",
    "**np.diag()**:          |  Creates a diagonal array with specified values along the diagonal and zeros elsewhere\n",
    "**np.arrange()**:       |  Creates an array with evenly spaced values between the specified start, end, and increment values\n",
    "**np.linespace()**:     | Creates an array with evenly spaced values between specified start and end values, using a specified number of elements\n",
    "**np.logspace()**:      | Creates an arrays with logarithmically spaced between start and end values\n",
    "**np.meshgrid()**:      | Generate coordinate matrices (and higher dimensional coordinate arrays) from one dimensional coordinate vectors\n",
    "**np.random.rand()**    |  Generates an array with random numbers that are uniformly distributed between 0 and 1\n",
    "\n"
   ]
  },
  {
   "cell_type": "code",
   "execution_count": 25,
   "metadata": {
    "colab": {
     "base_uri": "https://localhost:8080/"
    },
    "executionInfo": {
     "elapsed": 107,
     "status": "ok",
     "timestamp": 1642709316104,
     "user": {
      "displayName": "Ramchandra Rimal",
      "photoUrl": "https://lh3.googleusercontent.com/a-/AOh14GiAeFifdymzS1jIfl4sZadq2W2j0_A8iIfdPLTJwg=s64",
      "userId": "02334418294935870107"
     },
     "user_tz": 360
    },
    "id": "xzGxqV64DCpE",
    "outputId": "ad237b05-1b48-4a8e-9107-29a5c53f6862"
   },
   "outputs": [
    {
     "data": {
      "text/plain": [
       "array([[0., 0., 0.],\n",
       "       [0., 0., 0.]])"
      ]
     },
     "execution_count": 25,
     "metadata": {},
     "output_type": "execute_result"
    }
   ],
   "source": [
    "np.zeros((2, 3))"
   ]
  },
  {
   "cell_type": "code",
   "execution_count": 26,
   "metadata": {
    "colab": {
     "base_uri": "https://localhost:8080/"
    },
    "executionInfo": {
     "elapsed": 93,
     "status": "ok",
     "timestamp": 1642709321681,
     "user": {
      "displayName": "Ramchandra Rimal",
      "photoUrl": "https://lh3.googleusercontent.com/a-/AOh14GiAeFifdymzS1jIfl4sZadq2W2j0_A8iIfdPLTJwg=s64",
      "userId": "02334418294935870107"
     },
     "user_tz": 360
    },
    "id": "PTRnSKbgDCpE",
    "outputId": "c1e22edc-cb43-4322-81c8-4faef3740ea4"
   },
   "outputs": [
    {
     "data": {
      "text/plain": [
       "array([[3., 3., 3., 3.],\n",
       "       [3., 3., 3., 3.]])"
      ]
     },
     "execution_count": 26,
     "metadata": {},
     "output_type": "execute_result"
    }
   ],
   "source": [
    "3*np.ones((2,4))"
   ]
  },
  {
   "cell_type": "code",
   "execution_count": 29,
   "metadata": {
    "colab": {
     "base_uri": "https://localhost:8080/"
    },
    "executionInfo": {
     "elapsed": 108,
     "status": "ok",
     "timestamp": 1642709337532,
     "user": {
      "displayName": "Ramchandra Rimal",
      "photoUrl": "https://lh3.googleusercontent.com/a-/AOh14GiAeFifdymzS1jIfl4sZadq2W2j0_A8iIfdPLTJwg=s64",
      "userId": "02334418294935870107"
     },
     "user_tz": 360
    },
    "id": "AcHO2WhBDCpE",
    "outputId": "247a74e1-4499-4f35-8663-f6561f2e66d1"
   },
   "outputs": [
    {
     "data": {
      "text/plain": [
       "array([0., 2., 4., 6., 8.])"
      ]
     },
     "execution_count": 29,
     "metadata": {},
     "output_type": "execute_result"
    }
   ],
   "source": [
    "#np.arange(0, 10, 1)\n",
    "np.arange(0.0, 10.0, 2)#start, end and by(step size)"
   ]
  },
  {
   "cell_type": "code",
   "execution_count": 30,
   "metadata": {
    "colab": {
     "base_uri": "https://localhost:8080/"
    },
    "executionInfo": {
     "elapsed": 91,
     "status": "ok",
     "timestamp": 1642709346326,
     "user": {
      "displayName": "Ramchandra Rimal",
      "photoUrl": "https://lh3.googleusercontent.com/a-/AOh14GiAeFifdymzS1jIfl4sZadq2W2j0_A8iIfdPLTJwg=s64",
      "userId": "02334418294935870107"
     },
     "user_tz": 360
    },
    "id": "ehWPDXF3DCpE",
    "outputId": "b7fbbbec-448b-498e-8fca-35250cb05324"
   },
   "outputs": [
    {
     "data": {
      "text/plain": [
       "array([ 0.,  1.,  2.,  3.,  4.,  5.,  6.,  7.,  8.,  9., 10.])"
      ]
     },
     "execution_count": 30,
     "metadata": {},
     "output_type": "execute_result"
    }
   ],
   "source": [
    "np.linspace(0.0, 10.0, 11) #third argument is number of elements"
   ]
  },
  {
   "cell_type": "code",
   "execution_count": 31,
   "metadata": {
    "colab": {
     "base_uri": "https://localhost:8080/"
    },
    "executionInfo": {
     "elapsed": 115,
     "status": "ok",
     "timestamp": 1642709366103,
     "user": {
      "displayName": "Ramchandra Rimal",
      "photoUrl": "https://lh3.googleusercontent.com/a-/AOh14GiAeFifdymzS1jIfl4sZadq2W2j0_A8iIfdPLTJwg=s64",
      "userId": "02334418294935870107"
     },
     "user_tz": 360
    },
    "id": "JHOTIkFJDCpF",
    "outputId": "a4591768-6de6-44a2-edf4-66d2d13ab798"
   },
   "outputs": [
    {
     "data": {
      "text/plain": [
       "array([  1.        ,   3.16227766,  10.        ,  31.6227766 ,\n",
       "       100.        ])"
      ]
     },
     "execution_count": 31,
     "metadata": {},
     "output_type": "execute_result"
    }
   ],
   "source": [
    "np.logspace(0, 2, 5)  # 5 data points in log scale between 10**0=1 to 10**2=100"
   ]
  },
  {
   "cell_type": "code",
   "execution_count": 32,
   "metadata": {
    "executionInfo": {
     "elapsed": 91,
     "status": "ok",
     "timestamp": 1642709390612,
     "user": {
      "displayName": "Ramchandra Rimal",
      "photoUrl": "https://lh3.googleusercontent.com/a-/AOh14GiAeFifdymzS1jIfl4sZadq2W2j0_A8iIfdPLTJwg=s64",
      "userId": "02334418294935870107"
     },
     "user_tz": 360
    },
    "id": "NPVW9a6ADCpF"
   },
   "outputs": [],
   "source": [
    "x = np.array([-1, 0, 1])\n",
    "y = np.array([-2, 0, 2])\n",
    "X, Y = np.meshgrid(x, y)\n",
    "#help(np.meshgrid)"
   ]
  },
  {
   "cell_type": "code",
   "execution_count": 33,
   "metadata": {
    "colab": {
     "base_uri": "https://localhost:8080/"
    },
    "executionInfo": {
     "elapsed": 99,
     "status": "ok",
     "timestamp": 1642709394157,
     "user": {
      "displayName": "Ramchandra Rimal",
      "photoUrl": "https://lh3.googleusercontent.com/a-/AOh14GiAeFifdymzS1jIfl4sZadq2W2j0_A8iIfdPLTJwg=s64",
      "userId": "02334418294935870107"
     },
     "user_tz": 360
    },
    "id": "Frg234H5DCpF",
    "outputId": "57bb66af-a15a-464c-8568-fa0cd6fcae7c"
   },
   "outputs": [
    {
     "data": {
      "text/plain": [
       "array([[-1,  0,  1],\n",
       "       [-1,  0,  1],\n",
       "       [-1,  0,  1]])"
      ]
     },
     "execution_count": 33,
     "metadata": {},
     "output_type": "execute_result"
    }
   ],
   "source": [
    "X"
   ]
  },
  {
   "cell_type": "code",
   "execution_count": 34,
   "metadata": {
    "colab": {
     "base_uri": "https://localhost:8080/"
    },
    "executionInfo": {
     "elapsed": 101,
     "status": "ok",
     "timestamp": 1642709394669,
     "user": {
      "displayName": "Ramchandra Rimal",
      "photoUrl": "https://lh3.googleusercontent.com/a-/AOh14GiAeFifdymzS1jIfl4sZadq2W2j0_A8iIfdPLTJwg=s64",
      "userId": "02334418294935870107"
     },
     "user_tz": 360
    },
    "id": "39NCtS5kDCpF",
    "outputId": "1f53c842-558f-4e58-c150-c7e069b3424b"
   },
   "outputs": [
    {
     "data": {
      "text/plain": [
       "array([[-2, -2, -2],\n",
       "       [ 0,  0,  0],\n",
       "       [ 2,  2,  2]])"
      ]
     },
     "execution_count": 34,
     "metadata": {},
     "output_type": "execute_result"
    }
   ],
   "source": [
    "Y"
   ]
  },
  {
   "cell_type": "markdown",
   "metadata": {
    "id": "A-UF6r64DCpG"
   },
   "source": [
    "## **Creating arrays with properties of other arrays**"
   ]
  },
  {
   "cell_type": "code",
   "execution_count": 35,
   "metadata": {
    "colab": {
     "base_uri": "https://localhost:8080/"
    },
    "executionInfo": {
     "elapsed": 106,
     "status": "ok",
     "timestamp": 1642709459676,
     "user": {
      "displayName": "Ramchandra Rimal",
      "photoUrl": "https://lh3.googleusercontent.com/a-/AOh14GiAeFifdymzS1jIfl4sZadq2W2j0_A8iIfdPLTJwg=s64",
      "userId": "02334418294935870107"
     },
     "user_tz": 360
    },
    "id": "TflHc_hWDCpG",
    "outputId": "2b70b8fd-3bef-4ea5-812a-4667dd886c1f"
   },
   "outputs": [
    {
     "data": {
      "text/plain": [
       "array([1, 1, 1])"
      ]
     },
     "execution_count": 35,
     "metadata": {},
     "output_type": "execute_result"
    }
   ],
   "source": [
    "x = np.array([3,4,6])\n",
    "z = np.ones_like(x)\n",
    "z"
   ]
  },
  {
   "cell_type": "code",
   "execution_count": 36,
   "metadata": {
    "colab": {
     "base_uri": "https://localhost:8080/"
    },
    "executionInfo": {
     "elapsed": 129,
     "status": "ok",
     "timestamp": 1642709475902,
     "user": {
      "displayName": "Ramchandra Rimal",
      "photoUrl": "https://lh3.googleusercontent.com/a-/AOh14GiAeFifdymzS1jIfl4sZadq2W2j0_A8iIfdPLTJwg=s64",
      "userId": "02334418294935870107"
     },
     "user_tz": 360
    },
    "id": "SCOjGl_zDCpH",
    "outputId": "a1dcd155-0ce3-4f6e-8a91-8342273e84fa"
   },
   "outputs": [
    {
     "data": {
      "text/plain": [
       "array([[0., 0., 0.],\n",
       "       [0., 0., 0.]])"
      ]
     },
     "execution_count": 36,
     "metadata": {},
     "output_type": "execute_result"
    }
   ],
   "source": [
    "a = np.array([[1, 2, 3], [4, 5, 6]], float)\n",
    "np.zeros_like(a)"
   ]
  },
  {
   "cell_type": "markdown",
   "metadata": {
    "id": "_7Wv5HgjDCpH"
   },
   "source": [
    "## **Creating matrices (2D arrays)**\n"
   ]
  },
  {
   "cell_type": "code",
   "execution_count": 37,
   "metadata": {
    "colab": {
     "base_uri": "https://localhost:8080/"
    },
    "executionInfo": {
     "elapsed": 120,
     "status": "ok",
     "timestamp": 1642709484195,
     "user": {
      "displayName": "Ramchandra Rimal",
      "photoUrl": "https://lh3.googleusercontent.com/a-/AOh14GiAeFifdymzS1jIfl4sZadq2W2j0_A8iIfdPLTJwg=s64",
      "userId": "02334418294935870107"
     },
     "user_tz": 360
    },
    "id": "owHD1zzxDCpI",
    "outputId": "2d1a96a3-dcb7-46b8-88cd-5d043b5d1ab4"
   },
   "outputs": [
    {
     "data": {
      "text/plain": [
       "array([[1., 0., 0., 0.],\n",
       "       [0., 1., 0., 0.],\n",
       "       [0., 0., 1., 0.],\n",
       "       [0., 0., 0., 1.]])"
      ]
     },
     "execution_count": 37,
     "metadata": {},
     "output_type": "execute_result"
    }
   ],
   "source": [
    "np.identity(4)"
   ]
  },
  {
   "cell_type": "code",
   "execution_count": 38,
   "metadata": {
    "colab": {
     "base_uri": "https://localhost:8080/"
    },
    "executionInfo": {
     "elapsed": 103,
     "status": "ok",
     "timestamp": 1642709494695,
     "user": {
      "displayName": "Ramchandra Rimal",
      "photoUrl": "https://lh3.googleusercontent.com/a-/AOh14GiAeFifdymzS1jIfl4sZadq2W2j0_A8iIfdPLTJwg=s64",
      "userId": "02334418294935870107"
     },
     "user_tz": 360
    },
    "id": "6KfLfbz7DCpI",
    "outputId": "b02babe1-0af9-434e-8beb-af9d4c842dfc"
   },
   "outputs": [
    {
     "data": {
      "text/plain": [
       "array([[1., 0., 0.],\n",
       "       [0., 1., 0.],\n",
       "       [0., 0., 1.]])"
      ]
     },
     "execution_count": 38,
     "metadata": {},
     "output_type": "execute_result"
    }
   ],
   "source": [
    "np.eye(3, k = 0)"
   ]
  },
  {
   "cell_type": "code",
   "execution_count": 39,
   "metadata": {
    "colab": {
     "base_uri": "https://localhost:8080/"
    },
    "executionInfo": {
     "elapsed": 115,
     "status": "ok",
     "timestamp": 1642709503308,
     "user": {
      "displayName": "Ramchandra Rimal",
      "photoUrl": "https://lh3.googleusercontent.com/a-/AOh14GiAeFifdymzS1jIfl4sZadq2W2j0_A8iIfdPLTJwg=s64",
      "userId": "02334418294935870107"
     },
     "user_tz": 360
    },
    "id": "kRCE5rNNDCpJ",
    "outputId": "844af747-2951-4403-baf0-42c09ac0d5b4"
   },
   "outputs": [
    {
     "data": {
      "text/plain": [
       "array([[0., 1., 0.],\n",
       "       [0., 0., 1.],\n",
       "       [0., 0., 0.]])"
      ]
     },
     "execution_count": 39,
     "metadata": {},
     "output_type": "execute_result"
    }
   ],
   "source": [
    "np.eye(3, k = 1)"
   ]
  },
  {
   "cell_type": "code",
   "execution_count": 40,
   "metadata": {
    "colab": {
     "base_uri": "https://localhost:8080/"
    },
    "executionInfo": {
     "elapsed": 96,
     "status": "ok",
     "timestamp": 1642709506314,
     "user": {
      "displayName": "Ramchandra Rimal",
      "photoUrl": "https://lh3.googleusercontent.com/a-/AOh14GiAeFifdymzS1jIfl4sZadq2W2j0_A8iIfdPLTJwg=s64",
      "userId": "02334418294935870107"
     },
     "user_tz": 360
    },
    "id": "qQXQNxi9DCpJ",
    "outputId": "13e429c8-1f4e-4c46-915f-cd445bca2886"
   },
   "outputs": [
    {
     "data": {
      "text/plain": [
       "array([[0., 0., 0.],\n",
       "       [1., 0., 0.],\n",
       "       [0., 1., 0.]])"
      ]
     },
     "execution_count": 40,
     "metadata": {},
     "output_type": "execute_result"
    }
   ],
   "source": [
    "np.eye(3, k = -1)"
   ]
  },
  {
   "cell_type": "code",
   "execution_count": 41,
   "metadata": {
    "colab": {
     "base_uri": "https://localhost:8080/"
    },
    "executionInfo": {
     "elapsed": 94,
     "status": "ok",
     "timestamp": 1642709572547,
     "user": {
      "displayName": "Ramchandra Rimal",
      "photoUrl": "https://lh3.googleusercontent.com/a-/AOh14GiAeFifdymzS1jIfl4sZadq2W2j0_A8iIfdPLTJwg=s64",
      "userId": "02334418294935870107"
     },
     "user_tz": 360
    },
    "id": "Dc2IBH1HDCpJ",
    "outputId": "5965fce4-abb2-4674-8c48-264096d004c7"
   },
   "outputs": [
    {
     "data": {
      "text/plain": [
       "array([[ 0,  0,  0,  0,  0,  0,  0,  0],\n",
       "       [ 0,  5,  0,  0,  0,  0,  0,  0],\n",
       "       [ 0,  0, 10,  0,  0,  0,  0,  0],\n",
       "       [ 0,  0,  0, 15,  0,  0,  0,  0],\n",
       "       [ 0,  0,  0,  0, 20,  0,  0,  0],\n",
       "       [ 0,  0,  0,  0,  0, 25,  0,  0],\n",
       "       [ 0,  0,  0,  0,  0,  0, 30,  0],\n",
       "       [ 0,  0,  0,  0,  0,  0,  0, 35]])"
      ]
     },
     "execution_count": 41,
     "metadata": {},
     "output_type": "execute_result"
    }
   ],
   "source": [
    "np.diag(np.arange(0, 40, 5))"
   ]
  },
  {
   "cell_type": "markdown",
   "metadata": {
    "id": "uA9VjQLdDCpJ"
   },
   "source": [
    "## **Some basic operations on arrays**\n",
    "\n",
    " Assume a is an array.\n",
    " \n",
    "- **a.shape**: Array dimensions\n",
    "- **len(a)**: Length of array\n",
    "- **a.ndim**: Number of array dimensions\n",
    "- **a.size**: Number of array elements\n",
    "- **a.dtype**: Data type of array elements\n",
    "- **a.astype(int)**:  Converting datatype to integer, can covert to string by str and so on\n"
   ]
  },
  {
   "cell_type": "code",
   "execution_count": 42,
   "metadata": {
    "colab": {
     "base_uri": "https://localhost:8080/"
    },
    "executionInfo": {
     "elapsed": 104,
     "status": "ok",
     "timestamp": 1642709614714,
     "user": {
      "displayName": "Ramchandra Rimal",
      "photoUrl": "https://lh3.googleusercontent.com/a-/AOh14GiAeFifdymzS1jIfl4sZadq2W2j0_A8iIfdPLTJwg=s64",
      "userId": "02334418294935870107"
     },
     "user_tz": 360
    },
    "id": "CAtk74nRDCpK",
    "outputId": "81111328-ef63-486b-bf5f-b66114d46c27"
   },
   "outputs": [
    {
     "data": {
      "text/plain": [
       "array([[4. , 5. , 6. ],\n",
       "       [4. , 5.1, 6. ]])"
      ]
     },
     "execution_count": 42,
     "metadata": {},
     "output_type": "execute_result"
    }
   ],
   "source": [
    "a = np.array([[4,5,6], [4,5.1,6]])\n",
    "a\n",
    "#len(a)\n",
    "#a.shape\n",
    "#a.ndim\n",
    "#a.dtype\n",
    "#a.size"
   ]
  },
  {
   "cell_type": "code",
   "execution_count": 43,
   "metadata": {
    "colab": {
     "base_uri": "https://localhost:8080/"
    },
    "executionInfo": {
     "elapsed": 86,
     "status": "ok",
     "timestamp": 1642709635482,
     "user": {
      "displayName": "Ramchandra Rimal",
      "photoUrl": "https://lh3.googleusercontent.com/a-/AOh14GiAeFifdymzS1jIfl4sZadq2W2j0_A8iIfdPLTJwg=s64",
      "userId": "02334418294935870107"
     },
     "user_tz": 360
    },
    "id": "mL3wKDnXJLXE",
    "outputId": "25afb9bc-6a4c-48b2-a4d9-0252d4329c02"
   },
   "outputs": [
    {
     "data": {
      "text/plain": [
       "(2, 3)"
      ]
     },
     "execution_count": 43,
     "metadata": {},
     "output_type": "execute_result"
    }
   ],
   "source": [
    "a.shape"
   ]
  },
  {
   "cell_type": "code",
   "execution_count": 44,
   "metadata": {
    "colab": {
     "base_uri": "https://localhost:8080/"
    },
    "executionInfo": {
     "elapsed": 229,
     "status": "ok",
     "timestamp": 1642709649114,
     "user": {
      "displayName": "Ramchandra Rimal",
      "photoUrl": "https://lh3.googleusercontent.com/a-/AOh14GiAeFifdymzS1jIfl4sZadq2W2j0_A8iIfdPLTJwg=s64",
      "userId": "02334418294935870107"
     },
     "user_tz": 360
    },
    "id": "wKCdPd_dJUxC",
    "outputId": "9e519892-642e-45e6-dc26-4e3a23b97411"
   },
   "outputs": [
    {
     "data": {
      "text/plain": [
       "2"
      ]
     },
     "execution_count": 44,
     "metadata": {},
     "output_type": "execute_result"
    }
   ],
   "source": [
    "a.ndim"
   ]
  },
  {
   "cell_type": "code",
   "execution_count": 45,
   "metadata": {
    "colab": {
     "base_uri": "https://localhost:8080/"
    },
    "executionInfo": {
     "elapsed": 157,
     "status": "ok",
     "timestamp": 1642709657919,
     "user": {
      "displayName": "Ramchandra Rimal",
      "photoUrl": "https://lh3.googleusercontent.com/a-/AOh14GiAeFifdymzS1jIfl4sZadq2W2j0_A8iIfdPLTJwg=s64",
      "userId": "02334418294935870107"
     },
     "user_tz": 360
    },
    "id": "OUVPH7q0JUe0",
    "outputId": "eb7e0b36-8d5e-4684-daab-7a6d31346b7c"
   },
   "outputs": [
    {
     "data": {
      "text/plain": [
       "dtype('float64')"
      ]
     },
     "execution_count": 45,
     "metadata": {},
     "output_type": "execute_result"
    }
   ],
   "source": [
    "a.dtype"
   ]
  },
  {
   "cell_type": "code",
   "execution_count": 46,
   "metadata": {
    "colab": {
     "base_uri": "https://localhost:8080/"
    },
    "executionInfo": {
     "elapsed": 113,
     "status": "ok",
     "timestamp": 1642709665585,
     "user": {
      "displayName": "Ramchandra Rimal",
      "photoUrl": "https://lh3.googleusercontent.com/a-/AOh14GiAeFifdymzS1jIfl4sZadq2W2j0_A8iIfdPLTJwg=s64",
      "userId": "02334418294935870107"
     },
     "user_tz": 360
    },
    "id": "PKlJcf7hJZ9b",
    "outputId": "d8e862de-c224-4d76-bd0b-f0bba7889d74"
   },
   "outputs": [
    {
     "data": {
      "text/plain": [
       "6"
      ]
     },
     "execution_count": 46,
     "metadata": {},
     "output_type": "execute_result"
    }
   ],
   "source": [
    "a.size"
   ]
  },
  {
   "cell_type": "markdown",
   "metadata": {
    "id": "Da_150VDDCpK"
   },
   "source": [
    "\n",
    "## **Array reshaping and resizing**\n",
    "\n",
    "We can re-organize given data by reshaping and resizing. The following are some of the methods to accomplish these tasks.\n",
    "\n",
    "**Function Name**     | **Description**\n",
    "----------------------|--------------------------\n",
    "**np.reshape()** or **np.ndarray.reshape()**:        | Reshape an n-dimensional array.\n",
    "**np.ndarray.flatten()**:     | Creates a copy of an N-dimensional array by collapsing all dimensions into one.\n",
    "**np.ravel()**, **np.ndarray.ravel()**:          |  Creats a view (does not change original) of N-dimensional array as it interpreted as one dimensional.\n",
    "**np.newaxis()**:          | Add a new axis (dimension)\n",
    "**np.transpopse()**, **np.ndarray.T**:       | Transose the array\n",
    "**np.vstack()**:      | Stacks a list of arrays vertically (along axis = 0)\n",
    "**np.hstack()**:      | Stacks a list of arrays horizontally (along axis = 1)\n",
    "**np.dstack()**:      | Stacks a list of arrays depth-wise (along axis = 2)\n",
    "**np.concatenate()**: | Creates a new array by appending arrays after each other, along a given axis\n",
    "**np.resize()**:      | Creates a new copy of the original array with the requested size. \n",
    "**np.append()**:      | Appends an element to an array. Creates a new copy of the array\n",
    "**np.insert()**:      | Inserts a new element at a given position. Creates a new copy of the array.\n",
    "**np.delete()**:      | Deletes element from a given position. Creates a new copy of the array.\n",
    "\n"
   ]
  },
  {
   "cell_type": "code",
   "execution_count": 47,
   "metadata": {
    "colab": {
     "base_uri": "https://localhost:8080/"
    },
    "executionInfo": {
     "elapsed": 115,
     "status": "ok",
     "timestamp": 1642709834193,
     "user": {
      "displayName": "Ramchandra Rimal",
      "photoUrl": "https://lh3.googleusercontent.com/a-/AOh14GiAeFifdymzS1jIfl4sZadq2W2j0_A8iIfdPLTJwg=s64",
      "userId": "02334418294935870107"
     },
     "user_tz": 360
    },
    "id": "iRFeyfDvDCpL",
    "outputId": "a65acfb9-63e4-4821-fed0-1625f9afddc0"
   },
   "outputs": [
    {
     "data": {
      "text/plain": [
       "array([0, 1, 2, 3, 4, 5, 6, 7, 8, 9])"
      ]
     },
     "execution_count": 47,
     "metadata": {},
     "output_type": "execute_result"
    }
   ],
   "source": [
    "a = np.arange(0,10)\n",
    "a"
   ]
  },
  {
   "cell_type": "code",
   "execution_count": 48,
   "metadata": {
    "colab": {
     "base_uri": "https://localhost:8080/"
    },
    "executionInfo": {
     "elapsed": 124,
     "status": "ok",
     "timestamp": 1642709841909,
     "user": {
      "displayName": "Ramchandra Rimal",
      "photoUrl": "https://lh3.googleusercontent.com/a-/AOh14GiAeFifdymzS1jIfl4sZadq2W2j0_A8iIfdPLTJwg=s64",
      "userId": "02334418294935870107"
     },
     "user_tz": 360
    },
    "id": "2CdDf7iJDCpL",
    "outputId": "a924c74f-f9a2-42bd-f0c0-81a4361497d8"
   },
   "outputs": [
    {
     "data": {
      "text/plain": [
       "array([[0, 1, 2, 3, 4],\n",
       "       [5, 6, 7, 8, 9]])"
      ]
     },
     "execution_count": 48,
     "metadata": {},
     "output_type": "execute_result"
    }
   ],
   "source": [
    "a.reshape((2, 5)) # it is just a view, original variable will not be changed.\n"
   ]
  },
  {
   "cell_type": "code",
   "execution_count": 49,
   "metadata": {},
   "outputs": [
    {
     "data": {
      "text/plain": [
       "array([[0, 1, 2, 3, 4],\n",
       "       [5, 6, 7, 8, 9]])"
      ]
     },
     "execution_count": 49,
     "metadata": {},
     "output_type": "execute_result"
    }
   ],
   "source": [
    "b = a.reshape((2, 5)) #the reshaped array is assigned to b\n",
    "b"
   ]
  },
  {
   "cell_type": "code",
   "execution_count": 50,
   "metadata": {
    "colab": {
     "base_uri": "https://localhost:8080/"
    },
    "executionInfo": {
     "elapsed": 144,
     "status": "ok",
     "timestamp": 1642709859772,
     "user": {
      "displayName": "Ramchandra Rimal",
      "photoUrl": "https://lh3.googleusercontent.com/a-/AOh14GiAeFifdymzS1jIfl4sZadq2W2j0_A8iIfdPLTJwg=s64",
      "userId": "02334418294935870107"
     },
     "user_tz": 360
    },
    "id": "Singzk9YDCpL",
    "outputId": "81c8dd6f-8c9e-4def-b2cf-5f9a6b4cb7a8"
   },
   "outputs": [
    {
     "data": {
      "text/plain": [
       "array([0, 1, 2, 3, 4, 5, 6, 7, 8, 9])"
      ]
     },
     "execution_count": 50,
     "metadata": {},
     "output_type": "execute_result"
    }
   ],
   "source": [
    "a"
   ]
  },
  {
   "cell_type": "code",
   "execution_count": 51,
   "metadata": {
    "colab": {
     "base_uri": "https://localhost:8080/"
    },
    "executionInfo": {
     "elapsed": 220,
     "status": "ok",
     "timestamp": 1642709863104,
     "user": {
      "displayName": "Ramchandra Rimal",
      "photoUrl": "https://lh3.googleusercontent.com/a-/AOh14GiAeFifdymzS1jIfl4sZadq2W2j0_A8iIfdPLTJwg=s64",
      "userId": "02334418294935870107"
     },
     "user_tz": 360
    },
    "id": "uapJdC-hDCpL",
    "outputId": "70e3d224-429e-43b4-9490-72c82d212f6a"
   },
   "outputs": [
    {
     "data": {
      "text/plain": [
       "(10,)"
      ]
     },
     "execution_count": 51,
     "metadata": {},
     "output_type": "execute_result"
    }
   ],
   "source": [
    "a.shape"
   ]
  },
  {
   "cell_type": "code",
   "execution_count": 52,
   "metadata": {
    "colab": {
     "base_uri": "https://localhost:8080/"
    },
    "executionInfo": {
     "elapsed": 92,
     "status": "ok",
     "timestamp": 1642709912386,
     "user": {
      "displayName": "Ramchandra Rimal",
      "photoUrl": "https://lh3.googleusercontent.com/a-/AOh14GiAeFifdymzS1jIfl4sZadq2W2j0_A8iIfdPLTJwg=s64",
      "userId": "02334418294935870107"
     },
     "user_tz": 360
    },
    "id": "KG6x7A4dDCpL",
    "outputId": "6097edd4-e0c1-4603-e6ed-1fa1922ef240"
   },
   "outputs": [
    {
     "data": {
      "text/plain": [
       "array([[0, 1, 2, 3, 4],\n",
       "       [5, 6, 7, 8, 9]])"
      ]
     },
     "execution_count": 52,
     "metadata": {},
     "output_type": "execute_result"
    }
   ],
   "source": [
    "b"
   ]
  },
  {
   "cell_type": "code",
   "execution_count": 53,
   "metadata": {
    "colab": {
     "base_uri": "https://localhost:8080/"
    },
    "executionInfo": {
     "elapsed": 91,
     "status": "ok",
     "timestamp": 1642709914575,
     "user": {
      "displayName": "Ramchandra Rimal",
      "photoUrl": "https://lh3.googleusercontent.com/a-/AOh14GiAeFifdymzS1jIfl4sZadq2W2j0_A8iIfdPLTJwg=s64",
      "userId": "02334418294935870107"
     },
     "user_tz": 360
    },
    "id": "8U6bz4tDDCpM",
    "outputId": "17fd0192-2686-433c-f791-0d4748b0fcd5"
   },
   "outputs": [
    {
     "data": {
      "text/plain": [
       "(2, 5)"
      ]
     },
     "execution_count": 53,
     "metadata": {},
     "output_type": "execute_result"
    }
   ],
   "source": [
    "b.shape"
   ]
  },
  {
   "cell_type": "code",
   "execution_count": 54,
   "metadata": {
    "colab": {
     "base_uri": "https://localhost:8080/"
    },
    "executionInfo": {
     "elapsed": 96,
     "status": "ok",
     "timestamp": 1642709915861,
     "user": {
      "displayName": "Ramchandra Rimal",
      "photoUrl": "https://lh3.googleusercontent.com/a-/AOh14GiAeFifdymzS1jIfl4sZadq2W2j0_A8iIfdPLTJwg=s64",
      "userId": "02334418294935870107"
     },
     "user_tz": 360
    },
    "id": "fToGeYSvDCpM",
    "outputId": "fdcbaf0c-5416-4ff5-ebdf-1bfb3289a82d"
   },
   "outputs": [
    {
     "data": {
      "text/plain": [
       "array([0, 1, 2, 3, 4, 5, 6, 7, 8, 9])"
      ]
     },
     "execution_count": 54,
     "metadata": {},
     "output_type": "execute_result"
    }
   ],
   "source": [
    "b.flatten() #One-dimensional versions of multi-dimensional arrays can be generated with flatten()"
   ]
  },
  {
   "cell_type": "code",
   "execution_count": 55,
   "metadata": {
    "colab": {
     "base_uri": "https://localhost:8080/"
    },
    "executionInfo": {
     "elapsed": 97,
     "status": "ok",
     "timestamp": 1642709919107,
     "user": {
      "displayName": "Ramchandra Rimal",
      "photoUrl": "https://lh3.googleusercontent.com/a-/AOh14GiAeFifdymzS1jIfl4sZadq2W2j0_A8iIfdPLTJwg=s64",
      "userId": "02334418294935870107"
     },
     "user_tz": 360
    },
    "id": "dhnQYMiuDCpM",
    "outputId": "43b0d4a9-697a-4088-ed6e-be1a7f3c7393"
   },
   "outputs": [
    {
     "data": {
      "text/plain": [
       "array([[0, 1, 2, 3, 4],\n",
       "       [5, 6, 7, 8, 9]])"
      ]
     },
     "execution_count": 55,
     "metadata": {},
     "output_type": "execute_result"
    }
   ],
   "source": [
    "b"
   ]
  },
  {
   "cell_type": "code",
   "execution_count": 56,
   "metadata": {
    "colab": {
     "base_uri": "https://localhost:8080/"
    },
    "executionInfo": {
     "elapsed": 87,
     "status": "ok",
     "timestamp": 1642709923443,
     "user": {
      "displayName": "Ramchandra Rimal",
      "photoUrl": "https://lh3.googleusercontent.com/a-/AOh14GiAeFifdymzS1jIfl4sZadq2W2j0_A8iIfdPLTJwg=s64",
      "userId": "02334418294935870107"
     },
     "user_tz": 360
    },
    "id": "8_uSJChjDCpM",
    "outputId": "990eb654-bdba-418f-91ce-5e3597522618"
   },
   "outputs": [
    {
     "data": {
      "text/plain": [
       "array([0, 1, 2, 3, 4, 5, 6, 7, 8, 9])"
      ]
     },
     "execution_count": 56,
     "metadata": {},
     "output_type": "execute_result"
    }
   ],
   "source": [
    "b.ravel()"
   ]
  },
  {
   "cell_type": "code",
   "execution_count": 57,
   "metadata": {
    "colab": {
     "base_uri": "https://localhost:8080/"
    },
    "executionInfo": {
     "elapsed": 82,
     "status": "ok",
     "timestamp": 1642709926497,
     "user": {
      "displayName": "Ramchandra Rimal",
      "photoUrl": "https://lh3.googleusercontent.com/a-/AOh14GiAeFifdymzS1jIfl4sZadq2W2j0_A8iIfdPLTJwg=s64",
      "userId": "02334418294935870107"
     },
     "user_tz": 360
    },
    "id": "_COZ5DlvDCpN",
    "outputId": "9e4c4097-3b3b-4ffc-8eac-4dc828e00ce4"
   },
   "outputs": [
    {
     "data": {
      "text/plain": [
       "array([[0, 1, 2, 3, 4],\n",
       "       [5, 6, 7, 8, 9]])"
      ]
     },
     "execution_count": 57,
     "metadata": {},
     "output_type": "execute_result"
    }
   ],
   "source": [
    "b"
   ]
  },
  {
   "cell_type": "code",
   "execution_count": 58,
   "metadata": {
    "colab": {
     "base_uri": "https://localhost:8080/"
    },
    "executionInfo": {
     "elapsed": 108,
     "status": "ok",
     "timestamp": 1642709928507,
     "user": {
      "displayName": "Ramchandra Rimal",
      "photoUrl": "https://lh3.googleusercontent.com/a-/AOh14GiAeFifdymzS1jIfl4sZadq2W2j0_A8iIfdPLTJwg=s64",
      "userId": "02334418294935870107"
     },
     "user_tz": 360
    },
    "id": "5Ei10RaKDCpN",
    "outputId": "214a4716-c14a-439c-e5c3-24269770f11c"
   },
   "outputs": [
    {
     "data": {
      "text/plain": [
       "array([[0, 1, 2, 3, 4],\n",
       "       [5, 6, 7, 8, 9],\n",
       "       [0, 1, 2, 3, 4],\n",
       "       [5, 6, 7, 8, 9]])"
      ]
     },
     "execution_count": 58,
     "metadata": {},
     "output_type": "execute_result"
    }
   ],
   "source": [
    "np.vstack((b,b))"
   ]
  },
  {
   "cell_type": "code",
   "execution_count": 59,
   "metadata": {
    "colab": {
     "base_uri": "https://localhost:8080/"
    },
    "executionInfo": {
     "elapsed": 88,
     "status": "ok",
     "timestamp": 1642709966073,
     "user": {
      "displayName": "Ramchandra Rimal",
      "photoUrl": "https://lh3.googleusercontent.com/a-/AOh14GiAeFifdymzS1jIfl4sZadq2W2j0_A8iIfdPLTJwg=s64",
      "userId": "02334418294935870107"
     },
     "user_tz": 360
    },
    "id": "U6Q1AnmqDCpN",
    "outputId": "4035f5d7-2aa5-4363-c2d3-663fd6709e8d"
   },
   "outputs": [
    {
     "data": {
      "text/plain": [
       "array([[0, 1, 2, 3, 4, 0, 1, 2, 3, 4],\n",
       "       [5, 6, 7, 8, 9, 5, 6, 7, 8, 9]])"
      ]
     },
     "execution_count": 59,
     "metadata": {},
     "output_type": "execute_result"
    }
   ],
   "source": [
    "np.hstack((b,b))"
   ]
  },
  {
   "cell_type": "markdown",
   "metadata": {
    "id": "5EHUyw0nDCpN"
   },
   "source": [
    "Two or more arrays can be concatenated together using the concatenate function with a\n",
    "tuple of the arrays to be joined.\n",
    "\n"
   ]
  },
  {
   "cell_type": "code",
   "execution_count": 91,
   "metadata": {
    "colab": {
     "base_uri": "https://localhost:8080/"
    },
    "executionInfo": {
     "elapsed": 82,
     "status": "ok",
     "timestamp": 1642709984135,
     "user": {
      "displayName": "Ramchandra Rimal",
      "photoUrl": "https://lh3.googleusercontent.com/a-/AOh14GiAeFifdymzS1jIfl4sZadq2W2j0_A8iIfdPLTJwg=s64",
      "userId": "02334418294935870107"
     },
     "user_tz": 360
    },
    "id": "UBpqpGNVDCpN",
    "outputId": "5f4c600b-2a27-43d8-a53f-53e959ff804b"
   },
   "outputs": [
    {
     "data": {
      "text/plain": [
       "array([ 0.,  1.,  2.,  3.,  4.,  5.,  6.,  7.,  8.,  9., 10.])"
      ]
     },
     "execution_count": 91,
     "metadata": {},
     "output_type": "execute_result"
    }
   ],
   "source": [
    "x = np.array([0,1,2], float)\n",
    "y = np.array([3,4,5,6], float)\n",
    "z = np.array([7,8,9,10], float)\n",
    "np.concatenate((x, y, z))"
   ]
  },
  {
   "cell_type": "markdown",
   "metadata": {
    "id": "5-GGDuygDCpN"
   },
   "source": [
    "If an array has more than one dimension, it is possible to specify the axis along which multiple\n",
    "arrays are concatenated. By default (without specifying the axis), NumPy concatenates along\n",
    "the first dimension.\n",
    "\n"
   ]
  },
  {
   "cell_type": "code",
   "execution_count": 60,
   "metadata": {
    "colab": {
     "base_uri": "https://localhost:8080/"
    },
    "executionInfo": {
     "elapsed": 91,
     "status": "ok",
     "timestamp": 1642710012568,
     "user": {
      "displayName": "Ramchandra Rimal",
      "photoUrl": "https://lh3.googleusercontent.com/a-/AOh14GiAeFifdymzS1jIfl4sZadq2W2j0_A8iIfdPLTJwg=s64",
      "userId": "02334418294935870107"
     },
     "user_tz": 360
    },
    "id": "jfuVUaI9DCpN",
    "outputId": "7d83b477-5eb1-4cff-9a6b-c8a7142ebeed"
   },
   "outputs": [
    {
     "data": {
      "text/plain": [
       "array([[1., 2.],\n",
       "       [3., 4.],\n",
       "       [5., 6.],\n",
       "       [7., 8.]])"
      ]
     },
     "execution_count": 60,
     "metadata": {},
     "output_type": "execute_result"
    }
   ],
   "source": [
    "a = np.array([[1, 2], [3, 4]], float)\n",
    "b = np.array([[5, 6], [7,8]], float)\n",
    "c = np.concatenate((a,b)) # concatenates along axis = 0, i.e., vertically\n",
    "c"
   ]
  },
  {
   "cell_type": "code",
   "execution_count": 61,
   "metadata": {
    "colab": {
     "base_uri": "https://localhost:8080/"
    },
    "executionInfo": {
     "elapsed": 98,
     "status": "ok",
     "timestamp": 1642710083799,
     "user": {
      "displayName": "Ramchandra Rimal",
      "photoUrl": "https://lh3.googleusercontent.com/a-/AOh14GiAeFifdymzS1jIfl4sZadq2W2j0_A8iIfdPLTJwg=s64",
      "userId": "02334418294935870107"
     },
     "user_tz": 360
    },
    "id": "buue8pP_DCpO",
    "outputId": "70ef8a8d-e793-4c70-f752-9299af196c6e"
   },
   "outputs": [
    {
     "data": {
      "text/plain": [
       "array([[1., 2.],\n",
       "       [3., 4.],\n",
       "       [5., 6.],\n",
       "       [7., 8.]])"
      ]
     },
     "execution_count": 61,
     "metadata": {},
     "output_type": "execute_result"
    }
   ],
   "source": [
    "d = np.concatenate((a,b), axis = 0)\n",
    "d"
   ]
  },
  {
   "cell_type": "code",
   "execution_count": 62,
   "metadata": {
    "colab": {
     "base_uri": "https://localhost:8080/"
    },
    "executionInfo": {
     "elapsed": 124,
     "status": "ok",
     "timestamp": 1642710097064,
     "user": {
      "displayName": "Ramchandra Rimal",
      "photoUrl": "https://lh3.googleusercontent.com/a-/AOh14GiAeFifdymzS1jIfl4sZadq2W2j0_A8iIfdPLTJwg=s64",
      "userId": "02334418294935870107"
     },
     "user_tz": 360
    },
    "id": "JZBk9D6rDCpO",
    "outputId": "ed3cca6c-565f-41ac-b533-100294c6cbe3"
   },
   "outputs": [
    {
     "data": {
      "text/plain": [
       "array([[1., 2., 5., 6.],\n",
       "       [3., 4., 7., 8.]])"
      ]
     },
     "execution_count": 62,
     "metadata": {},
     "output_type": "execute_result"
    }
   ],
   "source": [
    "d = np.concatenate((a,b), axis = 1) # along horizontally\n",
    "d"
   ]
  },
  {
   "cell_type": "code",
   "execution_count": 63,
   "metadata": {
    "colab": {
     "base_uri": "https://localhost:8080/"
    },
    "executionInfo": {
     "elapsed": 113,
     "status": "ok",
     "timestamp": 1642710100115,
     "user": {
      "displayName": "Ramchandra Rimal",
      "photoUrl": "https://lh3.googleusercontent.com/a-/AOh14GiAeFifdymzS1jIfl4sZadq2W2j0_A8iIfdPLTJwg=s64",
      "userId": "02334418294935870107"
     },
     "user_tz": 360
    },
    "id": "Prj8Zi6eDCpO",
    "outputId": "e8aa5602-796e-46f8-de72-e189d6404198"
   },
   "outputs": [
    {
     "data": {
      "text/plain": [
       "array([[1., 2., 3., 5., 6.],\n",
       "       [3., 4., 5., 7., 8.]])"
      ]
     },
     "execution_count": 63,
     "metadata": {},
     "output_type": "execute_result"
    }
   ],
   "source": [
    "a = np.array([[1, 2, 3], [3, 4, 5]], float)\n",
    "b = np.array([[5, 6], [7,8]], float)\n",
    "c = np.concatenate((a,b), axis = 1) # along horizontally\n",
    "c"
   ]
  },
  {
   "cell_type": "code",
   "execution_count": 66,
   "metadata": {},
   "outputs": [
    {
     "ename": "ValueError",
     "evalue": "setting an array element with a sequence. The requested array has an inhomogeneous shape after 1 dimensions. The detected shape was (2,) + inhomogeneous part.",
     "output_type": "error",
     "traceback": [
      "\u001b[0;31m---------------------------------------------------------------------------\u001b[0m",
      "\u001b[0;31mValueError\u001b[0m                                Traceback (most recent call last)",
      "\u001b[0;32m<ipython-input-66-79144673d86c>\u001b[0m in \u001b[0;36m<module>\u001b[0;34m\u001b[0m\n\u001b[1;32m      2\u001b[0m \u001b[0;34m\u001b[0m\u001b[0m\n\u001b[1;32m      3\u001b[0m \u001b[0ma\u001b[0m \u001b[0;34m=\u001b[0m \u001b[0mnp\u001b[0m\u001b[0;34m.\u001b[0m\u001b[0marray\u001b[0m\u001b[0;34m(\u001b[0m\u001b[0;34m[\u001b[0m\u001b[0;34m[\u001b[0m\u001b[0;36m1\u001b[0m\u001b[0;34m,\u001b[0m \u001b[0;36m2\u001b[0m\u001b[0;34m,\u001b[0m \u001b[0;36m3\u001b[0m\u001b[0;34m]\u001b[0m\u001b[0;34m,\u001b[0m \u001b[0;34m[\u001b[0m\u001b[0;36m3\u001b[0m\u001b[0;34m,\u001b[0m \u001b[0;36m4\u001b[0m\u001b[0;34m,\u001b[0m \u001b[0;36m5\u001b[0m\u001b[0;34m]\u001b[0m\u001b[0;34m]\u001b[0m\u001b[0;34m,\u001b[0m \u001b[0mfloat\u001b[0m\u001b[0;34m)\u001b[0m\u001b[0;34m\u001b[0m\u001b[0;34m\u001b[0m\u001b[0m\n\u001b[0;32m----> 4\u001b[0;31m \u001b[0mb\u001b[0m \u001b[0;34m=\u001b[0m \u001b[0mnp\u001b[0m\u001b[0;34m.\u001b[0m\u001b[0marray\u001b[0m\u001b[0;34m(\u001b[0m\u001b[0;34m[\u001b[0m\u001b[0;34m[\u001b[0m\u001b[0;36m5\u001b[0m\u001b[0;34m,\u001b[0m \u001b[0;36m6\u001b[0m\u001b[0;34m]\u001b[0m\u001b[0;34m,\u001b[0m \u001b[0;34m[\u001b[0m\u001b[0;36m7\u001b[0m\u001b[0;34m,\u001b[0m\u001b[0;36m8\u001b[0m\u001b[0;34m,\u001b[0m \u001b[0;36m9\u001b[0m\u001b[0;34m]\u001b[0m\u001b[0;34m]\u001b[0m\u001b[0;34m,\u001b[0m \u001b[0mfloat\u001b[0m\u001b[0;34m)\u001b[0m\u001b[0;34m\u001b[0m\u001b[0;34m\u001b[0m\u001b[0m\n\u001b[0m\u001b[1;32m      5\u001b[0m \u001b[0;34m\u001b[0m\u001b[0m\n\u001b[1;32m      6\u001b[0m \u001b[0;34m\u001b[0m\u001b[0m\n",
      "\u001b[0;31mValueError\u001b[0m: setting an array element with a sequence. The requested array has an inhomogeneous shape after 1 dimensions. The detected shape was (2,) + inhomogeneous part."
     ]
    }
   ],
   "source": [
    "#Make  sure the shape is compatible\n",
    "\n",
    "a = np.array([[1, 2, 3], [3, 4, 5]], float)\n",
    "b = np.array([[5, 6], [7,8, 9]], float)\n",
    "\n",
    "\n",
    "c = np.concatenate((a,b), axis = 1) #axis = 1, horizontally; axis = 0,vertically\n",
    "c"
   ]
  },
  {
   "cell_type": "markdown",
   "metadata": {
    "id": "0n8nEoTFDCpO"
   },
   "source": [
    "## **Basic mathematical functions on NumPy**\n",
    "\n",
    "\n",
    "**Mathematical Functions**    | **Description**\n",
    "------------------------------|--------------------------\n",
    "**np.cos()**, **np.sin()**, **np.tan()**        | Trigonometric functions\n",
    "**np.arccos()**, **np.arcsin()**, **np.arctan()**    | Inverse trigonometric functions\n",
    "**np.sqrt()** | Square root\n",
    "**np.exp()**      | Exponential\n",
    "**np.log()**, **np.log2()**, **np.log10()**     | logarithms of base e, 2, and 10 respectively\n",
    "\n"
   ]
  },
  {
   "cell_type": "markdown",
   "metadata": {
    "id": "u7xuOBpoDCpO"
   },
   "source": [
    "\n",
    "\n",
    "## **Additional  NumPy  functions**\n",
    "\n",
    "**NumPy Functions**    | **Description**\n",
    "------------------|--------------------------\n",
    "**np.add()**, **np.substract()**, **np.multiply()**, **np.divide()**        | Addition, subtraction, multiplication, division \n",
    "**np.power()**   | Raises first input argument to the power of the second input argument (applied elementwise)\n",
    "**np.remainder()**  | The remainder of division\n",
    "**np.reciprocal()**       | The reciprocal(inverse) each element\n",
    "**np.real()**, **np.imag()**, **np.conj()** | The real part, imaginary part, and complex conjugate of the elements  in the input arrays\n",
    "**np.abs()**     | The absolute value\n",
    "**np.floor()**, **np.ceil()**      | Convert to integer values\n",
    "**np.round()**     | Round to a given number of decimals\n"
   ]
  },
  {
   "cell_type": "code",
   "execution_count": 67,
   "metadata": {
    "colab": {
     "base_uri": "https://localhost:8080/"
    },
    "executionInfo": {
     "elapsed": 99,
     "status": "ok",
     "timestamp": 1642710128802,
     "user": {
      "displayName": "Ramchandra Rimal",
      "photoUrl": "https://lh3.googleusercontent.com/a-/AOh14GiAeFifdymzS1jIfl4sZadq2W2j0_A8iIfdPLTJwg=s64",
      "userId": "02334418294935870107"
     },
     "user_tz": 360
    },
    "id": "3J2RBWmGDCpO",
    "outputId": "a8f358cf-458f-4271-f6b9-00f318da6dc0"
   },
   "outputs": [
    {
     "data": {
      "text/plain": [
       "array([1., 1., 1.])"
      ]
     },
     "execution_count": 67,
     "metadata": {},
     "output_type": "execute_result"
    }
   ],
   "source": [
    "np.sin(x) ** 2 + np.cos(x) ** 2"
   ]
  },
  {
   "cell_type": "markdown",
   "metadata": {
    "id": "0gYmInKxDCpP"
   },
   "source": [
    "## **Vectorized implementation**"
   ]
  },
  {
   "cell_type": "code",
   "execution_count": 68,
   "metadata": {
    "executionInfo": {
     "elapsed": 76,
     "status": "ok",
     "timestamp": 1642710148741,
     "user": {
      "displayName": "Ramchandra Rimal",
      "photoUrl": "https://lh3.googleusercontent.com/a-/AOh14GiAeFifdymzS1jIfl4sZadq2W2j0_A8iIfdPLTJwg=s64",
      "userId": "02334418294935870107"
     },
     "user_tz": 360
    },
    "id": "Bhkvmq1tDCpP"
   },
   "outputs": [],
   "source": [
    "x = np.array([[1, 2], [3, 4]]) \n",
    "y = np.array([[5, 6], [7, 8]])"
   ]
  },
  {
   "cell_type": "code",
   "execution_count": 69,
   "metadata": {
    "colab": {
     "base_uri": "https://localhost:8080/"
    },
    "executionInfo": {
     "elapsed": 81,
     "status": "ok",
     "timestamp": 1642710153155,
     "user": {
      "displayName": "Ramchandra Rimal",
      "photoUrl": "https://lh3.googleusercontent.com/a-/AOh14GiAeFifdymzS1jIfl4sZadq2W2j0_A8iIfdPLTJwg=s64",
      "userId": "02334418294935870107"
     },
     "user_tz": 360
    },
    "id": "EfWNvSnNDCpP",
    "outputId": "70ddf1dc-0c4f-4667-9c54-5d98a168e98c"
   },
   "outputs": [
    {
     "data": {
      "text/plain": [
       "array([[ 6,  8],\n",
       "       [10, 12]])"
      ]
     },
     "execution_count": 69,
     "metadata": {},
     "output_type": "execute_result"
    }
   ],
   "source": [
    "x + y # elemement wise addition"
   ]
  },
  {
   "cell_type": "code",
   "execution_count": 70,
   "metadata": {
    "colab": {
     "base_uri": "https://localhost:8080/"
    },
    "executionInfo": {
     "elapsed": 87,
     "status": "ok",
     "timestamp": 1642710162827,
     "user": {
      "displayName": "Ramchandra Rimal",
      "photoUrl": "https://lh3.googleusercontent.com/a-/AOh14GiAeFifdymzS1jIfl4sZadq2W2j0_A8iIfdPLTJwg=s64",
      "userId": "02334418294935870107"
     },
     "user_tz": 360
    },
    "id": "JZFR3NSODCpP",
    "outputId": "81ae0d6e-820b-4a34-e826-5464e1b94ee0"
   },
   "outputs": [
    {
     "data": {
      "text/plain": [
       "array([[ 5, 12],\n",
       "       [21, 32]])"
      ]
     },
     "execution_count": 70,
     "metadata": {},
     "output_type": "execute_result"
    }
   ],
   "source": [
    "x * y # elemement wise multiplication"
   ]
  },
  {
   "cell_type": "code",
   "execution_count": 71,
   "metadata": {
    "colab": {
     "base_uri": "https://localhost:8080/"
    },
    "executionInfo": {
     "elapsed": 121,
     "status": "ok",
     "timestamp": 1642710176242,
     "user": {
      "displayName": "Ramchandra Rimal",
      "photoUrl": "https://lh3.googleusercontent.com/a-/AOh14GiAeFifdymzS1jIfl4sZadq2W2j0_A8iIfdPLTJwg=s64",
      "userId": "02334418294935870107"
     },
     "user_tz": 360
    },
    "id": "acXL4ngGDCpP",
    "outputId": "6e95f6bb-5d2c-4314-c3f7-5664f80c4662"
   },
   "outputs": [
    {
     "data": {
      "text/plain": [
       "array([[5.        , 3.        ],\n",
       "       [2.33333333, 2.        ]])"
      ]
     },
     "execution_count": 71,
     "metadata": {},
     "output_type": "execute_result"
    }
   ],
   "source": [
    "y / x"
   ]
  },
  {
   "cell_type": "markdown",
   "metadata": {
    "id": "jaLo2KEsDCpP"
   },
   "source": [
    "If a newly created function is not capable of performaing element-by-element basis in a NumPy array, we can apply **np.vectorize()** function to vectorize the function. For example:"
   ]
  },
  {
   "cell_type": "code",
   "execution_count": 72,
   "metadata": {
    "executionInfo": {
     "elapsed": 111,
     "status": "ok",
     "timestamp": 1642710201420,
     "user": {
      "displayName": "Ramchandra Rimal",
      "photoUrl": "https://lh3.googleusercontent.com/a-/AOh14GiAeFifdymzS1jIfl4sZadq2W2j0_A8iIfdPLTJwg=s64",
      "userId": "02334418294935870107"
     },
     "user_tz": 360
    },
    "id": "F4sF5QdqDCpP"
   },
   "outputs": [],
   "source": [
    "def heaviside(x):\n",
    "    return 1 if x > 0 else 0"
   ]
  },
  {
   "cell_type": "code",
   "execution_count": 73,
   "metadata": {
    "colab": {
     "base_uri": "https://localhost:8080/"
    },
    "executionInfo": {
     "elapsed": 113,
     "status": "ok",
     "timestamp": 1642710203585,
     "user": {
      "displayName": "Ramchandra Rimal",
      "photoUrl": "https://lh3.googleusercontent.com/a-/AOh14GiAeFifdymzS1jIfl4sZadq2W2j0_A8iIfdPLTJwg=s64",
      "userId": "02334418294935870107"
     },
     "user_tz": 360
    },
    "id": "nGPaY_ucDCpP",
    "outputId": "7c51e7bd-56bb-4b7c-af8f-c2df2c3c9a59"
   },
   "outputs": [
    {
     "data": {
      "text/plain": [
       "0"
      ]
     },
     "execution_count": 73,
     "metadata": {},
     "output_type": "execute_result"
    }
   ],
   "source": [
    "heaviside(-1)"
   ]
  },
  {
   "cell_type": "code",
   "execution_count": 74,
   "metadata": {
    "colab": {
     "base_uri": "https://localhost:8080/"
    },
    "executionInfo": {
     "elapsed": 130,
     "status": "ok",
     "timestamp": 1642710207373,
     "user": {
      "displayName": "Ramchandra Rimal",
      "photoUrl": "https://lh3.googleusercontent.com/a-/AOh14GiAeFifdymzS1jIfl4sZadq2W2j0_A8iIfdPLTJwg=s64",
      "userId": "02334418294935870107"
     },
     "user_tz": 360
    },
    "id": "NIDqqepkDCpQ",
    "outputId": "5fc08f09-9e9f-41ed-c67e-50a43f9ff840"
   },
   "outputs": [
    {
     "data": {
      "text/plain": [
       "1"
      ]
     },
     "execution_count": 74,
     "metadata": {},
     "output_type": "execute_result"
    }
   ],
   "source": [
    "heaviside(1.5)"
   ]
  },
  {
   "cell_type": "code",
   "execution_count": 75,
   "metadata": {
    "colab": {
     "base_uri": "https://localhost:8080/"
    },
    "executionInfo": {
     "elapsed": 98,
     "status": "ok",
     "timestamp": 1642710217980,
     "user": {
      "displayName": "Ramchandra Rimal",
      "photoUrl": "https://lh3.googleusercontent.com/a-/AOh14GiAeFifdymzS1jIfl4sZadq2W2j0_A8iIfdPLTJwg=s64",
      "userId": "02334418294935870107"
     },
     "user_tz": 360
    },
    "id": "CdtLtPNODCpQ",
    "outputId": "ef4123d8-da40-420d-9a77-93364c780f84"
   },
   "outputs": [
    {
     "data": {
      "text/plain": [
       "array([-5., -4., -3., -2., -1.,  0.,  1.,  2.,  3.,  4.,  5.])"
      ]
     },
     "execution_count": 75,
     "metadata": {},
     "output_type": "execute_result"
    }
   ],
   "source": [
    "x = np.linspace(-5, 5, 11)\n",
    "x"
   ]
  },
  {
   "cell_type": "code",
   "execution_count": 76,
   "metadata": {
    "colab": {
     "base_uri": "https://localhost:8080/",
     "height": 235
    },
    "executionInfo": {
     "elapsed": 247,
     "status": "error",
     "timestamp": 1642710227986,
     "user": {
      "displayName": "Ramchandra Rimal",
      "photoUrl": "https://lh3.googleusercontent.com/a-/AOh14GiAeFifdymzS1jIfl4sZadq2W2j0_A8iIfdPLTJwg=s64",
      "userId": "02334418294935870107"
     },
     "user_tz": 360
    },
    "id": "_tngv7GZDCpQ",
    "outputId": "3ea3fcfd-b7b0-4c90-f5df-5130fdb29995"
   },
   "outputs": [
    {
     "ename": "ValueError",
     "evalue": "The truth value of an array with more than one element is ambiguous. Use a.any() or a.all()",
     "output_type": "error",
     "traceback": [
      "\u001b[0;31m---------------------------------------------------------------------------\u001b[0m",
      "\u001b[0;31mValueError\u001b[0m                                Traceback (most recent call last)",
      "\u001b[0;32m<ipython-input-76-52f34380192d>\u001b[0m in \u001b[0;36m<module>\u001b[0;34m\u001b[0m\n\u001b[0;32m----> 1\u001b[0;31m \u001b[0mheaviside\u001b[0m\u001b[0;34m(\u001b[0m\u001b[0mx\u001b[0m\u001b[0;34m)\u001b[0m\u001b[0;34m\u001b[0m\u001b[0;34m\u001b[0m\u001b[0m\n\u001b[0m",
      "\u001b[0;32m<ipython-input-72-68cdb49d4533>\u001b[0m in \u001b[0;36mheaviside\u001b[0;34m(x)\u001b[0m\n\u001b[1;32m      1\u001b[0m \u001b[0;32mdef\u001b[0m \u001b[0mheaviside\u001b[0m\u001b[0;34m(\u001b[0m\u001b[0mx\u001b[0m\u001b[0;34m)\u001b[0m\u001b[0;34m:\u001b[0m\u001b[0;34m\u001b[0m\u001b[0;34m\u001b[0m\u001b[0m\n\u001b[0;32m----> 2\u001b[0;31m     \u001b[0;32mreturn\u001b[0m \u001b[0;36m1\u001b[0m \u001b[0;32mif\u001b[0m \u001b[0mx\u001b[0m \u001b[0;34m>\u001b[0m \u001b[0;36m0\u001b[0m \u001b[0;32melse\u001b[0m \u001b[0;36m0\u001b[0m\u001b[0;34m\u001b[0m\u001b[0;34m\u001b[0m\u001b[0m\n\u001b[0m",
      "\u001b[0;31mValueError\u001b[0m: The truth value of an array with more than one element is ambiguous. Use a.any() or a.all()"
     ]
    }
   ],
   "source": [
    "heaviside(x)"
   ]
  },
  {
   "cell_type": "code",
   "execution_count": 77,
   "metadata": {
    "colab": {
     "base_uri": "https://localhost:8080/"
    },
    "executionInfo": {
     "elapsed": 148,
     "status": "ok",
     "timestamp": 1642710235918,
     "user": {
      "displayName": "Ramchandra Rimal",
      "photoUrl": "https://lh3.googleusercontent.com/a-/AOh14GiAeFifdymzS1jIfl4sZadq2W2j0_A8iIfdPLTJwg=s64",
      "userId": "02334418294935870107"
     },
     "user_tz": 360
    },
    "id": "pe-TK2IsDCpQ",
    "outputId": "3ecde72f-548c-4481-dd40-07bcad8ff260"
   },
   "outputs": [
    {
     "data": {
      "text/plain": [
       "array([0, 0, 0, 0, 0, 0, 1, 1, 1, 1, 1])"
      ]
     },
     "execution_count": 77,
     "metadata": {},
     "output_type": "execute_result"
    }
   ],
   "source": [
    "heaviside = np.vectorize(heaviside)\n",
    "heaviside(x)"
   ]
  },
  {
   "cell_type": "markdown",
   "metadata": {
    "id": "36mWPQaUDCpQ"
   },
   "source": [
    "## **Aggregate functions**\n",
    "\n",
    "NumPy provides set of functions for calculating aggregates for NumPy arrays, which take an array as input and by default return a scalar as output. For example, finding sample mean (average), standard deviation, and variance, calculating sum and product of elements in an array.\n",
    "\n",
    "\n",
    "\n",
    "NumPy Functions for Calcuating Aggregates   | Description\n",
    "------------------|--------------------------\n",
    "**np.mean()**      | Sample mean\n",
    "**np.std()**   | Standard deviation\n",
    "**np.var()**  |  Variance\n",
    "**np.corrcoef()** |Correlation coefficient\n",
    "**np.sum()**     | Sum of all elements\n",
    "**np.prod()** | Product of all elements\n",
    "**np.cumsum()**  | Cumulative sum of all elements\n",
    "**np.cumprod()**    |Cumulative product of all elements\n",
    "**np.min()**, **np.max()**| The minimum/maximum value in an array\n",
    "**np.argmin()**, **np.argmax()** | The index of the minimum/maximum value in an array\n",
    "**np.all()** | Returns True if all elements in the argument array are nonzero\n",
    "**np.any()** | Returns True if any of the elements in the argument array is nonzero\n",
    "\n",
    "\n",
    "**Note**: By default, the functions  above aggregate over the entire input array. Using the **axis** keyword argument with these functions and their corresponding ndarray methods, it is possible to control over which axis in the array aggregation is carried out. "
   ]
  },
  {
   "cell_type": "code",
   "execution_count": 78,
   "metadata": {
    "colab": {
     "base_uri": "https://localhost:8080/"
    },
    "executionInfo": {
     "elapsed": 104,
     "status": "ok",
     "timestamp": 1642710279184,
     "user": {
      "displayName": "Ramchandra Rimal",
      "photoUrl": "https://lh3.googleusercontent.com/a-/AOh14GiAeFifdymzS1jIfl4sZadq2W2j0_A8iIfdPLTJwg=s64",
      "userId": "02334418294935870107"
     },
     "user_tz": 360
    },
    "id": "WuQ6ehvhDCpQ",
    "outputId": "f4f2adcc-3310-42d4-9261-c2340eb174a8"
   },
   "outputs": [
    {
     "data": {
      "text/plain": [
       "array([[1., 2.],\n",
       "       [3., 1.],\n",
       "       [3., 5.]])"
      ]
     },
     "execution_count": 78,
     "metadata": {},
     "output_type": "execute_result"
    }
   ],
   "source": [
    "a = np.array([[1, 2], [3, 1], [3, 5]], float)\n",
    "a"
   ]
  },
  {
   "cell_type": "code",
   "execution_count": 79,
   "metadata": {
    "colab": {
     "base_uri": "https://localhost:8080/"
    },
    "executionInfo": {
     "elapsed": 95,
     "status": "ok",
     "timestamp": 1642710281057,
     "user": {
      "displayName": "Ramchandra Rimal",
      "photoUrl": "https://lh3.googleusercontent.com/a-/AOh14GiAeFifdymzS1jIfl4sZadq2W2j0_A8iIfdPLTJwg=s64",
      "userId": "02334418294935870107"
     },
     "user_tz": 360
    },
    "id": "NBrjTvQHDCpQ",
    "outputId": "5c875a9a-e820-4127-801d-f35643975428"
   },
   "outputs": [
    {
     "data": {
      "text/plain": [
       "2.5"
      ]
     },
     "execution_count": 79,
     "metadata": {},
     "output_type": "execute_result"
    }
   ],
   "source": [
    "a.mean() ## mean of all entries"
   ]
  },
  {
   "cell_type": "code",
   "execution_count": 81,
   "metadata": {
    "colab": {
     "base_uri": "https://localhost:8080/"
    },
    "executionInfo": {
     "elapsed": 81,
     "status": "ok",
     "timestamp": 1642710306676,
     "user": {
      "displayName": "Ramchandra Rimal",
      "photoUrl": "https://lh3.googleusercontent.com/a-/AOh14GiAeFifdymzS1jIfl4sZadq2W2j0_A8iIfdPLTJwg=s64",
      "userId": "02334418294935870107"
     },
     "user_tz": 360
    },
    "id": "gRdxkdjEDCpQ",
    "outputId": "1b9e2b0d-e828-4d43-fa05-3492d3a82fa6"
   },
   "outputs": [
    {
     "data": {
      "text/plain": [
       "array([2.33333333, 2.66666667])"
      ]
     },
     "execution_count": 81,
     "metadata": {},
     "output_type": "execute_result"
    }
   ],
   "source": [
    "a.mean(axis=0) # mean along vertical axis(column means)"
   ]
  },
  {
   "cell_type": "code",
   "execution_count": 82,
   "metadata": {
    "colab": {
     "base_uri": "https://localhost:8080/"
    },
    "executionInfo": {
     "elapsed": 111,
     "status": "ok",
     "timestamp": 1642710324034,
     "user": {
      "displayName": "Ramchandra Rimal",
      "photoUrl": "https://lh3.googleusercontent.com/a-/AOh14GiAeFifdymzS1jIfl4sZadq2W2j0_A8iIfdPLTJwg=s64",
      "userId": "02334418294935870107"
     },
     "user_tz": 360
    },
    "id": "OmJQQcvKDCpR",
    "outputId": "704271db-66fe-467f-afb6-eee2150e2c07"
   },
   "outputs": [
    {
     "data": {
      "text/plain": [
       "array([1.5, 2. , 4. ])"
      ]
     },
     "execution_count": 82,
     "metadata": {},
     "output_type": "execute_result"
    }
   ],
   "source": [
    "a.mean(axis = 1) # mean along horizontal axis(row means)"
   ]
  },
  {
   "cell_type": "markdown",
   "metadata": {
    "id": "sky4qkVnDCpR"
   },
   "source": [
    "## **Comparison operators and value testing**\n",
    "\n",
    "Boolean comparisons can be used to compare members elementwise on arrays of equal size.\n",
    "The return value is an array of Boolean True/False values."
   ]
  },
  {
   "cell_type": "code",
   "execution_count": 83,
   "metadata": {
    "id": "9g-gZcjlDCpR"
   },
   "outputs": [
    {
     "data": {
      "text/plain": [
       "array([ True, False, False, False])"
      ]
     },
     "execution_count": 83,
     "metadata": {},
     "output_type": "execute_result"
    }
   ],
   "source": [
    "a = np.array([1, 3, 0, 4], float)\n",
    "b = np.array([0, 3, 2, 5], float)\n",
    "a > b"
   ]
  },
  {
   "cell_type": "code",
   "execution_count": 84,
   "metadata": {
    "id": "tsy6i1XZDCpR"
   },
   "outputs": [
    {
     "data": {
      "text/plain": [
       "array([False,  True, False, False])"
      ]
     },
     "execution_count": 84,
     "metadata": {},
     "output_type": "execute_result"
    }
   ],
   "source": [
    " a == b"
   ]
  },
  {
   "cell_type": "markdown",
   "metadata": {
    "id": "5YKu94F8DCpR"
   },
   "source": [
    "The results of a Boolean comparison can be stored in an array:\n"
   ]
  },
  {
   "cell_type": "code",
   "execution_count": 85,
   "metadata": {
    "id": "0STeMO7nDCpR"
   },
   "outputs": [
    {
     "data": {
      "text/plain": [
       "array([ True, False, False, False])"
      ]
     },
     "execution_count": 85,
     "metadata": {},
     "output_type": "execute_result"
    }
   ],
   "source": [
    "c = a > b\n",
    "c"
   ]
  },
  {
   "cell_type": "markdown",
   "metadata": {
    "id": "uyrcQdkADCpR"
   },
   "source": [
    "## **Array item selection and manipulation**\n",
    "\n",
    "As we have seen before, individual elements and slices of arrays can be selected\n",
    "using bracket notation. Unlike lists, however, arrays also permit selection using other arrays.\n",
    "That means, we can use array selectors to filter for specific subsets of elements of other arrays.\n",
    "Boolean arrays can be used as array selectors.\n"
   ]
  },
  {
   "cell_type": "code",
   "execution_count": 86,
   "metadata": {
    "id": "SoAWx1FYDCpR"
   },
   "outputs": [
    {
     "data": {
      "text/plain": [
       "array([[ True, False],\n",
       "       [False,  True]])"
      ]
     },
     "execution_count": 86,
     "metadata": {},
     "output_type": "execute_result"
    }
   ],
   "source": [
    "a = np.array([[6, 4], [5, 9]], float)\n",
    "a >= 6"
   ]
  },
  {
   "cell_type": "code",
   "execution_count": 87,
   "metadata": {
    "id": "KtLSbWAnDCpS"
   },
   "outputs": [
    {
     "data": {
      "text/plain": [
       "array([6., 9.])"
      ]
     },
     "execution_count": 87,
     "metadata": {},
     "output_type": "execute_result"
    }
   ],
   "source": [
    "a[a >= 6]"
   ]
  },
  {
   "cell_type": "markdown",
   "metadata": {
    "id": "4gIBfK6nDCpS"
   },
   "source": [
    "## **Random numbers**\n",
    "\n",
    "An important part of any simulation is the ability to draw random numbers. For this purpose,\n",
    "we use Numpy's built-in pseudorandom number generators. The numbers are pseudo random in the sense that they are generated deterministically from a seed number, but are distributed in what has statistical similarities to\n",
    "random fashion. "
   ]
  },
  {
   "cell_type": "code",
   "execution_count": 88,
   "metadata": {
    "id": "iZiW-k1FDCpS"
   },
   "outputs": [],
   "source": [
    " np.random.seed(2933)\n",
    "    "
   ]
  },
  {
   "cell_type": "code",
   "execution_count": 89,
   "metadata": {
    "id": "PKFVohLvDCpS"
   },
   "outputs": [
    {
     "data": {
      "text/plain": [
       "0.4125913068449133"
      ]
     },
     "execution_count": 89,
     "metadata": {},
     "output_type": "execute_result"
    }
   ],
   "source": [
    "np.random.random() #just one random number between [0,1]"
   ]
  },
  {
   "cell_type": "code",
   "execution_count": 90,
   "metadata": {},
   "outputs": [
    {
     "data": {
      "text/plain": [
       "0.4125913068449133"
      ]
     },
     "execution_count": 90,
     "metadata": {},
     "output_type": "execute_result"
    }
   ],
   "source": [
    " np.random.seed(2933)\n",
    "np.random.random() #just one random number between [0,1]"
   ]
  },
  {
   "cell_type": "markdown",
   "metadata": {
    "id": "RSsoqW8fDCpS"
   },
   "source": [
    "An array of random numbers in the half-open interval [0.0, 1.0) can be generated as follows.\n",
    "                                                      "
   ]
  },
  {
   "cell_type": "code",
   "execution_count": 91,
   "metadata": {
    "id": "LWsZedEMDCpS"
   },
   "outputs": [
    {
     "data": {
      "text/plain": [
       "array([0.69435094, 0.76119926, 0.15583373, 0.18966773, 0.25296952])"
      ]
     },
     "execution_count": 91,
     "metadata": {},
     "output_type": "execute_result"
    }
   ],
   "source": [
    "np.random.rand(5) # five random numbers between [0,1)"
   ]
  },
  {
   "cell_type": "code",
   "execution_count": 92,
   "metadata": {
    "id": "OTK4vaFDDCpS"
   },
   "outputs": [
    {
     "data": {
      "text/plain": [
       "array([[0.37343881, 0.12970704],\n",
       "       [0.35741684, 0.83353529],\n",
       "       [0.9907141 , 0.7709841 ]])"
      ]
     },
     "execution_count": 92,
     "metadata": {},
     "output_type": "execute_result"
    }
   ],
   "source": [
    "np.random.rand(3,2)# random numbers between [0,1) of size (3,2) "
   ]
  },
  {
   "cell_type": "code",
   "execution_count": 93,
   "metadata": {
    "id": "7BRaIfAPDCpS"
   },
   "outputs": [
    {
     "data": {
      "text/plain": [
       "array([[0.22110935, 0.80496913],\n",
       "       [0.5640127 , 0.00174327],\n",
       "       [0.63568097, 0.02981465]])"
      ]
     },
     "execution_count": 93,
     "metadata": {},
     "output_type": "execute_result"
    }
   ],
   "source": [
    " np.random.rand(6).reshape((3,2))"
   ]
  },
  {
   "cell_type": "markdown",
   "metadata": {
    "id": "ot9k305mDCpT"
   },
   "source": [
    " To generate random integers in the range [min, max) use randint(min, max):"
   ]
  },
  {
   "cell_type": "code",
   "execution_count": 94,
   "metadata": {
    "id": "NAIlJhQsDCpT"
   },
   "outputs": [
    {
     "data": {
      "text/plain": [
       "7"
      ]
     },
     "execution_count": 94,
     "metadata": {},
     "output_type": "execute_result"
    }
   ],
   "source": [
    "np.random.randint(4, 10) #a random integer between 4 and 10"
   ]
  },
  {
   "cell_type": "markdown",
   "metadata": {
    "id": "9DImsfD4DCpT"
   },
   "source": [
    "In each of the above examples, we drew random numbers from uniform distributions. NumPy also\n",
    "includes generators for many other distributions, including the Normal, Poisson, Beta, binomial, chi-square,\n",
    "Dirichlet, exponential, F, Gamma, geometric, hypergeometric, and so on.\n"
   ]
  },
  {
   "cell_type": "code",
   "execution_count": 95,
   "metadata": {
    "id": "wLnmtmsKDCpT"
   },
   "outputs": [
    {
     "data": {
      "text/plain": [
       "5"
      ]
     },
     "execution_count": 95,
     "metadata": {},
     "output_type": "execute_result"
    }
   ],
   "source": [
    "np.random.poisson(5.0) # lambda = 5"
   ]
  },
  {
   "cell_type": "code",
   "execution_count": 96,
   "metadata": {
    "id": "vx1m1IcpDCpT"
   },
   "outputs": [
    {
     "data": {
      "text/plain": [
       "12.237774592644868"
      ]
     },
     "execution_count": 96,
     "metadata": {},
     "output_type": "execute_result"
    }
   ],
   "source": [
    "np.random.normal(1.5, 4.0) # normal distributions with mean = 1.5, std = 4"
   ]
  },
  {
   "cell_type": "code",
   "execution_count": 97,
   "metadata": {
    "id": "4Vmhz07lDCpT"
   },
   "outputs": [
    {
     "data": {
      "text/plain": [
       "-0.6419500455919834"
      ]
     },
     "execution_count": 97,
     "metadata": {},
     "output_type": "execute_result"
    }
   ],
   "source": [
    "np.random.normal() # mean = 0, std 1"
   ]
  },
  {
   "cell_type": "code",
   "execution_count": 98,
   "metadata": {
    "id": "Qrf93WCWDCpU"
   },
   "outputs": [
    {
     "data": {
      "text/plain": [
       "array([ 0.04494024, -2.9338295 ,  1.25458097, -3.78999846, -1.50852255])"
      ]
     },
     "execution_count": 98,
     "metadata": {},
     "output_type": "execute_result"
    }
   ],
   "source": [
    " np.random.normal(1.5, 4, size = 5)"
   ]
  },
  {
   "cell_type": "markdown",
   "metadata": {
    "id": "dKHU2-fuDCpU"
   },
   "source": [
    "## **NumPy functions for conditional and logical expressions**\n",
    "\n",
    "**NumPy Functions**  | **Description**\n",
    "---------------------|--------------------------\n",
    "**np.where()**    | Chooses values from two arrays depending on the value of a condition array\n",
    "**np.choose()**   |  Chooses values from a list of arrays depending on the value of a given index array\n",
    "**np.select()**   | Chooses values from a list of arrays depending  on the list of conditions"
   ]
  },
  {
   "cell_type": "code",
   "execution_count": 99,
   "metadata": {
    "id": "OIZOhbHhDCpU"
   },
   "outputs": [
    {
     "data": {
      "text/plain": [
       "array([-4., -3., -2., -1.,  0.,  1.,  2.,  3.,  4.])"
      ]
     },
     "execution_count": 99,
     "metadata": {},
     "output_type": "execute_result"
    }
   ],
   "source": [
    "x = np.linspace(-4, 4, 9)\n",
    "x"
   ]
  },
  {
   "cell_type": "code",
   "execution_count": 100,
   "metadata": {
    "id": "UhLb7_0oDCpU"
   },
   "outputs": [
    {
     "data": {
      "text/plain": [
       "array([16.,  9.,  4.,  1.,  0.,  1.,  8., 27., 64.])"
      ]
     },
     "execution_count": 100,
     "metadata": {},
     "output_type": "execute_result"
    }
   ],
   "source": [
    "np.where(x < 0, x**2, x**3) #computes the square where x<0, and computes the cubes of the rest"
   ]
  },
  {
   "cell_type": "code",
   "execution_count": 101,
   "metadata": {
    "id": "hhEuK9GjDCpU"
   },
   "outputs": [
    {
     "data": {
      "text/plain": [
       "array([ 16.,   9.,   4.,  -1.,   0.,   1.,  16.,  81., 256.])"
      ]
     },
     "execution_count": 101,
     "metadata": {},
     "output_type": "execute_result"
    }
   ],
   "source": [
    "np.select([x < -1, x < 2, x >= 2],\n",
    "          [x**2  , x**3 , x**4]) #computes the square where x<-1, and computes the cubes where x <2, \n",
    "                                # and computes fourth power of the rest"
   ]
  },
  {
   "cell_type": "code",
   "execution_count": 102,
   "metadata": {},
   "outputs": [
    {
     "name": "stdout",
     "output_type": "stream",
     "text": [
      "Help on function where in module numpy:\n",
      "\n",
      "where(...)\n",
      "    where(condition, [x, y])\n",
      "    \n",
      "    Return elements chosen from `x` or `y` depending on `condition`.\n",
      "    \n",
      "    .. note::\n",
      "        When only `condition` is provided, this function is a shorthand for\n",
      "        ``np.asarray(condition).nonzero()``. Using `nonzero` directly should be\n",
      "        preferred, as it behaves correctly for subclasses. The rest of this\n",
      "        documentation covers only the case where all three arguments are\n",
      "        provided.\n",
      "    \n",
      "    Parameters\n",
      "    ----------\n",
      "    condition : array_like, bool\n",
      "        Where True, yield `x`, otherwise yield `y`.\n",
      "    x, y : array_like\n",
      "        Values from which to choose. `x`, `y` and `condition` need to be\n",
      "        broadcastable to some shape.\n",
      "    \n",
      "    Returns\n",
      "    -------\n",
      "    out : ndarray\n",
      "        An array with elements from `x` where `condition` is True, and elements\n",
      "        from `y` elsewhere.\n",
      "    \n",
      "    See Also\n",
      "    --------\n",
      "    choose\n",
      "    nonzero : The function that is called when x and y are omitted\n",
      "    \n",
      "    Notes\n",
      "    -----\n",
      "    If all the arrays are 1-D, `where` is equivalent to::\n",
      "    \n",
      "        [xv if c else yv\n",
      "         for c, xv, yv in zip(condition, x, y)]\n",
      "    \n",
      "    Examples\n",
      "    --------\n",
      "    >>> a = np.arange(10)\n",
      "    >>> a\n",
      "    array([0, 1, 2, 3, 4, 5, 6, 7, 8, 9])\n",
      "    >>> np.where(a < 5, a, 10*a)\n",
      "    array([ 0,  1,  2,  3,  4, 50, 60, 70, 80, 90])\n",
      "    \n",
      "    This can be used on multidimensional arrays too:\n",
      "    \n",
      "    >>> np.where([[True, False], [True, True]],\n",
      "    ...          [[1, 2], [3, 4]],\n",
      "    ...          [[9, 8], [7, 6]])\n",
      "    array([[1, 8],\n",
      "           [3, 4]])\n",
      "    \n",
      "    The shapes of x, y, and the condition are broadcast together:\n",
      "    \n",
      "    >>> x, y = np.ogrid[:3, :4]\n",
      "    >>> np.where(x < y, x, 10 + y)  # both x and 10+y are broadcast\n",
      "    array([[10,  0,  0,  0],\n",
      "           [10, 11,  1,  1],\n",
      "           [10, 11, 12,  2]])\n",
      "    \n",
      "    >>> a = np.array([[0, 1, 2],\n",
      "    ...               [0, 2, 4],\n",
      "    ...               [0, 3, 6]])\n",
      "    >>> np.where(a < 4, a, -1)  # -1 is broadcast\n",
      "    array([[ 0,  1,  2],\n",
      "           [ 0,  2, -1],\n",
      "           [ 0,  3, -1]])\n",
      "\n"
     ]
    }
   ],
   "source": [
    "#need more information\n",
    "help(np.where)"
   ]
  },
  {
   "cell_type": "markdown",
   "metadata": {
    "id": "glNG3C9cDCpU"
   },
   "source": [
    "## **Matrix and vector operations**\n",
    "\n",
    "**NumPy Functions**  | **Description**\n",
    "------------------|--------------------------\n",
    "**np.dot()**     | Matrix multiplication (dot product)\n",
    "**np.inner()**  | Scaler multiplication(inner product) bewteen two arrays representing vectors\n",
    "**np.cross()**  | Cross product bewteen two arrays representing vectors\n",
    "**np.tensordot()** |Dot product along specified axes of multidimensional arrays\n",
    "**np.outer()**  | Outer product(tensor product)  bewteen two arrays representing vectors"
   ]
  },
  {
   "cell_type": "code",
   "execution_count": 103,
   "metadata": {
    "id": "OF6IvHPlDCpU"
   },
   "outputs": [
    {
     "data": {
      "text/plain": [
       "array([[1, 2, 3],\n",
       "       [4, 5, 6]])"
      ]
     },
     "execution_count": 103,
     "metadata": {},
     "output_type": "execute_result"
    }
   ],
   "source": [
    "A = np.arange(1, 7).reshape(2, 3)\n",
    "A"
   ]
  },
  {
   "cell_type": "code",
   "execution_count": 104,
   "metadata": {
    "id": "LzHfk2YsDCpU"
   },
   "outputs": [
    {
     "data": {
      "text/plain": [
       "array([[1, 2],\n",
       "       [3, 4],\n",
       "       [5, 6]])"
      ]
     },
     "execution_count": 104,
     "metadata": {},
     "output_type": "execute_result"
    }
   ],
   "source": [
    "B = np.arange(1, 7).reshape(3, 2)\n",
    "B"
   ]
  },
  {
   "cell_type": "code",
   "execution_count": 105,
   "metadata": {
    "id": "k3LrNbDYDCpV"
   },
   "outputs": [
    {
     "data": {
      "text/plain": [
       "array([[22, 28],\n",
       "       [49, 64]])"
      ]
     },
     "execution_count": 105,
     "metadata": {},
     "output_type": "execute_result"
    }
   ],
   "source": [
    "np.dot(A, B) #Matrix multiplication of A and B"
   ]
  },
  {
   "cell_type": "code",
   "execution_count": 106,
   "metadata": {
    "id": "jocH3WJsDCpV"
   },
   "outputs": [
    {
     "data": {
      "text/plain": [
       "array([[ 9, 12, 15],\n",
       "       [19, 26, 33],\n",
       "       [29, 40, 51]])"
      ]
     },
     "execution_count": 106,
     "metadata": {},
     "output_type": "execute_result"
    }
   ],
   "source": [
    "np.dot(B, A) #Matrix multiplication of B and A"
   ]
  },
  {
   "cell_type": "code",
   "execution_count": 107,
   "metadata": {},
   "outputs": [
    {
     "data": {
      "text/plain": [
       "matrix([[ 0,  2],\n",
       "        [ 1, -1],\n",
       "        [ 0,  1]])"
      ]
     },
     "execution_count": 107,
     "metadata": {},
     "output_type": "execute_result"
    }
   ],
   "source": [
    "A = np.matrix([[1,2,3],[3,2,1]])\n",
    "B = np.matrix([[0,2],[1,-1],[0,1]])\n",
    "A\n",
    "B"
   ]
  },
  {
   "cell_type": "code",
   "execution_count": 108,
   "metadata": {},
   "outputs": [
    {
     "data": {
      "text/plain": [
       "matrix([[2, 3],\n",
       "        [2, 5]])"
      ]
     },
     "execution_count": 108,
     "metadata": {},
     "output_type": "execute_result"
    }
   ],
   "source": [
    "np.dot(A,B)"
   ]
  },
  {
   "cell_type": "code",
   "execution_count": 109,
   "metadata": {},
   "outputs": [
    {
     "data": {
      "text/plain": [
       "matrix([[ 6,  4,  2],\n",
       "        [-2,  0,  2],\n",
       "        [ 3,  2,  1]])"
      ]
     },
     "execution_count": 109,
     "metadata": {},
     "output_type": "execute_result"
    }
   ],
   "source": [
    "np.dot(B,A)"
   ]
  },
  {
   "cell_type": "code",
   "execution_count": null,
   "metadata": {
    "id": "4jWORF72DCpV"
   },
   "outputs": [],
   "source": []
  },
  {
   "cell_type": "markdown",
   "metadata": {
    "id": "ZctIYijADCpV"
   },
   "source": [
    "## **Efficiency of Numpy arrays**\n"
   ]
  },
  {
   "cell_type": "code",
   "execution_count": 110,
   "metadata": {
    "id": "GYfME--DDCpV"
   },
   "outputs": [
    {
     "name": "stdout",
     "output_type": "stream",
     "text": [
      "89.7 ms ± 3.02 ms per loop (mean ± std. dev. of 7 runs, 10 loops each)\n"
     ]
    }
   ],
   "source": [
    "%%timeit\n",
    "list1 = list(range(5000000))\n",
    "#list1"
   ]
  },
  {
   "cell_type": "code",
   "execution_count": 111,
   "metadata": {
    "id": "YSNfEXbfDCpV"
   },
   "outputs": [
    {
     "name": "stdout",
     "output_type": "stream",
     "text": [
      "2.53 ms ± 43.1 µs per loop (mean ± std. dev. of 7 runs, 100 loops each)\n"
     ]
    }
   ],
   "source": [
    "%%timeit\n",
    "array1 = np.arange(5000000)"
   ]
  },
  {
   "cell_type": "markdown",
   "metadata": {
    "id": "Lsqp6pOHDCpV"
   },
   "source": [
    "## **References**:\n",
    "\n",
    "See the Numpy documentation here: https://numpy.org/doc/stable/user/quickstart.html#the-basics\n",
    "\n",
    "Pandas tutorial for beginners: https://www.learndatasci.com/tutorials/python-pandas-tutorial-complete-introduction-for-beginners/\n"
   ]
  },
  {
   "cell_type": "code",
   "execution_count": null,
   "metadata": {
    "id": "dIh4lrQzDCpV"
   },
   "outputs": [],
   "source": []
  }
 ],
 "metadata": {
  "colab": {
   "collapsed_sections": [
    "0n8nEoTFDCpO"
   ],
   "name": "Notebook3.ipynb",
   "provenance": []
  },
  "kernelspec": {
   "display_name": "Python 3 (ipykernel)",
   "language": "python",
   "name": "python3"
  },
  "language_info": {
   "codemirror_mode": {
    "name": "ipython",
    "version": 3
   },
   "file_extension": ".py",
   "mimetype": "text/x-python",
   "name": "python",
   "nbconvert_exporter": "python",
   "pygments_lexer": "ipython3",
   "version": "3.11.4"
  }
 },
 "nbformat": 4,
 "nbformat_minor": 1
}
