{
 "cells": [
  {
   "cell_type": "markdown",
   "metadata": {},
   "source": [
    "# --------------------------------------------------------------------------------\n",
    "\n",
    " <h1 style=\"color:red;\">  DATA 3550 Fall 2023 Homework 1 </h1>\n",
    " \n",
    " * (Due: Sunday, September 17, 2023 by 5 pm)\n",
    " \n",
    " * Following the formatting guidelines, please upload the .ipynb file in the D2L dropbox folder for Homework 1.\n",
    "\n",
    "# --------------------------------------------------------------------------------"
   ]
  },
  {
   "cell_type": "markdown",
   "metadata": {},
   "source": [
    "#  Purpose of Homework 1\n",
    "\n",
    "- Basic Python uses\n",
    "- Data Visualization\n",
    "- Clean and increase the quality of a messy dataset by handling missing values, inconsistencies and anomalies in the dataset\n",
    "- Create the dummy variables from the categorical variables\n",
    "- Merge the datasets\n"
   ]
  },
  {
   "cell_type": "markdown",
   "metadata": {},
   "source": [
    "## Information about the Dataset\n",
    "\n",
    "## Dataset description\n",
    "\n",
    "#### Major League Baseball Data from the 1986 and 1987 seasons.\n",
    "** A data frame with 322 observations of major league players on the following 20 variables **\n",
    "\n",
    "* AtBat: Number of times at bat in 1986\n",
    "* Hits: Number of hits in 1986\n",
    "* HmRun: Number of home runs in 1986\n",
    "* Runs: Number of runs in 1986\n",
    "* RBI: Number of runs batted in in 1986\n",
    "* Walks: Number of walks in 1986\n",
    "* Years: Number of years in the major leagues\n",
    "* CAtBat: Number of times at bat during his career\n",
    "* CHits: Number of hits during his career\n",
    "* CHmRun: Number of home runs during his career\n",
    "* CRuns: Number of runs during his career\n",
    "* CRBI: Number of runs batted in during his career\n",
    "* Walks: Number of walks during his career\n",
    "* League: A factor with levels A and N indicating player's league at the end of 1986\n",
    "* Division: A factor with levels E and W indicating player's division at the end of 1986\n",
    "* PutOuts: Number of put outs in 1986\n",
    "* Assists: Number of assists in 1986\n",
    "* Errors: Number of errors in 1986\n",
    "* Salary: 1987 annual salary on opening day in thousands of dollars\n",
    "* NewLeague: A factor with levels A and N indicating player's league at the beginning of 1987\n"
   ]
  },
  {
   "cell_type": "markdown",
   "metadata": {},
   "source": [
    "# Homework Submission Guidelines\n",
    "\n",
    "## Formatting Guidelines\n",
    "\n",
    "It is very important that your Jupyter Notebook is formatted correctly with markdown, comments, and code that works.\n",
    "Please do the following for each section (See Example below):\n",
    "\n",
    "* Include a title as a Heading 2\n",
    "* Include a brief summary of the section\n",
    "* Include your code and make sure it is executable and correct, include comments with the code.\n",
    "* At the end of the section, include a brief summary of the results.\n",
    "\n",
    "## How to turn it in:\n",
    "\n",
    "*  Your Jupyter notebook file must be named HW02_LastnameFirstInitial.ipynb. For example: the file name will be HW02_RimalR.ipynb if I submit the Homework 2.\n",
    "* You are to turn in your Jupyter notebook file only. No data files and no folders.\n",
    "* It is assumed that you created your Jupyter notebook in a folder named HW02_student and in that folder is a Dataset folder. It is expected the path for importing a file is looking for a data folder, for example ‘Dataset/studentInfo.csv’."
   ]
  },
  {
   "cell_type": "markdown",
   "metadata": {},
   "source": [
    "## Example\n",
    "* To answer the part a) and part b) of question 2,  please do the following.\n",
    "\n",
    "* This section import the dataset Hitters.csv to the Jupyter notebook and explores the basic information of the dataset\n",
    "\n",
    "## 2) Import the datasets\n",
    "\n",
    "## a) Import the dataset Hitters.csv\n",
    "\n",
    "* The following code import the Hitters.csv into the notebook and assign the name  df_Hi to the data"
   ]
  },
  {
   "cell_type": "code",
   "execution_count": 3,
   "metadata": {},
   "outputs": [],
   "source": [
    "import pandas as pd \n",
    "df_Hi = pd.read_csv('Hitters.csv')"
   ]
  },
  {
   "cell_type": "markdown",
   "metadata": {},
   "source": [
    "## b) Print the info of  df_Hi and explain\n",
    "\n",
    "* The following code block provides a concise summary of the dataframe df_Hi, for an exploratory data analysis."
   ]
  },
  {
   "cell_type": "code",
   "execution_count": 5,
   "metadata": {},
   "outputs": [
    {
     "name": "stdout",
     "output_type": "stream",
     "text": [
      "<class 'pandas.core.frame.DataFrame'>\n",
      "RangeIndex: 322 entries, 0 to 321\n",
      "Data columns (total 20 columns):\n",
      " #   Column     Non-Null Count  Dtype  \n",
      "---  ------     --------------  -----  \n",
      " 0   AtBat      322 non-null    int64  \n",
      " 1   Hits       322 non-null    int64  \n",
      " 2   HmRun      322 non-null    int64  \n",
      " 3   Runs       322 non-null    int64  \n",
      " 4   RBI        322 non-null    int64  \n",
      " 5   Walks      322 non-null    int64  \n",
      " 6   Years      322 non-null    int64  \n",
      " 7   CAtBat     322 non-null    int64  \n",
      " 8   CHits      322 non-null    int64  \n",
      " 9   CHmRun     322 non-null    int64  \n",
      " 10  CRuns      322 non-null    int64  \n",
      " 11  CRBI       322 non-null    int64  \n",
      " 12  CWalks     322 non-null    int64  \n",
      " 13  League     322 non-null    object \n",
      " 14  Division   322 non-null    object \n",
      " 15  PutOuts    322 non-null    int64  \n",
      " 16  Assists    322 non-null    int64  \n",
      " 17  Errors     322 non-null    int64  \n",
      " 18  Salary     263 non-null    float64\n",
      " 19  NewLeague  322 non-null    object \n",
      "dtypes: float64(1), int64(16), object(3)\n",
      "memory usage: 50.4+ KB\n"
     ]
    }
   ],
   "source": [
    "df_Hi.info()"
   ]
  },
  {
   "cell_type": "markdown",
   "metadata": {},
   "source": [
    "* We observed that the DataFrame df_Hi consists of 20 variables with 322 observations. Among them, 17 variables are numeric variables and 3 of them are categorical. The variable salary has missing values as the total number of non_null count is 263 which is less than the total number of obesrvations. The other variables has no missing values."
   ]
  },
  {
   "cell_type": "markdown",
   "metadata": {},
   "source": [
    "## 1. Import required packages"
   ]
  },
  {
   "cell_type": "code",
   "execution_count": 7,
   "metadata": {},
   "outputs": [],
   "source": [
    "\n",
    "import numpy as np\n",
    "import pandas as pd \n",
    "import matplotlib.pyplot as plt\n",
    "import seaborn as sns\n",
    "import missingno as msno\n",
    "%matplotlib inline\n",
    "\n",
    "import warnings\n",
    "warnings.filterwarnings('ignore')\n"
   ]
  },
  {
   "cell_type": "markdown",
   "metadata": {},
   "source": [
    "## 2. Import  the datasets\n",
    "a) Import  the dataset Hitters.csv and assign it to df_Hi\n",
    "\n",
    "b) Print the info of the pandas DataFrame df_Hi and explain your observations.\n",
    "\n"
   ]
  },
  {
   "cell_type": "markdown",
   "metadata": {},
   "source": [
    "## 3. Data Visualization\n",
    "\n",
    "a) Create a visualization to observe the missing values and their patterns in the df_Hi and explain your observations.\n",
    "\n",
    "b) Create a countplot of the all three categorical variables in the data and explain your observations.\n",
    "\n",
    "c) Create a distribution plot of all numerical variables. Breifly explain what you observe from those plots.\n",
    "\n",
    "\n",
    "d) Create the comparative boxplot of all the numerical variables. Explain your observation."
   ]
  },
  {
   "cell_type": "markdown",
   "metadata": {},
   "source": [
    "## 4. Data Exploration\n",
    "\n",
    "a) Calculate the statistical summary of the data df_Hi. Explain your observations.\n",
    "\n",
    "b) Observe the unique number of values, most repeated values, and least repeated values of the variables.\n",
    "\n",
    "c) Check if there is any outliers in the dataset."
   ]
  },
  {
   "cell_type": "markdown",
   "metadata": {},
   "source": [
    "## 5. Imputing Missing Values \n",
    "\n",
    "1) Check if there is any missing values in the Salary column of DataFrame df_Hi. What did you notice?\n",
    "\n",
    "2)  How do we impute the missing values for df_Hi? Why did you use that, write your reasoning.\n",
    "\n",
    "3) Verify that you correctly imputed the missing values.\n",
    "\n"
   ]
  },
  {
   "cell_type": "markdown",
   "metadata": {},
   "source": [
    "## 6. Create the Dummy Variables\n",
    "\n",
    "a) Create the dummies of the variable NewLeague. What is the count of each category?\n",
    "\n",
    "b) Create the dummies of the variable League. What is the count of each category?\n",
    "\n",
    "c) Create the dummies of the variable Division. What is the count of each category?"
   ]
  },
  {
   "cell_type": "markdown",
   "metadata": {},
   "source": [
    "## 7. Merge the Data and Perform the Correlation Analysis\n",
    "\n",
    "a) Merge the dummies created with the DataFrame df_Hi.\n",
    "\n",
    "b) Look at the info of the data, how many variables are there now?\n",
    "\n",
    "c) Create the heatmap that shows the pairwise correlation between all the variables.\n",
    "\n",
    "d) Observe the correlation coefficients and identify the pairs that has a correlation of more than 0.8 in absolute value. \n",
    "\n",
    "e) Successively drop those variables until  there is no variable with the pairwise correlation higher than 0.8. "
   ]
  },
  {
   "cell_type": "markdown",
   "metadata": {},
   "source": [
    "## 8. Transform the data.\n",
    "\n",
    "a) Transform the column Salary to the binary numerical variable as follows: If the Salary is above the median salary assign the value 1, otherwise assign the value 0. \n",
    "\n",
    "\n",
    "b) Verify that you correctly transformed the data. Observe the count of 1 and 0 in this column after the transformation."
   ]
  },
  {
   "cell_type": "markdown",
   "metadata": {},
   "source": [
    "## 9. Bonus Problem\n",
    "\n",
    "a) Create any interesting data visualizations that may provide further insights of the data. You can do anything that make sense to you. Please explain your work properly.\n",
    "    \n",
    "b) Create new features that you think is important and explain why is it important?    "
   ]
  },
  {
   "cell_type": "code",
   "execution_count": null,
   "metadata": {},
   "outputs": [],
   "source": []
  }
 ],
 "metadata": {
  "kernelspec": {
   "display_name": "Python 3 (ipykernel)",
   "language": "python",
   "name": "python3"
  },
  "language_info": {
   "codemirror_mode": {
    "name": "ipython",
    "version": 3
   },
   "file_extension": ".py",
   "mimetype": "text/x-python",
   "name": "python",
   "nbconvert_exporter": "python",
   "pygments_lexer": "ipython3",
   "version": "3.11.4"
  }
 },
 "nbformat": 4,
 "nbformat_minor": 4
}
