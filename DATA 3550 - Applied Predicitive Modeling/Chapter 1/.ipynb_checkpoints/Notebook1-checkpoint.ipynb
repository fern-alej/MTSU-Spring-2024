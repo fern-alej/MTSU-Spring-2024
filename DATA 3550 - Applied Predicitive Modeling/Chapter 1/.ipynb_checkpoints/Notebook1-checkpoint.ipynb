{
 "cells": [
  {
   "cell_type": "markdown",
   "metadata": {
    "id": "Ig0hQa22pO9B"
   },
   "source": [
    "# **Module1: Data Science Introduction and Tools**\n"
   ]
  },
  {
   "cell_type": "markdown",
   "metadata": {
    "id": "tu0CN7O9s7ch"
   },
   "source": [
    "## **Learning Objectives:**\n",
    "- Basic overview of data science and its applications.\n",
    "- Discussion in various data science toolboxes.\n",
    "- Python programming environment installation.\n",
    "- Getting stated with systems and environment.\n",
    "- Files management strategies for class notes, assignments, quizzes, projects, and exams. "
   ]
  },
  {
   "cell_type": "markdown",
   "metadata": {
    "id": "5NnrENidpzmS"
   },
   "source": [
    "## **What is Data Science?**\n",
    " - Data science is an inter-disciplinary field that uses scientific methods, processes, algorithms and systems to extract knowledge and insights from many structural and unstructured data. Data science is related to data mining, machine learning and big data ([Wiki](https://en.wikipedia.org/wiki/Data_science))\n",
    "\n",
    "- Data science is commonly defined as a methodology by which actionable insights can be inferred from data. Performing data science is a task with an objective: the production of beliefs informed by data and to be used as the basis of decision-making ([Introduction to Data Science](https://www.amazon.com/Introduction-Data-Science-Applications-Undergraduate/dp/3319500163)).\n",
    "\n"
   ]
  },
  {
   "cell_type": "markdown",
   "metadata": {
    "id": "vvFJfNSOCpkf"
   },
   "source": [
    "##  **What is Predictive Modeling?**\n",
    "- Predictive modelling uses statistics to predict outcomes. Most often the event one wants to predict is in the future, but predictive modelling can be applied to any type of unknown event, regardless of when it occurred. For example, predictive models are often used to detect crimes and identify suspects, after the crime has taken place.\n",
    "In many cases the model is chosen on the basis of detection theory to try to guess the probability of an outcome given a set amount of input data, for example given an email determining how likely that it is spam.([Wiki](https://en.wikipedia.org/wiki/Predictive_modelling))\n",
    "-Predictive modeling is the process of using known results to create, process, and validate a model that can be used to forecast future outcomes. It is a tool used in predictive analytics, a data mining technique that attempts to answer the question \"what might possibly happen in the future?\"([Investopedia](https://www.investopedia.com/terms/p/predictive-modeling.asp))\n",
    "- Predictive modeling is the process of developing a mathematical tool or model that generates an accurate prediction ([Textbook](http://appliedpredictivemodeling.com))\n",
    "\n"
   ]
  },
  {
   "cell_type": "markdown",
   "metadata": {
    "id": "BFBQW33xqDdc"
   },
   "source": [
    "## **Data Science Applications**\n",
    "* Business analytics\n",
    "* Supply chain and delivery optimization\n",
    "* Finance and real state\n",
    "* Health, wellness, & biomedicine\n",
    "* Bioinformatics\n",
    "* Natural sciences\n",
    "* Social media and social network analysis\n",
    "* Smart cities\n",
    "* Education and electronic teaching\n",
    "* Energy, sustainability, and climate\n",
    "* Autonomous driving, computer vision, robotics, AI\n",
    "* Product recommendation, online retails\n",
    "\n",
    "\n",
    "\n"
   ]
  },
  {
   "cell_type": "markdown",
   "metadata": {
    "id": "oRVINJI9qXy3"
   },
   "source": [
    "## **Data Science Related Jobs Opportunities**\n",
    "- [Harward Business Reivew on Data Science Jobs](https://hbr.org/2012/10/data-scientist-the-sexiest-job-of-the-21st-century)\n",
    "\n",
    "- [Data Science Related Jobs in Indeed](https://www.indeed.com/jobs?q=data%20science&l=USA&advn=590360586096706&vjk=4d35a54608ead936)\n",
    "\n",
    "- [Data Science Related Jobs in Glassdoor](https://www.glassdoor.com/Job/data-scientist-jobs-SRCH_KO0,14.html)\n",
    "\n",
    "- [Data Science Related Jobs in Tennessee](https://www.ziprecruiter.com/Jobs/Data-Scientist/-in-Nashville,TN)\n",
    "\n",
    "- [Top 20 Jobs in USA 2020 in Glassdoor](https://www.cnbc.com/2020/01/15/the-20-best-jobs-in-america-in-2020-according-to-glassdoor-ranking.html)\n",
    "\n",
    "  * Data scientist #3 with median salary $107k\n",
    "\n",
    "  * Data engineer #6 with median salary $102k\n",
    "- [Top 10 Best Jobs in America for 2021](https://www.glassdoor.com/research/best-jobs-in-america-for-2021/)\n",
    "\n",
    "  * Data scientist #2 with median salary $113k\n",
    "\n",
    "- [100 Best Jobs of 2022](https://money.usnews.com/careers/best-jobs/rankings/the-100-best-jobs)\n",
    "  * Data scientist #6 with median salary $97k, requires Bachelor's Degree \n",
    "  \n",
    "  * Statistician #8 with median salary $92k, requires Master's Degree \n"
   ]
  },
  {
   "cell_type": "markdown",
   "metadata": {
    "id": "_I1Hs4Ave14N"
   },
   "source": [
    "## **Major Programming Software for Data Scientists**\n",
    "- Python\n",
    "- R\n",
    "- SQL\n",
    "- Julia\n",
    "- SAS\n"
   ]
  },
  {
   "cell_type": "markdown",
   "metadata": {
    "id": "wsIl0nK_f4zP"
   },
   "source": [
    "## **Why Python?**\n",
    "  - Easy to write and understand.\n",
    "  - No compilation needed.\n",
    "  - Open source.\n",
    "  - Numerous external modules embedded to basic python.\n",
    "  - Large  community support. \n",
    "  - R is a competitive language.\n"
   ]
  },
  {
   "cell_type": "markdown",
   "metadata": {
    "id": "PSTcEkxDyS2j"
   },
   "source": [
    "## **Data Science Toolboxes**\n",
    "- **Basic Python:** Provides basic python prgramming environment, data structures and operations. \n",
    "\n",
    "- **Python Extensions:**\n",
    "  * **NumPy**: Helps for numerical computations using n dimensional arrays.\n",
    "  * **Pandas**: Data frame package which helps for loading and handling data.\n",
    "  * **Matplotlib**: Helps for plotting/visualization of data\n",
    "  * **Seaborn** A data visualization library based on matplotlib that provides a high-level interface for drawing attractive and informative statistical graphics.\n",
    "  * **SciPy**: Scientific computing library in python which helps to solve numerous mathematical computational problems such as vector operations, matrix multiplication, solving system of equations, solving optimization problems, solving ODE/PDE, etc.\n",
    "  * **Scikit-learn**: Helps for data preprocessing and building machine learning models.\n",
    "  * **Tensorflow and Keras**: Help to build machine learning models in a  large scale data sets.\n",
    "\n",
    "- **Environment and Platforms:**\n",
    "\n",
    "   - [Anaconda](https://www.anaconda.com/): This is a python package management system which install and mangages various python packages in a single platform. It is an important platform to run python locally (in your laptop). \n",
    "  \n",
    "  - [Jupyter](https://jupyter.org/): This is a Web Development Environment which helps to integrate python code, live result executation, visualization,  interpretation. Jupyter comes with anaconda installation.\n",
    "\n",
    "  - [Spyder](https://docs.spyder-ide.org/): This is an Integrated Development Environment(IDE) to run python which helps to organize python code, scripts, results, and files.\n",
    "\n",
    "  - [Google Drive](https://www.google.com/drive/): This helps to store class materials, quizzes, projects, data, etc.\n",
    "\n",
    "  - [Google Colab](https://colab.research.google.com/notebooks/intro.ipynb): This is a cloud computing platform offered by google, which helps to run python programming and data science projects without installing any python packages  in the local machines. Just we need a good internet connection. No matter what is your computing capacity of your laptop, you can have remote access to High Performance Computing Data Centers of Google powered by CPU, GPU, and even TPU.\n",
    "\n",
    "  - [GitHub](https://github.com/): It is a powerful website (recently bought by Microsoft) in which you can store your program code files, results, documentation files, etc, in a private or public setting. In GitHub you can have access to millions of publically available code files from various projects written in different programming languages. Also, you contribute in numerous collaborative projects.\n",
    "\n",
    "\n",
    "\n",
    "\n",
    "\n",
    "\n",
    "\n",
    "\n",
    "\n",
    "\n",
    "\n",
    "\n"
   ]
  },
  {
   "cell_type": "markdown",
   "metadata": {
    "id": "kiHzot-6olYy"
   },
   "source": [
    "## **Getting Started with Class**\n",
    "\n",
    " - **Step 1:** Create a class folder (sometime also called directory or repository) in your local computer, say **Applied Predictive Modeling**.\n",
    "\n",
    " - **Step 2**: Install  **anaconda** in your machine. See the links below for installation process for windows and mac machine.\n",
    "\n",
    "    - [Annaconda for Widows Users](https://docs.anaconda.com/anaconda/install/windows)\n",
    "\n",
    "    - [Annaconda for Mac Users](https://docs.anaconda.com/anaconda/install/mac-os)\n",
    "\n",
    "    - [User Guide](https://docs.anaconda.com/anaconda/user-guide/)\n",
    "\n",
    "- **Step 3**: Create a google account to use Google Drive and Google Colab. \n",
    "  - If you have gmail already, it will work as an account for google to access all of its services. \n",
    "  - If you do not have a gmail already, create one.\n",
    "\n",
    "  - Create a folder in Google drive, similar to the folder that you created in local machine, i.e. **Applied Predictive Modeling**.\n",
    "\n",
    "- **Step 4**: Create a [GitHub](https://github.com/) account using your gmail. Create the same **Applied Predictive Modeling** folder/repository in GitHub also. You should make setting as private not public. \n",
    "\n"
   ]
  },
  {
   "cell_type": "markdown",
   "metadata": {
    "id": "t6KfDVkCL7eJ"
   },
   "source": [
    "## **Software Tutorials**\n",
    "\n",
    "  - [Jupyter Tutorial](https://github.com/humnath5/Math_Data_Science/blob/master/Jupyter_Notebook_Cheat_Sheet.pdf)\n",
    "\n",
    "  - [Markdown Tutorial](https://colab.research.google.com/notebooks/markdown_guide.ipynb#scrollTo=70pYkR9LiOV0). Similar tutorial can be found  [here](https://docs.github.com/en/github/writing-on-github/basic-writing-and-formatting-syntax) \n",
    "\n",
    "  - [Goolge Colab Overview](https://colab.research.google.com/notebooks/basic_features_overview.ipynb)\n",
    "  \n",
    "\n"
   ]
  },
  {
   "cell_type": "markdown",
   "metadata": {
    "id": "_z2-7IwIOEA6"
   },
   "source": [
    "## **Running Python Jupyter/Colab Notebook**\n"
   ]
  },
  {
   "cell_type": "markdown",
   "metadata": {
    "id": "O2e7IaKSEU_B"
   },
   "source": []
  },
  {
   "cell_type": "code",
   "execution_count": null,
   "metadata": {
    "colab": {
     "base_uri": "https://localhost:8080/"
    },
    "executionInfo": {
     "elapsed": 203,
     "status": "ok",
     "timestamp": 1629823792699,
     "user": {
      "displayName": "Ramchandra Rimal",
      "photoUrl": "https://lh3.googleusercontent.com/a-/AOh14GiAeFifdymzS1jIfl4sZadq2W2j0_A8iIfdPLTJwg=s64",
      "userId": "02334418294935870107"
     },
     "user_tz": 300
    },
    "id": "_E4C46EjOVX5",
    "outputId": "cd96d6d9-7867-499a-f3a3-61ef03f243f8"
   },
   "outputs": [
    {
     "name": "stdout",
     "output_type": "stream",
     "text": [
      "Hello world!\n"
     ]
    }
   ],
   "source": [
    "print(\"Hello world!\")"
   ]
  },
  {
   "cell_type": "code",
   "execution_count": null,
   "metadata": {
    "colab": {
     "base_uri": "https://localhost:8080/"
    },
    "executionInfo": {
     "elapsed": 121,
     "status": "ok",
     "timestamp": 1629823803852,
     "user": {
      "displayName": "Ramchandra Rimal",
      "photoUrl": "https://lh3.googleusercontent.com/a-/AOh14GiAeFifdymzS1jIfl4sZadq2W2j0_A8iIfdPLTJwg=s64",
      "userId": "02334418294935870107"
     },
     "user_tz": 300
    },
    "id": "zM5WQJIiObXm",
    "outputId": "96e4c3d4-0978-4b06-b163-a9d7be8891a9"
   },
   "outputs": [
    {
     "name": "stdout",
     "output_type": "stream",
     "text": [
      "Welcome to Applied Predictive Modeling Class\n"
     ]
    }
   ],
   "source": [
    "print(\"Welcome to Applied Predictive Modeling Class\")"
   ]
  },
  {
   "cell_type": "markdown",
   "metadata": {
    "id": "bQvEU94TEVcL"
   },
   "source": []
  },
  {
   "cell_type": "markdown",
   "metadata": {
    "id": "r4dK_-UNOmLU"
   },
   "source": [
    "## **Running Python in Script File (Using Command line and/or Spyder IDE**)\n",
    "\n",
    "- Create a file name: **test_file.py**\n",
    "- Write the following python code from IDE editor: **print(\"Hello World!\")**\n",
    "- Save file in local working directory/folder\n",
    "- Run script file from IDE: **Press Run**\n",
    "- Run script file from command Line: use command **Python test_file.py**\n"
   ]
  },
  {
   "cell_type": "markdown",
   "metadata": {
    "id": "AFJA44mhgNsx"
   },
   "source": [
    "## **Undergraduate Research Opportunity**\n",
    "\n",
    "I am looking for students who are interested in having undergraduate research experience during Fall 2023 and  Spring/Summer 2024 in machine learning and data science. Please contact me @ ramchandra.rimal@mtsu.edu if you are interested. \n",
    "Here is a link for URECA GRANT that supports undergraduate research. Fall 2023 Application Deadline: September 7th:\n",
    "https://mtsu.edu/urc/ureca/index.php\n",
    "\n",
    "\n",
    "- **Project 1**: ** Classification of Autism Spectrum Disorder using Deep Learning **\n",
    "\n",
    "  **Project Summary**: Brain Imaging analysis is one of the emerging fields in the cognitive neuroscience. Imaging studies reveal insights about normal brain function and structure, neural processing and neuroanatomic manifestations of psychiatric and neurological disorders, and neural processing alterations associated with treatment response. Functional magnetic resonance imaging (fMRI) is one of the most popular one among the several widely used imaging modalities. The advantage of fMRI is that it quantifies brain activity by measuring correlates of blood flow and metabolism. In particular, activation of the brain is associated with the localized increase in oxygen consumption. This leads to the oxygen rich blood flow towards the active area to meet the increased demand. The increased supply of oxygen outpaces the increased demand and leads to a relative increase in oxyhemoglobin and decrease in deoxyhemoglobin in activated brain areas. The typical form of fMRI works by leveraging magnetic susceptibility properties of hemoglobin in capillary red blood cells, which delivers oxygen to neurons. Since hemoglobin is diamagnetic when oxygenated and paramagnetic when deoxygenated, the MR scanner produces blood oxygenated level dependent (BOLD) signals that vary according to the degree of oxygenation. Due to this reason, fMRI can be used to create distributed maps of localized brain activity. In this project, we will analyze the resting state fMRI data of the two groups and create a network of connections between brain regions. We then develop a classification framework to distinguish the connectivity patterns between the autistic group and the normal group.\n",
    "\n",
    "\n",
    "\n",
    " - **Project 2**:  ** A Predictive Model for studying the Stock Market Volatility **\n",
    "\n",
    "   **Project Summary**:  Predicting stock price consists of complex non-linear relationships between various predictors. The classical time series models cannot accurately capture the non-linear relationship between the variables. On the other hand, Deep learning methods better explain the non-linear relationship than traditional methods. In this project, we work with time series data, such as the historical stock price, technical indicators data, etc., to develop a predictive model. A time series is a sequence of observations ordered with respect to time, such as monthly turnover, the daily prices of stocks, annual profits, and so on. The purpose of time series analysis consists of studying the past evolution of the phenomenon with respect to time to predict the phenomenon's future trend. Our analysis is based on the Autoregressive Moving Average (ARMA) model, a linear mathematical model that provides an output value based on the previous input and output values. Then we plan to implement GRU, a particular type of Recurrent Neural Network (RNN), and conduct a comparison. Finally, we work on developing these models to predict the direction of movements of some common stocks listed on the New York Stock Exchange.\n",
    "\n",
    "\n",
    " - **Project 3**:  ** An application of statistical network models **\n",
    "\n",
    "   **Project Summary**:  A network  G = (V, E) is a structure made of nodes V and edges E. The degree of a node represents the number of connections it has with other nodes in the network. Networks are more commonly expressed as graphs as well as in terms of matrices known as adjacency matrices. An adjacency matrix is a binary matrix where Aij = 1 if there is an edge connecting node i and node j, and Aij = 0 otherwise. Nodes in a network are often found to belong to groups or communities that exhibit similar behavior. In general, community structures may also refer to groups of vertices that connect in a similar manner to the rest of the nodes in a graph without necessarily having a higher inner density. The primary interest in such networks is to understand which nodes exhibit similar behavior and in what way. The latter serves as the preliminary step toward other learning tasks. Some of the applications of community detection in networks include understanding of sociological behavior, protein-to-protein interaction, gene expressions, recommendation systems, medical prognosis, image segmentation, natural language processing, product-customer segmentation, and web page sorting, to name a few. In this project, you will learn the idea of statistical network modeling. Furthermore, we will also explore its application to your field of interest.\n",
    "   \n",
    "\n",
    " - **Project 4**:  ** Machine Learning Methods on Identifying Alzheimers Disease **\n",
    " \n",
    "     **Project Summary**: This project focuses on utilizing machine learning to classify subjects with Alzheimer's Disease (AD), Mild Cognitive Impairment (MCI), and Cognitively Normal (CN) conditions using fMRI data from ABIDE dataset. We will preprocess the data, extract relevant features, and employ various machine learning models such as CNNs and transformers for accurate classification. The framework's performance will be rigorously evaluated using metrics like accuracy, sensitivity, specificity, and AUC-ROC. Additionally, we aim to uncover key features contributing to the classification decisions for enhanced interpretability. Overall, this study aims to establish a robust classification framework and gain insights into the neural patterns associated with different neurological conditions.\n",
    "   \n",
    "   This  is a ongoing colaborative project, please let me know if you like to join this project.\n",
    "\n"
   ]
  },
  {
   "cell_type": "code",
   "execution_count": null,
   "metadata": {
    "id": "o4hcoFStlB35"
   },
   "outputs": [],
   "source": []
  }
 ],
 "metadata": {
  "colab": {
   "collapsed_sections": [],
   "name": "Notebook1.ipynb",
   "provenance": []
  },
  "kernelspec": {
   "display_name": "Python 3 (ipykernel)",
   "language": "python",
   "name": "python3"
  },
  "language_info": {
   "codemirror_mode": {
    "name": "ipython",
    "version": 3
   },
   "file_extension": ".py",
   "mimetype": "text/x-python",
   "name": "python",
   "nbconvert_exporter": "python",
   "pygments_lexer": "ipython3",
   "version": "3.11.4"
  }
 },
 "nbformat": 4,
 "nbformat_minor": 1
}
