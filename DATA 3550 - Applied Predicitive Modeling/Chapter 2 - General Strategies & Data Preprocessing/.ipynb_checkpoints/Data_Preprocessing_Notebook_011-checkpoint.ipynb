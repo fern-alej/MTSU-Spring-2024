{
 "cells": [
  {
   "cell_type": "markdown",
   "metadata": {
    "id": "ceD9F-SaTrt0"
   },
   "source": [
    "# **Module 2: Data Preprocessing**\n",
    "### Prepared by: Ramchandra Rimal"
   ]
  },
  {
   "cell_type": "markdown",
   "metadata": {},
   "source": [
    "## **Learning Objectives:**\n",
    "- Basic overview of accessing data from web\n",
    "- View summary of data\n",
    "- Basic Visualization\n",
    "- Check Missing values and Impute Missing Values\n",
    "- Merge the data\n",
    "- Create dummy variables \n",
    "- Melting and Pivoting"
   ]
  },
  {
   "cell_type": "markdown",
   "metadata": {},
   "source": [
    "## Import necessary libraries"
   ]
  },
  {
   "cell_type": "code",
   "execution_count": 3,
   "metadata": {
    "id": "5N4xpx1yTT5j"
   },
   "outputs": [
    {
     "ename": "ModuleNotFoundError",
     "evalue": "No module named 'pandas_datareader'",
     "output_type": "error",
     "traceback": [
      "\u001b[1;31m---------------------------------------------------------------------------\u001b[0m",
      "\u001b[1;31mModuleNotFoundError\u001b[0m                       Traceback (most recent call last)",
      "Cell \u001b[1;32mIn[3], line 10\u001b[0m\n\u001b[0;32m      8\u001b[0m \u001b[38;5;28;01mimport\u001b[39;00m \u001b[38;5;21;01mos\u001b[39;00m\n\u001b[0;32m      9\u001b[0m \u001b[38;5;28;01mimport\u001b[39;00m \u001b[38;5;21;01mdatetime\u001b[39;00m \u001b[38;5;28;01mas\u001b[39;00m \u001b[38;5;21;01mdt\u001b[39;00m\n\u001b[1;32m---> 10\u001b[0m \u001b[38;5;28;01mimport\u001b[39;00m \u001b[38;5;21;01mpandas_datareader\u001b[39;00m\u001b[38;5;21;01m.\u001b[39;00m\u001b[38;5;21;01mdata\u001b[39;00m \u001b[38;5;28;01mas\u001b[39;00m \u001b[38;5;21;01mweb\u001b[39;00m\n\u001b[0;32m     12\u001b[0m \u001b[38;5;28;01mimport\u001b[39;00m \u001b[38;5;21;01mwarnings\u001b[39;00m\n\u001b[0;32m     13\u001b[0m warnings\u001b[38;5;241m.\u001b[39mfilterwarnings(\u001b[38;5;124m'\u001b[39m\u001b[38;5;124mignore\u001b[39m\u001b[38;5;124m'\u001b[39m)\n",
      "\u001b[1;31mModuleNotFoundError\u001b[0m: No module named 'pandas_datareader'"
     ]
    }
   ],
   "source": [
    "import pandas as pd  \n",
    "import numpy as np\n",
    "import math\n",
    "import matplotlib.pyplot as plt\n",
    "import seaborn as sns\n",
    "%matplotlib inline\n",
    "\n",
    "import os\n",
    "import datetime as dt\n",
    "import pandas_datareader.data as web\n",
    "\n",
    "import warnings\n",
    "warnings.filterwarnings('ignore')\n"
   ]
  },
  {
   "cell_type": "code",
   "execution_count": null,
   "metadata": {},
   "outputs": [],
   "source": [
    "#widen the notebook\n",
    "\n",
    "from IPython.display import display, HTML\n",
    "display(HTML(\"<style>.container { width:100% !important; }</style>\"))"
   ]
  },
  {
   "cell_type": "markdown",
   "metadata": {
    "id": "Ju-zXKosTnac"
   },
   "source": [
    "## Extracting data from the web"
   ]
  },
  {
   "cell_type": "code",
   "execution_count": null,
   "metadata": {
    "id": "O4CEL38UWCqP"
   },
   "outputs": [],
   "source": [
    "start = dt.datetime(2021, 1, 26)\n",
    "end = dt.datetime(2023, 8, 25)\n",
    "ticker = 'TSLA'\n",
    "\n",
    "#sometimes the pandas datareader not working\n",
    "#data  =  web.DataReader(ticker, 'yahoo', start, end)[['Open','Close', 'Volume']]\n"
   ]
  },
  {
   "cell_type": "code",
   "execution_count": null,
   "metadata": {},
   "outputs": [],
   "source": [
    "#install yfinance\n",
    "\n",
    "#!pip install yfinance\n",
    "\n",
    "import yfinance as yf"
   ]
  },
  {
   "cell_type": "code",
   "execution_count": null,
   "metadata": {},
   "outputs": [],
   "source": [
    "#import data using yfinance\n",
    "\n",
    "data  =  yf.download(ticker, start, end)[['Open','Close', 'Volume']]\n",
    "data.head()"
   ]
  },
  {
   "cell_type": "code",
   "execution_count": null,
   "metadata": {
    "colab": {
     "base_uri": "https://localhost:8080/"
    },
    "id": "aLDjkv-F5Br5",
    "outputId": "285aa39a-873f-4f52-a581-f53070689940"
   },
   "outputs": [],
   "source": [
    "type(data)"
   ]
  },
  {
   "cell_type": "code",
   "execution_count": null,
   "metadata": {},
   "outputs": [],
   "source": [
    "data.tail()"
   ]
  },
  {
   "cell_type": "markdown",
   "metadata": {},
   "source": [
    "## Statistical summary of the data"
   ]
  },
  {
   "cell_type": "code",
   "execution_count": null,
   "metadata": {
    "colab": {
     "base_uri": "https://localhost:8080/",
     "height": 297
    },
    "id": "-og-hhMYZVt5",
    "outputId": "57f8ad0d-21fb-4c71-e340-c592e1b01228"
   },
   "outputs": [],
   "source": [
    "data.describe()\n",
    "with pd.option_context('float_format', '{:.2f}'.format): print(data.describe()) \n",
    "# used with the with statement since don't want to change the whole settings but only apply for a particular output:\n"
   ]
  },
  {
   "cell_type": "code",
   "execution_count": null,
   "metadata": {},
   "outputs": [],
   "source": [
    "data.describe().round(2)"
   ]
  },
  {
   "cell_type": "code",
   "execution_count": null,
   "metadata": {},
   "outputs": [],
   "source": [
    "pd.options.display.float_format = '{:,.2f}'.format # change whole setting to print two decimal places\n",
    "\n",
    "data.describe()\n"
   ]
  },
  {
   "cell_type": "code",
   "execution_count": 4,
   "metadata": {
    "colab": {
     "base_uri": "https://localhost:8080/",
     "height": 529
    },
    "id": "nafL_ax_ZeQt",
    "outputId": "fab067df-efe7-4fcc-c33b-9ecb88e8575d"
   },
   "outputs": [
    {
     "ename": "NameError",
     "evalue": "name 'data' is not defined",
     "output_type": "error",
     "traceback": [
      "\u001b[1;31m---------------------------------------------------------------------------\u001b[0m",
      "\u001b[1;31mNameError\u001b[0m                                 Traceback (most recent call last)",
      "Cell \u001b[1;32mIn[4], line 2\u001b[0m\n\u001b[0;32m      1\u001b[0m fig \u001b[38;5;241m=\u001b[39m plt\u001b[38;5;241m.\u001b[39mfigure()\n\u001b[1;32m----> 2\u001b[0m data\u001b[38;5;241m.\u001b[39mhist(figsize \u001b[38;5;241m=\u001b[39m (\u001b[38;5;241m16\u001b[39m,\u001b[38;5;241m8\u001b[39m))\n\u001b[0;32m      3\u001b[0m \u001b[38;5;66;03m#fig.savefig(\"histograms.png\")\u001b[39;00m\n\u001b[0;32m      4\u001b[0m plt\u001b[38;5;241m.\u001b[39mshow()\n",
      "\u001b[1;31mNameError\u001b[0m: name 'data' is not defined"
     ]
    },
    {
     "data": {
      "text/plain": [
       "<Figure size 640x480 with 0 Axes>"
      ]
     },
     "metadata": {},
     "output_type": "display_data"
    }
   ],
   "source": [
    "fig = plt.figure()\n",
    "data.hist(figsize = (16,8))\n",
    "#fig.savefig(\"histograms.png\")\n",
    "plt.show()"
   ]
  },
  {
   "cell_type": "code",
   "execution_count": 5,
   "metadata": {
    "colab": {
     "base_uri": "https://localhost:8080/"
    },
    "id": "t1C3-vmqZnOb",
    "outputId": "529caebf-5a28-4aa9-d3c7-3760b8b0aeba"
   },
   "outputs": [
    {
     "ename": "NameError",
     "evalue": "name 'data' is not defined",
     "output_type": "error",
     "traceback": [
      "\u001b[1;31m---------------------------------------------------------------------------\u001b[0m",
      "\u001b[1;31mNameError\u001b[0m                                 Traceback (most recent call last)",
      "Cell \u001b[1;32mIn[5], line 1\u001b[0m\n\u001b[1;32m----> 1\u001b[0m \u001b[38;5;28mprint\u001b[39m(data\u001b[38;5;241m.\u001b[39msample(\u001b[38;5;241m10\u001b[39m))\n",
      "\u001b[1;31mNameError\u001b[0m: name 'data' is not defined"
     ]
    }
   ],
   "source": [
    "print(data.sample(10))"
   ]
  },
  {
   "cell_type": "code",
   "execution_count": 6,
   "metadata": {
    "colab": {
     "base_uri": "https://localhost:8080/"
    },
    "id": "15TpyrS3ZyIU",
    "outputId": "af4e91fe-256b-413b-a59b-926b42e18d78"
   },
   "outputs": [
    {
     "ename": "NameError",
     "evalue": "name 'data' is not defined",
     "output_type": "error",
     "traceback": [
      "\u001b[1;31m---------------------------------------------------------------------------\u001b[0m",
      "\u001b[1;31mNameError\u001b[0m                                 Traceback (most recent call last)",
      "Cell \u001b[1;32mIn[6], line 1\u001b[0m\n\u001b[1;32m----> 1\u001b[0m \u001b[38;5;28mprint\u001b[39m(\u001b[38;5;124m\"\u001b[39m\u001b[38;5;124mShape:\u001b[39m\u001b[38;5;124m\"\u001b[39m, data\u001b[38;5;241m.\u001b[39mshape)\n",
      "\u001b[1;31mNameError\u001b[0m: name 'data' is not defined"
     ]
    }
   ],
   "source": [
    "print(\"Shape:\", data.shape)"
   ]
  },
  {
   "cell_type": "code",
   "execution_count": 7,
   "metadata": {},
   "outputs": [
    {
     "ename": "NameError",
     "evalue": "name 'data' is not defined",
     "output_type": "error",
     "traceback": [
      "\u001b[1;31m---------------------------------------------------------------------------\u001b[0m",
      "\u001b[1;31mNameError\u001b[0m                                 Traceback (most recent call last)",
      "Cell \u001b[1;32mIn[7], line 1\u001b[0m\n\u001b[1;32m----> 1\u001b[0m data\u001b[38;5;241m.\u001b[39mshape[\u001b[38;5;241m0\u001b[39m]\n",
      "\u001b[1;31mNameError\u001b[0m: name 'data' is not defined"
     ]
    }
   ],
   "source": [
    " data.shape[0]"
   ]
  },
  {
   "cell_type": "code",
   "execution_count": 39,
   "metadata": {},
   "outputs": [
    {
     "name": "stdout",
     "output_type": "stream",
     "text": [
      "The number of rows and columns of data are: 650 3\n"
     ]
    }
   ],
   "source": [
    "print(\"The number of rows and columns of data are:\",  data.shape[0],  data.shape[1])"
   ]
  },
  {
   "cell_type": "code",
   "execution_count": 40,
   "metadata": {},
   "outputs": [
    {
     "name": "stdout",
     "output_type": "stream",
     "text": [
      "The number of rows is 650 and the number of columns in the data is 3.\n"
     ]
    }
   ],
   "source": [
    "print(\"The number of rows is {} and the number of columns in the data is {}.\".format(data.shape[0],  data.shape[1]))"
   ]
  },
  {
   "cell_type": "code",
   "execution_count": 41,
   "metadata": {},
   "outputs": [
    {
     "name": "stdout",
     "output_type": "stream",
     "text": [
      "The number of rows is 650 and the number of columns in the data is 3.\n"
     ]
    }
   ],
   "source": [
    "print(f\"The number of rows is {data.shape[0]} and the number of columns in the data is {data.shape[1]}.\")"
   ]
  },
  {
   "cell_type": "markdown",
   "metadata": {},
   "source": [
    "## Extracting the VIX data from yahoo "
   ]
  },
  {
   "cell_type": "code",
   "execution_count": 42,
   "metadata": {
    "id": "ukoysuWtZ9Gq"
   },
   "outputs": [
    {
     "name": "stdout",
     "output_type": "stream",
     "text": [
      "[*********************100%***********************]  1 of 1 completed\n"
     ]
    },
    {
     "data": {
      "text/plain": [
       "Date\n",
       "2021-01-26   23.02\n",
       "2021-01-27   37.21\n",
       "2021-01-28   30.21\n",
       "2021-01-29   33.09\n",
       "2021-02-01   30.24\n",
       "Name: Close, dtype: float64"
      ]
     },
     "execution_count": 42,
     "metadata": {},
     "output_type": "execute_result"
    }
   ],
   "source": [
    "\n",
    "vix = yf.download('^VIX', start, end)['Close']\n",
    "vix.head()"
   ]
  },
  {
   "cell_type": "code",
   "execution_count": 43,
   "metadata": {
    "colab": {
     "base_uri": "https://localhost:8080/"
    },
    "id": "3nLucyicaxz0",
    "outputId": "5d42b154-7b02-4bb6-cf9a-c90e56e4cd56"
   },
   "outputs": [
    {
     "data": {
      "text/plain": [
       "count   650.00\n",
       "mean     21.40\n",
       "std       5.05\n",
       "min      12.91\n",
       "25%      17.46\n",
       "50%      20.43\n",
       "75%      24.47\n",
       "max      37.21\n",
       "Name: Close, dtype: float64"
      ]
     },
     "execution_count": 43,
     "metadata": {},
     "output_type": "execute_result"
    }
   ],
   "source": [
    "vix.describe()"
   ]
  },
  {
   "cell_type": "code",
   "execution_count": 44,
   "metadata": {
    "colab": {
     "base_uri": "https://localhost:8080/"
    },
    "id": "Pk84WqO8a7xj",
    "outputId": "d68cd095-8c01-411e-dc98-c0d009b58957"
   },
   "outputs": [
    {
     "name": "stdout",
     "output_type": "stream",
     "text": [
      "Date\n",
      "2023-08-18   17.30\n",
      "2023-08-21   17.13\n",
      "2023-08-22   16.97\n",
      "2023-08-23   15.98\n",
      "2023-08-24   17.20\n",
      "Name: Close, dtype: float64\n"
     ]
    }
   ],
   "source": [
    "print(vix.tail())"
   ]
  },
  {
   "cell_type": "code",
   "execution_count": 45,
   "metadata": {
    "colab": {
     "base_uri": "https://localhost:8080/",
     "height": 265
    },
    "id": "7R-bBE_3aytp",
    "outputId": "04f42c45-1112-4d67-eb8a-db19ee10a019"
   },
   "outputs": [
    {
     "data": {
      "image/png": "[encoded data removed]",
      "text/plain": [
       "<Figure size 720x288 with 1 Axes>"
      ]
     },
     "metadata": {
      "needs_background": "light"
     },
     "output_type": "display_data"
    }
   ],
   "source": [
    "fig = plt.figure(figsize = (10,4))\n",
    "vix.hist()\n",
    "#fig.savefig(\"histograms.png\")\n",
    "plt.show()"
   ]
  },
  {
   "cell_type": "code",
   "execution_count": 46,
   "metadata": {},
   "outputs": [
    {
     "data": {
      "application/vnd.plotly.v1+json": {
       "config": {
        "plotlyServerURL": "https://plot.ly"
       },
       "data": [
        {
         "alignmentgroup": "True",
         "bingroup": "x",
         "hovertemplate": "variable=Close<br>value=%{x}<br>count=%{y}<extra></extra>",
         "legendgroup": "Close",
         "marker": {
          "color": "blue",
          "line": {
           "color": "black",
           "width": 1
          },
          "opacity": 0.5,
          "pattern": {
           "shape": ""
          }
         },
         "name": "Close",
         "nbinsx": 50,
         "offsetgroup": "Close",
         "orientation": "v",
         "showlegend": true,
         "type": "histogram",
         "x": [
          23.020000457763672,
          37.209999084472656,
          30.209999084472656,
          33.09000015258789,
          30.239999771118164,
          25.559999465942383,
          22.90999984741211,
          21.770000457763672,
          20.8700008392334,
          21.239999771118164,
          21.6299991607666,
          21.989999771118164,
          21.25,
          19.969999313354492,
          21.459999084472656,
          21.5,
          22.489999771118164,
          22.049999237060547,
          23.450000762939453,
          23.110000610351562,
          21.34000015258789,
          28.889999389648438,
          27.950000762939453,
          23.350000381469727,
          24.100000381469727,
          26.670000076293945,
          28.56999969482422,
          24.65999984741211,
          25.469999313354492,
          24.030000686645508,
          22.559999465942383,
          21.90999984741211,
          20.690000534057617,
          20.030000686645508,
          19.790000915527344,
          19.229999542236328,
          21.579999923706055,
          20.950000762939453,
          18.8799991607666,
          20.299999237060547,
          21.200000762939453,
          19.809999465942383,
          18.860000610351562,
          20.739999771118164,
          19.610000610351562,
          19.399999618530273,
          17.329999923706055,
          17.90999984741211,
          18.1200008392334,
          17.15999984741211,
          16.950000762939453,
          16.690000534057617,
          16.90999984741211,
          16.649999618530273,
          16.989999771118164,
          16.56999969482422,
          16.25,
          17.290000915527344,
          18.68000030517578,
          17.5,
          18.709999084472656,
          17.329999923706055,
          17.639999389648438,
          17.559999465942383,
          17.280000686645508,
          17.610000610351562,
          18.610000610351562,
          18.309999465942383,
          19.479999542236328,
          19.149999618530273,
          18.389999389648438,
          16.690000534057617,
          19.65999984741211,
          21.84000015258789,
          27.59000015258789,
          23.1299991607666,
          18.809999465942383,
          19.719999313354492,
          21.34000015258789,
          22.18000030517578,
          20.670000076293945,
          20.149999618530273,
          18.399999618530273,
          18.84000015258789,
          17.360000610351562,
          16.739999771118164,
          16.760000228881836,
          17.899999618530273,
          17.479999542236328,
          18.040000915527344,
          16.420000076293945,
          16.420000076293945,
          17.06999969482422,
          17.889999389648438,
          16.100000381469727,
          15.649999618530273,
          16.389999389648438,
          17.020000457763672,
          18.149999618530273,
          17.75,
          20.700000762939453,
          17.889999389648438,
          16.65999984741211,
          16.31999969482422,
          15.970000267028809,
          15.619999885559082,
          15.760000228881836,
          16.020000457763672,
          15.829999923706055,
          15.479999542236328,
          15.069999694824219,
          16.440000534057617,
          16.200000762939453,
          19,
          16.18000030517578,
          16.170000076293945,
          17.1200008392334,
          16.329999923706055,
          17.010000228881836,
          18.450000762939453,
          22.5,
          19.729999542236328,
          17.90999984741211,
          17.690000534057617,
          17.200000762939453,
          17.579999923706055,
          19.360000610351562,
          18.309999465942383,
          17.700000762939453,
          18.239999771118164,
          19.459999084472656,
          18.040000915527344,
          17.969999313354492,
          17.280000686645508,
          16.149999618530273,
          16.719999313354492,
          16.790000915527344,
          16.170000076293945,
          15.59000015258789,
          15.449999809265137,
          16.1200008392334,
          17.90999984741211,
          21.56999969482422,
          21.670000076293945,
          18.559999465942383,
          17.149999618530273,
          17.219999313354492,
          16.790000915527344,
          18.84000015258789,
          16.389999389648438,
          16.190000534057617,
          16.479999542236328,
          16.110000610351562,
          16.40999984741211,
          16.40999984741211,
          18.139999389648438,
          17.959999084472656,
          18.799999237060547,
          20.950000762939453,
          19.3700008392334,
          19.459999084472656,
          18.18000030517578,
          18.690000534057617,
          20.809999465942383,
          25.709999084472656,
          24.360000610351562,
          20.8700008392334,
          18.6299991607666,
          17.75,
          18.760000228881836,
          23.25,
          22.559999465942383,
          23.139999389648438,
          21.100000381469727,
          22.959999084472656,
          21.299999237060547,
          21,
          19.540000915527344,
          18.770000457763672,
          20,
          19.850000381469727,
          18.639999389648438,
          16.860000610351562,
          16.299999237060547,
          16.309999465942383,
          15.699999809265137,
          15.489999771118164,
          15.010000228881836,
          15.430000305175781,
          15.239999771118164,
          15.979999542236328,
          16.979999542236328,
          16.530000686645508,
          16.260000228881836,
          16.40999984741211,
          16.030000686645508,
          15.100000381469727,
          15.4399995803833,
          16.479999542236328,
          17.219999313354492,
          17.780000686645508,
          18.729999542236328,
          17.65999984741211,
          16.290000915527344,
          16.489999771118164,
          16.3700008392334,
          17.110000610351562,
          17.59000015258789,
          17.90999984741211,
          19.170000076293945,
          19.3799991607666,
          18.579999923706055,
          28.6200008392334,
          22.959999084472656,
          27.190000534057617,
          31.1200008392334,
          27.950000762939453,
          30.670000076293945,
          27.18000030517578,
          21.889999389648438,
          19.899999618530273,
          21.579999923706055,
          18.690000534057617,
          20.309999465942383,
          21.889999389648438,
          19.290000915527344,
          20.56999969482422,
          21.56999969482422,
          22.8700008392334,
          21.010000228881836,
          18.6299991607666,
          17.959999084472656,
          17.68000030517578,
          17.540000915527344,
          16.950000762939453,
          17.329999923706055,
          17.219999313354492,
          16.600000381469727,
          16.90999984741211,
          19.729999542236328,
          19.610000610351562,
          18.760000228881836,
          19.399999618530273,
          18.40999984741211,
          17.6200008392334,
          20.309999465942383,
          19.190000534057617,
          22.790000915527344,
          23.850000381469727,
          25.59000015258789,
          28.850000381469727,
          29.899999618530273,
          31.15999984741211,
          31.959999084472656,
          30.489999771118164,
          27.65999984741211,
          24.829999923706055,
          21.959999084472656,
          22.09000015258789,
          24.350000381469727,
          23.219999313354492,
          22.860000610351562,
          21.440000534057617,
          19.959999084472656,
          23.90999984741211,
          27.360000610351562,
          28.329999923706055,
          25.700000762939453,
          24.290000915527344,
          28.110000610351562,
          27.75,
          28.809999465942383,
          31.020000457763672,
          30.31999969482422,
          27.59000015258789,
          30.149999618530273,
          33.31999969482422,
          30.739999771118164,
          30.479999542236328,
          31.979999542236328,
          36.45000076293945,
          35.130001068115234,
          32.45000076293945,
          30.229999542236328,
          30.75,
          31.770000457763672,
          29.829999923706055,
          26.670000076293945,
          25.670000076293945,
          23.8700008392334,
          23.530000686645508,
          22.940000534057617,
          23.56999969482422,
          21.670000076293945,
          20.809999465942383,
          19.6299991607666,
          18.899999618530273,
          19.329999923706055,
          20.559999465942383,
          19.6299991607666,
          18.56999969482422,
          21.030000686645508,
          22.100000381469727,
          21.549999237060547,
          21.15999984741211,
          24.3700008392334,
          24.260000228881836,
          21.81999969482422,
          22.700000762939453,
          22.170000076293945,
          21.3700008392334,
          20.31999969482422,
          22.68000030517578,
          28.209999084472656,
          27.020000457763672,
          33.52000045776367,
          31.600000381469727,
          29.989999771118164,
          33.400001525878906,
          32.34000015258789,
          29.25,
          25.420000076293945,
          31.200000762939453,
          30.190000534057617,
          34.75,
          32.9900016784668,
          32.560001373291016,
          31.770000457763672,
          28.8700008392334,
          27.469999313354492,
          26.100000381469727,
          30.959999084472656,
          29.350000381469727,
          29.43000030517578,
          28.479999542236328,
          29.450000762939453,
          28.3700008392334,
          27.5,
          25.719999313354492,
          26.190000534057617,
          25.690000534057617,
          24.719999313354492,
          24.790000915527344,
          25.06999969482422,
          24.020000457763672,
          23.959999084472656,
          26.09000015258789,
          27.75,
          34.02000045776367,
          32.689998626708984,
          29.6200008392334,
          32.95000076293945,
          31.1299991607666,
          30.190000534057617,
          28.950000762939453,
          29.049999237060547,
          27.229999542236328,
          26.950000762939453,
          28.360000610351562,
          28.15999984741211,
          28.709999084472656,
          26.700000762939453,
          27.540000915527344,
          26.729999542236328,
          26.079999923706055,
          24.639999389648438,
          26.170000076293945,
          27.290000915527344,
          26.81999969482422,
          26.399999618530273,
          24.229999542236328,
          25.299999237060547,
          24.5,
          23.8799991607666,
          23.110000610351562,
          23.030000686645508,
          23.360000610351562,
          24.690000534057617,
          23.239999771118164,
          22.329999923706055,
          21.329999923706055,
          22.84000015258789,
          23.93000030517578,
          21.950000762939453,
          21.440000534057617,
          21.149999618530273,
          21.290000915527344,
          21.770000457763672,
          19.739999771118164,
          20.200000762939453,
          19.530000686645508,
          19.950000762939453,
          19.690000534057617,
          19.899999618530273,
          19.559999465942383,
          20.600000381469727,
          23.799999237060547,
          24.110000610351562,
          22.81999969482422,
          21.780000686645508,
          25.559999465942383,
          26.209999084472656,
          26.209999084472656,
          25.8700008392334,
          25.559999465942383,
          25.469999313354492,
          26.90999984741211,
          24.639999389648438,
          23.610000610351562,
          22.790000915527344,
          23.8700008392334,
          27.270000457763672,
          26.15999984741211,
          26.270000457763672,
          26.299999237060547,
          25.760000228881836,
          27.15999984741211,
          27.989999771118164,
          27.350000381469727,
          29.920000076293945,
          32.2599983215332,
          32.599998474121094,
          30.18000030517578,
          31.84000015258789,
          31.6200008392334,
          30.100000381469727,
          29.06999969482422,
          28.549999237060547,
          30.520000457763672,
          31.360000610351562,
          32.45000076293945,
          33.630001068115234,
          33.56999969482422,
          31.940000534057617,
          32.02000045776367,
          31.3700008392334,
          30.5,
          30.760000228881836,
          29.979999542236328,
          29.690000534057617,
          29.850000381469727,
          28.459999084472656,
          27.280000686645508,
          27.389999389648438,
          25.75,
          25.8799991607666,
          25.809999465942383,
          25.860000610351562,
          25.299999237060547,
          24.549999237060547,
          24.350000381469727,
          25.540000915527344,
          26.09000015258789,
          23.530000686645508,
          22.520000457763672,
          23.729999542236328,
          24.540000915527344,
          24.110000610351562,
          23.93000030517578,
          23.1200008392334,
          22.360000610351562,
          21.290000915527344,
          20.350000381469727,
          20.5,
          22.209999084472656,
          21.889999389648438,
          20.579999923706055,
          19.84000015258789,
          19.059999465942383,
          20.75,
          22.170000076293945,
          22.68000030517578,
          22.290000915527344,
          22.829999923706055,
          25,
          22.549999237060547,
          21.139999389648438,
          22.829999923706055,
          22.6200008392334,
          22.420000076293945,
          21.479999542236328,
          20.06999969482422,
          21.969999313354492,
          20.8700008392334,
          21.649999618530273,
          22.139999389648438,
          21.440000534057617,
          21.670000076293945,
          22.899999618530273,
          22.010000228881836,
          22.459999084472656,
          21.1299991607666,
          21.969999313354492,
          20.579999923706055,
          21.09000015258789,
          18.829999923706055,
          18.350000381469727,
          19.360000610351562,
          20.34000015258789,
          20.520000457763672,
          19.850000381469727,
          19.809999465942383,
          19.200000762939453,
          19.079999923706055,
          18.729999542236328,
          18.510000228881836,
          19.940000534057617,
          19.399999618530273,
          17.8700008392334,
          18.729999542236328,
          18.329999923706055,
          19.43000030517578,
          18.65999984741211,
          19.6299991607666,
          20.709999084472656,
          20.530000686645508,
          20.34000015258789,
          18.90999984741211,
          18.229999542236328,
          20.170000076293945,
          20.020000457763672,
          22.8700008392334,
          22.290000915527344,
          21.139999389648438,
          21.670000076293945,
          20.950000762939453,
          20.700000762939453,
          20.579999923706055,
          19.59000015258789,
          18.489999771118164,
          18.610000610351562,
          19.59000015258789,
          19.110000610351562,
          22.610000610351562,
          24.799999237060547,
          26.520000457763672,
          23.729999542236328,
          26.139999389648438,
          22.989999771118164,
          25.510000228881836,
          24.149999618530273,
          21.3799991607666,
          22.260000228881836,
          22.610000610351562,
          21.739999771118164,
          20.600000381469727,
          19.969999313354492,
          19.1200008392334,
          19.020000457763672,
          18.700000762939453,
          18.549999237060547,
          19,
          19.079999923706055,
          18.399999618530273,
          18.969999313354492,
          19.100000381469727,
          19.09000015258789,
          17.799999237060547,
          17.06999969482422,
          16.950000762939453,
          16.829999923706055,
          16.459999084472656,
          17.170000076293945,
          16.770000457763672,
          16.889999389648438,
          18.760000228881836,
          18.84000015258789,
          17.030000686645508,
          15.779999732971191,
          16.079999923706055,
          17.780000686645508,
          18.34000015258789,
          20.09000015258789,
          17.190000534057617,
          16.979999542236328,
          17.709999084472656,
          16.940000534057617,
          16.93000030517578,
          17.030000686645508,
          17.1200008392334,
          17.989999771118164,
          16.8700008392334,
          16.049999237060547,
          16.809999465942383,
          17.209999084472656,
          18.530000686645508,
          20.030000686645508,
          19.139999389648438,
          17.950000762939453,
          17.459999084472656,
          17.940000534057617,
          15.649999618530273,
          14.600000381469727,
          14.729999542236328,
          13.960000038146973,
          13.9399995803833,
          13.649999618530273,
          13.829999923706055,
          15.010000228881836,
          14.609999656677246,
          13.880000114440918,
          14.5,
          13.539999961853027,
          13.880000114440918,
          13.199999809265137,
          12.90999984741211,
          13.4399995803833,
          14.25,
          13.739999771118164,
          13.430000305175781,
          13.539999961853027,
          13.59000015258789,
          13.569999694824219,
          14.180000305175781,
          15.4399995803833,
          14.829999923706055,
          15.069999694824219,
          14.84000015258789,
          13.539999961853027,
          13.609999656677246,
          13.34000015258789,
          13.479999542236328,
          13.300000190734863,
          13.760000228881836,
          13.989999771118164,
          13.600000381469727,
          13.90999984741211,
          13.859999656677246,
          13.1899995803833,
          14.40999984741211,
          13.329999923706055,
          13.630000114440918,
          13.930000305175781,
          16.09000015258789,
          15.920000076293945,
          17.100000381469727,
          15.770000457763672,
          15.989999771118164,
          15.960000038146973,
          15.850000381469727,
          14.84000015258789,
          14.819999694824219,
          16.459999084472656,
          16.780000686645508,
          17.889999389648438,
          17.299999237060547,
          17.1299991607666,
          16.969999313354492,
          15.979999542236328,
          17.200000762939453
         ],
         "xaxis": "x",
         "yaxis": "y"
        }
       ],
       "layout": {
        "barmode": "relative",
        "height": 500,
        "legend": {
         "title": {
          "text": "variable"
         },
         "tracegroupgap": 0
        },
        "margin": {
         "t": 60
        },
        "template": {
         "data": {
          "bar": [
           {
            "error_x": {
             "color": "#2a3f5f"
            },
            "error_y": {
             "color": "#2a3f5f"
            },
            "marker": {
             "line": {
              "color": "#E5ECF6",
              "width": 0.5
             },
             "pattern": {
              "fillmode": "overlay",
              "size": 10,
              "solidity": 0.2
             }
            },
            "type": "bar"
           }
          ],
          "barpolar": [
           {
            "marker": {
             "line": {
              "color": "#E5ECF6",
              "width": 0.5
             },
             "pattern": {
              "fillmode": "overlay",
              "size": 10,
              "solidity": 0.2
             }
            },
            "type": "barpolar"
           }
          ],
          "carpet": [
           {
            "aaxis": {
             "endlinecolor": "#2a3f5f",
             "gridcolor": "white",
             "linecolor": "white",
             "minorgridcolor": "white",
             "startlinecolor": "#2a3f5f"
            },
            "baxis": {
             "endlinecolor": "#2a3f5f",
             "gridcolor": "white",
             "linecolor": "white",
             "minorgridcolor": "white",
             "startlinecolor": "#2a3f5f"
            },
            "type": "carpet"
           }
          ],
          "choropleth": [
           {
            "colorbar": {
             "outlinewidth": 0,
             "ticks": ""
            },
            "type": "choropleth"
           }
          ],
          "contour": [
           {
            "colorbar": {
             "outlinewidth": 0,
             "ticks": ""
            },
            "colorscale": [
             [
              0,
              "#0d0887"
             ],
             [
              0.1111111111111111,
              "#46039f"
             ],
             [
              0.2222222222222222,
              "#7201a8"
             ],
             [
              0.3333333333333333,
              "#9c179e"
             ],
             [
              0.4444444444444444,
              "#bd3786"
             ],
             [
              0.5555555555555556,
              "#d8576b"
             ],
             [
              0.6666666666666666,
              "#ed7953"
             ],
             [
              0.7777777777777778,
              "#fb9f3a"
             ],
             [
              0.8888888888888888,
              "#fdca26"
             ],
             [
              1,
              "#f0f921"
             ]
            ],
            "type": "contour"
           }
          ],
          "contourcarpet": [
           {
            "colorbar": {
             "outlinewidth": 0,
             "ticks": ""
            },
            "type": "contourcarpet"
           }
          ],
          "heatmap": [
           {
            "colorbar": {
             "outlinewidth": 0,
             "ticks": ""
            },
            "colorscale": [
             [
              0,
              "#0d0887"
             ],
             [
              0.1111111111111111,
              "#46039f"
             ],
             [
              0.2222222222222222,
              "#7201a8"
             ],
             [
              0.3333333333333333,
              "#9c179e"
             ],
             [
              0.4444444444444444,
              "#bd3786"
             ],
             [
              0.5555555555555556,
              "#d8576b"
             ],
             [
              0.6666666666666666,
              "#ed7953"
             ],
             [
              0.7777777777777778,
              "#fb9f3a"
             ],
             [
              0.8888888888888888,
              "#fdca26"
             ],
             [
              1,
              "#f0f921"
             ]
            ],
            "type": "heatmap"
           }
          ],
          "heatmapgl": [
           {
            "colorbar": {
             "outlinewidth": 0,
             "ticks": ""
            },
            "colorscale": [
             [
              0,
              "#0d0887"
             ],
             [
              0.1111111111111111,
              "#46039f"
             ],
             [
              0.2222222222222222,
              "#7201a8"
             ],
             [
              0.3333333333333333,
              "#9c179e"
             ],
             [
              0.4444444444444444,
              "#bd3786"
             ],
             [
              0.5555555555555556,
              "#d8576b"
             ],
             [
              0.6666666666666666,
              "#ed7953"
             ],
             [
              0.7777777777777778,
              "#fb9f3a"
             ],
             [
              0.8888888888888888,
              "#fdca26"
             ],
             [
              1,
              "#f0f921"
             ]
            ],
            "type": "heatmapgl"
           }
          ],
          "histogram": [
           {
            "marker": {
             "pattern": {
              "fillmode": "overlay",
              "size": 10,
              "solidity": 0.2
             }
            },
            "type": "histogram"
           }
          ],
          "histogram2d": [
           {
            "colorbar": {
             "outlinewidth": 0,
             "ticks": ""
            },
            "colorscale": [
             [
              0,
              "#0d0887"
             ],
             [
              0.1111111111111111,
              "#46039f"
             ],
             [
              0.2222222222222222,
              "#7201a8"
             ],
             [
              0.3333333333333333,
              "#9c179e"
             ],
             [
              0.4444444444444444,
              "#bd3786"
             ],
             [
              0.5555555555555556,
              "#d8576b"
             ],
             [
              0.6666666666666666,
              "#ed7953"
             ],
             [
              0.7777777777777778,
              "#fb9f3a"
             ],
             [
              0.8888888888888888,
              "#fdca26"
             ],
             [
              1,
              "#f0f921"
             ]
            ],
            "type": "histogram2d"
           }
          ],
          "histogram2dcontour": [
           {
            "colorbar": {
             "outlinewidth": 0,
             "ticks": ""
            },
            "colorscale": [
             [
              0,
              "#0d0887"
             ],
             [
              0.1111111111111111,
              "#46039f"
             ],
             [
              0.2222222222222222,
              "#7201a8"
             ],
             [
              0.3333333333333333,
              "#9c179e"
             ],
             [
              0.4444444444444444,
              "#bd3786"
             ],
             [
              0.5555555555555556,
              "#d8576b"
             ],
             [
              0.6666666666666666,
              "#ed7953"
             ],
             [
              0.7777777777777778,
              "#fb9f3a"
             ],
             [
              0.8888888888888888,
              "#fdca26"
             ],
             [
              1,
              "#f0f921"
             ]
            ],
            "type": "histogram2dcontour"
           }
          ],
          "mesh3d": [
           {
            "colorbar": {
             "outlinewidth": 0,
             "ticks": ""
            },
            "type": "mesh3d"
           }
          ],
          "parcoords": [
           {
            "line": {
             "colorbar": {
              "outlinewidth": 0,
              "ticks": ""
             }
            },
            "type": "parcoords"
           }
          ],
          "pie": [
           {
            "automargin": true,
            "type": "pie"
           }
          ],
          "scatter": [
           {
            "fillpattern": {
             "fillmode": "overlay",
             "size": 10,
             "solidity": 0.2
            },
            "type": "scatter"
           }
          ],
          "scatter3d": [
           {
            "line": {
             "colorbar": {
              "outlinewidth": 0,
              "ticks": ""
             }
            },
            "marker": {
             "colorbar": {
              "outlinewidth": 0,
              "ticks": ""
             }
            },
            "type": "scatter3d"
           }
          ],
          "scattercarpet": [
           {
            "marker": {
             "colorbar": {
              "outlinewidth": 0,
              "ticks": ""
             }
            },
            "type": "scattercarpet"
           }
          ],
          "scattergeo": [
           {
            "marker": {
             "colorbar": {
              "outlinewidth": 0,
              "ticks": ""
             }
            },
            "type": "scattergeo"
           }
          ],
          "scattergl": [
           {
            "marker": {
             "colorbar": {
              "outlinewidth": 0,
              "ticks": ""
             }
            },
            "type": "scattergl"
           }
          ],
          "scattermapbox": [
           {
            "marker": {
             "colorbar": {
              "outlinewidth": 0,
              "ticks": ""
             }
            },
            "type": "scattermapbox"
           }
          ],
          "scatterpolar": [
           {
            "marker": {
             "colorbar": {
              "outlinewidth": 0,
              "ticks": ""
             }
            },
            "type": "scatterpolar"
           }
          ],
          "scatterpolargl": [
           {
            "marker": {
             "colorbar": {
              "outlinewidth": 0,
              "ticks": ""
             }
            },
            "type": "scatterpolargl"
           }
          ],
          "scatterternary": [
           {
            "marker": {
             "colorbar": {
              "outlinewidth": 0,
              "ticks": ""
             }
            },
            "type": "scatterternary"
           }
          ],
          "surface": [
           {
            "colorbar": {
             "outlinewidth": 0,
             "ticks": ""
            },
            "colorscale": [
             [
              0,
              "#0d0887"
             ],
             [
              0.1111111111111111,
              "#46039f"
             ],
             [
              0.2222222222222222,
              "#7201a8"
             ],
             [
              0.3333333333333333,
              "#9c179e"
             ],
             [
              0.4444444444444444,
              "#bd3786"
             ],
             [
              0.5555555555555556,
              "#d8576b"
             ],
             [
              0.6666666666666666,
              "#ed7953"
             ],
             [
              0.7777777777777778,
              "#fb9f3a"
             ],
             [
              0.8888888888888888,
              "#fdca26"
             ],
             [
              1,
              "#f0f921"
             ]
            ],
            "type": "surface"
           }
          ],
          "table": [
           {
            "cells": {
             "fill": {
              "color": "#EBF0F8"
             },
             "line": {
              "color": "white"
             }
            },
            "header": {
             "fill": {
              "color": "#C8D4E3"
             },
             "line": {
              "color": "white"
             }
            },
            "type": "table"
           }
          ]
         },
         "layout": {
          "annotationdefaults": {
           "arrowcolor": "#2a3f5f",
           "arrowhead": 0,
           "arrowwidth": 1
          },
          "autotypenumbers": "strict",
          "coloraxis": {
           "colorbar": {
            "outlinewidth": 0,
            "ticks": ""
           }
          },
          "colorscale": {
           "diverging": [
            [
             0,
             "#8e0152"
            ],
            [
             0.1,
             "#c51b7d"
            ],
            [
             0.2,
             "#de77ae"
            ],
            [
             0.3,
             "#f1b6da"
            ],
            [
             0.4,
             "#fde0ef"
            ],
            [
             0.5,
             "#f7f7f7"
            ],
            [
             0.6,
             "#e6f5d0"
            ],
            [
             0.7,
             "#b8e186"
            ],
            [
             0.8,
             "#7fbc41"
            ],
            [
             0.9,
             "#4d9221"
            ],
            [
             1,
             "#276419"
            ]
           ],
           "sequential": [
            [
             0,
             "#0d0887"
            ],
            [
             0.1111111111111111,
             "#46039f"
            ],
            [
             0.2222222222222222,
             "#7201a8"
            ],
            [
             0.3333333333333333,
             "#9c179e"
            ],
            [
             0.4444444444444444,
             "#bd3786"
            ],
            [
             0.5555555555555556,
             "#d8576b"
            ],
            [
             0.6666666666666666,
             "#ed7953"
            ],
            [
             0.7777777777777778,
             "#fb9f3a"
            ],
            [
             0.8888888888888888,
             "#fdca26"
            ],
            [
             1,
             "#f0f921"
            ]
           ],
           "sequentialminus": [
            [
             0,
             "#0d0887"
            ],
            [
             0.1111111111111111,
             "#46039f"
            ],
            [
             0.2222222222222222,
             "#7201a8"
            ],
            [
             0.3333333333333333,
             "#9c179e"
            ],
            [
             0.4444444444444444,
             "#bd3786"
            ],
            [
             0.5555555555555556,
             "#d8576b"
            ],
            [
             0.6666666666666666,
             "#ed7953"
            ],
            [
             0.7777777777777778,
             "#fb9f3a"
            ],
            [
             0.8888888888888888,
             "#fdca26"
            ],
            [
             1,
             "#f0f921"
            ]
           ]
          },
          "colorway": [
           "#636efa",
           "#EF553B",
           "#00cc96",
           "#ab63fa",
           "#FFA15A",
           "#19d3f3",
           "#FF6692",
           "#B6E880",
           "#FF97FF",
           "#FECB52"
          ],
          "font": {
           "color": "#2a3f5f"
          },
          "geo": {
           "bgcolor": "white",
           "lakecolor": "white",
           "landcolor": "#E5ECF6",
           "showlakes": true,
           "showland": true,
           "subunitcolor": "white"
          },
          "hoverlabel": {
           "align": "left"
          },
          "hovermode": "closest",
          "mapbox": {
           "style": "light"
          },
          "paper_bgcolor": "white",
          "plot_bgcolor": "#E5ECF6",
          "polar": {
           "angularaxis": {
            "gridcolor": "white",
            "linecolor": "white",
            "ticks": ""
           },
           "bgcolor": "#E5ECF6",
           "radialaxis": {
            "gridcolor": "white",
            "linecolor": "white",
            "ticks": ""
           }
          },
          "scene": {
           "xaxis": {
            "backgroundcolor": "#E5ECF6",
            "gridcolor": "white",
            "gridwidth": 2,
            "linecolor": "white",
            "showbackground": true,
            "ticks": "",
            "zerolinecolor": "white"
           },
           "yaxis": {
            "backgroundcolor": "#E5ECF6",
            "gridcolor": "white",
            "gridwidth": 2,
            "linecolor": "white",
            "showbackground": true,
            "ticks": "",
            "zerolinecolor": "white"
           },
           "zaxis": {
            "backgroundcolor": "#E5ECF6",
            "gridcolor": "white",
            "gridwidth": 2,
            "linecolor": "white",
            "showbackground": true,
            "ticks": "",
            "zerolinecolor": "white"
           }
          },
          "shapedefaults": {
           "line": {
            "color": "#2a3f5f"
           }
          },
          "ternary": {
           "aaxis": {
            "gridcolor": "white",
            "linecolor": "white",
            "ticks": ""
           },
           "baxis": {
            "gridcolor": "white",
            "linecolor": "white",
            "ticks": ""
           },
           "bgcolor": "#E5ECF6",
           "caxis": {
            "gridcolor": "white",
            "linecolor": "white",
            "ticks": ""
           }
          },
          "title": {
           "x": 0.05
          },
          "xaxis": {
           "automargin": true,
           "gridcolor": "white",
           "linecolor": "white",
           "ticks": "",
           "title": {
            "standoff": 15
           },
           "zerolinecolor": "white",
           "zerolinewidth": 2
          },
          "yaxis": {
           "automargin": true,
           "gridcolor": "white",
           "linecolor": "white",
           "ticks": "",
           "title": {
            "standoff": 15
           },
           "zerolinecolor": "white",
           "zerolinewidth": 2
          }
         }
        },
        "title": {
         "font": {
          "size": 24
         },
         "text": "Histogram of VIX Scores",
         "x": 0.5,
         "xanchor": "center",
         "yanchor": "top"
        },
        "width": 1200,
        "xaxis": {
         "anchor": "y",
         "domain": [
          0,
          1
         ],
         "title": {
          "text": "value"
         }
        },
        "yaxis": {
         "anchor": "x",
         "domain": [
          0,
          1
         ],
         "title": {
          "text": "count"
         }
        }
       }
      },
      "text/html": [
       "<div>                            <div id=\"2c4f1f0d-8af8-4626-8a9f-7a1da29869bc\" class=\"plotly-graph-div\" style=\"height:500px; width:1200px;\"></div>            <script type=\"text/javascript\">                require([\"plotly\"], function(Plotly) {                    window.PLOTLYENV=window.PLOTLYENV || {};                                    if (document.getElementById(\"2c4f1f0d-8af8-4626-8a9f-7a1da29869bc\")) {                    Plotly.newPlot(                        \"2c4f1f0d-8af8-4626-8a9f-7a1da29869bc\",                        [{\"alignmentgroup\":\"True\",\"bingroup\":\"x\",\"hovertemplate\":\"variable=Close\\u003cbr\\u003evalue=%{x}\\u003cbr\\u003ecount=%{y}\\u003cextra\\u003e\\u003c\\u002fextra\\u003e\",\"legendgroup\":\"Close\",\"marker\":{\"color\":\"blue\",\"pattern\":{\"shape\":\"\"},\"line\":{\"color\":\"black\",\"width\":1},\"opacity\":0.5},\"name\":\"Close\",\"nbinsx\":50,\"offsetgroup\":\"Close\",\"orientation\":\"v\",\"showlegend\":true,\"x\":[23.020000457763672,37.209999084472656,30.209999084472656,33.09000015258789,30.239999771118164,25.559999465942383,22.90999984741211,21.770000457763672,20.8700008392334,21.239999771118164,21.6299991607666,21.989999771118164,21.25,19.969999313354492,21.459999084472656,21.5,22.489999771118164,22.049999237060547,23.450000762939453,23.110000610351562,21.34000015258789,28.889999389648438,27.950000762939453,23.350000381469727,24.100000381469727,26.670000076293945,28.56999969482422,24.65999984741211,25.469999313354492,24.030000686645508,22.559999465942383,21.90999984741211,20.690000534057617,20.030000686645508,19.790000915527344,19.229999542236328,21.579999923706055,20.950000762939453,18.8799991607666,20.299999237060547,21.200000762939453,19.809999465942383,18.860000610351562,20.739999771118164,19.610000610351562,19.399999618530273,17.329999923706055,17.90999984741211,18.1200008392334,17.15999984741211,16.950000762939453,16.690000534057617,16.90999984741211,16.649999618530273,16.989999771118164,16.56999969482422,16.25,17.290000915527344,18.68000030517578,17.5,18.709999084472656,17.329999923706055,17.639999389648438,17.559999465942383,17.280000686645508,17.610000610351562,18.610000610351562,18.309999465942383,19.479999542236328,19.149999618530273,18.389999389648438,16.690000534057617,19.65999984741211,21.84000015258789,27.59000015258789,23.1299991607666,18.809999465942383,19.719999313354492,21.34000015258789,22.18000030517578,20.670000076293945,20.149999618530273,18.399999618530273,18.84000015258789,17.360000610351562,16.739999771118164,16.760000228881836,17.899999618530273,17.479999542236328,18.040000915527344,16.420000076293945,16.420000076293945,17.06999969482422,17.889999389648438,16.100000381469727,15.649999618530273,16.389999389648438,17.020000457763672,18.149999618530273,17.75,20.700000762939453,17.889999389648438,16.65999984741211,16.31999969482422,15.970000267028809,15.619999885559082,15.760000228881836,16.020000457763672,15.829999923706055,15.479999542236328,15.069999694824219,16.440000534057617,16.200000762939453,19.0,16.18000030517578,16.170000076293945,17.1200008392334,16.329999923706055,17.010000228881836,18.450000762939453,22.5,19.729999542236328,17.90999984741211,17.690000534057617,17.200000762939453,17.579999923706055,19.360000610351562,18.309999465942383,17.700000762939453,18.239999771118164,19.459999084472656,18.040000915527344,17.969999313354492,17.280000686645508,16.149999618530273,16.719999313354492,16.790000915527344,16.170000076293945,15.59000015258789,15.449999809265137,16.1200008392334,17.90999984741211,21.56999969482422,21.670000076293945,18.559999465942383,17.149999618530273,17.219999313354492,16.790000915527344,18.84000015258789,16.389999389648438,16.190000534057617,16.479999542236328,16.110000610351562,16.40999984741211,16.40999984741211,18.139999389648438,17.959999084472656,18.799999237060547,20.950000762939453,19.3700008392334,19.459999084472656,18.18000030517578,18.690000534057617,20.809999465942383,25.709999084472656,24.360000610351562,20.8700008392334,18.6299991607666,17.75,18.760000228881836,23.25,22.559999465942383,23.139999389648438,21.100000381469727,22.959999084472656,21.299999237060547,21.0,19.540000915527344,18.770000457763672,20.0,19.850000381469727,18.639999389648438,16.860000610351562,16.299999237060547,16.309999465942383,15.699999809265137,15.489999771118164,15.010000228881836,15.430000305175781,15.239999771118164,15.979999542236328,16.979999542236328,16.530000686645508,16.260000228881836,16.40999984741211,16.030000686645508,15.100000381469727,15.4399995803833,16.479999542236328,17.219999313354492,17.780000686645508,18.729999542236328,17.65999984741211,16.290000915527344,16.489999771118164,16.3700008392334,17.110000610351562,17.59000015258789,17.90999984741211,19.170000076293945,19.3799991607666,18.579999923706055,28.6200008392334,22.959999084472656,27.190000534057617,31.1200008392334,27.950000762939453,30.670000076293945,27.18000030517578,21.889999389648438,19.899999618530273,21.579999923706055,18.690000534057617,20.309999465942383,21.889999389648438,19.290000915527344,20.56999969482422,21.56999969482422,22.8700008392334,21.010000228881836,18.6299991607666,17.959999084472656,17.68000030517578,17.540000915527344,16.950000762939453,17.329999923706055,17.219999313354492,16.600000381469727,16.90999984741211,19.729999542236328,19.610000610351562,18.760000228881836,19.399999618530273,18.40999984741211,17.6200008392334,20.309999465942383,19.190000534057617,22.790000915527344,23.850000381469727,25.59000015258789,28.850000381469727,29.899999618530273,31.15999984741211,31.959999084472656,30.489999771118164,27.65999984741211,24.829999923706055,21.959999084472656,22.09000015258789,24.350000381469727,23.219999313354492,22.860000610351562,21.440000534057617,19.959999084472656,23.90999984741211,27.360000610351562,28.329999923706055,25.700000762939453,24.290000915527344,28.110000610351562,27.75,28.809999465942383,31.020000457763672,30.31999969482422,27.59000015258789,30.149999618530273,33.31999969482422,30.739999771118164,30.479999542236328,31.979999542236328,36.45000076293945,35.130001068115234,32.45000076293945,30.229999542236328,30.75,31.770000457763672,29.829999923706055,26.670000076293945,25.670000076293945,23.8700008392334,23.530000686645508,22.940000534057617,23.56999969482422,21.670000076293945,20.809999465942383,19.6299991607666,18.899999618530273,19.329999923706055,20.559999465942383,19.6299991607666,18.56999969482422,21.030000686645508,22.100000381469727,21.549999237060547,21.15999984741211,24.3700008392334,24.260000228881836,21.81999969482422,22.700000762939453,22.170000076293945,21.3700008392334,20.31999969482422,22.68000030517578,28.209999084472656,27.020000457763672,33.52000045776367,31.600000381469727,29.989999771118164,33.400001525878906,32.34000015258789,29.25,25.420000076293945,31.200000762939453,30.190000534057617,34.75,32.9900016784668,32.560001373291016,31.770000457763672,28.8700008392334,27.469999313354492,26.100000381469727,30.959999084472656,29.350000381469727,29.43000030517578,28.479999542236328,29.450000762939453,28.3700008392334,27.5,25.719999313354492,26.190000534057617,25.690000534057617,24.719999313354492,24.790000915527344,25.06999969482422,24.020000457763672,23.959999084472656,26.09000015258789,27.75,34.02000045776367,32.689998626708984,29.6200008392334,32.95000076293945,31.1299991607666,30.190000534057617,28.950000762939453,29.049999237060547,27.229999542236328,26.950000762939453,28.360000610351562,28.15999984741211,28.709999084472656,26.700000762939453,27.540000915527344,26.729999542236328,26.079999923706055,24.639999389648438,26.170000076293945,27.290000915527344,26.81999969482422,26.399999618530273,24.229999542236328,25.299999237060547,24.5,23.8799991607666,23.110000610351562,23.030000686645508,23.360000610351562,24.690000534057617,23.239999771118164,22.329999923706055,21.329999923706055,22.84000015258789,23.93000030517578,21.950000762939453,21.440000534057617,21.149999618530273,21.290000915527344,21.770000457763672,19.739999771118164,20.200000762939453,19.530000686645508,19.950000762939453,19.690000534057617,19.899999618530273,19.559999465942383,20.600000381469727,23.799999237060547,24.110000610351562,22.81999969482422,21.780000686645508,25.559999465942383,26.209999084472656,26.209999084472656,25.8700008392334,25.559999465942383,25.469999313354492,26.90999984741211,24.639999389648438,23.610000610351562,22.790000915527344,23.8700008392334,27.270000457763672,26.15999984741211,26.270000457763672,26.299999237060547,25.760000228881836,27.15999984741211,27.989999771118164,27.350000381469727,29.920000076293945,32.2599983215332,32.599998474121094,30.18000030517578,31.84000015258789,31.6200008392334,30.100000381469727,29.06999969482422,28.549999237060547,30.520000457763672,31.360000610351562,32.45000076293945,33.630001068115234,33.56999969482422,31.940000534057617,32.02000045776367,31.3700008392334,30.5,30.760000228881836,29.979999542236328,29.690000534057617,29.850000381469727,28.459999084472656,27.280000686645508,27.389999389648438,25.75,25.8799991607666,25.809999465942383,25.860000610351562,25.299999237060547,24.549999237060547,24.350000381469727,25.540000915527344,26.09000015258789,23.530000686645508,22.520000457763672,23.729999542236328,24.540000915527344,24.110000610351562,23.93000030517578,23.1200008392334,22.360000610351562,21.290000915527344,20.350000381469727,20.5,22.209999084472656,21.889999389648438,20.579999923706055,19.84000015258789,19.059999465942383,20.75,22.170000076293945,22.68000030517578,22.290000915527344,22.829999923706055,25.0,22.549999237060547,21.139999389648438,22.829999923706055,22.6200008392334,22.420000076293945,21.479999542236328,20.06999969482422,21.969999313354492,20.8700008392334,21.649999618530273,22.139999389648438,21.440000534057617,21.670000076293945,22.899999618530273,22.010000228881836,22.459999084472656,21.1299991607666,21.969999313354492,20.579999923706055,21.09000015258789,18.829999923706055,18.350000381469727,19.360000610351562,20.34000015258789,20.520000457763672,19.850000381469727,19.809999465942383,19.200000762939453,19.079999923706055,18.729999542236328,18.510000228881836,19.940000534057617,19.399999618530273,17.8700008392334,18.729999542236328,18.329999923706055,19.43000030517578,18.65999984741211,19.6299991607666,20.709999084472656,20.530000686645508,20.34000015258789,18.90999984741211,18.229999542236328,20.170000076293945,20.020000457763672,22.8700008392334,22.290000915527344,21.139999389648438,21.670000076293945,20.950000762939453,20.700000762939453,20.579999923706055,19.59000015258789,18.489999771118164,18.610000610351562,19.59000015258789,19.110000610351562,22.610000610351562,24.799999237060547,26.520000457763672,23.729999542236328,26.139999389648438,22.989999771118164,25.510000228881836,24.149999618530273,21.3799991607666,22.260000228881836,22.610000610351562,21.739999771118164,20.600000381469727,19.969999313354492,19.1200008392334,19.020000457763672,18.700000762939453,18.549999237060547,19.0,19.079999923706055,18.399999618530273,18.969999313354492,19.100000381469727,19.09000015258789,17.799999237060547,17.06999969482422,16.950000762939453,16.829999923706055,16.459999084472656,17.170000076293945,16.770000457763672,16.889999389648438,18.760000228881836,18.84000015258789,17.030000686645508,15.779999732971191,16.079999923706055,17.780000686645508,18.34000015258789,20.09000015258789,17.190000534057617,16.979999542236328,17.709999084472656,16.940000534057617,16.93000030517578,17.030000686645508,17.1200008392334,17.989999771118164,16.8700008392334,16.049999237060547,16.809999465942383,17.209999084472656,18.530000686645508,20.030000686645508,19.139999389648438,17.950000762939453,17.459999084472656,17.940000534057617,15.649999618530273,14.600000381469727,14.729999542236328,13.960000038146973,13.9399995803833,13.649999618530273,13.829999923706055,15.010000228881836,14.609999656677246,13.880000114440918,14.5,13.539999961853027,13.880000114440918,13.199999809265137,12.90999984741211,13.4399995803833,14.25,13.739999771118164,13.430000305175781,13.539999961853027,13.59000015258789,13.569999694824219,14.180000305175781,15.4399995803833,14.829999923706055,15.069999694824219,14.84000015258789,13.539999961853027,13.609999656677246,13.34000015258789,13.479999542236328,13.300000190734863,13.760000228881836,13.989999771118164,13.600000381469727,13.90999984741211,13.859999656677246,13.1899995803833,14.40999984741211,13.329999923706055,13.630000114440918,13.930000305175781,16.09000015258789,15.920000076293945,17.100000381469727,15.770000457763672,15.989999771118164,15.960000038146973,15.850000381469727,14.84000015258789,14.819999694824219,16.459999084472656,16.780000686645508,17.889999389648438,17.299999237060547,17.1299991607666,16.969999313354492,15.979999542236328,17.200000762939453],\"xaxis\":\"x\",\"yaxis\":\"y\",\"type\":\"histogram\"}],                        {\"template\":{\"data\":{\"histogram2dcontour\":[{\"type\":\"histogram2dcontour\",\"colorbar\":{\"outlinewidth\":0,\"ticks\":\"\"},\"colorscale\":[[0.0,\"#0d0887\"],[0.1111111111111111,\"#46039f\"],[0.2222222222222222,\"#7201a8\"],[0.3333333333333333,\"#9c179e\"],[0.4444444444444444,\"#bd3786\"],[0.5555555555555556,\"#d8576b\"],[0.6666666666666666,\"#ed7953\"],[0.7777777777777778,\"#fb9f3a\"],[0.8888888888888888,\"#fdca26\"],[1.0,\"#f0f921\"]]}],\"choropleth\":[{\"type\":\"choropleth\",\"colorbar\":{\"outlinewidth\":0,\"ticks\":\"\"}}],\"histogram2d\":[{\"type\":\"histogram2d\",\"colorbar\":{\"outlinewidth\":0,\"ticks\":\"\"},\"colorscale\":[[0.0,\"#0d0887\"],[0.1111111111111111,\"#46039f\"],[0.2222222222222222,\"#7201a8\"],[0.3333333333333333,\"#9c179e\"],[0.4444444444444444,\"#bd3786\"],[0.5555555555555556,\"#d8576b\"],[0.6666666666666666,\"#ed7953\"],[0.7777777777777778,\"#fb9f3a\"],[0.8888888888888888,\"#fdca26\"],[1.0,\"#f0f921\"]]}],\"heatmap\":[{\"type\":\"heatmap\",\"colorbar\":{\"outlinewidth\":0,\"ticks\":\"\"},\"colorscale\":[[0.0,\"#0d0887\"],[0.1111111111111111,\"#46039f\"],[0.2222222222222222,\"#7201a8\"],[0.3333333333333333,\"#9c179e\"],[0.4444444444444444,\"#bd3786\"],[0.5555555555555556,\"#d8576b\"],[0.6666666666666666,\"#ed7953\"],[0.7777777777777778,\"#fb9f3a\"],[0.8888888888888888,\"#fdca26\"],[1.0,\"#f0f921\"]]}],\"heatmapgl\":[{\"type\":\"heatmapgl\",\"colorbar\":{\"outlinewidth\":0,\"ticks\":\"\"},\"colorscale\":[[0.0,\"#0d0887\"],[0.1111111111111111,\"#46039f\"],[0.2222222222222222,\"#7201a8\"],[0.3333333333333333,\"#9c179e\"],[0.4444444444444444,\"#bd3786\"],[0.5555555555555556,\"#d8576b\"],[0.6666666666666666,\"#ed7953\"],[0.7777777777777778,\"#fb9f3a\"],[0.8888888888888888,\"#fdca26\"],[1.0,\"#f0f921\"]]}],\"contourcarpet\":[{\"type\":\"contourcarpet\",\"colorbar\":{\"outlinewidth\":0,\"ticks\":\"\"}}],\"contour\":[{\"type\":\"contour\",\"colorbar\":{\"outlinewidth\":0,\"ticks\":\"\"},\"colorscale\":[[0.0,\"#0d0887\"],[0.1111111111111111,\"#46039f\"],[0.2222222222222222,\"#7201a8\"],[0.3333333333333333,\"#9c179e\"],[0.4444444444444444,\"#bd3786\"],[0.5555555555555556,\"#d8576b\"],[0.6666666666666666,\"#ed7953\"],[0.7777777777777778,\"#fb9f3a\"],[0.8888888888888888,\"#fdca26\"],[1.0,\"#f0f921\"]]}],\"surface\":[{\"type\":\"surface\",\"colorbar\":{\"outlinewidth\":0,\"ticks\":\"\"},\"colorscale\":[[0.0,\"#0d0887\"],[0.1111111111111111,\"#46039f\"],[0.2222222222222222,\"#7201a8\"],[0.3333333333333333,\"#9c179e\"],[0.4444444444444444,\"#bd3786\"],[0.5555555555555556,\"#d8576b\"],[0.6666666666666666,\"#ed7953\"],[0.7777777777777778,\"#fb9f3a\"],[0.8888888888888888,\"#fdca26\"],[1.0,\"#f0f921\"]]}],\"mesh3d\":[{\"type\":\"mesh3d\",\"colorbar\":{\"outlinewidth\":0,\"ticks\":\"\"}}],\"scatter\":[{\"fillpattern\":{\"fillmode\":\"overlay\",\"size\":10,\"solidity\":0.2},\"type\":\"scatter\"}],\"parcoords\":[{\"type\":\"parcoords\",\"line\":{\"colorbar\":{\"outlinewidth\":0,\"ticks\":\"\"}}}],\"scatterpolargl\":[{\"type\":\"scatterpolargl\",\"marker\":{\"colorbar\":{\"outlinewidth\":0,\"ticks\":\"\"}}}],\"bar\":[{\"error_x\":{\"color\":\"#2a3f5f\"},\"error_y\":{\"color\":\"#2a3f5f\"},\"marker\":{\"line\":{\"color\":\"#E5ECF6\",\"width\":0.5},\"pattern\":{\"fillmode\":\"overlay\",\"size\":10,\"solidity\":0.2}},\"type\":\"bar\"}],\"scattergeo\":[{\"type\":\"scattergeo\",\"marker\":{\"colorbar\":{\"outlinewidth\":0,\"ticks\":\"\"}}}],\"scatterpolar\":[{\"type\":\"scatterpolar\",\"marker\":{\"colorbar\":{\"outlinewidth\":0,\"ticks\":\"\"}}}],\"histogram\":[{\"marker\":{\"pattern\":{\"fillmode\":\"overlay\",\"size\":10,\"solidity\":0.2}},\"type\":\"histogram\"}],\"scattergl\":[{\"type\":\"scattergl\",\"marker\":{\"colorbar\":{\"outlinewidth\":0,\"ticks\":\"\"}}}],\"scatter3d\":[{\"type\":\"scatter3d\",\"line\":{\"colorbar\":{\"outlinewidth\":0,\"ticks\":\"\"}},\"marker\":{\"colorbar\":{\"outlinewidth\":0,\"ticks\":\"\"}}}],\"scattermapbox\":[{\"type\":\"scattermapbox\",\"marker\":{\"colorbar\":{\"outlinewidth\":0,\"ticks\":\"\"}}}],\"scatterternary\":[{\"type\":\"scatterternary\",\"marker\":{\"colorbar\":{\"outlinewidth\":0,\"ticks\":\"\"}}}],\"scattercarpet\":[{\"type\":\"scattercarpet\",\"marker\":{\"colorbar\":{\"outlinewidth\":0,\"ticks\":\"\"}}}],\"carpet\":[{\"aaxis\":{\"endlinecolor\":\"#2a3f5f\",\"gridcolor\":\"white\",\"linecolor\":\"white\",\"minorgridcolor\":\"white\",\"startlinecolor\":\"#2a3f5f\"},\"baxis\":{\"endlinecolor\":\"#2a3f5f\",\"gridcolor\":\"white\",\"linecolor\":\"white\",\"minorgridcolor\":\"white\",\"startlinecolor\":\"#2a3f5f\"},\"type\":\"carpet\"}],\"table\":[{\"cells\":{\"fill\":{\"color\":\"#EBF0F8\"},\"line\":{\"color\":\"white\"}},\"header\":{\"fill\":{\"color\":\"#C8D4E3\"},\"line\":{\"color\":\"white\"}},\"type\":\"table\"}],\"barpolar\":[{\"marker\":{\"line\":{\"color\":\"#E5ECF6\",\"width\":0.5},\"pattern\":{\"fillmode\":\"overlay\",\"size\":10,\"solidity\":0.2}},\"type\":\"barpolar\"}],\"pie\":[{\"automargin\":true,\"type\":\"pie\"}]},\"layout\":{\"autotypenumbers\":\"strict\",\"colorway\":[\"#636efa\",\"#EF553B\",\"#00cc96\",\"#ab63fa\",\"#FFA15A\",\"#19d3f3\",\"#FF6692\",\"#B6E880\",\"#FF97FF\",\"#FECB52\"],\"font\":{\"color\":\"#2a3f5f\"},\"hovermode\":\"closest\",\"hoverlabel\":{\"align\":\"left\"},\"paper_bgcolor\":\"white\",\"plot_bgcolor\":\"#E5ECF6\",\"polar\":{\"bgcolor\":\"#E5ECF6\",\"angularaxis\":{\"gridcolor\":\"white\",\"linecolor\":\"white\",\"ticks\":\"\"},\"radialaxis\":{\"gridcolor\":\"white\",\"linecolor\":\"white\",\"ticks\":\"\"}},\"ternary\":{\"bgcolor\":\"#E5ECF6\",\"aaxis\":{\"gridcolor\":\"white\",\"linecolor\":\"white\",\"ticks\":\"\"},\"baxis\":{\"gridcolor\":\"white\",\"linecolor\":\"white\",\"ticks\":\"\"},\"caxis\":{\"gridcolor\":\"white\",\"linecolor\":\"white\",\"ticks\":\"\"}},\"coloraxis\":{\"colorbar\":{\"outlinewidth\":0,\"ticks\":\"\"}},\"colorscale\":{\"sequential\":[[0.0,\"#0d0887\"],[0.1111111111111111,\"#46039f\"],[0.2222222222222222,\"#7201a8\"],[0.3333333333333333,\"#9c179e\"],[0.4444444444444444,\"#bd3786\"],[0.5555555555555556,\"#d8576b\"],[0.6666666666666666,\"#ed7953\"],[0.7777777777777778,\"#fb9f3a\"],[0.8888888888888888,\"#fdca26\"],[1.0,\"#f0f921\"]],\"sequentialminus\":[[0.0,\"#0d0887\"],[0.1111111111111111,\"#46039f\"],[0.2222222222222222,\"#7201a8\"],[0.3333333333333333,\"#9c179e\"],[0.4444444444444444,\"#bd3786\"],[0.5555555555555556,\"#d8576b\"],[0.6666666666666666,\"#ed7953\"],[0.7777777777777778,\"#fb9f3a\"],[0.8888888888888888,\"#fdca26\"],[1.0,\"#f0f921\"]],\"diverging\":[[0,\"#8e0152\"],[0.1,\"#c51b7d\"],[0.2,\"#de77ae\"],[0.3,\"#f1b6da\"],[0.4,\"#fde0ef\"],[0.5,\"#f7f7f7\"],[0.6,\"#e6f5d0\"],[0.7,\"#b8e186\"],[0.8,\"#7fbc41\"],[0.9,\"#4d9221\"],[1,\"#276419\"]]},\"xaxis\":{\"gridcolor\":\"white\",\"linecolor\":\"white\",\"ticks\":\"\",\"title\":{\"standoff\":15},\"zerolinecolor\":\"white\",\"automargin\":true,\"zerolinewidth\":2},\"yaxis\":{\"gridcolor\":\"white\",\"linecolor\":\"white\",\"ticks\":\"\",\"title\":{\"standoff\":15},\"zerolinecolor\":\"white\",\"automargin\":true,\"zerolinewidth\":2},\"scene\":{\"xaxis\":{\"backgroundcolor\":\"#E5ECF6\",\"gridcolor\":\"white\",\"linecolor\":\"white\",\"showbackground\":true,\"ticks\":\"\",\"zerolinecolor\":\"white\",\"gridwidth\":2},\"yaxis\":{\"backgroundcolor\":\"#E5ECF6\",\"gridcolor\":\"white\",\"linecolor\":\"white\",\"showbackground\":true,\"ticks\":\"\",\"zerolinecolor\":\"white\",\"gridwidth\":2},\"zaxis\":{\"backgroundcolor\":\"#E5ECF6\",\"gridcolor\":\"white\",\"linecolor\":\"white\",\"showbackground\":true,\"ticks\":\"\",\"zerolinecolor\":\"white\",\"gridwidth\":2}},\"shapedefaults\":{\"line\":{\"color\":\"#2a3f5f\"}},\"annotationdefaults\":{\"arrowcolor\":\"#2a3f5f\",\"arrowhead\":0,\"arrowwidth\":1},\"geo\":{\"bgcolor\":\"white\",\"landcolor\":\"#E5ECF6\",\"subunitcolor\":\"white\",\"showland\":true,\"showlakes\":true,\"lakecolor\":\"white\"},\"title\":{\"x\":0.05},\"mapbox\":{\"style\":\"light\"}}},\"xaxis\":{\"anchor\":\"y\",\"domain\":[0.0,1.0],\"title\":{\"text\":\"value\"}},\"yaxis\":{\"anchor\":\"x\",\"domain\":[0.0,1.0],\"title\":{\"text\":\"count\"}},\"legend\":{\"title\":{\"text\":\"variable\"},\"tracegroupgap\":0},\"margin\":{\"t\":60},\"barmode\":\"relative\",\"width\":1200,\"height\":500,\"title\":{\"font\":{\"size\":24},\"text\":\"Histogram of VIX Scores\",\"x\":0.5,\"xanchor\":\"center\",\"yanchor\":\"top\"}},                        {\"responsive\": true}                    ).then(function(){\n",
       "                            \n",
       "var gd = document.getElementById('2c4f1f0d-8af8-4626-8a9f-7a1da29869bc');\n",
       "var x = new MutationObserver(function (mutations, observer) {{\n",
       "        var display = window.getComputedStyle(gd).display;\n",
       "        if (!display || display === 'none') {{\n",
       "            console.log([gd, 'removed!']);\n",
       "            Plotly.purge(gd);\n",
       "            observer.disconnect();\n",
       "        }}\n",
       "}});\n",
       "\n",
       "// Listen for the removal of the full notebook cells\n",
       "var notebookContainer = gd.closest('#notebook-container');\n",
       "if (notebookContainer) {{\n",
       "    x.observe(notebookContainer, {childList: true});\n",
       "}}\n",
       "\n",
       "// Listen for the clearing of the current output cell\n",
       "var outputEl = gd.closest('.output');\n",
       "if (outputEl) {{\n",
       "    x.observe(outputEl, {childList: true});\n",
       "}}\n",
       "\n",
       "                        })                };                });            </script>        </div>"
      ]
     },
     "metadata": {},
     "output_type": "display_data"
    }
   ],
   "source": [
    "import plotly.express as px\n",
    "\n",
    "#https://plotly.com/python/histograms/\n",
    "\n",
    "# Create histogram\n",
    "fig = px.histogram(vix, \n",
    "                   nbins=50\n",
    ")\n",
    "# Customize the appearance of the bins\n",
    "fig.update_traces(\n",
    "    marker=dict(color='blue', opacity=0.5, line=dict(color='black', width=1))\n",
    ")\n",
    "\n",
    "# use the update_layout method to adjust the size of the plot\n",
    "fig.update_layout(\n",
    "    width=1200,\n",
    "    height=500\n",
    ")\n",
    "\n",
    "# Add a title for the whole figure\n",
    "fig.update_layout(title={\n",
    "        'text': \"Histogram of VIX Scores\",\n",
    "        'font': {'size': 24},\n",
    "        'x':0.5,\n",
    "        'xanchor': 'center',\n",
    "        'yanchor': 'top'})\n",
    "fig.show()\n",
    "\n",
    "\n"
   ]
  },
  {
   "cell_type": "code",
   "execution_count": 47,
   "metadata": {
    "colab": {
     "base_uri": "https://localhost:8080/"
    },
    "id": "XjHkC_Ava3Hc",
    "outputId": "60bc3f03-09fd-46a9-ccff-cc1d5cb4c5cd"
   },
   "outputs": [
    {
     "name": "stdout",
     "output_type": "stream",
     "text": [
      "Shape: (650,)\n"
     ]
    }
   ],
   "source": [
    "print(\"Shape:\", vix.shape)"
   ]
  },
  {
   "cell_type": "markdown",
   "metadata": {},
   "source": [
    "## Merge the data"
   ]
  },
  {
   "cell_type": "code",
   "execution_count": 48,
   "metadata": {
    "id": "ePNPKfIQcGKz"
   },
   "outputs": [],
   "source": [
    "st = pd.merge(data, vix, left_index=True,right_index=True)"
   ]
  },
  {
   "cell_type": "code",
   "execution_count": 49,
   "metadata": {
    "colab": {
     "base_uri": "https://localhost:8080/",
     "height": 235
    },
    "id": "-Q3DN83WcUYl",
    "outputId": "4b60a0bd-35c9-4a0d-d7b1-176da62fb690"
   },
   "outputs": [
    {
     "data": {
      "text/html": [
       "<div>\n",
       "<style scoped>\n",
       "    .dataframe tbody tr th:only-of-type {\n",
       "        vertical-align: middle;\n",
       "    }\n",
       "\n",
       "    .dataframe tbody tr th {\n",
       "        vertical-align: top;\n",
       "    }\n",
       "\n",
       "    .dataframe thead th {\n",
       "        text-align: right;\n",
       "    }\n",
       "</style>\n",
       "<table border=\"1\" class=\"dataframe\">\n",
       "  <thead>\n",
       "    <tr style=\"text-align: right;\">\n",
       "      <th></th>\n",
       "      <th>Open</th>\n",
       "      <th>Close_x</th>\n",
       "      <th>Volume</th>\n",
       "      <th>Close_y</th>\n",
       "    </tr>\n",
       "    <tr>\n",
       "      <th>Date</th>\n",
       "      <th></th>\n",
       "      <th></th>\n",
       "      <th></th>\n",
       "      <th></th>\n",
       "    </tr>\n",
       "  </thead>\n",
       "  <tbody>\n",
       "    <tr>\n",
       "      <th>2021-01-26</th>\n",
       "      <td>297.13</td>\n",
       "      <td>294.36</td>\n",
       "      <td>69394800</td>\n",
       "      <td>23.02</td>\n",
       "    </tr>\n",
       "    <tr>\n",
       "      <th>2021-01-27</th>\n",
       "      <td>290.12</td>\n",
       "      <td>288.05</td>\n",
       "      <td>82002000</td>\n",
       "      <td>37.21</td>\n",
       "    </tr>\n",
       "    <tr>\n",
       "      <th>2021-01-28</th>\n",
       "      <td>273.33</td>\n",
       "      <td>278.48</td>\n",
       "      <td>79134000</td>\n",
       "      <td>30.21</td>\n",
       "    </tr>\n",
       "    <tr>\n",
       "      <th>2021-01-29</th>\n",
       "      <td>276.67</td>\n",
       "      <td>264.51</td>\n",
       "      <td>104972400</td>\n",
       "      <td>33.09</td>\n",
       "    </tr>\n",
       "    <tr>\n",
       "      <th>2021-02-01</th>\n",
       "      <td>271.43</td>\n",
       "      <td>279.94</td>\n",
       "      <td>76174200</td>\n",
       "      <td>30.24</td>\n",
       "    </tr>\n",
       "  </tbody>\n",
       "</table>\n",
       "</div>"
      ],
      "text/plain": [
       "             Open  Close_x     Volume  Close_y\n",
       "Date                                          \n",
       "2021-01-26 297.13   294.36   69394800    23.02\n",
       "2021-01-27 290.12   288.05   82002000    37.21\n",
       "2021-01-28 273.33   278.48   79134000    30.21\n",
       "2021-01-29 276.67   264.51  104972400    33.09\n",
       "2021-02-01 271.43   279.94   76174200    30.24"
      ]
     },
     "execution_count": 49,
     "metadata": {},
     "output_type": "execute_result"
    }
   ],
   "source": [
    "st.head()"
   ]
  },
  {
   "cell_type": "code",
   "execution_count": 50,
   "metadata": {
    "colab": {
     "base_uri": "https://localhost:8080/"
    },
    "id": "MCKTduulcnKZ",
    "outputId": "fea6549a-3532-43bb-b982-92475db78447"
   },
   "outputs": [
    {
     "name": "stdout",
     "output_type": "stream",
     "text": [
      "             Open  Close     Volume   VIX\n",
      "Date                                     \n",
      "2021-01-26 297.13 294.36   69394800 23.02\n",
      "2021-01-27 290.12 288.05   82002000 37.21\n",
      "2021-01-28 273.33 278.48   79134000 30.21\n",
      "2021-01-29 276.67 264.51  104972400 33.09\n",
      "2021-02-01 271.43 279.94   76174200 30.24\n"
     ]
    }
   ],
   "source": [
    "#vix = st[['Close_y']]\n",
    "st.columns = ['Open', 'Close', 'Volume', 'VIX']\n",
    "print(st.head())"
   ]
  },
  {
   "cell_type": "markdown",
   "metadata": {},
   "source": [
    "## Check if there are missing values"
   ]
  },
  {
   "cell_type": "code",
   "execution_count": 51,
   "metadata": {
    "colab": {
     "base_uri": "https://localhost:8080/",
     "height": 450
    },
    "id": "AzM7ISCAdx_R",
    "outputId": "fbd1ed84-4759-4845-c5cd-0cf0b941e0eb"
   },
   "outputs": [
    {
     "data": {
      "text/html": [
       "<div>\n",
       "<style scoped>\n",
       "    .dataframe tbody tr th:only-of-type {\n",
       "        vertical-align: middle;\n",
       "    }\n",
       "\n",
       "    .dataframe tbody tr th {\n",
       "        vertical-align: top;\n",
       "    }\n",
       "\n",
       "    .dataframe thead th {\n",
       "        text-align: right;\n",
       "    }\n",
       "</style>\n",
       "<table border=\"1\" class=\"dataframe\">\n",
       "  <thead>\n",
       "    <tr style=\"text-align: right;\">\n",
       "      <th></th>\n",
       "      <th>Open</th>\n",
       "      <th>Close</th>\n",
       "      <th>Volume</th>\n",
       "      <th>VIX</th>\n",
       "    </tr>\n",
       "    <tr>\n",
       "      <th>Date</th>\n",
       "      <th></th>\n",
       "      <th></th>\n",
       "      <th></th>\n",
       "      <th></th>\n",
       "    </tr>\n",
       "  </thead>\n",
       "  <tbody>\n",
       "    <tr>\n",
       "      <th>2021-01-26</th>\n",
       "      <td>False</td>\n",
       "      <td>False</td>\n",
       "      <td>False</td>\n",
       "      <td>False</td>\n",
       "    </tr>\n",
       "    <tr>\n",
       "      <th>2021-01-27</th>\n",
       "      <td>False</td>\n",
       "      <td>False</td>\n",
       "      <td>False</td>\n",
       "      <td>False</td>\n",
       "    </tr>\n",
       "    <tr>\n",
       "      <th>2021-01-28</th>\n",
       "      <td>False</td>\n",
       "      <td>False</td>\n",
       "      <td>False</td>\n",
       "      <td>False</td>\n",
       "    </tr>\n",
       "    <tr>\n",
       "      <th>2021-01-29</th>\n",
       "      <td>False</td>\n",
       "      <td>False</td>\n",
       "      <td>False</td>\n",
       "      <td>False</td>\n",
       "    </tr>\n",
       "    <tr>\n",
       "      <th>2021-02-01</th>\n",
       "      <td>False</td>\n",
       "      <td>False</td>\n",
       "      <td>False</td>\n",
       "      <td>False</td>\n",
       "    </tr>\n",
       "    <tr>\n",
       "      <th>...</th>\n",
       "      <td>...</td>\n",
       "      <td>...</td>\n",
       "      <td>...</td>\n",
       "      <td>...</td>\n",
       "    </tr>\n",
       "    <tr>\n",
       "      <th>2023-08-18</th>\n",
       "      <td>False</td>\n",
       "      <td>False</td>\n",
       "      <td>False</td>\n",
       "      <td>False</td>\n",
       "    </tr>\n",
       "    <tr>\n",
       "      <th>2023-08-21</th>\n",
       "      <td>False</td>\n",
       "      <td>False</td>\n",
       "      <td>False</td>\n",
       "      <td>False</td>\n",
       "    </tr>\n",
       "    <tr>\n",
       "      <th>2023-08-22</th>\n",
       "      <td>False</td>\n",
       "      <td>False</td>\n",
       "      <td>False</td>\n",
       "      <td>False</td>\n",
       "    </tr>\n",
       "    <tr>\n",
       "      <th>2023-08-23</th>\n",
       "      <td>False</td>\n",
       "      <td>False</td>\n",
       "      <td>False</td>\n",
       "      <td>False</td>\n",
       "    </tr>\n",
       "    <tr>\n",
       "      <th>2023-08-24</th>\n",
       "      <td>False</td>\n",
       "      <td>False</td>\n",
       "      <td>False</td>\n",
       "      <td>False</td>\n",
       "    </tr>\n",
       "  </tbody>\n",
       "</table>\n",
       "<p>650 rows × 4 columns</p>\n",
       "</div>"
      ],
      "text/plain": [
       "             Open  Close  Volume    VIX\n",
       "Date                                   \n",
       "2021-01-26  False  False   False  False\n",
       "2021-01-27  False  False   False  False\n",
       "2021-01-28  False  False   False  False\n",
       "2021-01-29  False  False   False  False\n",
       "2021-02-01  False  False   False  False\n",
       "...           ...    ...     ...    ...\n",
       "2023-08-18  False  False   False  False\n",
       "2023-08-21  False  False   False  False\n",
       "2023-08-22  False  False   False  False\n",
       "2023-08-23  False  False   False  False\n",
       "2023-08-24  False  False   False  False\n",
       "\n",
       "[650 rows x 4 columns]"
      ]
     },
     "execution_count": 51,
     "metadata": {},
     "output_type": "execute_result"
    }
   ],
   "source": [
    "st.isna()\n"
   ]
  },
  {
   "cell_type": "code",
   "execution_count": 52,
   "metadata": {
    "colab": {
     "base_uri": "https://localhost:8080/"
    },
    "id": "jJD8OTLOfGX_",
    "outputId": "732324ff-dd5e-4316-972b-402a6a723059"
   },
   "outputs": [
    {
     "data": {
      "text/plain": [
       "Open      False\n",
       "Close     False\n",
       "Volume    False\n",
       "VIX       False\n",
       "dtype: bool"
      ]
     },
     "execution_count": 52,
     "metadata": {},
     "output_type": "execute_result"
    }
   ],
   "source": [
    "st.isna().any()"
   ]
  },
  {
   "cell_type": "code",
   "execution_count": 53,
   "metadata": {
    "colab": {
     "base_uri": "https://localhost:8080/"
    },
    "id": "aL3EAZqYeqOV",
    "outputId": "810680dc-67ca-44dd-f4a5-598bec8e5aea"
   },
   "outputs": [
    {
     "data": {
      "text/plain": [
       "Open      0\n",
       "Close     0\n",
       "Volume    0\n",
       "VIX       0\n",
       "dtype: int64"
      ]
     },
     "execution_count": 53,
     "metadata": {},
     "output_type": "execute_result"
    }
   ],
   "source": [
    "st.isna().sum()"
   ]
  },
  {
   "cell_type": "markdown",
   "metadata": {
    "id": "xDeL4uGmfKnP"
   },
   "source": [
    "## No missing Values, Great!"
   ]
  },
  {
   "cell_type": "code",
   "execution_count": null,
   "metadata": {
    "colab": {
     "base_uri": "https://localhost:8080/",
     "height": 483
    },
    "id": "nAhmCr5RfPE1",
    "outputId": "49462b35-9add-4f22-890d-e57875f8192a"
   },
   "outputs": [],
   "source": [
    "fig = plt.figure(figsize = (16,8))\n",
    "np.log(st).boxplot()\n",
    "#fig.savefig(\"boxpot.png\")\n",
    "plt.show()"
   ]
  },
  {
   "cell_type": "code",
   "execution_count": null,
   "metadata": {
    "id": "GTJ9jl-mylMV"
   },
   "outputs": [],
   "source": [
    "from sklearn.preprocessing import StandardScaler\n",
    "scaler = StandardScaler()\n",
    "st_scaled = scaler.fit_transform(st)"
   ]
  },
  {
   "cell_type": "code",
   "execution_count": null,
   "metadata": {
    "colab": {
     "base_uri": "https://localhost:8080/"
    },
    "id": "3lRM8jPN4QTe",
    "outputId": "9a65ece7-758b-43b3-e04d-e1bcb21b7b7a"
   },
   "outputs": [],
   "source": [
    "type(st_scaled)"
   ]
  },
  {
   "cell_type": "code",
   "execution_count": null,
   "metadata": {
    "colab": {
     "base_uri": "https://localhost:8080/",
     "height": 297
    },
    "id": "xH2nCP2w1-k8",
    "outputId": "36174042-7189-4ca5-bdc3-e52abccc8698"
   },
   "outputs": [],
   "source": [
    "st_scaled = pd.DataFrame(st_scaled)\n",
    "st_scaled.describe()\n",
    "\n",
    "#with pd.option_context('float_format', '{:.2f}'.format): print(st_scaled.describe()) "
   ]
  },
  {
   "cell_type": "code",
   "execution_count": null,
   "metadata": {
    "colab": {
     "base_uri": "https://localhost:8080/",
     "height": 499
    },
    "id": "HMRXLvA6z6V5",
    "outputId": "6a2cf05c-ccbe-42f0-d0ba-979ba2ca9539"
   },
   "outputs": [],
   "source": [
    "fig = plt.figure(figsize = (16,8))\n",
    "bxplt = plt.subplot()\n",
    "bxplt.set_title('Boxplot of Tesla stock data and VIX')\n",
    "bxplt.boxplot(st_scaled)\n",
    "plt.xticks([1,2,3,4], ['open', 'close', 'wolume', 'vix'])\n",
    "#plt.xlabel('Category')\n",
    "#plt.ylabel('Price')\n",
    "#fig.savefig(\"boxpot.png\")\n",
    "plt.show()"
   ]
  },
  {
   "cell_type": "markdown",
   "metadata": {},
   "source": [
    "## Plot the Correlation Heatmap"
   ]
  },
  {
   "cell_type": "code",
   "execution_count": null,
   "metadata": {},
   "outputs": [],
   "source": [
    "fig = plt.figure(figsize= (8,6))\n",
    "sns.heatmap(st.corr(), cmap=\"viridis\", annot=True)\n",
    "#fig.savefig('correlation_heatmap.png')\n",
    "plt.show()"
   ]
  },
  {
   "cell_type": "markdown",
   "metadata": {},
   "source": [
    "## Plot the time series "
   ]
  },
  {
   "cell_type": "code",
   "execution_count": null,
   "metadata": {},
   "outputs": [],
   "source": [
    "fig = plt.figure(figsize = (16, 16))\n",
    "st.plot(subplots = True, figsize = (16,16))\n",
    "#fig.savefig('timeseries.png')\n",
    "plt.show()"
   ]
  },
  {
   "cell_type": "markdown",
   "metadata": {},
   "source": [
    "## Plot moving averages"
   ]
  },
  {
   "cell_type": "code",
   "execution_count": null,
   "metadata": {},
   "outputs": [],
   "source": [
    "df = data.copy() # data was the stock price of TESLA\n",
    "df['MA_20'] = df['Close'].rolling(20).mean()\n",
    "df['MA_50'] = df['Close'].rolling(50).mean()\n",
    "df['MA_200'] = df['Close'].rolling(200).mean()\n",
    "\n",
    "fig = plt.figure(figsize=(10,5))\n",
    "fig.set(facecolor = \"white\")\n",
    "plt.plot(df['Close'], 'k',label=['TESLA Close Price'])\n",
    "plt.plot(df['MA_20'],'r', label=['20-day MA'])\n",
    "plt.plot(df['MA_50'],'b', label=['50-day MA'])\n",
    "plt.plot(df['MA_200'],'g', label=['200-day MA'])\n",
    "plt.legend(['TESLA Close Price', '20-day Moving Average','50-day Moving Average', '200-day Moving Average'], loc='upper left')\n",
    "plt.title('')\n",
    "plt.xlabel('Time (years)')\n",
    "plt.ylabel('Close price')\n",
    "#sns.set_style(\"whitegrid\")\n",
    "#fig.savefig('original_data_plus_moving_averages.png',dpi=600)\n",
    "plt.show()"
   ]
  },
  {
   "cell_type": "code",
   "execution_count": null,
   "metadata": {},
   "outputs": [],
   "source": []
  },
  {
   "cell_type": "markdown",
   "metadata": {},
   "source": [
    "## Machine failure data"
   ]
  },
  {
   "cell_type": "code",
   "execution_count": null,
   "metadata": {},
   "outputs": [],
   "source": [
    "mf= \"https://archive.ics.uci.edu/ml/machine-learning-databases/00601/ai4i2020.csv\"\n",
    "df_mf = pd.read_csv(mf, header = 0)\n",
    "#df_mf.to_csv('df_mf.csv', header=True, index=None)\n"
   ]
  },
  {
   "cell_type": "code",
   "execution_count": null,
   "metadata": {},
   "outputs": [],
   "source": [
    "df_mf.info() #indicates the column name, number of filled values, and data type"
   ]
  },
  {
   "cell_type": "code",
   "execution_count": null,
   "metadata": {},
   "outputs": [],
   "source": [
    "df_mf.head()"
   ]
  },
  {
   "cell_type": "code",
   "execution_count": null,
   "metadata": {},
   "outputs": [],
   "source": [
    "df_mf.describe()\n",
    "#with pd.option_context('float_format', '{:.2f}'.format): print(df_mf.describe())"
   ]
  },
  {
   "cell_type": "code",
   "execution_count": null,
   "metadata": {},
   "outputs": [],
   "source": [
    "df_mf['Machine failure'].hist()"
   ]
  },
  {
   "cell_type": "code",
   "execution_count": null,
   "metadata": {},
   "outputs": [],
   "source": [
    "df_mf[df_mf['Machine failure']==1].count()"
   ]
  },
  {
   "cell_type": "code",
   "execution_count": null,
   "metadata": {},
   "outputs": [],
   "source": [
    "df_mf[df_mf['Machine failure']==0].count()"
   ]
  },
  {
   "cell_type": "code",
   "execution_count": null,
   "metadata": {},
   "outputs": [],
   "source": [
    "# #import LabelEncoder library \n",
    "# from sklearn.preprocessing import LabelEncoder\n",
    "\n",
    "# # Assigning numerical values and storing in another column\n",
    "# df_mf = df_mf.apply(LabelEncoder().fit_transform)\n",
    "# df_mf.head()\n",
    "\n",
    "\n",
    "#Use this if you like to create dummies instead\n",
    "\n",
    "#We can use drop_first = True to create k-1 dummies for k categories or manually drop one set later\n",
    "dummies = pd.get_dummies(df_mf['Type']) \n",
    "dummies.head()"
   ]
  },
  {
   "cell_type": "code",
   "execution_count": null,
   "metadata": {},
   "outputs": [],
   "source": [
    "df_mf = pd.concat([df_mf, dummies], axis = 1)"
   ]
  },
  {
   "cell_type": "code",
   "execution_count": null,
   "metadata": {},
   "outputs": [],
   "source": [
    "df_mf.head()"
   ]
  },
  {
   "cell_type": "code",
   "execution_count": null,
   "metadata": {},
   "outputs": [],
   "source": [
    "#using columns locations\n",
    "#df_mf = df_mf.drop(df_mf.iloc[:,[0,1,2,]], axis =1)\n",
    "\n",
    "#using column names\n",
    "df_mf = df_mf.drop(['UDI','Product ID', 'Type',], axis = 1) \n",
    "df_mf.head()"
   ]
  },
  {
   "cell_type": "code",
   "execution_count": null,
   "metadata": {},
   "outputs": [],
   "source": [
    "fig = plt.figure(figsize= (14,12))\n",
    "sns.heatmap(df_mf.corr(),cmap=\"icefire\", annot=True)\n",
    "plt.show() ## to save figure use fig.savefig('mf_correlation_heatmap.png')"
   ]
  },
  {
   "cell_type": "markdown",
   "metadata": {},
   "source": [
    "## Bad Dog Data (obtained from Dr. Apigian)\n",
    "\n",
    "#To read the data\n",
    "https://pandas.pydata.org/pandas-docs/stable/api.html#flat-file"
   ]
  },
  {
   "cell_type": "code",
   "execution_count": null,
   "metadata": {},
   "outputs": [],
   "source": [
    "bd = pd.read_csv('Data_Sets/BadDogContinuing.csv', index_col = 0, header=0) \n",
    "#index_col = 0 sets the first column to the index\n",
    "# header=0 sets the top row as the header"
   ]
  },
  {
   "cell_type": "markdown",
   "metadata": {},
   "source": [
    "### 1) For the  initial exploration of  Data\n",
    "- head( )\n",
    "- tail( )\n",
    "- sample( )\n",
    "- info( )\n",
    "- describe( )"
   ]
  },
  {
   "cell_type": "code",
   "execution_count": null,
   "metadata": {},
   "outputs": [],
   "source": [
    "bd.head()"
   ]
  },
  {
   "cell_type": "code",
   "execution_count": null,
   "metadata": {},
   "outputs": [],
   "source": [
    "bd.sample(10) #A random sample of 10 rows"
   ]
  },
  {
   "cell_type": "code",
   "execution_count": null,
   "metadata": {},
   "outputs": [],
   "source": [
    "bd.tail(8) #shows last 8 rows"
   ]
  },
  {
   "cell_type": "code",
   "execution_count": null,
   "metadata": {},
   "outputs": [],
   "source": [
    "bd.info() #indicates the column name, number of filled values, and data type"
   ]
  },
  {
   "cell_type": "markdown",
   "metadata": {},
   "source": [
    "### 2) Slice and Filter Data"
   ]
  },
  {
   "cell_type": "code",
   "execution_count": null,
   "metadata": {},
   "outputs": [],
   "source": [
    "bd[['Website']].head()\n",
    "#bd['Website'].head()"
   ]
  },
  {
   "cell_type": "code",
   "execution_count": null,
   "metadata": {},
   "outputs": [],
   "source": [
    "bd.iloc[:, [1]].head()"
   ]
  },
  {
   "cell_type": "code",
   "execution_count": null,
   "metadata": {},
   "outputs": [],
   "source": [
    "bd.iloc[:, [1, 2, 4]].head()"
   ]
  },
  {
   "cell_type": "code",
   "execution_count": null,
   "metadata": {},
   "outputs": [],
   "source": [
    "bd_cus = bd.iloc[:, [0, 1, 2, 3, 4]]\n",
    "bd_cus.head()"
   ]
  },
  {
   "cell_type": "code",
   "execution_count": null,
   "metadata": {},
   "outputs": [],
   "source": [
    " bd.iloc[0:5, [0, 1, 2, 3, 4 ]]#select first five rows of columns0, 1, 2, 3, 4 of bd data"
   ]
  },
  {
   "cell_type": "markdown",
   "metadata": {},
   "source": [
    "## XXXXXXXXXXXXXXXXXXX XXXXXXXXXXXXXXXXXXXX\n",
    "### 3) Explore the data\n",
    "\n",
    "- Describe\n",
    "- Groupby\n",
    "- plot with MatPlotLib\n",
    "- plot with Seaborn"
   ]
  },
  {
   "cell_type": "code",
   "execution_count": null,
   "metadata": {},
   "outputs": [],
   "source": [
    "bd.describe()"
   ]
  },
  {
   "cell_type": "code",
   "execution_count": null,
   "metadata": {},
   "outputs": [],
   "source": [
    "bd.groupby('Customer_Segment').count()"
   ]
  },
  {
   "cell_type": "code",
   "execution_count": null,
   "metadata": {},
   "outputs": [],
   "source": [
    "bd.groupby('Wealth Range Estimate').mean()"
   ]
  },
  {
   "cell_type": "markdown",
   "metadata": {},
   "source": [
    "### Change datatypes\n",
    "\n",
    "https://pbpython.com/pandas_dtypes.html"
   ]
  },
  {
   "cell_type": "code",
   "execution_count": null,
   "metadata": {},
   "outputs": [],
   "source": [
    "bd['Visits'] = bd['Visits'].astype('int64') #will throw an error because of a NaN"
   ]
  },
  {
   "cell_type": "code",
   "execution_count": null,
   "metadata": {},
   "outputs": [],
   "source": [
    "bd_data = bd.dropna(how='any') #cannot have NaNs afterwards\n",
    "\n",
    "bd_data.info()"
   ]
  },
  {
   "cell_type": "code",
   "execution_count": null,
   "metadata": {},
   "outputs": [],
   "source": [
    "bd_data['Visits'] = bd_data['Visits'].astype('int64') "
   ]
  },
  {
   "cell_type": "code",
   "execution_count": null,
   "metadata": {},
   "outputs": [],
   "source": [
    "bd_data.head()"
   ]
  },
  {
   "cell_type": "markdown",
   "metadata": {},
   "source": [
    "### XXXXXXXXXXXXXXXXXXXXXXXXXXXXXXXX\n",
    "### 4. Change Objects to Dates\n",
    "This section changes the columns from an object to a date.\n",
    " - bd['Date'] = pd.to_datetime(bd['Date'])\n",
    " - bd['Day'] \n",
    " - bd['month'] \n",
    " - bd['year'] \n",
    " - bd['day_of_week'] "
   ]
  },
  {
   "cell_type": "code",
   "execution_count": null,
   "metadata": {},
   "outputs": [],
   "source": [
    "import datetime as dt"
   ]
  },
  {
   "cell_type": "code",
   "execution_count": null,
   "metadata": {},
   "outputs": [],
   "source": [
    "# Dates for Status\n",
    "bd['Date'] = pd.to_datetime(bd['Date'])\n",
    "\n",
    "bd.info()"
   ]
  },
  {
   "cell_type": "code",
   "execution_count": null,
   "metadata": {},
   "outputs": [],
   "source": [
    "bd.head()"
   ]
  },
  {
   "cell_type": "code",
   "execution_count": null,
   "metadata": {},
   "outputs": [],
   "source": [
    "bd['Day'] = bd['Date'].dt.dayofweek\n",
    "bd['month'] = bd['Date'].dt.month\n",
    "bd['year'] = bd['Date'].dt.year\n",
    "bd['day_of_week'] = bd['Date'].dt.day_name()"
   ]
  },
  {
   "cell_type": "code",
   "execution_count": null,
   "metadata": {},
   "outputs": [],
   "source": [
    "bd.sample(10)"
   ]
  },
  {
   "cell_type": "markdown",
   "metadata": {},
   "source": [
    "### 5) Melting and Pivoting\n",
    "\n",
    "### Melting\n",
    "- set dataset\n",
    "- set variables to include that are not melted - id_vars\n",
    "- melt variable - value_vars\n",
    "\n",
    "https://pandas.pydata.org/pandas-docs/stable/generated/pandas.melt.html <br>"
   ]
  },
  {
   "cell_type": "code",
   "execution_count": null,
   "metadata": {},
   "outputs": [],
   "source": [
    "bd_cus.head()"
   ]
  },
  {
   "cell_type": "code",
   "execution_count": null,
   "metadata": {},
   "outputs": [],
   "source": [
    "bd_melt = pd.melt(bd_cus, id_vars=['Email Address'], \\\n",
    "                 value_vars=['Website', 'Newsletter', 'Tasting', 'Call'])"
   ]
  },
  {
   "cell_type": "code",
   "execution_count": null,
   "metadata": {},
   "outputs": [],
   "source": [
    "bd_melt.sample(10)"
   ]
  },
  {
   "cell_type": "code",
   "execution_count": null,
   "metadata": {},
   "outputs": [],
   "source": [
    "bd_melt.head()"
   ]
  },
  {
   "cell_type": "code",
   "execution_count": null,
   "metadata": {},
   "outputs": [],
   "source": [
    "bd_melt.describe()"
   ]
  },
  {
   "cell_type": "code",
   "execution_count": null,
   "metadata": {},
   "outputs": [],
   "source": [
    "bd_melt.groupby('variable').count()"
   ]
  },
  {
   "cell_type": "code",
   "execution_count": null,
   "metadata": {},
   "outputs": [],
   "source": [
    "bd_melt=bd_melt.rename(columns = {'variable':'Type', 'value': 'Sales'})"
   ]
  },
  {
   "cell_type": "code",
   "execution_count": null,
   "metadata": {},
   "outputs": [],
   "source": [
    "bd_melt.sample(10)"
   ]
  },
  {
   "cell_type": "markdown",
   "metadata": {},
   "source": [
    "\n",
    "### Pivot\n",
    "\n",
    "- Take one column and expand it to multiple columns\n",
    "- pivot = df.pivot(index='index', columns='categorical value', values='numerical value')\n",
    "- set index as an identifier\n",
    "- set the columns to the column that has the different categories that will be your headers\n",
    "- set the values to a specific numerical column\n",
    "\n",
    "https://pandas.pydata.org/pandas-docs/stable/generated/pandas.DataFrame.pivot.html"
   ]
  },
  {
   "cell_type": "code",
   "execution_count": null,
   "metadata": {},
   "outputs": [],
   "source": [
    "bd_pivot = bd_melt.pivot(index='Email Address', columns='Type', values='Sales')"
   ]
  },
  {
   "cell_type": "code",
   "execution_count": null,
   "metadata": {},
   "outputs": [],
   "source": [
    "bd_pivot.head()"
   ]
  },
  {
   "cell_type": "markdown",
   "metadata": {},
   "source": [
    "## XXXXXXXXXXXXXXXXXXX XXXXXXXXXXXXXXXXXXX\n",
    "### 6)  Merge Data"
   ]
  },
  {
   "cell_type": "code",
   "execution_count": null,
   "metadata": {},
   "outputs": [],
   "source": [
    "## Concatenate\n",
    "bd_cont = pd.read_csv('Data_Sets/BadDogContinuing.csv', index_col = 0, header=0)\n",
    "bd_ex = pd.read_csv('Data_Sets/BadDog2019.csv', index_col = 0, header=0)\n",
    "\n",
    "bd_cont.info()"
   ]
  },
  {
   "cell_type": "code",
   "execution_count": null,
   "metadata": {},
   "outputs": [],
   "source": [
    "bd_ex.info()"
   ]
  },
  {
   "cell_type": "code",
   "execution_count": null,
   "metadata": {},
   "outputs": [],
   "source": [
    "bd_all = pd.concat([bd_cont, bd_ex], axis=0)\n",
    "\n",
    "bd_all.info()"
   ]
  },
  {
   "cell_type": "code",
   "execution_count": null,
   "metadata": {},
   "outputs": [],
   "source": [
    "bd_all.head()"
   ]
  },
  {
   "cell_type": "markdown",
   "metadata": {},
   "source": [
    "## Merge Data\n",
    "Pandas merge function provides standard database join operations between DataFrame objects.\n",
    "\n",
    "|Merge Method| Description|\n",
    "|---|---|\n",
    "|left|Use keys from left frame only|\n",
    "|right|Use keys from right frame only|\n",
    "|outer|Use union of keys from both frames|\n",
    "|inner|Use intersection of keys from both frames|\n",
    "\n",
    "![alt text](images/Pandas_Merge.png )"
   ]
  },
  {
   "cell_type": "markdown",
   "metadata": {},
   "source": [
    "![alt text](images/PandasMergeTypes.png \"Types\")"
   ]
  },
  {
   "cell_type": "code",
   "execution_count": null,
   "metadata": {},
   "outputs": [],
   "source": [
    "bd_marketing = pd.read_table('Data_Sets/BadDogMarketing.txt', header=0, sep='\\t')\n",
    "\n",
    "bd_marketing"
   ]
  },
  {
   "cell_type": "code",
   "execution_count": null,
   "metadata": {},
   "outputs": [],
   "source": [
    "bd_all.head()"
   ]
  },
  {
   "cell_type": "code",
   "execution_count": null,
   "metadata": {},
   "outputs": [],
   "source": [
    "bd_merge = pd.merge(bd_all, bd_marketing, how='left', on='Customer_Segment')\n",
    "\n",
    "bd_merge.info()\n",
    "\n"
   ]
  },
  {
   "cell_type": "code",
   "execution_count": null,
   "metadata": {},
   "outputs": [],
   "source": [
    "bd_merge.head()"
   ]
  },
  {
   "cell_type": "markdown",
   "metadata": {},
   "source": [
    "\n",
    "## XXXXXXXXXXXXXXXXXXXX XXXXXXXXXXXXXXXXXXX\n",
    "### 7) Cleanse Data\n",
    "\n",
    "###  Missing Data\n",
    "\n",
    "\n",
    "#### What can you do with missing data?  (NaN)\n",
    "- **Leave as-is**\n",
    "- **Drop them**\n",
    "    - df_dropped = df_nan.dropna() \n",
    "- **Fill missing value**\n",
    "    - Fill with a value \n",
    "        - df_nan['sex'] = df_nan['sex'].fillna('missing')\n",
    "        - df_nan[['total_bill', 'size']] = tips_nan[['total_bill','size']].fillna(0)\n",
    "    - Fill with a summary statistic\n",
    "        - mean_value = df_nan['tip'].mean()\n",
    "        - df_nan['tip'] = df_nan['tip'].fillna(mean_value)\n",
    "    - Fill in with Forward or backward\n",
    "        - df.fillna(method='ffill')\n",
    "        - df.fillna(method='bfill')\n",
    "        \n",
    "\n",
    "\n",
    "http://pandas.pydata.org/pandas-docs/version/0.17.1/generated/pandas.DataFrame.fillna.html\n",
    "\n",
    "### DropNA\n",
    "https://pandas.pydata.org/pandas-docs/stable/reference/api/pandas.DataFrame.dropna.html\n",
    "\n",
    "\n",
    "### axis determine if rows or columns which contain missing values are removed, the default is 0\n",
    "- ** axis = 0, or ‘index’ : Drop rows which contain missing values.\n",
    "- ** axis = 1, or ‘columns’ : Drop columns which contain missing value.\n",
    "\n",
    "- ** how = ‘any’ : If any NA values are present, drop that row or column\n",
    "- ** how = ‘all’ : If all values are NA, drop that row or column"
   ]
  },
  {
   "cell_type": "code",
   "execution_count": null,
   "metadata": {},
   "outputs": [],
   "source": [
    "bd_merge.info()"
   ]
  },
  {
   "cell_type": "code",
   "execution_count": null,
   "metadata": {},
   "outputs": [],
   "source": [
    "bd_all = bd_merge.dropna(how='all')\n",
    "\n",
    "bd_all.info()"
   ]
  },
  {
   "cell_type": "code",
   "execution_count": null,
   "metadata": {},
   "outputs": [],
   "source": [
    "bd_any = bd_merge.dropna(how='any')\n",
    "\n",
    "bd_any.info()"
   ]
  },
  {
   "cell_type": "code",
   "execution_count": null,
   "metadata": {},
   "outputs": [],
   "source": [
    "bd_thresh = bd_merge.dropna(thresh=2)\n",
    "\n",
    "bd_thresh.info()"
   ]
  },
  {
   "cell_type": "code",
   "execution_count": null,
   "metadata": {},
   "outputs": [],
   "source": [
    "bd_status = bd_merge.dropna(subset=['Status'])\n",
    "\n",
    "bd_status.info()"
   ]
  },
  {
   "cell_type": "code",
   "execution_count": null,
   "metadata": {},
   "outputs": [],
   "source": [
    "## Fill in with a value\n",
    "\n",
    "bd_merge.Customer_Segment.value_counts(dropna=False)"
   ]
  },
  {
   "cell_type": "code",
   "execution_count": null,
   "metadata": {},
   "outputs": [],
   "source": [
    "bd_merge['Customer_Segment'] = bd_merge['Customer_Segment'].fillna('Casual Visitor')"
   ]
  },
  {
   "cell_type": "code",
   "execution_count": null,
   "metadata": {},
   "outputs": [],
   "source": [
    "bd_merge.Customer_Segment.value_counts(dropna=False)"
   ]
  },
  {
   "cell_type": "code",
   "execution_count": null,
   "metadata": {},
   "outputs": [],
   "source": [
    "bd_merge.info()"
   ]
  },
  {
   "cell_type": "code",
   "execution_count": null,
   "metadata": {},
   "outputs": [],
   "source": [
    "bd_ex50 = pd.read_csv('Data_Sets/BadDogEx50.csv', index_col = 0, header=0)\n",
    "\n",
    "bd_ex50.info()"
   ]
  },
  {
   "cell_type": "code",
   "execution_count": null,
   "metadata": {},
   "outputs": [],
   "source": [
    "## Forward Fill\n",
    "\n",
    "bd_ex50.head(15)"
   ]
  },
  {
   "cell_type": "code",
   "execution_count": null,
   "metadata": {},
   "outputs": [],
   "source": [
    "bd_ex50['Reason for Leaving'] = bd_ex50['Reason for Leaving'].fillna(method='ffill')"
   ]
  },
  {
   "cell_type": "code",
   "execution_count": null,
   "metadata": {},
   "outputs": [],
   "source": [
    "bd_ex50.info()"
   ]
  },
  {
   "cell_type": "code",
   "execution_count": null,
   "metadata": {},
   "outputs": [],
   "source": [
    "bd_ex50.head(15)"
   ]
  },
  {
   "cell_type": "code",
   "execution_count": null,
   "metadata": {},
   "outputs": [],
   "source": [
    "## Fill in with integer\n",
    "\n",
    "bd_ex50['Year Discontinued'] = bd_ex50['Year Discontinued'].fillna(2016)\n",
    "\n",
    "bd_ex50.info()"
   ]
  },
  {
   "cell_type": "code",
   "execution_count": null,
   "metadata": {},
   "outputs": [],
   "source": [
    "\n",
    "## Fill in with a mean\n",
    "\n",
    "bd_ex50['LTV at Discontinuance'] = bd_ex50['LTV at Discontinuance'].fillna(bd_ex50['LTV at Discontinuance'].mean())\n",
    "\n",
    "bd_ex50.info()"
   ]
  },
  {
   "cell_type": "code",
   "execution_count": null,
   "metadata": {},
   "outputs": [],
   "source": [
    "bd_ex50.head(15)"
   ]
  },
  {
   "cell_type": "code",
   "execution_count": null,
   "metadata": {},
   "outputs": [],
   "source": [
    "\n",
    "## Create NEW variable\n",
    "\n",
    "bd_merge.head()"
   ]
  },
  {
   "cell_type": "code",
   "execution_count": null,
   "metadata": {},
   "outputs": [],
   "source": [
    "bd_merge['new_column'] = 1\n",
    "\n",
    "bd_merge['Tasting Per Visit'] = round(bd_merge['Tasting'] / bd_merge['Visits'], 2)\n",
    "\n",
    "bd_merge.head()"
   ]
  },
  {
   "cell_type": "markdown",
   "metadata": {},
   "source": [
    "\n",
    "### XXXXXXXXXXXXXXXXXXXXXXXXXXXXXXXXXXXXXXX\n",
    "\n",
    "### 8) Transform Data\n",
    "### Change strings to integers\n",
    "- use a function (gives you complete control)\n",
    "- use scikitlearn and label encoding (will be in alphabetical order), specially for the ordinal data\n",
    "* Ordinal Variable: Variable comprises a finite set of discrete values with a ranked ordering between values\n",
    "    * For example: “rank/position” variable with the values: “first“, “second“, and “third“\n",
    "* Nominal Variable:  Variable comprises a finite set of discrete values with no relationship between values\n",
    "    * For example: “color” variable with the values: “red“, “green“,\"magenta\", and “blue“\n",
    "\n",
    "- use scikitlearn and one hot encoding for dummy variables (when you have nominal data)"
   ]
  },
  {
   "cell_type": "code",
   "execution_count": null,
   "metadata": {},
   "outputs": [],
   "source": [
    "## Use a function\n",
    "\n",
    "bd_merge.sample(5)\n",
    "\n",
    "def status(c):\n",
    "  if c['Status'] == \"Continuing\":\n",
    "    return 1\n",
    "  else:\n",
    "    return 0\n",
    "\n",
    "bd_merge['Status'] = bd_merge.apply(status, axis=1)\n",
    "\n",
    "bd_merge.head()"
   ]
  },
  {
   "cell_type": "markdown",
   "metadata": {},
   "source": [
    "\n",
    "#### Use label encoding\n",
    "- easy to use, but label encoding will be conducted in alphabetical order"
   ]
  },
  {
   "cell_type": "code",
   "execution_count": null,
   "metadata": {},
   "outputs": [],
   "source": [
    "from sklearn.preprocessing import LabelEncoder #import function for label encoder\n",
    "lb = LabelEncoder() # label encoder to a simple abbreviation"
   ]
  },
  {
   "cell_type": "code",
   "execution_count": null,
   "metadata": {},
   "outputs": [],
   "source": [
    "bd_merge['Wealth Label'] = lb.fit_transform(bd_merge['Wealth Range Estimate']) \n",
    "\n",
    "bd_merge.head(10)"
   ]
  },
  {
   "cell_type": "markdown",
   "metadata": {},
   "source": [
    "###### Create dummy variables with get_dummies\n",
    "* one hot encoding k dummy variables when there are  k possible values of the categorical predictor\n",
    "\n",
    "* When there are k possible values of the categorical predictor and only k – 1 dummy variables are used, the matrix inverse can be computed and the contrast method is said to be a full rank parameterization\n",
    "* If the model includes an intercept and contains dummy variables, then the columns would add up (row-wise) to the intercept and this linear combination would prevent the matrix inverse from being computed (as it is singular)\n",
    "* A complete set of dummy variables is useful in some cases. For example, the splits in a tree-based model are more interpretable when the dummy variables encode all the information for that predictor. The full set of dummy variables is recommended when working with tree-based models\n",
    "\n",
    "* There will always be one fewer dummy variable than the number of levels. The level with no dummy variable is known as the baseline. We can use one hot encoder using drop argument to set the category to be  baseline  "
   ]
  },
  {
   "cell_type": "code",
   "execution_count": null,
   "metadata": {},
   "outputs": [],
   "source": [
    "bd_merge_cus = bd_merge['Customer_Segment']\n",
    "\n",
    "bd_merge_cus = pd.Series(bd_merge_cus)\n",
    "\n",
    "bd_merge_cus.head()"
   ]
  },
  {
   "cell_type": "code",
   "execution_count": null,
   "metadata": {},
   "outputs": [],
   "source": [
    "bd_dummy = pd.get_dummies(bd_merge_cus)#drop_first = False is default\n",
    "\n",
    "bd_dummy.head()"
   ]
  },
  {
   "cell_type": "code",
   "execution_count": null,
   "metadata": {},
   "outputs": [],
   "source": [
    "#data =  asarray([['red'], ['green'],['magenta'], ['blue']])\n",
    "data1 =  (['red', 'green','magenta', 'blue'])"
   ]
  },
  {
   "cell_type": "code",
   "execution_count": null,
   "metadata": {},
   "outputs": [],
   "source": [
    "dummy = pd.get_dummies(data1, drop_first = True)#to get k-1 dummies out of k categorical levels by removing the first level\n",
    "dummy"
   ]
  },
  {
   "cell_type": "code",
   "execution_count": null,
   "metadata": {},
   "outputs": [],
   "source": [
    "type(bd_merge_cus)"
   ]
  },
  {
   "cell_type": "code",
   "execution_count": null,
   "metadata": {},
   "outputs": [],
   "source": [
    "bd_merge_cus.shape"
   ]
  },
  {
   "cell_type": "code",
   "execution_count": null,
   "metadata": {},
   "outputs": [],
   "source": [
    "# from numpy import asarray\n",
    "# from sklearn.preprocessing import OneHotEncoder\n",
    "\n",
    "# bd_merge_cus = bd_merge[['Customer_Segment', 'Visits' ]]\n",
    "# #bd_merge_cus =  np.asarray(bd_merge_cus)\n",
    "# one_hot_encoder = OneHotEncoder(sparse=False)\n",
    "# bd_encoded = one_hot_encoder.fit_transform(bd_merge_cus)\n"
   ]
  },
  {
   "cell_type": "code",
   "execution_count": null,
   "metadata": {},
   "outputs": [],
   "source": [
    "#print(bd_encoded[:,[1]])"
   ]
  },
  {
   "cell_type": "code",
   "execution_count": null,
   "metadata": {},
   "outputs": [],
   "source": [
    "bd_merge_dummy = pd.concat([bd_merge, bd_dummy], axis=1)\n",
    "\n",
    "bd_merge_dummy.info()"
   ]
  },
  {
   "cell_type": "code",
   "execution_count": null,
   "metadata": {},
   "outputs": [],
   "source": [
    "bd_merge_dummy.sample(10)"
   ]
  },
  {
   "cell_type": "code",
   "execution_count": null,
   "metadata": {},
   "outputs": [],
   "source": [
    "bd_merge_dummy.to_csv('Data_Sets/Example_bd_data.csv')"
   ]
  },
  {
   "cell_type": "code",
   "execution_count": null,
   "metadata": {},
   "outputs": [],
   "source": []
  }
 ],
 "metadata": {
  "colab": {
   "name": "Data Preprocessing_Notebook 1.ipynb",
   "provenance": [],
   "toc_visible": true
  },
  "kernelspec": {
   "display_name": "Python 3 (ipykernel)",
   "language": "python",
   "name": "python3"
  },
  "language_info": {
   "codemirror_mode": {
    "name": "ipython",
    "version": 3
   },
   "file_extension": ".py",
   "mimetype": "text/x-python",
   "name": "python",
   "nbconvert_exporter": "python",
   "pygments_lexer": "ipython3",
   "version": "3.11.4"
  }
 },
 "nbformat": 4,
 "nbformat_minor": 1
}
